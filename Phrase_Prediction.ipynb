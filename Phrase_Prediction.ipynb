{
 "cells": [
  {
   "cell_type": "code",
   "execution_count": 127,
   "metadata": {},
   "outputs": [],
   "source": [
    "corpus =['Profit of my organization in last 12 months', 'Profit of my organization in past year', 'Profit of firm is important',\n",
    "        'top 10 search results',]"
   ]
  },
  {
   "cell_type": "code",
   "execution_count": 128,
   "metadata": {},
   "outputs": [],
   "source": [
    "from collections import defaultdict\n",
    "from collections import Counter\n",
    "from nltk.tokenize import word_tokenize"
   ]
  },
  {
   "cell_type": "code",
   "execution_count": 129,
   "metadata": {},
   "outputs": [],
   "source": [
    "Data = []"
   ]
  },
  {
   "cell_type": "code",
   "execution_count": 130,
   "metadata": {},
   "outputs": [],
   "source": [
    "## Train the corpus\n",
    "for each_sentence in corpus:\n",
    "    each_sentence = each_sentence.lower()\n",
    " \n",
    "    sentence_token = word_tokenize(each_sentence)\n",
    "    sentencelength = len(sentence_token)\n",
    "    #print(sentencelength)\n",
    "    #print(sentence_token)\n",
    "    highcount = 2\n",
    "    count = 0\n",
    "    while count < sentencelength:\n",
    "\n",
    "        subsettoken = [eachtoken for eachtoken in sentence_token[:highcount]]\n",
    "        indiceoftoken1 = highcount-1\n",
    "        token1 = ' '.join(subsettoken[:indiceoftoken1])\n",
    "        #print(token1)\n",
    "\n",
    "        token2 = ' '.join(subsettoken[indiceoftoken1:])\n",
    "        #print(token2)\n",
    "        highcount += 1\n",
    "        count += 1\n",
    "        Data.append((token1,token2))\n",
    "        \n",
    "DefaultDict = defaultdict(list)\n",
    "for key, value in Data:\n",
    "    DefaultDict[key].append(value)"
   ]
  },
  {
   "cell_type": "code",
   "execution_count": 131,
   "metadata": {},
   "outputs": [],
   "source": [
    "def NextPhrase(user_query, DefaultDict):\n",
    "    user_query = user_query.strip().lower()\n",
    "    word_freq = Counter(DefaultDict[user_query])\n",
    "    common_words = word_freq.most_common()\n",
    "    return common_words[0][0]"
   ]
  },
  {
   "cell_type": "code",
   "execution_count": 132,
   "metadata": {},
   "outputs": [],
   "source": [
    "def displayPhrase(user_query, DefaultDict):\n",
    "    while True:\n",
    "        predictword = NextPhrase(user_query, DefaultDict)\n",
    "        if len(predictword) == 0:\n",
    "            print(user_query)\n",
    "            break\n",
    "        else:\n",
    "            user_query = user_query+\" \"+predictword"
   ]
  },
  {
   "cell_type": "code",
   "execution_count": 135,
   "metadata": {},
   "outputs": [],
   "source": [
    "user_query =\"Top 10\""
   ]
  },
  {
   "cell_type": "code",
   "execution_count": 136,
   "metadata": {},
   "outputs": [
    {
     "name": "stdout",
     "output_type": "stream",
     "text": [
      "Top 10 search results\n"
     ]
    }
   ],
   "source": [
    "displayPhrase(user_query, DefaultDict)"
   ]
  },
  {
   "cell_type": "code",
   "execution_count": null,
   "metadata": {},
   "outputs": [],
   "source": []
  }
 ],
 "metadata": {
  "kernelspec": {
   "display_name": "Python 3",
   "language": "python",
   "name": "python3"
  },
  "language_info": {
   "codemirror_mode": {
    "name": "ipython",
    "version": 3
   },
   "file_extension": ".py",
   "mimetype": "text/x-python",
   "name": "python",
   "nbconvert_exporter": "python",
   "pygments_lexer": "ipython3",
   "version": "3.6.10"
  }
 },
 "nbformat": 4,
 "nbformat_minor": 4
}
