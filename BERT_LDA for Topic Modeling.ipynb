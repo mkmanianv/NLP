{
 "cells": [
  {
   "cell_type": "code",
   "execution_count": 1,
   "metadata": {},
   "outputs": [],
   "source": [
    "# Load the Data with the Json body where text is in tag \"aes_sch_body_t\""
   ]
  },
  {
   "cell_type": "code",
   "execution_count": 1,
   "metadata": {},
   "outputs": [],
   "source": [
    "path = r'/home/ec2-user/SageMaker/Data/Bank/Banking'"
   ]
  },
  {
   "cell_type": "code",
   "execution_count": 2,
   "metadata": {},
   "outputs": [
    {
     "name": "stdout",
     "output_type": "stream",
     "text": [
      "Requirement already up-to-date: pip in /home/ec2-user/anaconda3/envs/python3/lib/python3.6/site-packages (20.1.1)\r\n"
     ]
    }
   ],
   "source": [
    "!python -m pip install --upgrade pip\n",
    "import os\n",
    "import sys\n",
    "import re\n",
    "import json"
   ]
  },
  {
   "cell_type": "code",
   "execution_count": 3,
   "metadata": {},
   "outputs": [
    {
     "name": "stderr",
     "output_type": "stream",
     "text": [
      "[nltk_data] Downloading package punkt to /home/ec2-user/nltk_data...\n",
      "[nltk_data]   Package punkt is already up-to-date!\n"
     ]
    }
   ],
   "source": [
    "import nltk\n",
    "nltk.download('punkt')\n",
    "from nltk.tokenize import sent_tokenize, word_tokenize"
   ]
  },
  {
   "cell_type": "code",
   "execution_count": 4,
   "metadata": {},
   "outputs": [
    {
     "data": {
      "text/plain": [
       "248"
      ]
     },
     "execution_count": 4,
     "metadata": {},
     "output_type": "execute_result"
    }
   ],
   "source": [
    "\"\"\" Read the Json data and remove all the special Characters\n",
    "    Save the data in a list_of_doc <list>\n",
    "\"\"\"\n",
    "\n",
    "def readData(path):\n",
    "    list_of_doc=[]\n",
    "    #count = 0\n",
    "    for i in os.walk(path):\n",
    "        \n",
    "        #print(i)\n",
    "        for j in i[2]:\n",
    "            \n",
    "            file = open(path+'/'+j, encoding=\"utf8\")\n",
    "            #print(file)\n",
    "            data=json.loads(file.read())\n",
    "            if 'aes_sch_body_t' in data:\n",
    "                text = data['aes_sch_body_t']\n",
    "                ## Preprocessing of text::\n",
    "                text = ''.join([i for i in text if not i.isdigit()])\n",
    "                text = re.sub(\"[“”/\\‹!›@#$+%*:()'© •]\", ' ', text)\n",
    "                list_of_doc.append(text)\n",
    "    return list_of_doc\n",
    "\n",
    "list_of_doc = readData(path)\n",
    "len(list_of_doc)"
   ]
  },
  {
   "cell_type": "code",
   "execution_count": 5,
   "metadata": {},
   "outputs": [
    {
     "name": "stdout",
     "output_type": "stream",
     "text": [
      "248\n"
     ]
    },
    {
     "data": {
      "text/plain": [
       "9591"
      ]
     },
     "execution_count": 5,
     "metadata": {},
     "output_type": "execute_result"
    }
   ],
   "source": [
    "\"\"\"Read the Corpus from list_of_doc and parse all the sentences using NTLK Sentence parser\"\"\"\n",
    "\n",
    "\n",
    "list_of_sentence = [sent_tokenize(each) for each in list_of_doc]\n",
    "print(len(list_of_sentence))\n",
    "corpus = []\n",
    "for each in list_of_sentence:\n",
    "    corpus.extend(each)\n",
    "len(corpus)"
   ]
  },
  {
   "cell_type": "markdown",
   "metadata": {},
   "source": [
    "# Install TensorFlow & Sentence-transform"
   ]
  },
  {
   "cell_type": "code",
   "execution_count": 6,
   "metadata": {},
   "outputs": [
    {
     "name": "stdout",
     "output_type": "stream",
     "text": [
      "Requirement already satisfied: tensorflow_hub>=0.6.0 in /home/ec2-user/anaconda3/envs/python3/lib/python3.6/site-packages (0.8.0)\n",
      "Requirement already satisfied: six>=1.12.0 in /home/ec2-user/anaconda3/envs/python3/lib/python3.6/site-packages (from tensorflow_hub>=0.6.0) (1.14.0)\n",
      "Requirement already satisfied: protobuf>=3.8.0 in /home/ec2-user/anaconda3/envs/python3/lib/python3.6/site-packages (from tensorflow_hub>=0.6.0) (3.12.2)\n",
      "Requirement already satisfied: numpy>=1.12.0 in /home/ec2-user/anaconda3/envs/python3/lib/python3.6/site-packages (from tensorflow_hub>=0.6.0) (1.18.1)\n",
      "Requirement already satisfied: setuptools in /home/ec2-user/anaconda3/envs/python3/lib/python3.6/site-packages (from protobuf>=3.8.0->tensorflow_hub>=0.6.0) (46.1.3.post20200330)\n",
      "Requirement already satisfied: tensorflow>=2.0.0 in /home/ec2-user/anaconda3/envs/python3/lib/python3.6/site-packages (2.2.0)\n",
      "Requirement already satisfied: tensorflow-estimator<2.3.0,>=2.2.0 in /home/ec2-user/anaconda3/envs/python3/lib/python3.6/site-packages (from tensorflow>=2.0.0) (2.2.0)\n",
      "Requirement already satisfied: grpcio>=1.8.6 in /home/ec2-user/anaconda3/envs/python3/lib/python3.6/site-packages (from tensorflow>=2.0.0) (1.30.0)\n",
      "Requirement already satisfied: tensorboard<2.3.0,>=2.2.0 in /home/ec2-user/anaconda3/envs/python3/lib/python3.6/site-packages (from tensorflow>=2.0.0) (2.2.2)\n",
      "Requirement already satisfied: absl-py>=0.7.0 in /home/ec2-user/anaconda3/envs/python3/lib/python3.6/site-packages (from tensorflow>=2.0.0) (0.9.0)\n",
      "Requirement already satisfied: gast==0.3.3 in /home/ec2-user/anaconda3/envs/python3/lib/python3.6/site-packages (from tensorflow>=2.0.0) (0.3.3)\n",
      "Requirement already satisfied: wrapt>=1.11.1 in /home/ec2-user/anaconda3/envs/python3/lib/python3.6/site-packages (from tensorflow>=2.0.0) (1.12.1)\n",
      "Requirement already satisfied: numpy<2.0,>=1.16.0 in /home/ec2-user/anaconda3/envs/python3/lib/python3.6/site-packages (from tensorflow>=2.0.0) (1.18.1)\n",
      "Requirement already satisfied: h5py<2.11.0,>=2.10.0 in /home/ec2-user/anaconda3/envs/python3/lib/python3.6/site-packages (from tensorflow>=2.0.0) (2.10.0)\n",
      "Requirement already satisfied: termcolor>=1.1.0 in /home/ec2-user/anaconda3/envs/python3/lib/python3.6/site-packages (from tensorflow>=2.0.0) (1.1.0)\n",
      "Requirement already satisfied: wheel>=0.26; python_version >= \"3\" in /home/ec2-user/anaconda3/envs/python3/lib/python3.6/site-packages (from tensorflow>=2.0.0) (0.34.2)\n",
      "Requirement already satisfied: astunparse==1.6.3 in /home/ec2-user/anaconda3/envs/python3/lib/python3.6/site-packages (from tensorflow>=2.0.0) (1.6.3)\n",
      "Requirement already satisfied: opt-einsum>=2.3.2 in /home/ec2-user/anaconda3/envs/python3/lib/python3.6/site-packages (from tensorflow>=2.0.0) (3.3.0)\n",
      "Requirement already satisfied: six>=1.12.0 in /home/ec2-user/anaconda3/envs/python3/lib/python3.6/site-packages (from tensorflow>=2.0.0) (1.14.0)\n",
      "Requirement already satisfied: scipy==1.4.1; python_version >= \"3\" in /home/ec2-user/anaconda3/envs/python3/lib/python3.6/site-packages (from tensorflow>=2.0.0) (1.4.1)\n",
      "Requirement already satisfied: google-pasta>=0.1.8 in /home/ec2-user/anaconda3/envs/python3/lib/python3.6/site-packages (from tensorflow>=2.0.0) (0.2.0)\n",
      "Requirement already satisfied: protobuf>=3.8.0 in /home/ec2-user/anaconda3/envs/python3/lib/python3.6/site-packages (from tensorflow>=2.0.0) (3.12.2)\n",
      "Requirement already satisfied: keras-preprocessing>=1.1.0 in /home/ec2-user/anaconda3/envs/python3/lib/python3.6/site-packages (from tensorflow>=2.0.0) (1.1.2)\n",
      "Requirement already satisfied: google-auth-oauthlib<0.5,>=0.4.1 in /home/ec2-user/anaconda3/envs/python3/lib/python3.6/site-packages (from tensorboard<2.3.0,>=2.2.0->tensorflow>=2.0.0) (0.4.1)\n",
      "Requirement already satisfied: google-auth<2,>=1.6.3 in /home/ec2-user/anaconda3/envs/python3/lib/python3.6/site-packages (from tensorboard<2.3.0,>=2.2.0->tensorflow>=2.0.0) (1.19.2)\n",
      "Requirement already satisfied: tensorboard-plugin-wit>=1.6.0 in /home/ec2-user/anaconda3/envs/python3/lib/python3.6/site-packages (from tensorboard<2.3.0,>=2.2.0->tensorflow>=2.0.0) (1.7.0)\n",
      "Requirement already satisfied: requests<3,>=2.21.0 in /home/ec2-user/anaconda3/envs/python3/lib/python3.6/site-packages (from tensorboard<2.3.0,>=2.2.0->tensorflow>=2.0.0) (2.23.0)\n",
      "Requirement already satisfied: markdown>=2.6.8 in /home/ec2-user/anaconda3/envs/python3/lib/python3.6/site-packages (from tensorboard<2.3.0,>=2.2.0->tensorflow>=2.0.0) (3.2.2)\n",
      "Requirement already satisfied: setuptools>=41.0.0 in /home/ec2-user/anaconda3/envs/python3/lib/python3.6/site-packages (from tensorboard<2.3.0,>=2.2.0->tensorflow>=2.0.0) (46.1.3.post20200330)\n",
      "Requirement already satisfied: werkzeug>=0.11.15 in /home/ec2-user/anaconda3/envs/python3/lib/python3.6/site-packages (from tensorboard<2.3.0,>=2.2.0->tensorflow>=2.0.0) (1.0.1)\n",
      "Requirement already satisfied: requests-oauthlib>=0.7.0 in /home/ec2-user/anaconda3/envs/python3/lib/python3.6/site-packages (from google-auth-oauthlib<0.5,>=0.4.1->tensorboard<2.3.0,>=2.2.0->tensorflow>=2.0.0) (1.3.0)\n",
      "Requirement already satisfied: pyasn1-modules>=0.2.1 in /home/ec2-user/anaconda3/envs/python3/lib/python3.6/site-packages (from google-auth<2,>=1.6.3->tensorboard<2.3.0,>=2.2.0->tensorflow>=2.0.0) (0.2.8)\n",
      "Requirement already satisfied: rsa<5,>=3.1.4; python_version >= \"3\" in /home/ec2-user/anaconda3/envs/python3/lib/python3.6/site-packages (from google-auth<2,>=1.6.3->tensorboard<2.3.0,>=2.2.0->tensorflow>=2.0.0) (3.4.2)\n",
      "Requirement already satisfied: cachetools<5.0,>=2.0.0 in /home/ec2-user/anaconda3/envs/python3/lib/python3.6/site-packages (from google-auth<2,>=1.6.3->tensorboard<2.3.0,>=2.2.0->tensorflow>=2.0.0) (4.1.1)\n",
      "Requirement already satisfied: chardet<4,>=3.0.2 in /home/ec2-user/anaconda3/envs/python3/lib/python3.6/site-packages (from requests<3,>=2.21.0->tensorboard<2.3.0,>=2.2.0->tensorflow>=2.0.0) (3.0.4)\n",
      "Requirement already satisfied: certifi>=2017.4.17 in /home/ec2-user/anaconda3/envs/python3/lib/python3.6/site-packages (from requests<3,>=2.21.0->tensorboard<2.3.0,>=2.2.0->tensorflow>=2.0.0) (2020.4.5.2)\n",
      "Requirement already satisfied: urllib3!=1.25.0,!=1.25.1,<1.26,>=1.21.1 in /home/ec2-user/anaconda3/envs/python3/lib/python3.6/site-packages (from requests<3,>=2.21.0->tensorboard<2.3.0,>=2.2.0->tensorflow>=2.0.0) (1.25.8)\n",
      "Requirement already satisfied: idna<3,>=2.5 in /home/ec2-user/anaconda3/envs/python3/lib/python3.6/site-packages (from requests<3,>=2.21.0->tensorboard<2.3.0,>=2.2.0->tensorflow>=2.0.0) (2.9)\n",
      "Requirement already satisfied: importlib-metadata; python_version < \"3.8\" in /home/ec2-user/anaconda3/envs/python3/lib/python3.6/site-packages (from markdown>=2.6.8->tensorboard<2.3.0,>=2.2.0->tensorflow>=2.0.0) (1.5.0)\n",
      "Requirement already satisfied: oauthlib>=3.0.0 in /home/ec2-user/anaconda3/envs/python3/lib/python3.6/site-packages (from requests-oauthlib>=0.7.0->google-auth-oauthlib<0.5,>=0.4.1->tensorboard<2.3.0,>=2.2.0->tensorflow>=2.0.0) (3.1.0)\n",
      "Requirement already satisfied: pyasn1<0.5.0,>=0.4.6 in /home/ec2-user/anaconda3/envs/python3/lib/python3.6/site-packages (from pyasn1-modules>=0.2.1->google-auth<2,>=1.6.3->tensorboard<2.3.0,>=2.2.0->tensorflow>=2.0.0) (0.4.8)\n",
      "Requirement already satisfied: zipp>=0.5 in /home/ec2-user/anaconda3/envs/python3/lib/python3.6/site-packages (from importlib-metadata; python_version < \"3.8\"->markdown>=2.6.8->tensorboard<2.3.0,>=2.2.0->tensorflow>=2.0.0) (2.2.0)\n",
      "Requirement already satisfied: sentence-transformers in /home/ec2-user/anaconda3/envs/python3/lib/python3.6/site-packages (0.3.0)\n",
      "Requirement already satisfied: tqdm in /home/ec2-user/anaconda3/envs/python3/lib/python3.6/site-packages (from sentence-transformers) (4.44.1)\n",
      "Requirement already satisfied: transformers>=3.0.2 in /home/ec2-user/anaconda3/envs/python3/lib/python3.6/site-packages (from sentence-transformers) (3.0.2)\n",
      "Requirement already satisfied: scipy in /home/ec2-user/anaconda3/envs/python3/lib/python3.6/site-packages (from sentence-transformers) (1.4.1)\n",
      "Requirement already satisfied: nltk in /home/ec2-user/anaconda3/envs/python3/lib/python3.6/site-packages (from sentence-transformers) (3.4.5)\n",
      "Requirement already satisfied: numpy in /home/ec2-user/anaconda3/envs/python3/lib/python3.6/site-packages (from sentence-transformers) (1.18.1)\n",
      "Requirement already satisfied: torch>=1.0.1 in /home/ec2-user/anaconda3/envs/python3/lib/python3.6/site-packages (from sentence-transformers) (1.5.1)\n",
      "Requirement already satisfied: scikit-learn in /home/ec2-user/anaconda3/envs/python3/lib/python3.6/site-packages (from sentence-transformers) (0.22.1)\n",
      "Requirement already satisfied: packaging in /home/ec2-user/anaconda3/envs/python3/lib/python3.6/site-packages (from transformers>=3.0.2->sentence-transformers) (20.3)\n"
     ]
    },
    {
     "name": "stdout",
     "output_type": "stream",
     "text": [
      "Requirement already satisfied: regex!=2019.12.17 in /home/ec2-user/anaconda3/envs/python3/lib/python3.6/site-packages (from transformers>=3.0.2->sentence-transformers) (2020.7.14)\n",
      "Requirement already satisfied: tokenizers==0.8.1.rc1 in /home/ec2-user/anaconda3/envs/python3/lib/python3.6/site-packages (from transformers>=3.0.2->sentence-transformers) (0.8.1rc1)\n",
      "Requirement already satisfied: filelock in /home/ec2-user/anaconda3/envs/python3/lib/python3.6/site-packages (from transformers>=3.0.2->sentence-transformers) (3.0.12)\n",
      "Requirement already satisfied: sacremoses in /home/ec2-user/anaconda3/envs/python3/lib/python3.6/site-packages (from transformers>=3.0.2->sentence-transformers) (0.0.43)\n",
      "Requirement already satisfied: requests in /home/ec2-user/anaconda3/envs/python3/lib/python3.6/site-packages (from transformers>=3.0.2->sentence-transformers) (2.23.0)\n",
      "Requirement already satisfied: sentencepiece!=0.1.92 in /home/ec2-user/anaconda3/envs/python3/lib/python3.6/site-packages (from transformers>=3.0.2->sentence-transformers) (0.1.91)\n",
      "Requirement already satisfied: dataclasses; python_version < \"3.7\" in /home/ec2-user/anaconda3/envs/python3/lib/python3.6/site-packages (from transformers>=3.0.2->sentence-transformers) (0.7)\n",
      "Requirement already satisfied: six in /home/ec2-user/anaconda3/envs/python3/lib/python3.6/site-packages (from nltk->sentence-transformers) (1.14.0)\n",
      "Requirement already satisfied: future in /home/ec2-user/anaconda3/envs/python3/lib/python3.6/site-packages (from torch>=1.0.1->sentence-transformers) (0.18.2)\n",
      "Requirement already satisfied: joblib>=0.11 in /home/ec2-user/anaconda3/envs/python3/lib/python3.6/site-packages (from scikit-learn->sentence-transformers) (0.14.1)\n",
      "Requirement already satisfied: pyparsing>=2.0.2 in /home/ec2-user/anaconda3/envs/python3/lib/python3.6/site-packages (from packaging->transformers>=3.0.2->sentence-transformers) (2.4.6)\n",
      "Requirement already satisfied: click in /home/ec2-user/anaconda3/envs/python3/lib/python3.6/site-packages (from sacremoses->transformers>=3.0.2->sentence-transformers) (7.1.1)\n",
      "Requirement already satisfied: chardet<4,>=3.0.2 in /home/ec2-user/anaconda3/envs/python3/lib/python3.6/site-packages (from requests->transformers>=3.0.2->sentence-transformers) (3.0.4)\n",
      "Requirement already satisfied: urllib3!=1.25.0,!=1.25.1,<1.26,>=1.21.1 in /home/ec2-user/anaconda3/envs/python3/lib/python3.6/site-packages (from requests->transformers>=3.0.2->sentence-transformers) (1.25.8)\n",
      "Requirement already satisfied: idna<3,>=2.5 in /home/ec2-user/anaconda3/envs/python3/lib/python3.6/site-packages (from requests->transformers>=3.0.2->sentence-transformers) (2.9)\n",
      "Requirement already satisfied: certifi>=2017.4.17 in /home/ec2-user/anaconda3/envs/python3/lib/python3.6/site-packages (from requests->transformers>=3.0.2->sentence-transformers) (2020.4.5.2)\n"
     ]
    }
   ],
   "source": [
    "!pip install \"tensorflow_hub>=0.6.0\"\n",
    "!pip install \"tensorflow>=2.0.0\"\n",
    "!pip install sentence-transformers"
   ]
  },
  {
   "cell_type": "code",
   "execution_count": 7,
   "metadata": {},
   "outputs": [],
   "source": [
    "import tensorflow as tf\n",
    "import tensorflow_hub as hub\n",
    "from tensorflow.keras import layers"
   ]
  },
  {
   "cell_type": "code",
   "execution_count": 8,
   "metadata": {},
   "outputs": [],
   "source": [
    "from sentence_transformers import SentenceTransformer"
   ]
  },
  {
   "cell_type": "code",
   "execution_count": 9,
   "metadata": {},
   "outputs": [],
   "source": [
    "# Load the Predefined BERT\n",
    "embedder = SentenceTransformer('bert-base-nli-mean-tokens')"
   ]
  },
  {
   "cell_type": "code",
   "execution_count": 10,
   "metadata": {},
   "outputs": [],
   "source": [
    "# Encode the Corpus with BERT \n",
    "corpus_embeddings = embedder.encode(corpus)"
   ]
  },
  {
   "cell_type": "code",
   "execution_count": null,
   "metadata": {},
   "outputs": [],
   "source": [
    "# Save the Encoding\n",
    "import pickle\n",
    "with open('BERT_Banking_Sentence_Embedding.pkl', 'wb') as f:\n",
    "    pickle.dump(corpus_embeddings, f)"
   ]
  },
  {
   "cell_type": "markdown",
   "metadata": {},
   "source": [
    "    Encoder will Vectorize the Corpus\n",
    "    Using KMeans, we can form the Clusters of the corpus\n",
    "    This will segregate the similar sentences of the corpus into one cluster"
   ]
  },
  {
   "cell_type": "code",
   "execution_count": 2,
   "metadata": {},
   "outputs": [],
   "source": [
    "# Choice of Clusters is defined by User, the type of Corpus but essentially by drawing the Scree Plot"
   ]
  },
  {
   "cell_type": "code",
   "execution_count": 24,
   "metadata": {},
   "outputs": [],
   "source": [
    "## Find Ideal Number of Clusters\n",
    "from sklearn.cluster import KMeans\n",
    "# Perform kmean clustering\n",
    "num_clusters = 10\n",
    "wcss = []\n",
    "for i in range(1,num_clusters):\n",
    "    clustering_model = KMeans(n_clusters=num_clusters, init='k-means++', n_init=10)\n",
    "    clustering_model.fit(corpus_embeddings)\n",
    "    wcss.append(clustering_model.inertia_)"
   ]
  },
  {
   "cell_type": "code",
   "execution_count": 25,
   "metadata": {},
   "outputs": [],
   "source": [
    "import matplotlib.pyplot as plt"
   ]
  },
  {
   "cell_type": "markdown",
   "metadata": {},
   "source": [
    "#  Draw the Scree Plot"
   ]
  },
  {
   "cell_type": "code",
   "execution_count": 26,
   "metadata": {},
   "outputs": [
    {
     "data": {
      "text/plain": [
       "Text(0, 0.5, 'WCSS')"
      ]
     },
     "execution_count": 26,
     "metadata": {},
     "output_type": "execute_result"
    },
    {
     "data": {
      "image/png": "[encoded data removed]",
      "text/plain": [
       "<Figure size 432x288 with 1 Axes>"
      ]
     },
     "metadata": {
      "needs_background": "light"
     },
     "output_type": "display_data"
    }
   ],
   "source": [
    "plt.plot(range(1,num_clusters), wcss)\n",
    "plt.title('The Elbow Plot')\n",
    "plt.xlabel('Number of clusrter')\n",
    "plt.ylabel('WCSS')"
   ]
  },
  {
   "cell_type": "code",
   "execution_count": null,
   "metadata": {},
   "outputs": [],
   "source": [
    "# Chose Number of Cluster as 2"
   ]
  },
  {
   "cell_type": "code",
   "execution_count": 27,
   "metadata": {},
   "outputs": [],
   "source": [
    "num_clusters = 2\n",
    "clustering_model = KMeans(n_clusters=num_clusters)\n",
    "clustering_model.fit(corpus_embeddings)\n",
    "cluster_assignment = clustering_model.labels_\n",
    "\n",
    "clustered_sentences = [[] for i in range(num_clusters)]\n",
    "for sentence_id, cluster_id in enumerate(cluster_assignment):\n",
    "    clustered_sentences[cluster_id].append(corpus[sentence_id])"
   ]
  },
  {
   "cell_type": "markdown",
   "metadata": {},
   "source": [
    "# Apply Topic Modeling LDA on the Cluster Extracted via BERT"
   ]
  },
  {
   "cell_type": "code",
   "execution_count": 3,
   "metadata": {},
   "outputs": [],
   "source": [
    "## Intall LDA Dependencies"
   ]
  },
  {
   "cell_type": "code",
   "execution_count": 28,
   "metadata": {},
   "outputs": [
    {
     "name": "stdout",
     "output_type": "stream",
     "text": [
      "Collecting gensim\n",
      "  Downloading gensim-3.8.3-cp36-cp36m-manylinux1_x86_64.whl (24.2 MB)\n",
      "\u001b[K     |████████████████████████████████| 24.2 MB 11.0 MB/s eta 0:00:01\n",
      "\u001b[?25hRequirement already satisfied: scipy>=0.18.1 in /home/ec2-user/anaconda3/envs/python3/lib/python3.6/site-packages (from gensim) (1.4.1)\n",
      "Requirement already satisfied: six>=1.5.0 in /home/ec2-user/anaconda3/envs/python3/lib/python3.6/site-packages (from gensim) (1.14.0)\n",
      "Collecting smart-open>=1.8.1\n",
      "  Downloading smart_open-2.1.0.tar.gz (116 kB)\n",
      "\u001b[K     |████████████████████████████████| 116 kB 66.8 MB/s eta 0:00:01\n",
      "\u001b[?25hRequirement already satisfied: numpy>=1.11.3 in /home/ec2-user/anaconda3/envs/python3/lib/python3.6/site-packages (from gensim) (1.18.1)\n",
      "Requirement already satisfied: requests in /home/ec2-user/anaconda3/envs/python3/lib/python3.6/site-packages (from smart-open>=1.8.1->gensim) (2.23.0)\n",
      "Requirement already satisfied: boto in /home/ec2-user/anaconda3/envs/python3/lib/python3.6/site-packages (from smart-open>=1.8.1->gensim) (2.49.0)\n",
      "Requirement already satisfied: boto3 in /home/ec2-user/anaconda3/envs/python3/lib/python3.6/site-packages (from smart-open>=1.8.1->gensim) (1.14.16)\n",
      "Requirement already satisfied: idna<3,>=2.5 in /home/ec2-user/anaconda3/envs/python3/lib/python3.6/site-packages (from requests->smart-open>=1.8.1->gensim) (2.9)\n",
      "Requirement already satisfied: chardet<4,>=3.0.2 in /home/ec2-user/anaconda3/envs/python3/lib/python3.6/site-packages (from requests->smart-open>=1.8.1->gensim) (3.0.4)\n",
      "Requirement already satisfied: urllib3!=1.25.0,!=1.25.1,<1.26,>=1.21.1 in /home/ec2-user/anaconda3/envs/python3/lib/python3.6/site-packages (from requests->smart-open>=1.8.1->gensim) (1.25.8)\n",
      "Requirement already satisfied: certifi>=2017.4.17 in /home/ec2-user/anaconda3/envs/python3/lib/python3.6/site-packages (from requests->smart-open>=1.8.1->gensim) (2020.4.5.2)\n",
      "Requirement already satisfied: jmespath<1.0.0,>=0.7.1 in /home/ec2-user/anaconda3/envs/python3/lib/python3.6/site-packages (from boto3->smart-open>=1.8.1->gensim) (0.9.4)\n",
      "Requirement already satisfied: botocore<1.18.0,>=1.17.16 in /home/ec2-user/anaconda3/envs/python3/lib/python3.6/site-packages (from boto3->smart-open>=1.8.1->gensim) (1.17.16)\n",
      "Requirement already satisfied: s3transfer<0.4.0,>=0.3.0 in /home/ec2-user/anaconda3/envs/python3/lib/python3.6/site-packages (from boto3->smart-open>=1.8.1->gensim) (0.3.3)\n",
      "Requirement already satisfied: python-dateutil<3.0.0,>=2.1 in /home/ec2-user/anaconda3/envs/python3/lib/python3.6/site-packages (from botocore<1.18.0,>=1.17.16->boto3->smart-open>=1.8.1->gensim) (2.8.1)\n",
      "Requirement already satisfied: docutils<0.16,>=0.10 in /home/ec2-user/anaconda3/envs/python3/lib/python3.6/site-packages (from botocore<1.18.0,>=1.17.16->boto3->smart-open>=1.8.1->gensim) (0.15.2)\n",
      "Building wheels for collected packages: smart-open\n",
      "  Building wheel for smart-open (setup.py) ... \u001b[?25ldone\n",
      "\u001b[?25h  Created wheel for smart-open: filename=smart_open-2.1.0-py3-none-any.whl size=110317 sha256=c92c9c38dcdf12b775527a01559bad720a9e1abc00a716bf2906bf48acc9565d\n",
      "  Stored in directory: /home/ec2-user/.cache/pip/wheels/a4/9b/d5/85705a7ab783cd6f7bd718f01d3b1396272f30044e3c36401a\n",
      "Successfully built smart-open\n",
      "Installing collected packages: smart-open, gensim\n",
      "Successfully installed gensim-3.8.3 smart-open-2.1.0\n",
      "Collecting pyLDAvis\n",
      "  Downloading pyLDAvis-2.1.2.tar.gz (1.6 MB)\n",
      "\u001b[K     |████████████████████████████████| 1.6 MB 9.6 MB/s eta 0:00:01\n",
      "\u001b[?25hRequirement already satisfied: wheel>=0.23.0 in /home/ec2-user/anaconda3/envs/python3/lib/python3.6/site-packages (from pyLDAvis) (0.34.2)\n",
      "Requirement already satisfied: numpy>=1.9.2 in /home/ec2-user/anaconda3/envs/python3/lib/python3.6/site-packages (from pyLDAvis) (1.18.1)\n",
      "Requirement already satisfied: scipy>=0.18.0 in /home/ec2-user/anaconda3/envs/python3/lib/python3.6/site-packages (from pyLDAvis) (1.4.1)\n",
      "Requirement already satisfied: pandas>=0.17.0 in /home/ec2-user/anaconda3/envs/python3/lib/python3.6/site-packages (from pyLDAvis) (1.0.3)\n",
      "Requirement already satisfied: joblib>=0.8.4 in /home/ec2-user/anaconda3/envs/python3/lib/python3.6/site-packages (from pyLDAvis) (0.14.1)\n",
      "Requirement already satisfied: jinja2>=2.7.2 in /home/ec2-user/anaconda3/envs/python3/lib/python3.6/site-packages (from pyLDAvis) (2.11.1)\n",
      "Requirement already satisfied: numexpr in /home/ec2-user/anaconda3/envs/python3/lib/python3.6/site-packages (from pyLDAvis) (2.7.1)\n",
      "Requirement already satisfied: pytest in /home/ec2-user/anaconda3/envs/python3/lib/python3.6/site-packages (from pyLDAvis) (5.4.1)\n",
      "Requirement already satisfied: future in /home/ec2-user/anaconda3/envs/python3/lib/python3.6/site-packages (from pyLDAvis) (0.18.2)\n",
      "Collecting funcy\n",
      "  Downloading funcy-1.14.tar.gz (548 kB)\n",
      "\u001b[K     |████████████████████████████████| 548 kB 69.0 MB/s eta 0:00:01\n",
      "\u001b[?25hRequirement already satisfied: pytz>=2017.2 in /home/ec2-user/anaconda3/envs/python3/lib/python3.6/site-packages (from pandas>=0.17.0->pyLDAvis) (2019.3)\n",
      "Requirement already satisfied: python-dateutil>=2.6.1 in /home/ec2-user/anaconda3/envs/python3/lib/python3.6/site-packages (from pandas>=0.17.0->pyLDAvis) (2.8.1)\n",
      "Requirement already satisfied: MarkupSafe>=0.23 in /home/ec2-user/anaconda3/envs/python3/lib/python3.6/site-packages (from jinja2>=2.7.2->pyLDAvis) (1.1.1)\n",
      "Requirement already satisfied: py>=1.5.0 in /home/ec2-user/anaconda3/envs/python3/lib/python3.6/site-packages (from pytest->pyLDAvis) (1.8.1)\n",
      "Requirement already satisfied: packaging in /home/ec2-user/anaconda3/envs/python3/lib/python3.6/site-packages (from pytest->pyLDAvis) (20.3)\n",
      "Requirement already satisfied: attrs>=17.4.0 in /home/ec2-user/anaconda3/envs/python3/lib/python3.6/site-packages (from pytest->pyLDAvis) (19.3.0)\n",
      "Requirement already satisfied: more-itertools>=4.0.0 in /home/ec2-user/anaconda3/envs/python3/lib/python3.6/site-packages (from pytest->pyLDAvis) (8.2.0)\n",
      "Requirement already satisfied: pluggy<1.0,>=0.12 in /home/ec2-user/anaconda3/envs/python3/lib/python3.6/site-packages (from pytest->pyLDAvis) (0.13.1)\n",
      "Requirement already satisfied: wcwidth in /home/ec2-user/anaconda3/envs/python3/lib/python3.6/site-packages (from pytest->pyLDAvis) (0.1.9)\n",
      "Requirement already satisfied: importlib-metadata>=0.12 in /home/ec2-user/anaconda3/envs/python3/lib/python3.6/site-packages (from pytest->pyLDAvis) (1.5.0)\n",
      "Requirement already satisfied: six>=1.5 in /home/ec2-user/anaconda3/envs/python3/lib/python3.6/site-packages (from python-dateutil>=2.6.1->pandas>=0.17.0->pyLDAvis) (1.14.0)\n",
      "Requirement already satisfied: pyparsing>=2.0.2 in /home/ec2-user/anaconda3/envs/python3/lib/python3.6/site-packages (from packaging->pytest->pyLDAvis) (2.4.6)\n",
      "Requirement already satisfied: zipp>=0.5 in /home/ec2-user/anaconda3/envs/python3/lib/python3.6/site-packages (from importlib-metadata>=0.12->pytest->pyLDAvis) (2.2.0)\n",
      "Building wheels for collected packages: pyLDAvis, funcy\n",
      "  Building wheel for pyLDAvis (setup.py) ... \u001b[?25ldone\n",
      "\u001b[?25h  Created wheel for pyLDAvis: filename=pyLDAvis-2.1.2-py2.py3-none-any.whl size=97711 sha256=23e56ec1d861ddf198db25f8dd9a6c7098e81ce6b2fdb321721e2477a62f7cce\n",
      "  Stored in directory: /home/ec2-user/.cache/pip/wheels/57/de/11/0a038be70c2c212ce45fa0f4f9da165bb5dd87de1288394dc3\n",
      "  Building wheel for funcy (setup.py) ... \u001b[?25ldone\n",
      "\u001b[?25h  Created wheel for funcy: filename=funcy-1.14-py2.py3-none-any.whl size=32042 sha256=7afb41755da2170f752c92b05dd2e85642bbd22e2ec57f3106aa60fa75f6dccc\n",
      "  Stored in directory: /home/ec2-user/.cache/pip/wheels/5e/e0/ba/0dd7bb3f79264f8f60690da62918081bb8c3fb7442c38bfddd\n",
      "Successfully built pyLDAvis funcy\n",
      "Installing collected packages: funcy, pyLDAvis\n",
      "Successfully installed funcy-1.14 pyLDAvis-2.1.2\n",
      "Collecting spacy\n",
      "  Downloading spacy-2.3.2-cp36-cp36m-manylinux1_x86_64.whl (9.9 MB)\n",
      "\u001b[K     |████████████████████████████████| 9.9 MB 10.3 MB/s eta 0:00:01\n",
      "\u001b[?25hRequirement already satisfied: numpy>=1.15.0 in /home/ec2-user/anaconda3/envs/python3/lib/python3.6/site-packages (from spacy) (1.18.1)\n",
      "Collecting murmurhash<1.1.0,>=0.28.0\n",
      "  Downloading murmurhash-1.0.2-cp36-cp36m-manylinux1_x86_64.whl (19 kB)\n",
      "Collecting catalogue<1.1.0,>=0.0.7\n",
      "  Downloading catalogue-1.0.0-py2.py3-none-any.whl (7.7 kB)\n",
      "Collecting cymem<2.1.0,>=2.0.2\n",
      "  Downloading cymem-2.0.3-cp36-cp36m-manylinux1_x86_64.whl (32 kB)\n"
     ]
    },
    {
     "name": "stdout",
     "output_type": "stream",
     "text": [
      "Collecting srsly<1.1.0,>=1.0.2\n",
      "  Downloading srsly-1.0.2-cp36-cp36m-manylinux1_x86_64.whl (185 kB)\n",
      "\u001b[K     |████████████████████████████████| 185 kB 62.2 MB/s eta 0:00:01\n",
      "\u001b[?25hCollecting thinc==7.4.1\n",
      "  Downloading thinc-7.4.1-cp36-cp36m-manylinux1_x86_64.whl (2.1 MB)\n",
      "\u001b[K     |████████████████████████████████| 2.1 MB 66.4 MB/s eta 0:00:01\n",
      "\u001b[?25hRequirement already satisfied: tqdm<5.0.0,>=4.38.0 in /home/ec2-user/anaconda3/envs/python3/lib/python3.6/site-packages (from spacy) (4.44.1)\n",
      "Requirement already satisfied: setuptools in /home/ec2-user/anaconda3/envs/python3/lib/python3.6/site-packages (from spacy) (46.1.3.post20200330)\n",
      "Collecting plac<1.2.0,>=0.9.6\n",
      "  Downloading plac-1.1.3-py2.py3-none-any.whl (20 kB)\n",
      "Collecting blis<0.5.0,>=0.4.0\n",
      "  Downloading blis-0.4.1-cp36-cp36m-manylinux1_x86_64.whl (3.7 MB)\n",
      "\u001b[K     |████████████████████████████████| 3.7 MB 51.8 MB/s eta 0:00:01\n",
      "\u001b[?25hCollecting preshed<3.1.0,>=3.0.2\n",
      "  Downloading preshed-3.0.2-cp36-cp36m-manylinux1_x86_64.whl (119 kB)\n",
      "\u001b[K     |████████████████████████████████| 119 kB 58.8 MB/s eta 0:00:01\n",
      "\u001b[?25hCollecting wasabi<1.1.0,>=0.4.0\n",
      "  Downloading wasabi-0.7.1.tar.gz (22 kB)\n",
      "Requirement already satisfied: requests<3.0.0,>=2.13.0 in /home/ec2-user/anaconda3/envs/python3/lib/python3.6/site-packages (from spacy) (2.23.0)\n",
      "Requirement already satisfied: importlib-metadata>=0.20; python_version < \"3.8\" in /home/ec2-user/anaconda3/envs/python3/lib/python3.6/site-packages (from catalogue<1.1.0,>=0.0.7->spacy) (1.5.0)\n",
      "Requirement already satisfied: certifi>=2017.4.17 in /home/ec2-user/anaconda3/envs/python3/lib/python3.6/site-packages (from requests<3.0.0,>=2.13.0->spacy) (2020.4.5.2)\n",
      "Requirement already satisfied: chardet<4,>=3.0.2 in /home/ec2-user/anaconda3/envs/python3/lib/python3.6/site-packages (from requests<3.0.0,>=2.13.0->spacy) (3.0.4)\n",
      "Requirement already satisfied: urllib3!=1.25.0,!=1.25.1,<1.26,>=1.21.1 in /home/ec2-user/anaconda3/envs/python3/lib/python3.6/site-packages (from requests<3.0.0,>=2.13.0->spacy) (1.25.8)\n",
      "Requirement already satisfied: idna<3,>=2.5 in /home/ec2-user/anaconda3/envs/python3/lib/python3.6/site-packages (from requests<3.0.0,>=2.13.0->spacy) (2.9)\n",
      "Requirement already satisfied: zipp>=0.5 in /home/ec2-user/anaconda3/envs/python3/lib/python3.6/site-packages (from importlib-metadata>=0.20; python_version < \"3.8\"->catalogue<1.1.0,>=0.0.7->spacy) (2.2.0)\n",
      "Building wheels for collected packages: wasabi\n",
      "  Building wheel for wasabi (setup.py) ... \u001b[?25ldone\n",
      "\u001b[?25h  Created wheel for wasabi: filename=wasabi-0.7.1-py3-none-any.whl size=20834 sha256=34d0881cd45dd795909e27629aa70b3cdd1256725ff4a2471f51460a598014d8\n",
      "  Stored in directory: /home/ec2-user/.cache/pip/wheels/81/48/90/cf81833b3dfce6eaf7eab4bd5fdc0e75dbca4418b263f444b8\n",
      "Successfully built wasabi\n",
      "Installing collected packages: murmurhash, catalogue, cymem, srsly, preshed, plac, blis, wasabi, thinc, spacy\n",
      "Successfully installed blis-0.4.1 catalogue-1.0.0 cymem-2.0.3 murmurhash-1.0.2 plac-1.1.3 preshed-3.0.2 spacy-2.3.2 srsly-1.0.2 thinc-7.4.1 wasabi-0.7.1\n",
      "Collecting en_core_web_sm==2.3.1\n",
      "  Downloading https://github.com/explosion/spacy-models/releases/download/en_core_web_sm-2.3.1/en_core_web_sm-2.3.1.tar.gz (12.0 MB)\n",
      "\u001b[K     |████████████████████████████████| 12.0 MB 39.4 MB/s eta 0:00:01\n",
      "\u001b[?25hRequirement already satisfied: spacy<2.4.0,>=2.3.0 in /home/ec2-user/anaconda3/envs/python3/lib/python3.6/site-packages (from en_core_web_sm==2.3.1) (2.3.2)\n",
      "Requirement already satisfied: murmurhash<1.1.0,>=0.28.0 in /home/ec2-user/anaconda3/envs/python3/lib/python3.6/site-packages (from spacy<2.4.0,>=2.3.0->en_core_web_sm==2.3.1) (1.0.2)\n",
      "Requirement already satisfied: cymem<2.1.0,>=2.0.2 in /home/ec2-user/anaconda3/envs/python3/lib/python3.6/site-packages (from spacy<2.4.0,>=2.3.0->en_core_web_sm==2.3.1) (2.0.3)\n",
      "Requirement already satisfied: tqdm<5.0.0,>=4.38.0 in /home/ec2-user/anaconda3/envs/python3/lib/python3.6/site-packages (from spacy<2.4.0,>=2.3.0->en_core_web_sm==2.3.1) (4.44.1)\n",
      "Requirement already satisfied: preshed<3.1.0,>=3.0.2 in /home/ec2-user/anaconda3/envs/python3/lib/python3.6/site-packages (from spacy<2.4.0,>=2.3.0->en_core_web_sm==2.3.1) (3.0.2)\n",
      "Requirement already satisfied: catalogue<1.1.0,>=0.0.7 in /home/ec2-user/anaconda3/envs/python3/lib/python3.6/site-packages (from spacy<2.4.0,>=2.3.0->en_core_web_sm==2.3.1) (1.0.0)\n",
      "Requirement already satisfied: setuptools in /home/ec2-user/anaconda3/envs/python3/lib/python3.6/site-packages (from spacy<2.4.0,>=2.3.0->en_core_web_sm==2.3.1) (46.1.3.post20200330)\n",
      "Requirement already satisfied: plac<1.2.0,>=0.9.6 in /home/ec2-user/anaconda3/envs/python3/lib/python3.6/site-packages (from spacy<2.4.0,>=2.3.0->en_core_web_sm==2.3.1) (1.1.3)\n",
      "Requirement already satisfied: blis<0.5.0,>=0.4.0 in /home/ec2-user/anaconda3/envs/python3/lib/python3.6/site-packages (from spacy<2.4.0,>=2.3.0->en_core_web_sm==2.3.1) (0.4.1)\n",
      "Requirement already satisfied: wasabi<1.1.0,>=0.4.0 in /home/ec2-user/anaconda3/envs/python3/lib/python3.6/site-packages (from spacy<2.4.0,>=2.3.0->en_core_web_sm==2.3.1) (0.7.1)\n",
      "Requirement already satisfied: requests<3.0.0,>=2.13.0 in /home/ec2-user/anaconda3/envs/python3/lib/python3.6/site-packages (from spacy<2.4.0,>=2.3.0->en_core_web_sm==2.3.1) (2.23.0)\n",
      "Requirement already satisfied: srsly<1.1.0,>=1.0.2 in /home/ec2-user/anaconda3/envs/python3/lib/python3.6/site-packages (from spacy<2.4.0,>=2.3.0->en_core_web_sm==2.3.1) (1.0.2)\n",
      "Requirement already satisfied: numpy>=1.15.0 in /home/ec2-user/anaconda3/envs/python3/lib/python3.6/site-packages (from spacy<2.4.0,>=2.3.0->en_core_web_sm==2.3.1) (1.18.1)\n",
      "Requirement already satisfied: thinc==7.4.1 in /home/ec2-user/anaconda3/envs/python3/lib/python3.6/site-packages (from spacy<2.4.0,>=2.3.0->en_core_web_sm==2.3.1) (7.4.1)\n",
      "Requirement already satisfied: importlib-metadata>=0.20; python_version < \"3.8\" in /home/ec2-user/anaconda3/envs/python3/lib/python3.6/site-packages (from catalogue<1.1.0,>=0.0.7->spacy<2.4.0,>=2.3.0->en_core_web_sm==2.3.1) (1.5.0)\n",
      "Requirement already satisfied: urllib3!=1.25.0,!=1.25.1,<1.26,>=1.21.1 in /home/ec2-user/anaconda3/envs/python3/lib/python3.6/site-packages (from requests<3.0.0,>=2.13.0->spacy<2.4.0,>=2.3.0->en_core_web_sm==2.3.1) (1.25.8)\n",
      "Requirement already satisfied: certifi>=2017.4.17 in /home/ec2-user/anaconda3/envs/python3/lib/python3.6/site-packages (from requests<3.0.0,>=2.13.0->spacy<2.4.0,>=2.3.0->en_core_web_sm==2.3.1) (2020.4.5.2)\n",
      "Requirement already satisfied: idna<3,>=2.5 in /home/ec2-user/anaconda3/envs/python3/lib/python3.6/site-packages (from requests<3.0.0,>=2.13.0->spacy<2.4.0,>=2.3.0->en_core_web_sm==2.3.1) (2.9)\n",
      "Requirement already satisfied: chardet<4,>=3.0.2 in /home/ec2-user/anaconda3/envs/python3/lib/python3.6/site-packages (from requests<3.0.0,>=2.13.0->spacy<2.4.0,>=2.3.0->en_core_web_sm==2.3.1) (3.0.4)\n",
      "Requirement already satisfied: zipp>=0.5 in /home/ec2-user/anaconda3/envs/python3/lib/python3.6/site-packages (from importlib-metadata>=0.20; python_version < \"3.8\"->catalogue<1.1.0,>=0.0.7->spacy<2.4.0,>=2.3.0->en_core_web_sm==2.3.1) (2.2.0)\n",
      "Building wheels for collected packages: en-core-web-sm\n",
      "  Building wheel for en-core-web-sm (setup.py) ... \u001b[?25ldone\n",
      "\u001b[?25h  Created wheel for en-core-web-sm: filename=en_core_web_sm-2.3.1-py3-none-any.whl size=12047105 sha256=78efa4fe0e645e438a25dc2e416d1ee40d1897d4f6ae3f615c0fd52452908fc2\n",
      "  Stored in directory: /tmp/pip-ephem-wheel-cache-6qac8wt1/wheels/10/6f/a6/ddd8204ceecdedddea923f8514e13afb0c1f0f556d2c9c3da0\n",
      "Successfully built en-core-web-sm\n",
      "Installing collected packages: en-core-web-sm\n",
      "Successfully installed en-core-web-sm-2.3.1\n",
      "\u001b[38;5;2m✔ Download and installation successful\u001b[0m\n",
      "You can now load the model via spacy.load('en_core_web_sm')\n"
     ]
    }
   ],
   "source": [
    "!pip install gensim\n",
    "!pip install pyLDAvis\n",
    "!pip install spacy\n",
    "!python -m spacy download en_core_web_sm"
   ]
  },
  {
   "cell_type": "code",
   "execution_count": 29,
   "metadata": {},
   "outputs": [],
   "source": [
    "import re\n",
    "import numpy as np\n",
    "import pandas as pd\n",
    "from pprint import pprint\n",
    "\n",
    "# Gensim\n",
    "import gensim\n",
    "import gensim.corpora as corpora\n",
    "from gensim.utils import simple_preprocess\n",
    "from gensim.models import CoherenceModel\n",
    "\n",
    "from gensim.test.utils import common_texts\n",
    "from gensim.corpora.dictionary import Dictionary\n",
    "from gensim.models import ldamodel\n",
    "\n",
    "\n",
    "# Plotting tools\n",
    "#!pip install pyLDAvis\n",
    "import pyLDAvis\n",
    "import pyLDAvis.gensim\n",
    "import matplotlib.pyplot as plt\n",
    "%matplotlib inline\n",
    "\n",
    "\n",
    "## Optional\n",
    "# Enable logging for gensim - optional\n",
    "import logging\n",
    "logging.basicConfig(format='%(asctime)s : %(levelname)s : %(message)s', level=logging.ERROR)\n",
    "\n",
    "import warnings\n",
    "warnings.filterwarnings(\"ignore\",category=DeprecationWarning)\n",
    "\n",
    "# spacy for lemmatization\n",
    "import spacy\n",
    "import en_core_web_sm\n",
    "nlp = en_core_web_sm.load()\n",
    "\n"
   ]
  },
  {
   "cell_type": "code",
   "execution_count": 30,
   "metadata": {},
   "outputs": [
    {
     "name": "stderr",
     "output_type": "stream",
     "text": [
      "[nltk_data] Downloading package stopwords to\n",
      "[nltk_data]     /home/ec2-user/nltk_data...\n",
      "[nltk_data]   Unzipping corpora/stopwords.zip.\n"
     ]
    }
   ],
   "source": [
    "# NLTK Stop words\n",
    "import nltk\n",
    "nltk.download('stopwords')\n",
    "from nltk.corpus import stopwords\n",
    "stop_words = stopwords.words('english')\n",
    "stop_words.extend(['from', 'subject', 're', 'edu', 'use'])"
   ]
  },
  {
   "cell_type": "markdown",
   "metadata": {},
   "source": [
    "# LDA Pipeline"
   ]
  },
  {
   "cell_type": "markdown",
   "metadata": {},
   "source": [
    "    Clean the corpus\n",
    "    Get Tokens from Sentences\n",
    "    Remove Tokens which are Stop Words \n",
    "    Use Tokens to form Bigrams and Trigrams to identify phrases\n",
    "    \n",
    "    We can use Lemmitization before Bigrams depending upon Corpus, for this Use case, it give bad result hence \n",
    "    its been Removed"
   ]
  },
  {
   "cell_type": "code",
   "execution_count": 32,
   "metadata": {},
   "outputs": [],
   "source": [
    "# Cleaning of Corpus\n",
    "def preprocess(CORPUS):\n",
    "    data = []\n",
    "    # Convert to list\n",
    "    #data = dataset.Description.values.tolist()\n",
    "    # Remove Emails\n",
    "    data = [re.sub('\\S*@\\S*\\s?', '', sent) for sent in CORPUS]\n",
    "    # Remove new line characters\n",
    "    data = [re.sub('\\s+', ' ', sent) for sent in data]\n",
    "    # Remove distracting single quotes\n",
    "    data = [re.sub(\"\\'\", \"\", sent) for sent in data]\n",
    "    # Remove https\n",
    "    data = [re.sub(r\"http\\S+\", \"\", sent) for sent in data]\n",
    "    return data\n",
    "\n",
    "def sent_to_words(sentences):\n",
    "    for sentence in sentences:\n",
    "        yield(gensim.utils.simple_preprocess(str(sentence), deacc=True))  # deacc=True removes punctuations\n",
    "        \n",
    "        \n",
    "def remove_stopwords(texts):\n",
    "    return [[word for word in simple_preprocess(str(doc)) if word not in stop_words] for doc in texts]\n",
    "\n",
    "def make_bigrams(texts):\n",
    "    return [bigram_mod[doc] for doc in texts]\n",
    "\n",
    "def make_trigrams(texts):\n",
    "    return [trigram_mod[bigram_mod[doc]] for doc in texts]\n",
    "\n"
   ]
  },
  {
   "cell_type": "code",
   "execution_count": 42,
   "metadata": {},
   "outputs": [],
   "source": [
    "CORPUS = clustered_sentences[0]\n",
    "topics = 2"
   ]
  },
  {
   "cell_type": "code",
   "execution_count": 43,
   "metadata": {},
   "outputs": [],
   "source": [
    "data = preprocess(CORPUS)\n",
    "data_words = list(sent_to_words(data))\n",
    "# Build the bigram and trigram models\n",
    "bigram = gensim.models.Phrases(data_words, min_count=5, threshold=15) # higher threshold fewer phrases.\n",
    "trigram = gensim.models.Phrases(bigram[data_words], threshold=15)\n",
    "# Faster way to get a sentence clubbed as a trigram/bigram\n",
    "bigram_mod = gensim.models.phrases.Phraser(bigram)\n",
    "trigram_mod = gensim.models.phrases.Phraser(trigram)\n",
    "\n",
    "# Form Tri-grams\n",
    "data_words_ngrams = make_trigrams(data_words)\n",
    "\n",
    "# Remove Stop Words\n",
    "data_words_nostops = remove_stopwords(data_words_ngrams)\n",
    "\n",
    "# Create Dictionary\n",
    "# Corpora is a class of gensim\n",
    "corpus_value = data_words_nostops\n",
    "id2word = corpora.Dictionary(corpus_value)\n",
    "\n",
    "# Create Corpus\n",
    "texts = corpus_value\n",
    "\n",
    "# Term Document Frequency\n",
    "corpus = [id2word.doc2bow(text) for text in texts]\n",
    "\n",
    "lda_model = gensim.models.ldamodel.LdaModel(corpus=corpus,\n",
    "                                           id2word=id2word,\n",
    "                                           num_topics=topics, \n",
    "                                           random_state=100,\n",
    "                                           update_every=1,\n",
    "                                           chunksize=100,\n",
    "                                           passes=10,\n",
    "                                           alpha='auto',\n",
    "                                           per_word_topics=True)\n",
    "    \n",
    "# Compute Perplexity\n",
    "print('\\nPerplexity: ', lda_model.log_perplexity(corpus))  # a measure of how good the model is. lower the better.\n",
    "# Compute Coherence Score\n",
    "coherence_model_lda = CoherenceModel(model=lda_model, texts=corpus_value, dictionary=id2word, coherence='c_v')\n",
    "coherence_lda = coherence_model_lda.get_coherence()\n",
    "print('\\nCoherence Score: ', coherence_lda)"
   ]
  },
  {
   "cell_type": "code",
   "execution_count": 45,
   "metadata": {},
   "outputs": [
    {
     "name": "stdout",
     "output_type": "stream",
     "text": [
      "\n",
      "Perplexity:  -8.282005749541776\n",
      "\n",
      "Coherence Score:  0.44207698258856604\n"
     ]
    }
   ],
   "source": []
  },
  {
   "cell_type": "code",
   "execution_count": 46,
   "metadata": {},
   "outputs": [
    {
     "data": {
      "text/html": [
       "\n",
       "<link rel=\"stylesheet\" type=\"text/css\" href=\"https://cdn.rawgit.com/bmabey/pyLDAvis/files/ldavis.v1.0.0.css\">\n",
       "\n",
       "\n",
       "<div id=\"ldavis_el226011406994958837843321810384\"></div>\n",
       "<script type=\"text/javascript\">\n",
       "\n",
       "var ldavis_el226011406994958837843321810384_data = {\"mdsDat\": {\"x\": [0.17196933925151822, -0.17196933925151822], \"y\": [0.0, 0.0], \"topics\": [1, 2], \"cluster\": [1, 1], \"Freq\": [72.12648010253906, 27.873512268066406]}, \"tinfo\": {\"Term\": [\"services\", \"cloud\", \"confidential\", \"banking\", \"global\", \"data\", \"dxc_proprietary\", \"technology\", \"contract\", \"consulting\", \"dxc\", \"management\", \"capital_markets\", \"support\", \"group\", \"none\", \"analytics\", \"board\", \"new\", \"member_of\", \"insurance\", \"customers\", \"dxc_com\", \"dz_bank_group\", \"dz_bank\", \"service\", \"customer\", \"provide\", \"solutions\", \"advisory\", \"data\", \"customer\", \"provide\", \"customers\", \"process\", \"users\", \"processes\", \"approach\", \"improve\", \"market\", \"right\", \"time\", \"automation\", \"model\", \"needs\", \"user\", \"improved\", \"costs\", \"need\", \"using\", \"requirements\", \"api\", \"create\", \"such_as\", \"processing\", \"environment\", \"fintechs\", \"knowledge\", \"manage\", \"results\", \"support\", \"service\", \"new\", \"system\", \"banks\", \"solution\", \"help\", \"channels\", \"provides\", \"change\", \"value\", \"systems\", \"existing\", \"products\", \"client\", \"business\", \"experience\", \"dxc\", \"access\", \"digital\", \"platform\", \"bank\", \"information\", \"services\", \"key\", \"delivery\", \"management\", \"strategy\", \"banking\", \"technology\", \"industry\", \"none\", \"board\", \"member_of\", \"cloud\", \"consulting\", \"head\", \"group\", \"ag\", \"leader\", \"in_fy\", \"dxc_com\", \"csc_com\", \"manager\", \"hpe_com\", \"contract\", \"deutsche_bank\", \"mobility\", \"fy\", \"senior\", \"appendix\", \"university\", \"opx\", \"general_manager\", \"summary\", \"division\", \"responsible_for\", \"private_cloud\", \"october\", \"it_spending\", \"largest\", \"global\", \"digitization\", \"advisory\", \"workplace\", \"sap\", \"dz_bank\", \"capital_markets\", \"dz_bank_group\", \"total\", \"confidential\", \"dxc_proprietary\", \"gmbh\", \"storage\", \"services\", \"banking\", \"insurance\", \"technology\", \"analytics\", \"data_center\", \"dxc\", \"management\", \"solutions\", \"bank\", \"digital\", \"applications\", \"security\", \"business\", \"company\", \"platform\", \"industry\"], \"Freq\": [2020.0, 545.0, 663.0, 747.0, 282.0, 1042.0, 315.0, 639.0, 227.0, 217.0, 1606.0, 810.0, 193.0, 837.0, 171.0, 169.0, 375.0, 166.0, 1003.0, 159.0, 268.0, 632.0, 153.0, 168.0, 153.0, 803.0, 544.0, 544.0, 435.0, 126.0, 1041.8741455078125, 544.160888671875, 544.246337890625, 631.1834106445312, 295.3596496582031, 214.57467651367188, 453.0640563964844, 227.14968872070312, 213.92626953125, 409.6275329589844, 195.68524169921875, 185.53244018554688, 197.25360107421875, 200.58457946777344, 172.6813201904297, 172.9451446533203, 178.0264892578125, 185.72462463378906, 162.3842315673828, 184.6756591796875, 157.76022338867188, 189.0578155517578, 152.75936889648438, 164.64691162109375, 180.25086975097656, 175.82215881347656, 163.5484161376953, 153.75537109375, 239.82388305664062, 150.05419921875, 834.0032348632812, 795.22998046875, 989.0396728515625, 401.1092529296875, 365.265625, 570.4739379882812, 192.9717254638672, 184.9029541015625, 239.5391387939453, 183.2486114501953, 258.62774658203125, 430.0119934082031, 189.89434814453125, 266.91729736328125, 419.58685302734375, 958.7107543945312, 225.02899169921875, 1096.3328857421875, 240.71885681152344, 630.986328125, 531.0052490234375, 624.6686401367188, 256.28521728515625, 1041.2083740234375, 282.016357421875, 315.3243408203125, 474.16790771484375, 292.0260009765625, 336.7852478027344, 308.4473571777344, 259.966064453125, 169.02589416503906, 165.62149047851562, 159.36766052246094, 543.3906860351562, 216.66709899902344, 116.79784393310547, 171.05328369140625, 105.93639373779297, 105.33190155029297, 119.39740753173828, 152.44427490234375, 98.36815643310547, 106.2550277709961, 74.70782470703125, 225.5375213623047, 61.93321228027344, 84.30635070800781, 69.13819122314453, 62.536956787109375, 65.29566192626953, 57.00022506713867, 65.3847427368164, 52.52385330200195, 69.96686553955078, 51.89861297607422, 64.33666229248047, 68.77161407470703, 49.650245666503906, 69.381591796875, 85.71834564208984, 277.94879150390625, 103.7890853881836, 124.28059387207031, 99.88317108154297, 87.92424011230469, 149.5475616455078, 186.21517944335938, 157.57130432128906, 90.06105041503906, 505.16009521484375, 256.97998046875, 74.30721282958984, 88.72712707519531, 979.46728515625, 410.7674865722656, 190.00889587402344, 331.3922424316406, 222.2281036376953, 123.44466400146484, 510.17694091796875, 336.2376403808594, 199.83157348632812, 247.24644470214844, 235.2473602294922, 174.0678253173828, 161.9883575439453, 233.34376525878906, 140.21458435058594, 168.25946044921875, 138.77084350585938], \"Total\": [2020.0, 545.0, 663.0, 747.0, 282.0, 1042.0, 315.0, 639.0, 227.0, 217.0, 1606.0, 810.0, 193.0, 837.0, 171.0, 169.0, 375.0, 166.0, 1003.0, 159.0, 268.0, 632.0, 153.0, 168.0, 153.0, 803.0, 544.0, 544.0, 435.0, 126.0, 1042.7987060546875, 544.780517578125, 544.8972778320312, 632.0293579101562, 295.9341125488281, 215.0908660888672, 454.1675109863281, 227.7064666748047, 214.46530151367188, 410.6897277832031, 196.1937255859375, 186.0166778564453, 197.80374145507812, 201.17172241210938, 173.19288635253906, 173.4722137451172, 178.5707550048828, 186.30104064941406, 162.9026336669922, 185.26724243164062, 158.27639770507812, 189.67738342285156, 153.27056884765625, 165.20236206054688, 180.86026000976562, 176.43170166015625, 164.13291931152344, 154.30958557128906, 240.71609497070312, 150.617431640625, 837.8749389648438, 803.7845458984375, 1003.1580200195312, 403.1431884765625, 367.4081115722656, 578.7321166992188, 193.71337890625, 185.73370361328125, 242.24090576171875, 184.07667541503906, 264.49151611328125, 452.2925109863281, 191.1492919921875, 277.368896484375, 465.2926025390625, 1192.0545654296875, 231.46987915039062, 1606.509765625, 256.0185852050781, 866.2337036132812, 699.2647094726562, 871.9151000976562, 281.51910400390625, 2020.6756591796875, 325.193359375, 401.0511779785156, 810.405517578125, 398.93682861328125, 747.552734375, 639.839599609375, 398.7369079589844, 169.62734985351562, 166.225830078125, 159.99615478515625, 545.5457153320312, 217.5704803466797, 117.35762023925781, 171.87612915039062, 106.57283020019531, 105.99808502197266, 120.15341186523438, 153.41558837890625, 99.0137939453125, 107.05223083496094, 75.29690551757812, 227.4001922607422, 62.48611831665039, 85.10382080078125, 69.79641723632812, 63.152652740478516, 65.94435119628906, 57.5865364074707, 66.07042694091797, 53.090335845947266, 70.72653198242188, 52.49532699584961, 65.07675170898438, 69.57068634033203, 50.23749542236328, 70.2027816772461, 86.80039978027344, 282.9578552246094, 105.43885040283203, 126.49246215820312, 101.58313751220703, 89.41603088378906, 153.91009521484375, 193.26486206054688, 168.15464782714844, 94.01636505126953, 663.1351318359375, 315.77142333984375, 76.02565002441406, 94.2055892944336, 2020.6756591796875, 747.552734375, 268.50872802734375, 639.839599609375, 375.74859619140625, 155.31805419921875, 1606.509765625, 810.405517578125, 435.3492126464844, 871.9151000976562, 866.2337036132812, 402.6649169921875, 340.81549072265625, 1192.0545654296875, 245.96841430664062, 699.2647094726562, 398.7369079589844], \"Category\": [\"Default\", \"Default\", \"Default\", \"Default\", \"Default\", \"Default\", \"Default\", \"Default\", \"Default\", \"Default\", \"Default\", \"Default\", \"Default\", \"Default\", \"Default\", \"Default\", \"Default\", \"Default\", \"Default\", \"Default\", \"Default\", \"Default\", \"Default\", \"Default\", \"Default\", \"Default\", \"Default\", \"Default\", \"Default\", \"Default\", \"Topic1\", \"Topic1\", \"Topic1\", \"Topic1\", \"Topic1\", \"Topic1\", \"Topic1\", \"Topic1\", \"Topic1\", \"Topic1\", \"Topic1\", \"Topic1\", \"Topic1\", \"Topic1\", \"Topic1\", \"Topic1\", \"Topic1\", \"Topic1\", \"Topic1\", \"Topic1\", \"Topic1\", \"Topic1\", \"Topic1\", \"Topic1\", \"Topic1\", \"Topic1\", \"Topic1\", \"Topic1\", \"Topic1\", \"Topic1\", \"Topic1\", \"Topic1\", \"Topic1\", \"Topic1\", \"Topic1\", \"Topic1\", \"Topic1\", \"Topic1\", \"Topic1\", \"Topic1\", \"Topic1\", \"Topic1\", \"Topic1\", \"Topic1\", \"Topic1\", \"Topic1\", \"Topic1\", \"Topic1\", \"Topic1\", \"Topic1\", \"Topic1\", \"Topic1\", \"Topic1\", \"Topic1\", \"Topic1\", \"Topic1\", \"Topic1\", \"Topic1\", \"Topic1\", \"Topic1\", \"Topic1\", \"Topic2\", \"Topic2\", \"Topic2\", \"Topic2\", \"Topic2\", \"Topic2\", \"Topic2\", \"Topic2\", \"Topic2\", \"Topic2\", \"Topic2\", \"Topic2\", \"Topic2\", \"Topic2\", \"Topic2\", \"Topic2\", \"Topic2\", \"Topic2\", \"Topic2\", \"Topic2\", \"Topic2\", \"Topic2\", \"Topic2\", \"Topic2\", \"Topic2\", \"Topic2\", \"Topic2\", \"Topic2\", \"Topic2\", \"Topic2\", \"Topic2\", \"Topic2\", \"Topic2\", \"Topic2\", \"Topic2\", \"Topic2\", \"Topic2\", \"Topic2\", \"Topic2\", \"Topic2\", \"Topic2\", \"Topic2\", \"Topic2\", \"Topic2\", \"Topic2\", \"Topic2\", \"Topic2\", \"Topic2\", \"Topic2\", \"Topic2\", \"Topic2\", \"Topic2\", \"Topic2\", \"Topic2\", \"Topic2\", \"Topic2\", \"Topic2\", \"Topic2\", \"Topic2\", \"Topic2\"], \"logprob\": [30.0, 29.0, 28.0, 27.0, 26.0, 25.0, 24.0, 23.0, 22.0, 21.0, 20.0, 19.0, 18.0, 17.0, 16.0, 15.0, 14.0, 13.0, 12.0, 11.0, 10.0, 9.0, 8.0, 7.0, 6.0, 5.0, 4.0, 3.0, 2.0, 1.0, -4.6585001945495605, -5.30810022354126, -5.3078999519348145, -5.1596999168396, -5.919099807739258, -6.23859977722168, -5.491300106048584, -6.181700229644775, -6.241700172424316, -5.592100143432617, -6.3308000564575195, -6.384099960327148, -6.322800159454346, -6.306099891662598, -6.455900192260742, -6.4542999267578125, -6.4253997802734375, -6.382999897003174, -6.517300128936768, -6.388700008392334, -6.546199798583984, -6.365300178527832, -6.578400135040283, -6.503499984741211, -6.413000106811523, -6.43779993057251, -6.510200023651123, -6.571899890899658, -6.127399921417236, -6.59630012512207, -4.881100177764893, -4.928699970245361, -4.710599899291992, -5.613100051879883, -5.706699848175049, -5.260799884796143, -6.344799995422363, -6.387499809265137, -6.128600120544434, -6.396500110626221, -6.0518999099731445, -5.543499946594238, -6.360799789428711, -6.020400047302246, -5.567999839782715, -4.741700172424316, -6.191100120544434, -4.607600212097168, -6.123700141906738, -5.159999847412109, -5.332499980926514, -5.170100212097168, -6.060999870300293, -4.659200191497803, -5.9653000831604, -5.853700160980225, -5.445700168609619, -5.930500030517578, -5.787899971008301, -5.875800132751465, -6.046800136566162, -5.526500225067139, -5.546899795532227, -5.585299968719482, -4.358699798583984, -5.278200149536133, -5.896100044250488, -5.514599800109863, -5.99370002746582, -5.9994001388549805, -5.874100208282471, -5.629799842834473, -6.067800045013428, -5.990699768066406, -6.3429999351501465, -5.238100051879883, -6.5304999351501465, -6.222099781036377, -6.420499801635742, -6.5208001136779785, -6.47760009765625, -6.613500118255615, -6.47629976272583, -6.695300102233887, -6.4085001945495605, -6.707300186157227, -6.492400169372559, -6.42579984664917, -6.7515997886657715, -6.416900157928467, -6.20550012588501, -5.029099941253662, -6.014200210571289, -5.834000110626221, -6.052599906921387, -6.180099964141846, -5.648900032043457, -5.429699897766113, -5.596700191497803, -6.156099796295166, -4.431700229644775, -5.107600212097168, -6.348400115966797, -6.171000003814697, -3.7695999145507812, -4.638500213623047, -5.4095001220703125, -4.853300094604492, -5.252900123596191, -5.840799808502197, -4.421800136566162, -4.838699817657471, -5.359099864959717, -5.146200180053711, -5.195899963378906, -5.497099876403809, -5.568999767303467, -5.204100131988525, -5.713399887084961, -5.531099796295166, -5.723700046539307], \"loglift\": [30.0, 29.0, 28.0, 27.0, 26.0, 25.0, 24.0, 23.0, 22.0, 21.0, 20.0, 19.0, 18.0, 17.0, 16.0, 15.0, 14.0, 13.0, 12.0, 11.0, 10.0, 9.0, 8.0, 7.0, 6.0, 5.0, 4.0, 3.0, 2.0, 1.0, 0.32589998841285706, 0.3255999982357025, 0.3255999982357025, 0.3253999948501587, 0.3248000144958496, 0.32429999113082886, 0.32429999113082886, 0.32429999113082886, 0.32420000433921814, 0.32420000433921814, 0.32420000433921814, 0.32409998774528503, 0.3240000009536743, 0.3237999975681305, 0.3237999975681305, 0.3237000107765198, 0.3237000107765198, 0.3237000107765198, 0.32359999418258667, 0.32359999418258667, 0.32350000739097595, 0.32350000739097595, 0.32339999079704285, 0.32339999079704285, 0.32339999079704285, 0.32330000400543213, 0.323199987411499, 0.323199987411499, 0.3230000138282776, 0.3230000138282776, 0.3221000134944916, 0.3160000145435333, 0.3125999867916107, 0.32170000672340393, 0.32089999318122864, 0.3124000132083893, 0.3228999972343445, 0.322299987077713, 0.3154999911785126, 0.3222000002861023, 0.3043000102043152, 0.27619999647140503, 0.32019999623298645, 0.2883000075817108, 0.22339999675750732, 0.10890000313520432, 0.2985000014305115, -0.05530000105500221, 0.26510000228881836, 0.00989999994635582, 0.051500000059604645, -0.0066999997943639755, 0.23280000686645508, -0.33629998564720154, 0.1843000054359436, 0.08630000054836273, -0.20919999480247498, 0.014800000004470348, -0.4706000089645386, -0.40290001034736633, -0.10100000351667404, 1.273900032043457, 1.273900032043457, 1.2735999822616577, 1.2734999656677246, 1.273300051689148, 1.2726999521255493, 1.2726999521255493, 1.2714999914169312, 1.2711999416351318, 1.2711999416351318, 1.2711000442504883, 1.2710000276565552, 1.2699999809265137, 1.2696000337600708, 1.2692999839782715, 1.2685999870300293, 1.2681000232696533, 1.2680000066757202, 1.267699956893921, 1.2676000595092773, 1.267300009727478, 1.2670999765396118, 1.266800045967102, 1.266700029373169, 1.2661000490188599, 1.2661000490188599, 1.2659000158309937, 1.2656999826431274, 1.2656999826431274, 1.2648999691009521, 1.259600043296814, 1.2617000341415405, 1.2598999738693237, 1.260599970817566, 1.260699987411499, 1.2487000226974487, 1.2403000593185425, 1.212499976158142, 1.2345000505447388, 1.0053999423980713, 1.0714999437332153, 1.2546000480651855, 1.2175999879837036, 0.5533000230789185, 0.6786999702453613, 0.9316999912261963, 0.6195999979972839, 0.7523000240325928, 1.0477999448776245, 0.13040000200271606, 0.3977999985218048, 0.49880000948905945, 0.01720000058412552, -0.026000000536441803, 0.43880000710487366, 0.5336999893188477, -0.35339999198913574, 0.715499997138977, -0.1469999998807907, 0.22200000286102295]}, \"token.table\": {\"Topic\": [1, 2, 1, 2, 1, 2, 1, 2, 1, 2, 1, 2, 1, 2, 1, 2, 1, 2, 1, 2, 1, 2, 1, 2, 1, 2, 1, 2, 1, 2, 1, 2, 1, 2, 1, 2, 1, 2, 1, 2, 1, 2, 1, 2, 1, 2, 1, 2, 1, 2, 1, 2, 1, 2, 1, 2, 1, 2, 1, 2, 1, 2, 1, 2, 1, 2, 1, 2, 1, 2, 1, 2, 1, 2, 1, 2, 1, 2, 1, 2, 1, 2, 1, 2, 1, 2, 1, 2, 1, 2, 1, 2, 1, 2, 1, 2, 1, 2, 1, 2, 1, 2, 1, 2, 1, 2, 1, 2, 1, 2, 1, 2, 1, 2, 1, 2, 1, 2, 1, 2, 1, 2, 1, 2, 1, 2, 1, 2, 1, 2, 1, 2, 1, 2, 1, 2, 1, 2, 1, 2, 1, 2, 1, 2, 1, 2, 1, 2, 1, 2, 1, 2, 1, 2, 1, 2, 1, 2, 1, 2, 1, 2, 1, 2, 1, 2, 1, 2, 1, 2, 1, 2, 1, 2, 1, 2, 1, 2, 1, 2, 1, 2, 1, 2, 1, 2, 1, 2, 1, 2, 1, 2, 1, 2, 1, 2, 1, 2, 1, 2, 1, 2, 1, 2, 1, 2, 1, 1, 2, 1, 2, 1, 2, 1, 2, 1, 2, 1, 2, 1, 2], \"Freq\": [0.9413378834724426, 0.058589495718479156, 0.015811217948794365, 0.9802955389022827, 0.009383254684507847, 0.9946249723434448, 0.40984851121902466, 0.5908205509185791, 0.9964287877082825, 0.005272109992802143, 0.015164300799369812, 0.985679566860199, 0.5687111020088196, 0.43212106823921204, 0.9968974590301514, 0.004391619004309177, 0.9959366917610168, 0.00505551602691412, 0.7168129086494446, 0.283284455537796, 0.45080432295799255, 0.5497940182685852, 0.9934456944465637, 0.005443538073450327, 0.006015912164002657, 0.9986414313316345, 0.8044933676719666, 0.19546085596084595, 0.036219723522663116, 0.9624097943305969, 0.9941509366035461, 0.005432518664747477, 0.996049702167511, 0.005384052637964487, 0.9026578068733215, 0.09886252135038376, 0.003666053991764784, 0.9953336119651794, 0.4309496283531189, 0.5691787600517273, 0.2382621467113495, 0.7615340948104858, 0.004596211947500706, 0.9973779320716858, 0.00879506766796112, 0.993842601776123, 0.9983841180801392, 0.005367656704038382, 0.9982346892356873, 0.006524409633129835, 0.010099602863192558, 0.9897610545158386, 0.9985672831535339, 0.0018356016371399164, 0.9983713626861572, 0.0015822049463167787, 0.9992340803146362, 0.0009589578257873654, 0.20602884888648987, 0.7919234037399292, 0.7854359149932861, 0.21443647146224976, 0.016003554686903954, 0.992220401763916, 0.7284408211708069, 0.2712893784046173, 0.018968340009450912, 0.9863536953926086, 0.01904931478202343, 0.9905643463134766, 0.6822242736816406, 0.3174583911895752, 0.006518242415040731, 0.9907728433609009, 0.18684400618076324, 0.8138798475265503, 0.025989199057221413, 0.9745949506759644, 0.06541597098112106, 0.9396112561225891, 0.9975531697273254, 0.005667915567755699, 0.9939874410629272, 0.005231513176113367, 0.9720486998558044, 0.025921300053596497, 0.9991901516914368, 0.006092622876167297, 0.014327382668852806, 0.9885894060134888, 0.018835820257663727, 0.9982984662055969, 0.01767047680914402, 0.9824784398078918, 0.026306910440325737, 0.9733557105064392, 0.0058181434869766235, 0.9949025511741638, 0.008520963601768017, 0.9969527125358582, 0.9963173270225525, 0.005162266083061695, 0.013280758634209633, 0.996056854724884, 0.9978303909301758, 0.004662759136408567, 0.9968037605285645, 0.005600021220743656, 0.008322693407535553, 0.990400493144989, 0.652059018611908, 0.3486007750034332, 0.9093521237373352, 0.08880391716957092, 0.29049333930015564, 0.7076119780540466, 0.014244450256228447, 0.9828670620918274, 0.867176353931427, 0.1322290152311325, 0.9979937076568604, 0.006480478681623936, 0.011520684696733952, 0.9907788634300232, 0.00943413283675909, 0.9905839562416077, 0.9970251321792603, 0.004154271446168423, 0.5848923921585083, 0.4146072566509247, 0.009341234341263771, 0.9901708364486694, 0.9983205795288086, 0.0024349282030016184, 0.0062501500360667706, 0.993773877620697, 0.011750353500247002, 0.9870297312736511, 0.9991464018821716, 0.004970877431333065, 0.9944590330123901, 0.006138636264950037, 0.9988862872123718, 0.005773909389972687, 0.9858865737915039, 0.013955926522612572, 0.0058952756226062775, 0.9963015913963318, 0.0199054516851902, 0.9952725172042847, 0.015135364606976509, 0.9837986826896667, 0.7593690752983093, 0.24025236070156097, 0.014373869635164738, 0.9917970299720764, 0.9968435168266296, 0.0033791305031627417, 0.9974293112754822, 0.0022018307354301214, 0.995243489742279, 0.005529130809009075, 0.9626169204711914, 0.036053068935871124, 0.9983533024787903, 0.0018352082697674632, 0.9907492399215698, 0.012384366244077682, 0.9982537031173706, 0.006318061612546444, 0.01536647044122219, 0.9834541082382202, 0.9959006905555725, 0.006639337632805109, 0.9990125894546509, 0.005097003187984228, 0.011183677241206169, 0.9841635823249817, 0.5252108573913574, 0.47533050179481506, 0.01583464816212654, 0.9975827932357788, 0.9890710115432739, 0.011197030544281006, 0.5151742100715637, 0.48449140787124634, 0.9849116206169128, 0.013823321089148521, 0.5420935750007629, 0.45940130949020386, 0.053075406700372696, 0.9447422623634338, 0.7319454550743103, 0.2682128846645355, 0.998775064945221, 0.0060531822964549065, 0.014138965867459774, 0.9897276163101196, 0.9953752756118774, 0.004773982334882021, 0.9946838021278381, 0.004961016587913036, 0.9507122039794922, 0.04864108934998512, 0.4813706576824188, 0.5173171758651733, 0.9999103546142578, 0.04254578426480293, 0.957280158996582, 0.017365170642733574, 0.9898146986961365, 0.9972778558731079, 0.0057646119967103004, 0.999577522277832, 0.004649197682738304, 0.9985575079917908, 0.005397608038038015, 0.97923743724823, 0.022685037925839424, 0.019688306376338005, 0.9844153523445129], \"Term\": [\"access\", \"access\", \"advisory\", \"advisory\", \"ag\", \"ag\", \"analytics\", \"analytics\", \"api\", \"api\", \"appendix\", \"appendix\", \"applications\", \"applications\", \"approach\", \"approach\", \"automation\", \"automation\", \"bank\", \"bank\", \"banking\", \"banking\", \"banks\", \"banks\", \"board\", \"board\", \"business\", \"business\", \"capital_markets\", \"capital_markets\", \"change\", \"change\", \"channels\", \"channels\", \"client\", \"client\", \"cloud\", \"cloud\", \"company\", \"company\", \"confidential\", \"confidential\", \"consulting\", \"consulting\", \"contract\", \"contract\", \"costs\", \"costs\", \"create\", \"create\", \"csc_com\", \"csc_com\", \"customer\", \"customer\", \"customers\", \"customers\", \"data\", \"data\", \"data_center\", \"data_center\", \"delivery\", \"delivery\", \"deutsche_bank\", \"deutsche_bank\", \"digital\", \"digital\", \"digitization\", \"digitization\", \"division\", \"division\", \"dxc\", \"dxc\", \"dxc_com\", \"dxc_com\", \"dxc_proprietary\", \"dxc_proprietary\", \"dz_bank\", \"dz_bank\", \"dz_bank_group\", \"dz_bank_group\", \"environment\", \"environment\", \"existing\", \"existing\", \"experience\", \"experience\", \"fintechs\", \"fintechs\", \"fy\", \"fy\", \"general_manager\", \"general_manager\", \"global\", \"global\", \"gmbh\", \"gmbh\", \"group\", \"group\", \"head\", \"head\", \"help\", \"help\", \"hpe_com\", \"hpe_com\", \"improve\", \"improve\", \"improved\", \"improved\", \"in_fy\", \"in_fy\", \"industry\", \"industry\", \"information\", \"information\", \"insurance\", \"insurance\", \"it_spending\", \"it_spending\", \"key\", \"key\", \"knowledge\", \"knowledge\", \"largest\", \"largest\", \"leader\", \"leader\", \"manage\", \"manage\", \"management\", \"management\", \"manager\", \"manager\", \"market\", \"market\", \"member_of\", \"member_of\", \"mobility\", \"mobility\", \"model\", \"model\", \"need\", \"need\", \"needs\", \"needs\", \"new\", \"new\", \"none\", \"none\", \"october\", \"october\", \"opx\", \"opx\", \"platform\", \"platform\", \"private_cloud\", \"private_cloud\", \"process\", \"process\", \"processes\", \"processes\", \"processing\", \"processing\", \"products\", \"products\", \"provide\", \"provide\", \"provides\", \"provides\", \"requirements\", \"requirements\", \"responsible_for\", \"responsible_for\", \"results\", \"results\", \"right\", \"right\", \"sap\", \"sap\", \"security\", \"security\", \"senior\", \"senior\", \"service\", \"service\", \"services\", \"services\", \"solution\", \"solution\", \"solutions\", \"solutions\", \"storage\", \"storage\", \"strategy\", \"strategy\", \"such_as\", \"such_as\", \"summary\", \"summary\", \"support\", \"support\", \"system\", \"system\", \"systems\", \"systems\", \"technology\", \"technology\", \"time\", \"total\", \"total\", \"university\", \"university\", \"user\", \"user\", \"users\", \"users\", \"using\", \"using\", \"value\", \"value\", \"workplace\", \"workplace\"]}, \"R\": 30, \"lambda.step\": 0.01, \"plot.opts\": {\"xlab\": \"PC1\", \"ylab\": \"PC2\"}, \"topic.order\": [1, 2]};\n",
       "\n",
       "function LDAvis_load_lib(url, callback){\n",
       "  var s = document.createElement('script');\n",
       "  s.src = url;\n",
       "  s.async = true;\n",
       "  s.onreadystatechange = s.onload = callback;\n",
       "  s.onerror = function(){console.warn(\"failed to load library \" + url);};\n",
       "  document.getElementsByTagName(\"head\")[0].appendChild(s);\n",
       "}\n",
       "\n",
       "if(typeof(LDAvis) !== \"undefined\"){\n",
       "   // already loaded: just create the visualization\n",
       "   !function(LDAvis){\n",
       "       new LDAvis(\"#\" + \"ldavis_el226011406994958837843321810384\", ldavis_el226011406994958837843321810384_data);\n",
       "   }(LDAvis);\n",
       "}else if(typeof define === \"function\" && define.amd){\n",
       "   // require.js is available: use it to load d3/LDAvis\n",
       "   require.config({paths: {d3: \"https://cdnjs.cloudflare.com/ajax/libs/d3/3.5.5/d3.min\"}});\n",
       "   require([\"d3\"], function(d3){\n",
       "      window.d3 = d3;\n",
       "      LDAvis_load_lib(\"https://cdn.rawgit.com/bmabey/pyLDAvis/files/ldavis.v1.0.0.js\", function(){\n",
       "        new LDAvis(\"#\" + \"ldavis_el226011406994958837843321810384\", ldavis_el226011406994958837843321810384_data);\n",
       "      });\n",
       "    });\n",
       "}else{\n",
       "    // require.js not available: dynamically load d3 & LDAvis\n",
       "    LDAvis_load_lib(\"https://cdnjs.cloudflare.com/ajax/libs/d3/3.5.5/d3.min.js\", function(){\n",
       "         LDAvis_load_lib(\"https://cdn.rawgit.com/bmabey/pyLDAvis/files/ldavis.v1.0.0.js\", function(){\n",
       "                 new LDAvis(\"#\" + \"ldavis_el226011406994958837843321810384\", ldavis_el226011406994958837843321810384_data);\n",
       "            })\n",
       "         });\n",
       "}\n",
       "</script>"
      ],
      "text/plain": [
       "PreparedData(topic_coordinates=              x    y  topics  cluster       Freq\n",
       "topic                                           \n",
       "0      0.171969  0.0       1        1  72.126480\n",
       "1     -0.171969  0.0       2        1  27.873512, topic_info=              Term         Freq        Total Category  logprob  loglift\n",
       "15        services  2020.000000  2020.000000  Default  30.0000  30.0000\n",
       "3            cloud   545.000000   545.000000  Default  29.0000  29.0000\n",
       "223   confidential   663.000000   663.000000  Default  28.0000  28.0000\n",
       "280        banking   747.000000   747.000000  Default  27.0000  27.0000\n",
       "614         global   282.000000   282.000000  Default  26.0000  26.0000\n",
       "...            ...          ...          ...      ...      ...      ...\n",
       "333       security   161.988358   340.815491   Topic2  -5.5690   0.5337\n",
       "1         business   233.343765  1192.054565   Topic2  -5.2041  -0.3534\n",
       "1695       company   140.214584   245.968414   Topic2  -5.7134   0.7155\n",
       "12        platform   168.259460   699.264709   Topic2  -5.5311  -0.1470\n",
       "314       industry   138.770844   398.736908   Topic2  -5.7237   0.2220\n",
       "\n",
       "[151 rows x 6 columns], token_table=      Topic      Freq       Term\n",
       "term                            \n",
       "210       1  0.941338     access\n",
       "210       2  0.058589     access\n",
       "268       1  0.015811   advisory\n",
       "268       2  0.980296   advisory\n",
       "2232      1  0.009383         ag\n",
       "...     ...       ...        ...\n",
       "728       2  0.005398      using\n",
       "221       1  0.979237      value\n",
       "221       2  0.022685      value\n",
       "415       1  0.019688  workplace\n",
       "415       2  0.984415  workplace\n",
       "\n",
       "[221 rows x 3 columns], R=30, lambda_step=0.01, plot_opts={'xlab': 'PC1', 'ylab': 'PC2'}, topic_order=[1, 2])"
      ]
     },
     "execution_count": 46,
     "metadata": {},
     "output_type": "execute_result"
    }
   ],
   "source": [
    "# Visualize the topics\n",
    "pyLDAvis.enable_notebook()\n",
    "vis = pyLDAvis.gensim.prepare(lda_model, corpus, id2word)\n",
    "vis"
   ]
  },
  {
   "cell_type": "code",
   "execution_count": 47,
   "metadata": {},
   "outputs": [
    {
     "data": {
      "text/html": [
       "<div>\n",
       "<style scoped>\n",
       "    .dataframe tbody tr th:only-of-type {\n",
       "        vertical-align: middle;\n",
       "    }\n",
       "\n",
       "    .dataframe tbody tr th {\n",
       "        vertical-align: top;\n",
       "    }\n",
       "\n",
       "    .dataframe thead th {\n",
       "        text-align: right;\n",
       "    }\n",
       "</style>\n",
       "<table border=\"1\" class=\"dataframe\">\n",
       "  <thead>\n",
       "    <tr style=\"text-align: right;\">\n",
       "      <th></th>\n",
       "      <th>Topic1</th>\n",
       "      <th>Topic2</th>\n",
       "    </tr>\n",
       "  </thead>\n",
       "  <tbody>\n",
       "    <tr>\n",
       "      <th>0</th>\n",
       "      <td>dxc</td>\n",
       "      <td>services</td>\n",
       "    </tr>\n",
       "    <tr>\n",
       "      <th>1</th>\n",
       "      <td>data</td>\n",
       "      <td>cloud</td>\n",
       "    </tr>\n",
       "    <tr>\n",
       "      <th>2</th>\n",
       "      <td>services</td>\n",
       "      <td>dxc</td>\n",
       "    </tr>\n",
       "    <tr>\n",
       "      <th>3</th>\n",
       "      <td>new</td>\n",
       "      <td>confidential</td>\n",
       "    </tr>\n",
       "    <tr>\n",
       "      <th>4</th>\n",
       "      <td>business</td>\n",
       "      <td>banking</td>\n",
       "    </tr>\n",
       "    <tr>\n",
       "      <th>5</th>\n",
       "      <td>support</td>\n",
       "      <td>management</td>\n",
       "    </tr>\n",
       "    <tr>\n",
       "      <th>6</th>\n",
       "      <td>service</td>\n",
       "      <td>technology</td>\n",
       "    </tr>\n",
       "    <tr>\n",
       "      <th>7</th>\n",
       "      <td>customers</td>\n",
       "      <td>global</td>\n",
       "    </tr>\n",
       "    <tr>\n",
       "      <th>8</th>\n",
       "      <td>digital</td>\n",
       "      <td>dxc_proprietary</td>\n",
       "    </tr>\n",
       "    <tr>\n",
       "      <th>9</th>\n",
       "      <td>bank</td>\n",
       "      <td>bank</td>\n",
       "    </tr>\n",
       "    <tr>\n",
       "      <th>10</th>\n",
       "      <td>solution</td>\n",
       "      <td>digital</td>\n",
       "    </tr>\n",
       "    <tr>\n",
       "      <th>11</th>\n",
       "      <td>provide</td>\n",
       "      <td>business</td>\n",
       "    </tr>\n",
       "    <tr>\n",
       "      <th>12</th>\n",
       "      <td>customer</td>\n",
       "      <td>contract</td>\n",
       "    </tr>\n",
       "    <tr>\n",
       "      <th>13</th>\n",
       "      <td>platform</td>\n",
       "      <td>analytics</td>\n",
       "    </tr>\n",
       "    <tr>\n",
       "      <th>14</th>\n",
       "      <td>management</td>\n",
       "      <td>consulting</td>\n",
       "    </tr>\n",
       "  </tbody>\n",
       "</table>\n",
       "</div>"
      ],
      "text/plain": [
       "        Topic1           Topic2\n",
       "0          dxc         services\n",
       "1         data            cloud\n",
       "2     services              dxc\n",
       "3          new     confidential\n",
       "4     business          banking\n",
       "5      support       management\n",
       "6      service       technology\n",
       "7    customers           global\n",
       "8      digital  dxc_proprietary\n",
       "9         bank             bank\n",
       "10    solution          digital\n",
       "11     provide         business\n",
       "12    customer         contract\n",
       "13    platform        analytics\n",
       "14  management       consulting"
      ]
     },
     "execution_count": 47,
     "metadata": {},
     "output_type": "execute_result"
    }
   ],
   "source": [
    "KeyWords = lda_model.show_topics(num_words= 15, formatted=False)\n",
    "Dictionary_LDA_gensim = {}\n",
    "for k in KeyWords:\n",
    "    Dictionary_LDA_gensim.update({k[0]: k[1]})\n",
    "    #print(k)\n",
    "## Clean Dictionary\n",
    "clean_lda_gensim = {}\n",
    "#mallet_dictionary = {}\n",
    "for key,value in Dictionary_LDA_gensim.items():\n",
    "    list_ = []\n",
    "    for e2 in value:\n",
    "        list_.append(e2[0])\n",
    "    clean_lda_gensim.update({key:list_})    \n",
    "\n",
    "df = pd.DataFrame.from_dict(clean_lda_gensim)\n",
    "df.columns = ['Topic1', 'Topic2']\n",
    "df"
   ]
  },
  {
   "cell_type": "code",
   "execution_count": 51,
   "metadata": {},
   "outputs": [
    {
     "data": {
      "text/html": [
       "<div>\n",
       "<style scoped>\n",
       "    .dataframe tbody tr th:only-of-type {\n",
       "        vertical-align: middle;\n",
       "    }\n",
       "\n",
       "    .dataframe tbody tr th {\n",
       "        vertical-align: top;\n",
       "    }\n",
       "\n",
       "    .dataframe thead th {\n",
       "        text-align: right;\n",
       "    }\n",
       "</style>\n",
       "<table border=\"1\" class=\"dataframe\">\n",
       "  <thead>\n",
       "    <tr style=\"text-align: right;\">\n",
       "      <th></th>\n",
       "      <th>Topic1</th>\n",
       "      <th>Topic2</th>\n",
       "    </tr>\n",
       "  </thead>\n",
       "  <tbody>\n",
       "    <tr>\n",
       "      <th>0</th>\n",
       "      <td>dxc</td>\n",
       "      <td>services</td>\n",
       "    </tr>\n",
       "    <tr>\n",
       "      <th>1</th>\n",
       "      <td>data</td>\n",
       "      <td>cloud</td>\n",
       "    </tr>\n",
       "    <tr>\n",
       "      <th>2</th>\n",
       "      <td>services</td>\n",
       "      <td>dxc</td>\n",
       "    </tr>\n",
       "    <tr>\n",
       "      <th>3</th>\n",
       "      <td>new</td>\n",
       "      <td>confidential</td>\n",
       "    </tr>\n",
       "    <tr>\n",
       "      <th>4</th>\n",
       "      <td>business</td>\n",
       "      <td>banking</td>\n",
       "    </tr>\n",
       "    <tr>\n",
       "      <th>...</th>\n",
       "      <td>...</td>\n",
       "      <td>...</td>\n",
       "    </tr>\n",
       "    <tr>\n",
       "      <th>995</th>\n",
       "      <td>vending_machine</td>\n",
       "      <td>und</td>\n",
       "    </tr>\n",
       "    <tr>\n",
       "      <th>996</th>\n",
       "      <td>obtain</td>\n",
       "      <td>juriba</td>\n",
       "    </tr>\n",
       "    <tr>\n",
       "      <th>997</th>\n",
       "      <td>answer</td>\n",
       "      <td>csc_com_contact</td>\n",
       "    </tr>\n",
       "    <tr>\n",
       "      <th>998</th>\n",
       "      <td>reduction_in</td>\n",
       "      <td>news</td>\n",
       "    </tr>\n",
       "    <tr>\n",
       "      <th>999</th>\n",
       "      <td>plus</td>\n",
       "      <td>deputy</td>\n",
       "    </tr>\n",
       "  </tbody>\n",
       "</table>\n",
       "<p>1000 rows × 2 columns</p>\n",
       "</div>"
      ],
      "text/plain": [
       "              Topic1           Topic2\n",
       "0                dxc         services\n",
       "1               data            cloud\n",
       "2           services              dxc\n",
       "3                new     confidential\n",
       "4           business          banking\n",
       "..               ...              ...\n",
       "995  vending_machine              und\n",
       "996           obtain           juriba\n",
       "997           answer  csc_com_contact\n",
       "998     reduction_in             news\n",
       "999             plus           deputy\n",
       "\n",
       "[1000 rows x 2 columns]"
      ]
     },
     "execution_count": 51,
     "metadata": {},
     "output_type": "execute_result"
    }
   ],
   "source": [
    "KeyWords = lda_model.show_topics(num_words= 1000, formatted=False)\n",
    "Dictionary_LDA_gensim = {}\n",
    "for k in KeyWords:\n",
    "    Dictionary_LDA_gensim.update({k[0]: k[1]})\n",
    "    #print(k)\n",
    "## Clean Dictionary\n",
    "clean_lda_gensim = {}\n",
    "#mallet_dictionary = {}\n",
    "for key,value in Dictionary_LDA_gensim.items():\n",
    "    list_ = []\n",
    "    for e2 in value:\n",
    "        list_.append(e2[0])\n",
    "    clean_lda_gensim.update({key:list_})    \n",
    "\n",
    "df = pd.DataFrame.from_dict(clean_lda_gensim)\n",
    "df.columns = ['Topic1', 'Topic2']\n",
    "df"
   ]
  },
  {
   "cell_type": "markdown",
   "metadata": {},
   "source": [
    "# Save the File"
   ]
  },
  {
   "cell_type": "code",
   "execution_count": 52,
   "metadata": {},
   "outputs": [],
   "source": [
    "df.to_csv('banking.csv')"
   ]
  }
 ],
 "metadata": {
  "kernelspec": {
   "display_name": "Python 3",
   "language": "python",
   "name": "python3"
  },
  "language_info": {
   "codemirror_mode": {
    "name": "ipython",
    "version": 3
   },
   "file_extension": ".py",
   "mimetype": "text/x-python",
   "name": "python",
   "nbconvert_exporter": "python",
   "pygments_lexer": "ipython3",
   "version": "3.6.10"
  }
 },
 "nbformat": 4,
 "nbformat_minor": 4
}
