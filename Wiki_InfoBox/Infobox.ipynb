{
 "cells": [
  {
   "cell_type": "markdown",
   "metadata": {},
   "source": [
    "# Install wptools"
   ]
  },
  {
   "cell_type": "code",
   "execution_count": null,
   "metadata": {},
   "outputs": [],
   "source": [
    "#!pip install wptools==0.4.17"
   ]
  },
  {
   "cell_type": "code",
   "execution_count": 1,
   "metadata": {},
   "outputs": [],
   "source": [
    "import pandas as pd\n",
    "import wikipedia as wiki\n",
    "import wptools\n",
    "import re\n",
    "import warnings\n",
    "warnings.filterwarnings('ignore')"
   ]
  },
  {
   "cell_type": "markdown",
   "metadata": {},
   "source": [
    "# Load Dataset"
   ]
  },
  {
   "cell_type": "code",
   "execution_count": 73,
   "metadata": {},
   "outputs": [
    {
     "data": {
      "text/html": [
       "<div>\n",
       "<style scoped>\n",
       "    .dataframe tbody tr th:only-of-type {\n",
       "        vertical-align: middle;\n",
       "    }\n",
       "\n",
       "    .dataframe tbody tr th {\n",
       "        vertical-align: top;\n",
       "    }\n",
       "\n",
       "    .dataframe thead th {\n",
       "        text-align: right;\n",
       "    }\n",
       "</style>\n",
       "<table border=\"1\" class=\"dataframe\">\n",
       "  <thead>\n",
       "    <tr style=\"text-align: right;\">\n",
       "      <th></th>\n",
       "      <th>Phrase</th>\n",
       "      <th>Identity</th>\n",
       "    </tr>\n",
       "  </thead>\n",
       "  <tbody>\n",
       "    <tr>\n",
       "      <th>0</th>\n",
       "      <td>Inslee</td>\n",
       "      <td>Inslee</td>\n",
       "    </tr>\n",
       "    <tr>\n",
       "      <th>1</th>\n",
       "      <td>networking SDN table Q</td>\n",
       "      <td>SDN</td>\n",
       "    </tr>\n",
       "    <tr>\n",
       "      <th>2</th>\n",
       "      <td>October Gartner</td>\n",
       "      <td>Gartner</td>\n",
       "    </tr>\n",
       "    <tr>\n",
       "      <th>3</th>\n",
       "      <td>FIN BCM Digital Support Services</td>\n",
       "      <td>Digital</td>\n",
       "    </tr>\n",
       "    <tr>\n",
       "      <th>4</th>\n",
       "      <td>DXC GBS USD</td>\n",
       "      <td>USD</td>\n",
       "    </tr>\n",
       "  </tbody>\n",
       "</table>\n",
       "</div>"
      ],
      "text/plain": [
       "                             Phrase Identity\n",
       "0                            Inslee   Inslee\n",
       "1            networking SDN table Q      SDN\n",
       "2                   October Gartner  Gartner\n",
       "3  FIN BCM Digital Support Services  Digital\n",
       "4                       DXC GBS USD      USD"
      ]
     },
     "execution_count": 73,
     "metadata": {},
     "output_type": "execute_result"
    }
   ],
   "source": [
    "data = pd.read_excel(\"BERT_Cluster_30.xlsx\", sheet_name='Cluster 4')\n",
    "data.head()"
   ]
  },
  {
   "cell_type": "markdown",
   "metadata": {},
   "source": [
    "# Extract the Column which needs to be analysed as 'list'"
   ]
  },
  {
   "cell_type": "code",
   "execution_count": 28,
   "metadata": {},
   "outputs": [
    {
     "data": {
      "text/plain": [
       "509"
      ]
     },
     "execution_count": 28,
     "metadata": {},
     "output_type": "execute_result"
    }
   ],
   "source": [
    "listofnames = data['Phrase']\n",
    "len(listofnames)"
   ]
  },
  {
   "cell_type": "markdown",
   "metadata": {},
   "source": [
    "    1. Declare variables\n",
    "    \n",
    "    2. Find the relevant names of the title in the Wikipedia ex: Relevant name of Agile software in Wiki is Agile software \n",
    "    development\n",
    "    \n",
    "    3. Capture top 3 relevant names\n",
    "    \n",
    "    4. save the result in a new list - similarwikilist"
   ]
  },
  {
   "cell_type": "code",
   "execution_count": 7,
   "metadata": {},
   "outputs": [],
   "source": [
    "listoftitles = []\n",
    "Dict = {}\n",
    "similarwikilist = []\n",
    "industry = []"
   ]
  },
  {
   "cell_type": "code",
   "execution_count": 8,
   "metadata": {},
   "outputs": [
    {
     "data": {
      "text/plain": [
       "['Agile software development',\n",
       " 'Agile',\n",
       " 'Scaled agile framework',\n",
       " 'Agile manufacturing',\n",
       " 'Agility',\n",
       " 'Agile management',\n",
       " 'Agile Project Management (book)',\n",
       " 'Business agility',\n",
       " 'Agile marketing',\n",
       " 'Agile gibbon']"
      ]
     },
     "execution_count": 8,
     "metadata": {},
     "output_type": "execute_result"
    }
   ],
   "source": [
    "wiki.search('Agile')"
   ]
  },
  {
   "cell_type": "code",
   "execution_count": 9,
   "metadata": {},
   "outputs": [],
   "source": [
    "for each in listofnames:\n",
    "    similarwikilist.extend(wiki.search(each, results=3, suggestion=True)[0])"
   ]
  },
  {
   "cell_type": "code",
   "execution_count": 10,
   "metadata": {},
   "outputs": [
    {
     "data": {
      "text/plain": [
       "1338"
      ]
     },
     "execution_count": 10,
     "metadata": {},
     "output_type": "execute_result"
    }
   ],
   "source": [
    "len(similarwikilist)"
   ]
  },
  {
   "cell_type": "code",
   "execution_count": 11,
   "metadata": {},
   "outputs": [],
   "source": [
    "searched , notsearched, exceptions = [], [], []"
   ]
  },
  {
   "cell_type": "code",
   "execution_count": 12,
   "metadata": {},
   "outputs": [],
   "source": [
    "#similarwikilist = ['UiPath', 'AntWorks',]"
   ]
  },
  {
   "cell_type": "markdown",
   "metadata": {},
   "source": [
    "# Use wptools\n",
    "    \n",
    "    extract the info of the page as a dictionary \n",
    "    extract the information from info box traversing through the dictionary['infobox']\n",
    "    Under infobox, find if the term as associated industry, capture the industry it belongs to"
   ]
  },
  {
   "cell_type": "code",
   "execution_count": 29,
   "metadata": {},
   "outputs": [],
   "source": [
    "similarwikilist = listofnames"
   ]
  },
  {
   "cell_type": "code",
   "execution_count": 30,
   "metadata": {},
   "outputs": [
    {
     "name": "stdout",
     "output_type": "stream",
     "text": [
      "DXC s COE expertise\n",
      "1\n"
     ]
    },
    {
     "name": "stderr",
     "output_type": "stream",
     "text": [
      "en.wikipedia.org (query) DXC s COE expertise\n"
     ]
    },
    {
     "name": "stdout",
     "output_type": "stream",
     "text": [
      "such processes RPA technology vendors\n",
      "2\n"
     ]
    },
    {
     "name": "stderr",
     "output_type": "stream",
     "text": [
      "en.wikipedia.org (query) such processes RPA technology vendors\n"
     ]
    },
    {
     "name": "stdout",
     "output_type": "stream",
     "text": [
      "Flexibility Wipro\n",
      "3\n"
     ]
    },
    {
     "name": "stderr",
     "output_type": "stream",
     "text": [
      "en.wikipedia.org (query) Flexibility Wipro\n"
     ]
    },
    {
     "name": "stdout",
     "output_type": "stream",
     "text": [
      "Luxoft s Vice President\n",
      "4\n"
     ]
    },
    {
     "name": "stderr",
     "output_type": "stream",
     "text": [
      "en.wikipedia.org (query) Luxoft s Vice President\n"
     ]
    },
    {
     "name": "stdout",
     "output_type": "stream",
     "text": [
      "good DXC and Aduno Group\n",
      "5\n"
     ]
    },
    {
     "name": "stderr",
     "output_type": "stream",
     "text": [
      "en.wikipedia.org (query) good DXC and Aduno Group\n"
     ]
    },
    {
     "name": "stdout",
     "output_type": "stream",
     "text": [
      "RPA developers\n",
      "6\n"
     ]
    },
    {
     "name": "stderr",
     "output_type": "stream",
     "text": [
      "en.wikipedia.org (query) RPA developers\n"
     ]
    },
    {
     "name": "stdout",
     "output_type": "stream",
     "text": [
      "The blockchain technology\n",
      "7\n"
     ]
    },
    {
     "name": "stderr",
     "output_type": "stream",
     "text": [
      "en.wikipedia.org (query) The blockchain technology\n"
     ]
    },
    {
     "name": "stdout",
     "output_type": "stream",
     "text": [
      "The UBI technology\n",
      "8\n"
     ]
    },
    {
     "name": "stderr",
     "output_type": "stream",
     "text": [
      "en.wikipedia.org (query) The UBI technology\n"
     ]
    },
    {
     "name": "stdout",
     "output_type": "stream",
     "text": [
      "existing UBI carriers\n",
      "9\n"
     ]
    },
    {
     "name": "stderr",
     "output_type": "stream",
     "text": [
      "en.wikipedia.org (query) existing UBI carriers\n"
     ]
    },
    {
     "name": "stdout",
     "output_type": "stream",
     "text": [
      "e commerce trends\n",
      "10\n"
     ]
    },
    {
     "name": "stderr",
     "output_type": "stream",
     "text": [
      "en.wikipedia.org (query) e commerce trends\n"
     ]
    },
    {
     "name": "stdout",
     "output_type": "stream",
     "text": [
      "margin hedging Monte Carlo\n",
      "11\n"
     ]
    },
    {
     "name": "stderr",
     "output_type": "stream",
     "text": [
      "en.wikipedia.org (query) margin hedging Monte Carlo\n"
     ]
    },
    {
     "name": "stdout",
     "output_type": "stream",
     "text": [
      "DXC Eclipse Consumer Industries\n",
      "12\n"
     ]
    },
    {
     "name": "stderr",
     "output_type": "stream",
     "text": [
      "en.wikipedia.org (query) DXC Eclipse Consumer Industries\n"
     ]
    },
    {
     "name": "stdout",
     "output_type": "stream",
     "text": [
      "these air trends\n",
      "13\n"
     ]
    },
    {
     "name": "stderr",
     "output_type": "stream",
     "text": [
      "en.wikipedia.org (query) these air trends\n"
     ]
    },
    {
     "name": "stdout",
     "output_type": "stream",
     "text": [
      "Microsoft Innovation and digital transformation\n",
      "14\n"
     ]
    },
    {
     "name": "stderr",
     "output_type": "stream",
     "text": [
      "en.wikipedia.org (query) Microsoft Innovation and digital transfo...\n"
     ]
    },
    {
     "name": "stdout",
     "output_type": "stream",
     "text": [
      "situational Andi\n",
      "15\n"
     ]
    },
    {
     "name": "stderr",
     "output_type": "stream",
     "text": [
      "en.wikipedia.org (query) situational Andi\n"
     ]
    },
    {
     "name": "stdout",
     "output_type": "stream",
     "text": [
      "privileged acco unts\n",
      "16\n"
     ]
    },
    {
     "name": "stderr",
     "output_type": "stream",
     "text": [
      "en.wikipedia.org (query) privileged acco unts\n"
     ]
    },
    {
     "name": "stdout",
     "output_type": "stream",
     "text": [
      "nan\n",
      "17\n",
      "SLA Review Meeting Review\n",
      "18\n"
     ]
    },
    {
     "name": "stderr",
     "output_type": "stream",
     "text": [
      "en.wikipedia.org (query) SLA Review Meeting Review\n"
     ]
    },
    {
     "name": "stdout",
     "output_type": "stream",
     "text": [
      "DXC resources Pilot activities\n",
      "19\n"
     ]
    },
    {
     "name": "stderr",
     "output_type": "stream",
     "text": [
      "en.wikipedia.org (query) DXC resources Pilot activities\n"
     ]
    },
    {
     "name": "stdout",
     "output_type": "stream",
     "text": [
      "minimal infocomm security standards\n",
      "20\n"
     ]
    },
    {
     "name": "stderr",
     "output_type": "stream",
     "text": [
      "en.wikipedia.org (query) minimal infocomm security standards\n"
     ]
    },
    {
     "name": "stdout",
     "output_type": "stream",
     "text": [
      "cybersecurity best practices\n",
      "21\n"
     ]
    },
    {
     "name": "stderr",
     "output_type": "stream",
     "text": [
      "en.wikipedia.org (query) cybersecurity best practices\n"
     ]
    },
    {
     "name": "stdout",
     "output_type": "stream",
     "text": [
      "Review Cycle AMSLM\n",
      "22\n"
     ]
    },
    {
     "name": "stderr",
     "output_type": "stream",
     "text": [
      "en.wikipedia.org (query) Review Cycle AMSLM\n"
     ]
    },
    {
     "name": "stdout",
     "output_type": "stream",
     "text": [
      "The CoE\n",
      "23\n"
     ]
    },
    {
     "name": "stderr",
     "output_type": "stream",
     "text": [
      "en.wikipedia.org (query) The CoE\n"
     ]
    },
    {
     "name": "stdout",
     "output_type": "stream",
     "text": [
      "UiPath\n",
      "24\n"
     ]
    },
    {
     "name": "stderr",
     "output_type": "stream",
     "text": [
      "en.wikipedia.org (query) UiPath\n",
      "en.wikipedia.org (parse) 55725939\n",
      "www.wikidata.org (wikidata) Q55080120\n",
      "www.wikidata.org (labels) P31|P571|Q880371|P2002|P159|Q783794|P85...\n",
      "en.wikipedia.org (restbase) /page/summary/UiPath\n",
      "UiPath (en) data\n",
      "{\n",
      "  WARNINGS: <dict(1)> extracts\n",
      "  assessments: <dict(2)> Companies, Computing\n",
      "  claims: <dict(8)> P31, P1454, P571, P856, P2002, P159, P452, P2652\n",
      "  description: robotics process automation company\n",
      "  exhtml: <str(106)> <p><b>UiPath</b> is a global software company...\n",
      "  exrest: <str(92)> UiPath is a global software company that devel...\n",
      "  extext: <str(453)> **UiPath** is a global software company that ...\n",
      "  extract: <str(503)> <p class=\"mw-empty-elt\"></p><p><b>UiPath</b>...\n",
      "  image: <list(2)> {'kind': 'restbase-original', 'width': 530, 'he...\n",
      "  infobox: <dict(15)> logo, name, type, industry, area_served, key...\n",
      "  label: UiPath\n",
      "  labels: <dict(12)> P31, P571, Q880371, P2002, P159, Q783794, P85...\n",
      "  length: 8,600\n",
      "  links: <list(16)> Artificial Intelligence, Bangalore, Bucharest,...\n",
      "  modified: <dict(2)> page, wikidata\n",
      "  pageid: 55725939\n",
      "  parsetree: <str(11424)> <root><template><title>Use mdy dates</ti...\n",
      "  random: Foldback\n",
      "  redirects: <list(2)> {'pageid': 56795595, 'ns': 118, 'title': 'D...\n",
      "  requests: <list(5)> query, parse, wikidata, labels, restbase\n",
      "  title: UiPath\n",
      "  url: https://en.wikipedia.org/wiki/UiPath\n",
      "  url_raw: https://en.wikipedia.org/wiki/UiPath?action=raw\n",
      "  watchers: 32\n",
      "  what: company\n",
      "  wikibase: Q55080120\n",
      "  wikidata: <dict(8)> instance of (P31), legal form (P1454), incep...\n",
      "  wikidata_pageid: 55153717\n",
      "  wikidata_url: https://www.wikidata.org/wiki/Q55080120\n",
      "  wikitext: <str(8527)> {{Use mdy dates|date=February 2020}}{{Info...\n",
      "}\n",
      "en.wikipedia.org (query) Windows Android\n"
     ]
    },
    {
     "name": "stdout",
     "output_type": "stream",
     "text": [
      "Windows Android\n",
      "25\n",
      "digital bootcamps\n",
      "26\n"
     ]
    },
    {
     "name": "stderr",
     "output_type": "stream",
     "text": [
      "en.wikipedia.org (query) digital bootcamps\n"
     ]
    },
    {
     "name": "stdout",
     "output_type": "stream",
     "text": [
      "the PPM SharePoint development environment\n",
      "27\n"
     ]
    },
    {
     "name": "stderr",
     "output_type": "stream",
     "text": [
      "en.wikipedia.org (query) the PPM SharePoint development environment\n"
     ]
    },
    {
     "name": "stdout",
     "output_type": "stream",
     "text": [
      "Automated rollup\n",
      "28\n"
     ]
    },
    {
     "name": "stderr",
     "output_type": "stream",
     "text": [
      "en.wikipedia.org (query) Automated rollup\n"
     ]
    },
    {
     "name": "stdout",
     "output_type": "stream",
     "text": [
      "a digital ecosystem\n",
      "29\n"
     ]
    },
    {
     "name": "stderr",
     "output_type": "stream",
     "text": [
      "en.wikipedia.org (query) a digital ecosystem\n"
     ]
    },
    {
     "name": "stdout",
     "output_type": "stream",
     "text": [
      "Aircraft Turnaround Digital Twin Implementing\n",
      "30\n"
     ]
    },
    {
     "name": "stderr",
     "output_type": "stream",
     "text": [
      "en.wikipedia.org (query) Aircraft Turnaround Digital Twin Implementing\n"
     ]
    },
    {
     "name": "stdout",
     "output_type": "stream",
     "text": [
      "a slightly different angle\n",
      "31\n"
     ]
    },
    {
     "name": "stderr",
     "output_type": "stream",
     "text": [
      "en.wikipedia.org (query) a slightly different angle\n"
     ]
    },
    {
     "name": "stdout",
     "output_type": "stream",
     "text": [
      "a CSC solution\n",
      "32\n"
     ]
    },
    {
     "name": "stderr",
     "output_type": "stream",
     "text": [
      "en.wikipedia.org (query) a CSC solution\n"
     ]
    },
    {
     "name": "stdout",
     "output_type": "stream",
     "text": [
      "EU GDPR compliance\n",
      "33\n"
     ]
    },
    {
     "name": "stderr",
     "output_type": "stream",
     "text": [
      "en.wikipedia.org (query) EU GDPR compliance\n"
     ]
    },
    {
     "name": "stdout",
     "output_type": "stream",
     "text": [
      "XCHANGING YTL GROUP\n",
      "34\n"
     ]
    },
    {
     "name": "stderr",
     "output_type": "stream",
     "text": [
      "en.wikipedia.org (query) XCHANGING YTL GROUP\n"
     ]
    },
    {
     "name": "stdout",
     "output_type": "stream",
     "text": [
      "indirect network effects\n",
      "35\n"
     ]
    },
    {
     "name": "stderr",
     "output_type": "stream",
     "text": [
      "en.wikipedia.org (query) indirect network effects\n"
     ]
    },
    {
     "name": "stdout",
     "output_type": "stream",
     "text": [
      "Va June CSC NYSE CSC\n",
      "36\n"
     ]
    },
    {
     "name": "stderr",
     "output_type": "stream",
     "text": [
      "en.wikipedia.org (query) Va June CSC NYSE CSC\n"
     ]
    },
    {
     "name": "stdout",
     "output_type": "stream",
     "text": [
      "Feb Aug RPA\n",
      "37\n"
     ]
    },
    {
     "name": "stderr",
     "output_type": "stream",
     "text": [
      "en.wikipedia.org (query) Feb Aug RPA\n"
     ]
    },
    {
     "name": "stdout",
     "output_type": "stream",
     "text": [
      "CIA working instance\n",
      "38\n"
     ]
    },
    {
     "name": "stderr",
     "output_type": "stream",
     "text": [
      "en.wikipedia.org (query) CIA working instance\n"
     ]
    },
    {
     "name": "stdout",
     "output_type": "stream",
     "text": [
      "this enterprise s RPA adoption\n",
      "39\n"
     ]
    },
    {
     "name": "stderr",
     "output_type": "stream",
     "text": [
      "en.wikipedia.org (query) this enterprise s RPA adoption\n"
     ]
    },
    {
     "name": "stdout",
     "output_type": "stream",
     "text": [
      "the Shaping Study Canara HSBC\n",
      "40\n"
     ]
    },
    {
     "name": "stderr",
     "output_type": "stream",
     "text": [
      "en.wikipedia.org (query) the Shaping Study Canara HSBC\n"
     ]
    },
    {
     "name": "stdout",
     "output_type": "stream",
     "text": [
      "Response DXC\n",
      "41\n"
     ]
    },
    {
     "name": "stderr",
     "output_type": "stream",
     "text": [
      "en.wikipedia.org (query) Response DXC\n"
     ]
    },
    {
     "name": "stdout",
     "output_type": "stream",
     "text": [
      "the fullest Onboarding Digital Labour\n",
      "42\n"
     ]
    },
    {
     "name": "stderr",
     "output_type": "stream",
     "text": [
      "en.wikipedia.org (query) the fullest Onboarding Digital Labour\n"
     ]
    },
    {
     "name": "stdout",
     "output_type": "stream",
     "text": [
      "their Microsoft Azure services\n",
      "43\n"
     ]
    },
    {
     "name": "stderr",
     "output_type": "stream",
     "text": [
      "en.wikipedia.org (query) their Microsoft Azure services\n"
     ]
    },
    {
     "name": "stdout",
     "output_type": "stream",
     "text": [
      "digital workplace solutions aid\n",
      "44\n"
     ]
    },
    {
     "name": "stderr",
     "output_type": "stream",
     "text": [
      "en.wikipedia.org (query) digital workplace solutions aid\n"
     ]
    },
    {
     "name": "stdout",
     "output_type": "stream",
     "text": [
      "Hlk Speed R D time\n",
      "45\n"
     ]
    },
    {
     "name": "stderr",
     "output_type": "stream",
     "text": [
      "en.wikipedia.org (query) Hlk Speed R D time\n"
     ]
    },
    {
     "name": "stdout",
     "output_type": "stream",
     "text": [
      "an initial CoE\n",
      "46\n"
     ]
    },
    {
     "name": "stderr",
     "output_type": "stream",
     "text": [
      "en.wikipedia.org (query) an initial CoE\n"
     ]
    },
    {
     "name": "stdout",
     "output_type": "stream",
     "text": [
      "HCM market\n",
      "47\n"
     ]
    },
    {
     "name": "stderr",
     "output_type": "stream",
     "text": [
      "en.wikipedia.org (query) HCM market\n"
     ]
    },
    {
     "name": "stdout",
     "output_type": "stream",
     "text": [
      "HDFC LIFE\n",
      "48\n"
     ]
    },
    {
     "name": "stderr",
     "output_type": "stream",
     "text": [
      "en.wikipedia.org (query) HDFC LIFE\n"
     ]
    },
    {
     "name": "stdout",
     "output_type": "stream",
     "text": [
      "Digital business\n",
      "49\n"
     ]
    },
    {
     "name": "stderr",
     "output_type": "stream",
     "text": [
      "en.wikipedia.org (query) Digital business\n"
     ]
    },
    {
     "name": "stdout",
     "output_type": "stream",
     "text": [
      "house systems\n",
      "50\n"
     ]
    },
    {
     "name": "stderr",
     "output_type": "stream",
     "text": [
      "en.wikipedia.org (query) house systems\n"
     ]
    },
    {
     "name": "stdout",
     "output_type": "stream",
     "text": [
      "proactive and predictive digital support\n",
      "51\n"
     ]
    },
    {
     "name": "stderr",
     "output_type": "stream",
     "text": [
      "en.wikipedia.org (query) proactive and predictive digital support\n"
     ]
    },
    {
     "name": "stdout",
     "output_type": "stream",
     "text": [
      "an overall digital business context\n",
      "52\n"
     ]
    },
    {
     "name": "stderr",
     "output_type": "stream",
     "text": [
      "en.wikipedia.org (query) an overall digital business context\n"
     ]
    },
    {
     "name": "stdout",
     "output_type": "stream",
     "text": [
      "the crown jewels\n",
      "53\n"
     ]
    },
    {
     "name": "stderr",
     "output_type": "stream",
     "text": [
      "en.wikipedia.org (query) the crown jewels\n"
     ]
    },
    {
     "name": "stdout",
     "output_type": "stream",
     "text": [
      "the digital capability business extension\n",
      "54\n"
     ]
    },
    {
     "name": "stderr",
     "output_type": "stream",
     "text": [
      "en.wikipedia.org (query) the digital capability business extension\n"
     ]
    },
    {
     "name": "stdout",
     "output_type": "stream",
     "text": [
      "Advanced Driver Assistance Systems ADAS\n",
      "55\n"
     ]
    },
    {
     "name": "stderr",
     "output_type": "stream",
     "text": [
      "en.wikipedia.org (query) Advanced Driver Assistance Systems ADAS\n"
     ]
    },
    {
     "name": "stdout",
     "output_type": "stream",
     "text": [
      "Partnerships Analytix DS\n",
      "56\n"
     ]
    },
    {
     "name": "stderr",
     "output_type": "stream",
     "text": [
      "en.wikipedia.org (query) Partnerships Analytix DS\n"
     ]
    },
    {
     "name": "stdout",
     "output_type": "stream",
     "text": [
      "xls Update Frequency\n",
      "57\n"
     ]
    },
    {
     "name": "stderr",
     "output_type": "stream",
     "text": [
      "en.wikipedia.org (query) xls Update Frequency\n"
     ]
    },
    {
     "name": "stdout",
     "output_type": "stream",
     "text": [
      "tech entrepreneurship\n",
      "58\n"
     ]
    },
    {
     "name": "stderr",
     "output_type": "stream",
     "text": [
      "en.wikipedia.org (query) tech entrepreneurship\n"
     ]
    },
    {
     "name": "stdout",
     "output_type": "stream",
     "text": [
      "Blockchain enthusiasts\n",
      "59\n"
     ]
    },
    {
     "name": "stderr",
     "output_type": "stream",
     "text": [
      "en.wikipedia.org (query) Blockchain enthusiasts\n"
     ]
    },
    {
     "name": "stdout",
     "output_type": "stream",
     "text": [
      "the Minecraft example\n",
      "60\n"
     ]
    },
    {
     "name": "stderr",
     "output_type": "stream",
     "text": [
      "en.wikipedia.org (query) the Minecraft example\n"
     ]
    },
    {
     "name": "stdout",
     "output_type": "stream",
     "text": [
      "Kaeser Kompressoren\n",
      "61\n"
     ]
    },
    {
     "name": "stderr",
     "output_type": "stream",
     "text": [
      "en.wikipedia.org (query) Kaeser Kompressoren\n"
     ]
    },
    {
     "name": "stdout",
     "output_type": "stream",
     "text": [
      "house skills talent\n",
      "62\n"
     ]
    },
    {
     "name": "stderr",
     "output_type": "stream",
     "text": [
      "en.wikipedia.org (query) house skills talent\n"
     ]
    },
    {
     "name": "stdout",
     "output_type": "stream",
     "text": [
      "DXC s future\n",
      "63\n"
     ]
    },
    {
     "name": "stderr",
     "output_type": "stream",
     "text": [
      "en.wikipedia.org (query) DXC s future\n"
     ]
    },
    {
     "name": "stdout",
     "output_type": "stream",
     "text": [
      "Security Posture Assessments SOC capability\n",
      "64\n"
     ]
    },
    {
     "name": "stderr",
     "output_type": "stream",
     "text": [
      "en.wikipedia.org (query) Security Posture Assessments SOC capability\n"
     ]
    },
    {
     "name": "stdout",
     "output_type": "stream",
     "text": [
      "indoor navigation engine Outcomes\n",
      "65\n"
     ]
    },
    {
     "name": "stderr",
     "output_type": "stream",
     "text": [
      "en.wikipedia.org (query) indoor navigation engine Outcomes\n"
     ]
    },
    {
     "name": "stdout",
     "output_type": "stream",
     "text": [
      "und Aufteilen von Gruppen\n",
      "66\n"
     ]
    },
    {
     "name": "stderr",
     "output_type": "stream",
     "text": [
      "en.wikipedia.org (query) und Aufteilen von Gruppen\n"
     ]
    },
    {
     "name": "stdout",
     "output_type": "stream",
     "text": [
      "Value proposition DXC Spend Analytics\n",
      "67\n"
     ]
    },
    {
     "name": "stderr",
     "output_type": "stream",
     "text": [
      "en.wikipedia.org (query) Value proposition DXC Spend Analytics\n"
     ]
    },
    {
     "name": "stdout",
     "output_type": "stream",
     "text": [
      "defence automotive chemical communications\n",
      "68\n"
     ]
    },
    {
     "name": "stderr",
     "output_type": "stream",
     "text": [
      "en.wikipedia.org (query) defence automotive chemical communications\n"
     ]
    },
    {
     "name": "stdout",
     "output_type": "stream",
     "text": [
      "QuerySurge\n",
      "69\n"
     ]
    },
    {
     "name": "stderr",
     "output_type": "stream",
     "text": [
      "en.wikipedia.org (query) QuerySurge\n"
     ]
    },
    {
     "name": "stdout",
     "output_type": "stream",
     "text": [
      "the DXC Service\n",
      "70\n"
     ]
    },
    {
     "name": "stderr",
     "output_type": "stream",
     "text": [
      "en.wikipedia.org (query) the DXC Service\n"
     ]
    },
    {
     "name": "stdout",
     "output_type": "stream",
     "text": [
      "the digital platform effects\n",
      "71\n"
     ]
    },
    {
     "name": "stderr",
     "output_type": "stream",
     "text": [
      "en.wikipedia.org (query) the digital platform effects\n"
     ]
    },
    {
     "name": "stdout",
     "output_type": "stream",
     "text": [
      "IDP tools\n",
      "72\n"
     ]
    },
    {
     "name": "stderr",
     "output_type": "stream",
     "text": [
      "en.wikipedia.org (query) IDP tools\n"
     ]
    },
    {
     "name": "stdout",
     "output_type": "stream",
     "text": [
      "Ian Rogers\n",
      "73\n"
     ]
    },
    {
     "name": "stderr",
     "output_type": "stream",
     "text": [
      "en.wikipedia.org (query) Ian Rogers\n",
      "en.wikipedia.org (parse) 29891533\n",
      "www.wikidata.org (wikidata) Q5982772\n",
      "www.wikidata.org (labels) P31|Q22808320\n",
      "en.wikipedia.org (restbase) /page/summary/Ian_Rogers\n",
      "Ian Rogers (en) data\n",
      "{\n",
      "  WARNINGS: <dict(1)> extracts\n",
      "  assessments: <dict(1)> Disambiguation\n",
      "  claims: <dict(1)> P31\n",
      "  description: <str(95)> Disambiguation page providing links to to...\n",
      "  disambiguation: 5\n",
      "  exhtml: <str(346)> <p><b>Ian Rogers</b> may refer to:</p><ul><li...\n",
      "  exrest: <str(278)> Ian Rogers may refer to:Ian Rogers, Australia...\n",
      "  extext: <str(357)> **Ian Rogers** may refer to:  * Ian Rogers (c...\n",
      "  extract: <str(401)> <p><b>Ian Rogers</b> may refer to:</p><ul><l...\n",
      "  label: Ian Rogers\n",
      "  labels: <dict(2)> P31, Q22808320\n",
      "  length: 395\n",
      "  links: <list(5)> Ian Rogers (chess player), Ian Rogers (comics),...\n",
      "  modified: <dict(2)> page, wikidata\n",
      "  pageid: 29891533\n",
      "  parsetree: <str(488)> <root>'''Ian Rogers''' may refer to:*[[Ian...\n",
      "  random: Tom Kerwick\n",
      "  redirects: <list(2)> {'pageid': 5066978, 'ns': 0, 'title': 'Roge...\n",
      "  requests: <list(5)> query, parse, wikidata, labels, restbase\n",
      "  title: Ian_Rogers\n",
      "  url: https://en.wikipedia.org/wiki/Ian_Rogers\n",
      "  url_raw: https://en.wikipedia.org/wiki/Ian_Rogers?action=raw\n",
      "  what: Wikimedia human name disambiguation page\n",
      "  wikibase: Q5982772\n",
      "  wikidata: <dict(1)> instance of (P31)\n",
      "  wikidata_pageid: 5760250\n",
      "  wikidata_url: https://www.wikidata.org/wiki/Q5982772\n",
      "  wikitext: <str(385)> '''Ian Rogers''' may refer to:*[[Ian Rogers...\n",
      "}\n",
      "en.wikipedia.org (query) CSC s cloud services\n"
     ]
    },
    {
     "name": "stdout",
     "output_type": "stream",
     "text": [
      "CSC s cloud services\n",
      "74\n",
      "digital HR assistant capabilities Enterprises\n",
      "75\n"
     ]
    },
    {
     "name": "stderr",
     "output_type": "stream",
     "text": [
      "en.wikipedia.org (query) digital HR assistant capabilities Enterprises\n"
     ]
    },
    {
     "name": "stdout",
     "output_type": "stream",
     "text": [
      "Sterling GIS\n",
      "76\n"
     ]
    },
    {
     "name": "stderr",
     "output_type": "stream",
     "text": [
      "en.wikipedia.org (query) Sterling GIS\n"
     ]
    },
    {
     "name": "stdout",
     "output_type": "stream",
     "text": [
      "the tools tech niques\n",
      "77\n"
     ]
    },
    {
     "name": "stderr",
     "output_type": "stream",
     "text": [
      "en.wikipedia.org (query) the tools tech niques\n"
     ]
    },
    {
     "name": "stdout",
     "output_type": "stream",
     "text": [
      "appropriate WP Design\n",
      "78\n"
     ]
    },
    {
     "name": "stderr",
     "output_type": "stream",
     "text": [
      "en.wikipedia.org (query) appropriate WP Design\n"
     ]
    },
    {
     "name": "stdout",
     "output_type": "stream",
     "text": [
      "the AGV fleet\n",
      "79\n"
     ]
    },
    {
     "name": "stderr",
     "output_type": "stream",
     "text": [
      "en.wikipedia.org (query) the AGV fleet\n"
     ]
    },
    {
     "name": "stdout",
     "output_type": "stream",
     "text": [
      "our CX\n",
      "80\n"
     ]
    },
    {
     "name": "stderr",
     "output_type": "stream",
     "text": [
      "en.wikipedia.org (query) our CX\n"
     ]
    },
    {
     "name": "stdout",
     "output_type": "stream",
     "text": [
      "the EDGE Portal site\n",
      "81\n"
     ]
    },
    {
     "name": "stderr",
     "output_type": "stream",
     "text": [
      "en.wikipedia.org (query) the EDGE Portal site\n"
     ]
    },
    {
     "name": "stdout",
     "output_type": "stream",
     "text": [
      "CSC s Technical Excellence Award\n",
      "82\n"
     ]
    },
    {
     "name": "stderr",
     "output_type": "stream",
     "text": [
      "en.wikipedia.org (query) CSC s Technical Excellence Award\n"
     ]
    },
    {
     "name": "stdout",
     "output_type": "stream",
     "text": [
      "CSC s deal volume\n",
      "83\n"
     ]
    },
    {
     "name": "stderr",
     "output_type": "stream",
     "text": [
      "en.wikipedia.org (query) CSC s deal volume\n"
     ]
    },
    {
     "name": "stdout",
     "output_type": "stream",
     "text": [
      "Enterprise Map Phase II\n",
      "84\n"
     ]
    },
    {
     "name": "stderr",
     "output_type": "stream",
     "text": [
      "en.wikipedia.org (query) Enterprise Map Phase II\n"
     ]
    },
    {
     "name": "stdout",
     "output_type": "stream",
     "text": [
      "the cybersecurity space\n",
      "85\n"
     ]
    },
    {
     "name": "stderr",
     "output_type": "stream",
     "text": [
      "en.wikipedia.org (query) the cybersecurity space\n"
     ]
    },
    {
     "name": "stdout",
     "output_type": "stream",
     "text": [
      "GIS and ERP software\n",
      "86\n"
     ]
    },
    {
     "name": "stderr",
     "output_type": "stream",
     "text": [
      "en.wikipedia.org (query) GIS and ERP software\n"
     ]
    },
    {
     "name": "stdout",
     "output_type": "stream",
     "text": [
      "Lloyds UK\n",
      "87\n"
     ]
    },
    {
     "name": "stderr",
     "output_type": "stream",
     "text": [
      "en.wikipedia.org (query) Lloyds UK\n"
     ]
    },
    {
     "name": "stdout",
     "output_type": "stream",
     "text": [
      "a large stander size environment\n",
      "88\n"
     ]
    },
    {
     "name": "stderr",
     "output_type": "stream",
     "text": [
      "en.wikipedia.org (query) a large stander size environment\n"
     ]
    },
    {
     "name": "stdout",
     "output_type": "stream",
     "text": [
      "SEC ops\n",
      "89\n"
     ]
    },
    {
     "name": "stderr",
     "output_type": "stream",
     "text": [
      "en.wikipedia.org (query) SEC ops\n"
     ]
    },
    {
     "name": "stdout",
     "output_type": "stream",
     "text": [
      "an info sec background\n",
      "90\n"
     ]
    },
    {
     "name": "stderr",
     "output_type": "stream",
     "text": [
      "en.wikipedia.org (query) an info sec background\n"
     ]
    },
    {
     "name": "stdout",
     "output_type": "stream",
     "text": [
      "the healthcare consumer packaged goods\n",
      "91\n"
     ]
    },
    {
     "name": "stderr",
     "output_type": "stream",
     "text": [
      "en.wikipedia.org (query) the healthcare consumer packaged goods\n"
     ]
    },
    {
     "name": "stdout",
     "output_type": "stream",
     "text": [
      "FTE headcount\n",
      "92\n"
     ]
    },
    {
     "name": "stderr",
     "output_type": "stream",
     "text": [
      "en.wikipedia.org (query) FTE headcount\n"
     ]
    },
    {
     "name": "stdout",
     "output_type": "stream",
     "text": [
      "Confidential Digital relevance leadership\n",
      "93\n"
     ]
    },
    {
     "name": "stderr",
     "output_type": "stream",
     "text": [
      "en.wikipedia.org (query) Confidential Digital relevance leadership\n"
     ]
    },
    {
     "name": "stdout",
     "output_type": "stream",
     "text": [
      "Aurea Actional Intermediary\n",
      "94\n"
     ]
    },
    {
     "name": "stderr",
     "output_type": "stream",
     "text": [
      "en.wikipedia.org (query) Aurea Actional Intermediary\n"
     ]
    },
    {
     "name": "stdout",
     "output_type": "stream",
     "text": [
      "Agile Costing SMEs DXC Proprietary\n",
      "95\n"
     ]
    },
    {
     "name": "stderr",
     "output_type": "stream",
     "text": [
      "en.wikipedia.org (query) Agile Costing SMEs DXC Proprietary\n"
     ]
    },
    {
     "name": "stdout",
     "output_type": "stream",
     "text": [
      "Luxoft Apr Joseph\n",
      "96\n"
     ]
    },
    {
     "name": "stderr",
     "output_type": "stream",
     "text": [
      "en.wikipedia.org (query) Luxoft Apr Joseph\n"
     ]
    },
    {
     "name": "stdout",
     "output_type": "stream",
     "text": [
      "global expertise SDGSC\n",
      "97\n"
     ]
    },
    {
     "name": "stderr",
     "output_type": "stream",
     "text": [
      "en.wikipedia.org (query) global expertise SDGSC\n"
     ]
    },
    {
     "name": "stdout",
     "output_type": "stream",
     "text": [
      "Dropbox subscribers\n",
      "98\n"
     ]
    },
    {
     "name": "stderr",
     "output_type": "stream",
     "text": [
      "en.wikipedia.org (query) Dropbox subscribers\n"
     ]
    },
    {
     "name": "stdout",
     "output_type": "stream",
     "text": [
      "user training portal\n",
      "99\n"
     ]
    },
    {
     "name": "stderr",
     "output_type": "stream",
     "text": [
      "en.wikipedia.org (query) user training portal\n"
     ]
    },
    {
     "name": "stdout",
     "output_type": "stream",
     "text": [
      "cybersecurity and personal data protection\n",
      "100\n"
     ]
    },
    {
     "name": "stderr",
     "output_type": "stream",
     "text": [
      "en.wikipedia.org (query) cybersecurity and personal data protection\n"
     ]
    },
    {
     "name": "stdout",
     "output_type": "stream",
     "text": [
      "the most relevant digital innovations\n",
      "101\n"
     ]
    },
    {
     "name": "stderr",
     "output_type": "stream",
     "text": [
      "en.wikipedia.org (query) the most relevant digital innovations\n"
     ]
    },
    {
     "name": "stdout",
     "output_type": "stream",
     "text": [
      "your SAM journey\n",
      "102\n"
     ]
    },
    {
     "name": "stderr",
     "output_type": "stream",
     "text": [
      "en.wikipedia.org (query) your SAM journey\n"
     ]
    },
    {
     "name": "stdout",
     "output_type": "stream",
     "text": [
      "DXC automation Potential\n",
      "103\n"
     ]
    },
    {
     "name": "stderr",
     "output_type": "stream",
     "text": [
      "en.wikipedia.org (query) DXC automation Potential\n"
     ]
    },
    {
     "name": "stdout",
     "output_type": "stream",
     "text": [
      "workplace and digital transformation\n",
      "104\n"
     ]
    },
    {
     "name": "stderr",
     "output_type": "stream",
     "text": [
      "en.wikipedia.org (query) workplace and digital transformation\n"
     ]
    },
    {
     "name": "stdout",
     "output_type": "stream",
     "text": [
      "ThRee\n",
      "105\n"
     ]
    },
    {
     "name": "stderr",
     "output_type": "stream",
     "text": [
      "en.wikipedia.org (query) ThRee\n"
     ]
    },
    {
     "name": "stdout",
     "output_type": "stream",
     "text": [
      "Sybase DB\n",
      "106\n"
     ]
    },
    {
     "name": "stderr",
     "output_type": "stream",
     "text": [
      "en.wikipedia.org (query) Sybase DB\n",
      "en.wikipedia.org (parse) 295744\n",
      "www.wikidata.org (wikidata) Q2576415\n",
      "www.wikidata.org (labels) P31|Q192588|Q552581|P366|Q3932296|Q1577...\n",
      "en.wikipedia.org (restbase) /page/summary/Adaptive_Server_Enterprise\n",
      "Adaptive Server Enterprise (en) data\n",
      "{\n",
      "  WARNINGS: <dict(1)> extracts\n",
      "  aliases: <list(2)> ASE, Sybase SQL Server\n",
      "  assessments: <dict(2)> Computing, Databases\n",
      "  claims: <dict(7)> P646, P856, P31, P178, P6665, P277, P366\n",
      "  exhtml: <str(334)> <p><b>SAP ASE </b>, originally known as <b>Sy...\n",
      "  exrest: <str(299)> SAP ASE , originally known as Sybase SQL Serv...\n",
      "  extext: <str(763)> **SAP ASE (Adaptive Server Enterprise)** , or...\n",
      "  extract: <str(795)> <p><b>SAP ASE (Adaptive Server Enterprise)</...\n",
      "  infobox: <dict(8)> developer, released, latest release version, ...\n",
      "  label: Adaptive Server Enterprise\n",
      "  labels: <dict(11)> P31, Q192588, Q552581, P366, Q3932296, Q15777...\n",
      "  length: 11,372\n",
      "  links: <list(38)> Ashton-Tate, C (programming language), C++, Co...\n",
      "  modified: <dict(2)> page, wikidata\n",
      "  pageid: 295744\n",
      "  parsetree: <str(13403)> <root><template><title>redirect2</title>...\n",
      "  random: Hevein\n",
      "  redirected: <list(1)> {'from': 'Sybase DB', 'to': 'Adaptive Serv...\n",
      "  redirects: <list(17)> {'pageid': 84395, 'ns': 0, 'title': 'Sybas...\n",
      "  requests: <list(5)> query, parse, wikidata, labels, restbase\n",
      "  title: Adaptive_Server_Enterprise\n",
      "  url: https://en.wikipedia.org/wiki/Adaptive_Server_Enterprise\n",
      "  url_raw: <str(67)> https://en.wikipedia.org/wiki/Adaptive_Server...\n",
      "  watchers: 37\n",
      "  what: relational database management system\n",
      "  wikibase: Q2576415\n",
      "  wikidata: <dict(7)> Freebase ID (P646), official website (P856),...\n",
      "  wikidata_pageid: 2486050\n",
      "  wikidata_url: https://www.wikidata.org/wiki/Q2576415\n",
      "  wikitext: <str(11285)> {{redirect2|Sybase database|SAP Sybase|th...\n",
      "}\n",
      "en.wikipedia.org (query) DXC Connect\n"
     ]
    },
    {
     "name": "stdout",
     "output_type": "stream",
     "text": [
      "DXC Connect\n",
      "107\n",
      "newer Oracle products\n",
      "108\n"
     ]
    },
    {
     "name": "stderr",
     "output_type": "stream",
     "text": [
      "en.wikipedia.org (query) newer Oracle products\n"
     ]
    },
    {
     "name": "stdout",
     "output_type": "stream",
     "text": [
      "a former CIO Mike\n",
      "109\n"
     ]
    },
    {
     "name": "stderr",
     "output_type": "stream",
     "text": [
      "en.wikipedia.org (query) a former CIO Mike\n"
     ]
    },
    {
     "name": "stdout",
     "output_type": "stream",
     "text": [
      "your own digital twin\n",
      "110\n"
     ]
    },
    {
     "name": "stderr",
     "output_type": "stream",
     "text": [
      "en.wikipedia.org (query) your own digital twin\n"
     ]
    },
    {
     "name": "stdout",
     "output_type": "stream",
     "text": [
      "BC IBM Security zSecure suite\n",
      "111\n"
     ]
    },
    {
     "name": "stderr",
     "output_type": "stream",
     "text": [
      "en.wikipedia.org (query) BC IBM Security zSecure suite\n"
     ]
    },
    {
     "name": "stdout",
     "output_type": "stream",
     "text": [
      "the DXC capability base\n",
      "112\n"
     ]
    },
    {
     "name": "stderr",
     "output_type": "stream",
     "text": [
      "en.wikipedia.org (query) the DXC capability base\n"
     ]
    },
    {
     "name": "stdout",
     "output_type": "stream",
     "text": [
      "NelsonHall Everest Forrester\n",
      "113\n"
     ]
    },
    {
     "name": "stderr",
     "output_type": "stream",
     "text": [
      "en.wikipedia.org (query) NelsonHall Everest Forrester\n"
     ]
    },
    {
     "name": "stdout",
     "output_type": "stream",
     "text": [
      "MCS Operational Support US Government\n",
      "114\n"
     ]
    },
    {
     "name": "stderr",
     "output_type": "stream",
     "text": [
      "en.wikipedia.org (query) MCS Operational Support US Government\n"
     ]
    },
    {
     "name": "stdout",
     "output_type": "stream",
     "text": [
      "CSC s Healthcare Group\n",
      "115\n"
     ]
    },
    {
     "name": "stderr",
     "output_type": "stream",
     "text": [
      "en.wikipedia.org (query) CSC s Healthcare Group\n"
     ]
    },
    {
     "name": "stdout",
     "output_type": "stream",
     "text": [
      "This RFI\n",
      "116\n"
     ]
    },
    {
     "name": "stderr",
     "output_type": "stream",
     "text": [
      "en.wikipedia.org (query) This RFI\n"
     ]
    },
    {
     "name": "stdout",
     "output_type": "stream",
     "text": [
      "SAP Basis application security\n",
      "117\n"
     ]
    },
    {
     "name": "stderr",
     "output_type": "stream",
     "text": [
      "en.wikipedia.org (query) SAP Basis application security\n"
     ]
    },
    {
     "name": "stdout",
     "output_type": "stream",
     "text": [
      "Ionic Angular\n",
      "118\n"
     ]
    },
    {
     "name": "stderr",
     "output_type": "stream",
     "text": [
      "en.wikipedia.org (query) Ionic Angular\n"
     ]
    },
    {
     "name": "stdout",
     "output_type": "stream",
     "text": [
      "intelli gent behavior\n",
      "119\n"
     ]
    },
    {
     "name": "stderr",
     "output_type": "stream",
     "text": [
      "en.wikipedia.org (query) intelli gent behavior\n"
     ]
    },
    {
     "name": "stdout",
     "output_type": "stream",
     "text": [
      "our own explorer\n",
      "120\n"
     ]
    },
    {
     "name": "stderr",
     "output_type": "stream",
     "text": [
      "en.wikipedia.org (query) our own explorer\n"
     ]
    },
    {
     "name": "stdout",
     "output_type": "stream",
     "text": [
      "utilities companies\n",
      "121\n"
     ]
    },
    {
     "name": "stderr",
     "output_type": "stream",
     "text": [
      "en.wikipedia.org (query) utilities companies\n"
     ]
    },
    {
     "name": "stdout",
     "output_type": "stream",
     "text": [
      "healthcare leaders\n",
      "122\n"
     ]
    },
    {
     "name": "stderr",
     "output_type": "stream",
     "text": [
      "en.wikipedia.org (query) healthcare leaders\n"
     ]
    },
    {
     "name": "stdout",
     "output_type": "stream",
     "text": [
      "the QuickStarts Advisory Workshop\n",
      "123\n"
     ]
    },
    {
     "name": "stderr",
     "output_type": "stream",
     "text": [
      "en.wikipedia.org (query) the QuickStarts Advisory Workshop\n"
     ]
    },
    {
     "name": "stdout",
     "output_type": "stream",
     "text": [
      "customer API platform\n",
      "124\n"
     ]
    },
    {
     "name": "stderr",
     "output_type": "stream",
     "text": [
      "en.wikipedia.org (query) customer API platform\n"
     ]
    },
    {
     "name": "stdout",
     "output_type": "stream",
     "text": [
      "an agile digital core\n",
      "125\n"
     ]
    },
    {
     "name": "stderr",
     "output_type": "stream",
     "text": [
      "en.wikipedia.org (query) an agile digital core\n"
     ]
    },
    {
     "name": "stdout",
     "output_type": "stream",
     "text": [
      "the ALLOBJ special authority\n",
      "126\n"
     ]
    },
    {
     "name": "stderr",
     "output_type": "stream",
     "text": [
      "en.wikipedia.org (query) the ALLOBJ special authority\n"
     ]
    },
    {
     "name": "stdout",
     "output_type": "stream",
     "text": [
      "the developed HMI\n",
      "127\n"
     ]
    },
    {
     "name": "stderr",
     "output_type": "stream",
     "text": [
      "en.wikipedia.org (query) the developed HMI\n"
     ]
    },
    {
     "name": "stdout",
     "output_type": "stream",
     "text": [
      "these CSP partner discounts\n",
      "128\n"
     ]
    },
    {
     "name": "stderr",
     "output_type": "stream",
     "text": [
      "en.wikipedia.org (query) these CSP partner discounts\n"
     ]
    },
    {
     "name": "stdout",
     "output_type": "stream",
     "text": [
      "RoHS China\n",
      "129\n"
     ]
    },
    {
     "name": "stderr",
     "output_type": "stream",
     "text": [
      "en.wikipedia.org (query) RoHS China\n"
     ]
    },
    {
     "name": "stdout",
     "output_type": "stream",
     "text": [
      "Broader HCM Providers\n",
      "130\n"
     ]
    },
    {
     "name": "stderr",
     "output_type": "stream",
     "text": [
      "en.wikipedia.org (query) Broader HCM Providers\n"
     ]
    },
    {
     "name": "stdout",
     "output_type": "stream",
     "text": [
      "Layer II\n",
      "131\n"
     ]
    },
    {
     "name": "stderr",
     "output_type": "stream",
     "text": [
      "en.wikipedia.org (query) Layer II\n"
     ]
    },
    {
     "name": "stdout",
     "output_type": "stream",
     "text": [
      " Everest Global Inc Key market\n",
      "132\n"
     ]
    },
    {
     "name": "stderr",
     "output_type": "stream",
     "text": [
      "en.wikipedia.org (query)  Everest Global Inc Key market\n"
     ]
    },
    {
     "name": "stdout",
     "output_type": "stream",
     "text": [
      "Microsoft Clouds\n",
      "133\n"
     ]
    },
    {
     "name": "stderr",
     "output_type": "stream",
     "text": [
      "en.wikipedia.org (query) Microsoft Clouds\n"
     ]
    },
    {
     "name": "stdout",
     "output_type": "stream",
     "text": [
      "CoE lab\n",
      "134\n"
     ]
    },
    {
     "name": "stderr",
     "output_type": "stream",
     "text": [
      "en.wikipedia.org (query) CoE lab\n"
     ]
    },
    {
     "name": "stdout",
     "output_type": "stream",
     "text": [
      "ServiceNow instances\n",
      "135\n"
     ]
    },
    {
     "name": "stderr",
     "output_type": "stream",
     "text": [
      "en.wikipedia.org (query) ServiceNow instances\n"
     ]
    },
    {
     "name": "stdout",
     "output_type": "stream",
     "text": [
      "a VPN connection\n",
      "136\n"
     ]
    },
    {
     "name": "stderr",
     "output_type": "stream",
     "text": [
      "en.wikipedia.org (query) a VPN connection\n"
     ]
    },
    {
     "name": "stdout",
     "output_type": "stream",
     "text": [
      "Migration tools portfolio Wipro\n",
      "137\n"
     ]
    },
    {
     "name": "stderr",
     "output_type": "stream",
     "text": [
      "en.wikipedia.org (query) Migration tools portfolio Wipro\n"
     ]
    },
    {
     "name": "stdout",
     "output_type": "stream",
     "text": [
      "the Microsoft Intelligent Security Graph\n",
      "138\n"
     ]
    },
    {
     "name": "stderr",
     "output_type": "stream",
     "text": [
      "en.wikipedia.org (query) the Microsoft Intelligent Security Graph\n"
     ]
    },
    {
     "name": "stdout",
     "output_type": "stream",
     "text": [
      "Strengths Cornerstone s TM suite\n",
      "139\n"
     ]
    },
    {
     "name": "stderr",
     "output_type": "stream",
     "text": [
      "en.wikipedia.org (query) Strengths Cornerstone s TM suite\n"
     ]
    },
    {
     "name": "stdout",
     "output_type": "stream",
     "text": [
      "spotlightonspend\n",
      "140\n"
     ]
    },
    {
     "name": "stderr",
     "output_type": "stream",
     "text": [
      "en.wikipedia.org (query) spotlightonspend\n"
     ]
    },
    {
     "name": "stdout",
     "output_type": "stream",
     "text": [
      "Oracle Advanced Compression\n",
      "141\n"
     ]
    },
    {
     "name": "stderr",
     "output_type": "stream",
     "text": [
      "en.wikipedia.org (query) Oracle Advanced Compression\n"
     ]
    },
    {
     "name": "stdout",
     "output_type": "stream",
     "text": [
      "ROI and payback period\n",
      "142\n"
     ]
    },
    {
     "name": "stderr",
     "output_type": "stream",
     "text": [
      "en.wikipedia.org (query) ROI and payback period\n"
     ]
    },
    {
     "name": "stdout",
     "output_type": "stream",
     "text": [
      "the ABAP Integration Test Plan\n",
      "143\n"
     ]
    },
    {
     "name": "stderr",
     "output_type": "stream",
     "text": [
      "en.wikipedia.org (query) the ABAP Integration Test Plan\n"
     ]
    },
    {
     "name": "stdout",
     "output_type": "stream",
     "text": [
      "new Digital Factory lines\n",
      "144\n"
     ]
    },
    {
     "name": "stderr",
     "output_type": "stream",
     "text": [
      "en.wikipedia.org (query) new Digital Factory lines\n"
     ]
    },
    {
     "name": "stdout",
     "output_type": "stream",
     "text": [
      "the UiPath RPA solution\n",
      "145\n"
     ]
    },
    {
     "name": "stderr",
     "output_type": "stream",
     "text": [
      "en.wikipedia.org (query) the UiPath RPA solution\n"
     ]
    },
    {
     "name": "stdout",
     "output_type": "stream",
     "text": [
      "Assessment SAS Consultant Day CRM\n",
      "146\n"
     ]
    },
    {
     "name": "stderr",
     "output_type": "stream",
     "text": [
      "en.wikipedia.org (query) Assessment SAS Consultant Day CRM\n"
     ]
    },
    {
     "name": "stdout",
     "output_type": "stream",
     "text": [
      "PPMC ES\n",
      "147\n"
     ]
    },
    {
     "name": "stderr",
     "output_type": "stream",
     "text": [
      "en.wikipedia.org (query) PPMC ES\n"
     ]
    },
    {
     "name": "stdout",
     "output_type": "stream",
     "text": [
      "SEI CMMI requirements\n",
      "148\n"
     ]
    },
    {
     "name": "stderr",
     "output_type": "stream",
     "text": [
      "en.wikipedia.org (query) SEI CMMI requirements\n"
     ]
    },
    {
     "name": "stdout",
     "output_type": "stream",
     "text": [
      "The SAP Retail solution\n",
      "149\n"
     ]
    },
    {
     "name": "stderr",
     "output_type": "stream",
     "text": [
      "en.wikipedia.org (query) The SAP Retail solution\n"
     ]
    },
    {
     "name": "stdout",
     "output_type": "stream",
     "text": [
      "GDDT archives\n",
      "150\n"
     ]
    },
    {
     "name": "stderr",
     "output_type": "stream",
     "text": [
      "en.wikipedia.org (query) GDDT archives\n"
     ]
    },
    {
     "name": "stdout",
     "output_type": "stream",
     "text": [
      "SIM\n",
      "151\n"
     ]
    },
    {
     "name": "stderr",
     "output_type": "stream",
     "text": [
      "en.wikipedia.org (query) SIM\n",
      "en.wikipedia.org (parse) 728588\n",
      "www.wikidata.org (wikidata) Q225236\n",
      "www.wikidata.org (labels) P31|Q4049497|Q16825265|Q4167410|P1889|Q...\n",
      "en.wikipedia.org (restbase) /page/summary/Sim\n",
      "Sim (en) data\n",
      "{\n",
      "  WARNINGS: <dict(1)> extracts\n",
      "  assessments: <dict(1)> Disambiguation\n",
      "  claims: <dict(3)> P1889, P31, P460\n",
      "  description: <str(95)> Disambiguation page providing links to to...\n",
      "  disambiguation: 39\n",
      "  exhtml: <p><b>Sim</b> or <b>SIM</b> may refer to:</p>\n",
      "  exrest: Sim or SIM may refer to:\n",
      "  extext: **Sim** or **SIM** may refer to:\n",
      "  extract: <p><b>Sim</b> or <b>SIM</b> may refer to:</p>\n",
      "  iwlinks: <list(3)> https://en.wiktionary.org/wiki/SIM, https://e...\n",
      "  label: Sim\n",
      "  labels: <dict(7)> P31, Q4049497, Q16825265, Q4167410, P1889, Q16...\n",
      "  length: 2,483\n",
      "  links: <list(39)> Apollo command and service module, Desmond Sim...\n",
      "  modified: <dict(2)> page, wikidata\n",
      "  pageid: 728588\n",
      "  parsetree: <str(3096)> <root><template><title>Wiktionary</title>...\n",
      "  random: List of shipwrecks in October 1839\n",
      "  redirected: <list(1)> {'from': 'SIM', 'to': 'Sim'}\n",
      "  redirects: <list(4)> {'pageid': 233168, 'ns': 0, 'title': 'SIM'}...\n",
      "  requests: <list(5)> query, parse, wikidata, labels, restbase\n",
      "  title: Sim\n",
      "  url: https://en.wikipedia.org/wiki/Sim\n",
      "  url_raw: https://en.wikipedia.org/wiki/Sim?action=raw\n",
      "  watchers: 31\n",
      "  what: Wikimedia disambiguation page\n",
      "  wikibase: Q225236\n",
      "  wikidata: <dict(3)> different from (P1889), instance of (P31), s...\n",
      "  wikidata_pageid: 219825\n",
      "  wikidata_url: https://www.wikidata.org/wiki/Q225236\n",
      "  wikitext: <str(2417)> {{Wiktionary|SIM|Sim|sim}}'''Sim''' or '''...\n",
      "}\n",
      "en.wikipedia.org (query) a UBI vendor\n"
     ]
    },
    {
     "name": "stdout",
     "output_type": "stream",
     "text": [
      "a UBI vendor\n",
      "152\n",
      "FFP databases\n",
      "153\n"
     ]
    },
    {
     "name": "stderr",
     "output_type": "stream",
     "text": [
      "en.wikipedia.org (query) FFP databases\n"
     ]
    },
    {
     "name": "stdout",
     "output_type": "stream",
     "text": [
      "SQL PaaS Services\n",
      "154\n"
     ]
    },
    {
     "name": "stderr",
     "output_type": "stream",
     "text": [
      "en.wikipedia.org (query) SQL PaaS Services\n"
     ]
    },
    {
     "name": "stdout",
     "output_type": "stream",
     "text": [
      "standardized ITIL based work processes\n",
      "155\n"
     ]
    },
    {
     "name": "stderr",
     "output_type": "stream",
     "text": [
      "en.wikipedia.org (query) standardized ITIL based work processes\n"
     ]
    },
    {
     "name": "stdout",
     "output_type": "stream",
     "text": [
      "the MVP\n",
      "156\n"
     ]
    },
    {
     "name": "stderr",
     "output_type": "stream",
     "text": [
      "en.wikipedia.org (query) the MVP\n"
     ]
    },
    {
     "name": "stdout",
     "output_type": "stream",
     "text": [
      "this SOW DXC\n",
      "157\n"
     ]
    },
    {
     "name": "stderr",
     "output_type": "stream",
     "text": [
      "en.wikipedia.org (query) this SOW DXC\n"
     ]
    },
    {
     "name": "stdout",
     "output_type": "stream",
     "text": [
      "intercloud networking\n",
      "158\n"
     ]
    },
    {
     "name": "stderr",
     "output_type": "stream",
     "text": [
      "en.wikipedia.org (query) intercloud networking\n"
     ]
    },
    {
     "name": "stdout",
     "output_type": "stream",
     "text": [
      "Oracle Specializations\n",
      "159\n"
     ]
    },
    {
     "name": "stderr",
     "output_type": "stream",
     "text": [
      "en.wikipedia.org (query) Oracle Specializations\n"
     ]
    },
    {
     "name": "stdout",
     "output_type": "stream",
     "text": [
      "chemical biological and physical agents\n",
      "160\n"
     ]
    },
    {
     "name": "stderr",
     "output_type": "stream",
     "text": [
      "en.wikipedia.org (query) chemical biological and physical agents\n"
     ]
    },
    {
     "name": "stdout",
     "output_type": "stream",
     "text": [
      "kc SAR Asset Coverage\n",
      "161\n"
     ]
    },
    {
     "name": "stderr",
     "output_type": "stream",
     "text": [
      "en.wikipedia.org (query) kc SAR Asset Coverage\n"
     ]
    },
    {
     "name": "stdout",
     "output_type": "stream",
     "text": [
      "Install Application Data Rework Deliverables\n",
      "162\n"
     ]
    },
    {
     "name": "stderr",
     "output_type": "stream",
     "text": [
      "en.wikipedia.org (query) Install Application Data Rework Deliverables\n"
     ]
    },
    {
     "name": "stdout",
     "output_type": "stream",
     "text": [
      "Added PVE\n",
      "163\n"
     ]
    },
    {
     "name": "stderr",
     "output_type": "stream",
     "text": [
      "en.wikipedia.org (query) Added PVE\n"
     ]
    },
    {
     "name": "stdout",
     "output_type": "stream",
     "text": [
      "didn blog\n",
      "164\n"
     ]
    },
    {
     "name": "stderr",
     "output_type": "stream",
     "text": [
      "en.wikipedia.org (query) didn blog\n"
     ]
    },
    {
     "name": "stdout",
     "output_type": "stream",
     "text": [
      "various DXC products\n",
      "165\n"
     ]
    },
    {
     "name": "stderr",
     "output_type": "stream",
     "text": [
      "en.wikipedia.org (query) various DXC products\n"
     ]
    },
    {
     "name": "stdout",
     "output_type": "stream",
     "text": [
      "The DXC solution\n",
      "166\n"
     ]
    },
    {
     "name": "stderr",
     "output_type": "stream",
     "text": [
      "en.wikipedia.org (query) The DXC solution\n"
     ]
    },
    {
     "name": "stdout",
     "output_type": "stream",
     "text": [
      "SAA Messaging infrastructure\n",
      "167\n"
     ]
    },
    {
     "name": "stderr",
     "output_type": "stream",
     "text": [
      "en.wikipedia.org (query) SAA Messaging infrastructure\n"
     ]
    },
    {
     "name": "stdout",
     "output_type": "stream",
     "text": [
      "an SOS button\n",
      "168\n"
     ]
    },
    {
     "name": "stderr",
     "output_type": "stream",
     "text": [
      "en.wikipedia.org (query) an SOS button\n"
     ]
    },
    {
     "name": "stdout",
     "output_type": "stream",
     "text": [
      "Ajit Moodliar Global Alliances Executive\n",
      "169\n"
     ]
    },
    {
     "name": "stderr",
     "output_type": "stream",
     "text": [
      "en.wikipedia.org (query) Ajit Moodliar Global Alliances Executive\n"
     ]
    },
    {
     "name": "stdout",
     "output_type": "stream",
     "text": [
      "Variant Skills Inventory Shell\n",
      "170\n"
     ]
    },
    {
     "name": "stderr",
     "output_type": "stream",
     "text": [
      "en.wikipedia.org (query) Variant Skills Inventory Shell\n"
     ]
    },
    {
     "name": "stdout",
     "output_type": "stream",
     "text": [
      "ITIL compliant operations framework\n",
      "171\n"
     ]
    },
    {
     "name": "stderr",
     "output_type": "stream",
     "text": [
      "en.wikipedia.org (query) ITIL compliant operations framework\n"
     ]
    },
    {
     "name": "stdout",
     "output_type": "stream",
     "text": [
      "CSC s Machine\n",
      "172\n"
     ]
    },
    {
     "name": "stderr",
     "output_type": "stream",
     "text": [
      "en.wikipedia.org (query) CSC s Machine\n"
     ]
    },
    {
     "name": "stdout",
     "output_type": "stream",
     "text": [
      "NVIDIA David Hogan\n",
      "173\n"
     ]
    },
    {
     "name": "stderr",
     "output_type": "stream",
     "text": [
      "en.wikipedia.org (query) NVIDIA David Hogan\n"
     ]
    },
    {
     "name": "stdout",
     "output_type": "stream",
     "text": [
      "a Windows migration\n",
      "174\n"
     ]
    },
    {
     "name": "stderr",
     "output_type": "stream",
     "text": [
      "en.wikipedia.org (query) a Windows migration\n"
     ]
    },
    {
     "name": "stdout",
     "output_type": "stream",
     "text": [
      "your house\n",
      "175\n"
     ]
    },
    {
     "name": "stderr",
     "output_type": "stream",
     "text": [
      "en.wikipedia.org (query) your house\n"
     ]
    },
    {
     "name": "stdout",
     "output_type": "stream",
     "text": [
      "Improved Google Cloud Platform partnership\n",
      "176\n"
     ]
    },
    {
     "name": "stderr",
     "output_type": "stream",
     "text": [
      "en.wikipedia.org (query) Improved Google Cloud Platform partnership\n"
     ]
    },
    {
     "name": "stdout",
     "output_type": "stream",
     "text": [
      "dxc technology eca Kristan Evans\n",
      "177\n"
     ]
    },
    {
     "name": "stderr",
     "output_type": "stream",
     "text": [
      "en.wikipedia.org (query) dxc technology eca Kristan Evans\n"
     ]
    },
    {
     "name": "stdout",
     "output_type": "stream",
     "text": [
      "these digital offerings\n",
      "178\n"
     ]
    },
    {
     "name": "stderr",
     "output_type": "stream",
     "text": [
      "en.wikipedia.org (query) these digital offerings\n"
     ]
    },
    {
     "name": "stdout",
     "output_type": "stream",
     "text": [
      "McK Update sales training\n",
      "179\n"
     ]
    },
    {
     "name": "stderr",
     "output_type": "stream",
     "text": [
      "en.wikipedia.org (query) McK Update sales training\n"
     ]
    },
    {
     "name": "stdout",
     "output_type": "stream",
     "text": [
      "YTL s construction sites\n",
      "180\n"
     ]
    },
    {
     "name": "stderr",
     "output_type": "stream",
     "text": [
      "en.wikipedia.org (query) YTL s construction sites\n"
     ]
    },
    {
     "name": "stdout",
     "output_type": "stream",
     "text": [
      "the MSS Portal\n",
      "181\n"
     ]
    },
    {
     "name": "stderr",
     "output_type": "stream",
     "text": [
      "en.wikipedia.org (query) the MSS Portal\n"
     ]
    },
    {
     "name": "stdout",
     "output_type": "stream",
     "text": [
      "DXC DXC Project Manager\n",
      "182\n"
     ]
    },
    {
     "name": "stderr",
     "output_type": "stream",
     "text": [
      "en.wikipedia.org (query) DXC DXC Project Manager\n"
     ]
    },
    {
     "name": "stdout",
     "output_type": "stream",
     "text": [
      "CSC s approach\n",
      "183\n"
     ]
    },
    {
     "name": "stderr",
     "output_type": "stream",
     "text": [
      "en.wikipedia.org (query) CSC s approach\n"
     ]
    },
    {
     "name": "stdout",
     "output_type": "stream",
     "text": [
      "Microsoft Licensing Solutions Provider LSP\n",
      "184\n"
     ]
    },
    {
     "name": "stderr",
     "output_type": "stream",
     "text": [
      "en.wikipedia.org (query) Microsoft Licensing Solutions Provider LSP\n"
     ]
    },
    {
     "name": "stdout",
     "output_type": "stream",
     "text": [
      "leading RPA software resources\n",
      "185\n"
     ]
    },
    {
     "name": "stderr",
     "output_type": "stream",
     "text": [
      "en.wikipedia.org (query) leading RPA software resources\n"
     ]
    },
    {
     "name": "stdout",
     "output_type": "stream",
     "text": [
      "EXP onyx\n",
      "186\n"
     ]
    },
    {
     "name": "stderr",
     "output_type": "stream",
     "text": [
      "en.wikipedia.org (query) EXP onyx\n"
     ]
    },
    {
     "name": "stdout",
     "output_type": "stream",
     "text": [
      "all Microsoft licensing programs\n",
      "187\n"
     ]
    },
    {
     "name": "stderr",
     "output_type": "stream",
     "text": [
      "en.wikipedia.org (query) all Microsoft licensing programs\n"
     ]
    },
    {
     "name": "stdout",
     "output_type": "stream",
     "text": [
      "the SFTR reference data challenge\n",
      "188\n"
     ]
    },
    {
     "name": "stderr",
     "output_type": "stream",
     "text": [
      "en.wikipedia.org (query) the SFTR reference data challenge\n"
     ]
    },
    {
     "name": "stdout",
     "output_type": "stream",
     "text": [
      "NIAT ddmmyyyy TXT file\n",
      "189\n"
     ]
    },
    {
     "name": "stderr",
     "output_type": "stream",
     "text": [
      "en.wikipedia.org (query) NIAT ddmmyyyy TXT file\n"
     ]
    },
    {
     "name": "stdout",
     "output_type": "stream",
     "text": [
      "Nvidia\n",
      "190\n"
     ]
    },
    {
     "name": "stderr",
     "output_type": "stream",
     "text": [
      "en.wikipedia.org (query) Nvidia\n",
      "en.wikipedia.org (query) Nvidia (&plcontinue=39120|0|Tegra_4)\n",
      "en.wikipedia.org (parse) 39120\n",
      "www.wikidata.org (wikidata) Q182477\n",
      "www.wikidata.org (labels) Q1361045|P227|P1448|P2397|Q15614763|P46...\n",
      "www.wikidata.org (labels) P3393|Q28133964|Q229698|Q5985959|P3347|...\n",
      "en.wikipedia.org (restbase) /page/summary/Nvidia\n",
      "en.wikipedia.org (imageinfo) File:NVIDIA Headquarters.jpg|File:Nv...\n",
      "Nvidia (en) data\n",
      "{\n",
      "  WARNINGS: <dict(1)> extracts\n",
      "  aliases: <list(6)> Nvidia Corporation, NVIDIA Corporation, NV2A,...\n",
      "  assessments: <dict(4)> California, Companies, Computing, Video games\n",
      "  claims: <dict(66)> P373, P31, P112, P910, P856, P414, P646, P463...\n",
      "  description: American technology company\n",
      "  exhtml: <str(570)> <p><b>Nvidia Corporation</b> is an American m...\n",
      "  exrest: <str(556)> Nvidia Corporation is an American multination...\n",
      "  extext: <str(1242)> **Nvidia Corporation** ( _en- VID-ee-ə_) is ...\n",
      "  extract: <str(1372)> <p><span></span></p><p><b>Nvidia Corporatio...\n",
      "  image: <list(8)> {'kind': 'query-pageimage', 'file': 'File:NVIDI...\n",
      "  infobox: <dict(23)> name, logo, logo_size, image, image_size, im...\n",
      "  iwlinks: <list(1)> https://commons.wikimedia.org/wiki/Category:Nvidia\n",
      "  label: Nvidia\n",
      "  labels: <dict(98)> Q1361045, P227, P1448, P2397, Q15614763, P463...\n",
      "  length: 53,575\n",
      "  links: <list(569)> 10-foot user interface, 3M, 3dfx Interactive,...\n",
      "  modified: <dict(2)> page, wikidata\n",
      "  pageid: 39120\n",
      "  parsetree: <str(69195)> <root><template><title>for</title><part>...\n",
      "  random: 1992 NCAA Division II Men's Soccer Championship\n",
      "  redirects: <list(18)> {'pageid': 39119, 'ns': 0, 'title': 'NVIDI...\n",
      "  requests: <list(8)> query, query, parse, wikidata, labels, label...\n",
      "  title: Nvidia\n",
      "  url: https://en.wikipedia.org/wiki/Nvidia\n",
      "  url_raw: https://en.wikipedia.org/wiki/Nvidia?action=raw\n",
      "  watchers: 350\n",
      "  what: business\n",
      "  wikibase: Q182477\n",
      "  wikidata: <dict(66)> Commons category (P373), instance of (P31),...\n",
      "  wikidata_pageid: 181572\n",
      "  wikidata_url: https://www.wikidata.org/wiki/Q182477\n",
      "  wikitext: <str(53129)> {{for|the screen reader known as \"NVDA\"|N...\n",
      "}\n",
      "en.wikipedia.org (query) SCM system Database strategy\n"
     ]
    },
    {
     "name": "stdout",
     "output_type": "stream",
     "text": [
      "SCM system Database strategy\n",
      "191\n",
      "The healthcare project\n",
      "192\n"
     ]
    },
    {
     "name": "stderr",
     "output_type": "stream",
     "text": [
      "en.wikipedia.org (query) The healthcare project\n"
     ]
    },
    {
     "name": "stdout",
     "output_type": "stream",
     "text": [
      "Tools buildout Hosting Infrastructure\n",
      "193\n"
     ]
    },
    {
     "name": "stderr",
     "output_type": "stream",
     "text": [
      "en.wikipedia.org (query) Tools buildout Hosting Infrastructure\n"
     ]
    },
    {
     "name": "stdout",
     "output_type": "stream",
     "text": [
      "Redis Cache\n",
      "194\n"
     ]
    },
    {
     "name": "stderr",
     "output_type": "stream",
     "text": [
      "en.wikipedia.org (query) Redis Cache\n"
     ]
    },
    {
     "name": "stdout",
     "output_type": "stream",
     "text": [
      "financial services healthcare retail\n",
      "195\n"
     ]
    },
    {
     "name": "stderr",
     "output_type": "stream",
     "text": [
      "en.wikipedia.org (query) financial services healthcare retail\n"
     ]
    },
    {
     "name": "stdout",
     "output_type": "stream",
     "text": [
      "Toc Reporting DXC\n",
      "196\n"
     ]
    },
    {
     "name": "stderr",
     "output_type": "stream",
     "text": [
      "en.wikipedia.org (query) Toc Reporting DXC\n"
     ]
    },
    {
     "name": "stdout",
     "output_type": "stream",
     "text": [
      "This powerful digital tool\n",
      "197\n"
     ]
    },
    {
     "name": "stderr",
     "output_type": "stream",
     "text": [
      "en.wikipedia.org (query) This powerful digital tool\n"
     ]
    },
    {
     "name": "stdout",
     "output_type": "stream",
     "text": [
      "VRM\n",
      "198\n"
     ]
    },
    {
     "name": "stderr",
     "output_type": "stream",
     "text": [
      "en.wikipedia.org (query) VRM\n",
      "en.wikipedia.org (parse) 2216242\n",
      "www.wikidata.org (wikidata) Q235621\n",
      "www.wikidata.org (labels) P31|Q4167410\n",
      "en.wikipedia.org (restbase) /page/summary/VRM\n",
      "VRM (en) data\n",
      "{\n",
      "  WARNINGS: <dict(1)> extracts\n",
      "  assessments: <dict(1)> Disambiguation\n",
      "  claims: <dict(1)> P31\n",
      "  description: <str(95)> Disambiguation page providing links to to...\n",
      "  disambiguation: 7\n",
      "  exhtml: <p><b>VRM</b> or <b>vrm</b> may refer to:</p>\n",
      "  exrest: VRM or vrm may refer to:\n",
      "  extext: **VRM** or **vrm** may refer to:\n",
      "  extract: <p><b>VRM</b> or <b>vrm</b> may refer to:</p>\n",
      "  label: VRM\n",
      "  labels: <dict(2)> P31, Q4167410\n",
      "  length: 579\n",
      "  links: <list(7)> IBM RT PC, Radar, Vehicle registration mark, Ve...\n",
      "  modified: <dict(2)> page, wikidata\n",
      "  pageid: 2216242\n",
      "  parsetree: <str(670)> <root>'''VRM''' or '''vrm''' may refer to:...\n",
      "  random: Altcar Novices' Chase\n",
      "  redirects: <list(3)> {'pageid': 4522729, 'ns': 0, 'title': 'Vrm'...\n",
      "  requests: <list(5)> query, parse, wikidata, labels, restbase\n",
      "  title: VRM\n",
      "  url: https://en.wikipedia.org/wiki/VRM\n",
      "  url_raw: https://en.wikipedia.org/wiki/VRM?action=raw\n",
      "  what: Wikimedia disambiguation page\n",
      "  wikibase: Q235621\n",
      "  wikidata: <dict(1)> instance of (P31)\n",
      "  wikidata_pageid: 229116\n",
      "  wikidata_url: https://www.wikidata.org/wiki/Q235621\n",
      "  wikitext: <str(565)> '''VRM''' or '''vrm''' may refer to:==Scien...\n",
      "}\n",
      "en.wikipedia.org (query) FIGuRe S OP vAlue\n"
     ]
    },
    {
     "name": "stdout",
     "output_type": "stream",
     "text": [
      "FIGuRe S OP vAlue\n",
      "199\n",
      "the power shell\n",
      "200\n"
     ]
    },
    {
     "name": "stderr",
     "output_type": "stream",
     "text": [
      "en.wikipedia.org (query) the power shell\n"
     ]
    },
    {
     "name": "stdout",
     "output_type": "stream",
     "text": [
      "DXC s Leading Edge Forum\n",
      "201\n"
     ]
    },
    {
     "name": "stderr",
     "output_type": "stream",
     "text": [
      "en.wikipedia.org (query) DXC s Leading Edge Forum\n"
     ]
    },
    {
     "name": "stdout",
     "output_type": "stream",
     "text": [
      "SQL Cluster migration\n",
      "202\n"
     ]
    },
    {
     "name": "stderr",
     "output_type": "stream",
     "text": [
      "en.wikipedia.org (query) SQL Cluster migration\n"
     ]
    },
    {
     "name": "stdout",
     "output_type": "stream",
     "text": [
      "Operations Management ITOM\n",
      "203\n"
     ]
    },
    {
     "name": "stderr",
     "output_type": "stream",
     "text": [
      "en.wikipedia.org (query) Operations Management ITOM\n"
     ]
    },
    {
     "name": "stdout",
     "output_type": "stream",
     "text": [
      "the CPS Portal\n",
      "204\n"
     ]
    },
    {
     "name": "stderr",
     "output_type": "stream",
     "text": [
      "en.wikipedia.org (query) the CPS Portal\n"
     ]
    },
    {
     "name": "stdout",
     "output_type": "stream",
     "text": [
      "REMS Loco software\n",
      "205\n"
     ]
    },
    {
     "name": "stderr",
     "output_type": "stream",
     "text": [
      "en.wikipedia.org (query) REMS Loco software\n"
     ]
    },
    {
     "name": "stdout",
     "output_type": "stream",
     "text": [
      "The British Columbia Ministry\n",
      "206\n"
     ]
    },
    {
     "name": "stderr",
     "output_type": "stream",
     "text": [
      "en.wikipedia.org (query) The British Columbia Ministry\n"
     ]
    },
    {
     "name": "stdout",
     "output_type": "stream",
     "text": [
      "a SharePoint sight\n",
      "207\n"
     ]
    },
    {
     "name": "stderr",
     "output_type": "stream",
     "text": [
      "en.wikipedia.org (query) a SharePoint sight\n"
     ]
    },
    {
     "name": "stdout",
     "output_type": "stream",
     "text": [
      "other digital initiatives\n",
      "208\n"
     ]
    },
    {
     "name": "stderr",
     "output_type": "stream",
     "text": [
      "en.wikipedia.org (query) other digital initiatives\n"
     ]
    },
    {
     "name": "stdout",
     "output_type": "stream",
     "text": [
      "the SIRT\n",
      "209\n"
     ]
    },
    {
     "name": "stderr",
     "output_type": "stream",
     "text": [
      "en.wikipedia.org (query) the SIRT\n"
     ]
    },
    {
     "name": "stdout",
     "output_type": "stream",
     "text": [
      "Ranger\n",
      "210\n"
     ]
    },
    {
     "name": "stderr",
     "output_type": "stream",
     "text": [
      "en.wikipedia.org (query) Ranger\n",
      "en.wikipedia.org (parse) 10309184\n",
      "www.wikidata.org (wikidata) Q228016\n",
      "www.wikidata.org (labels) P31|Q16881864|P1889|Q4167410\n",
      "en.wikipedia.org (restbase) /page/summary/Ranger\n",
      "Ranger (en) data\n",
      "{\n",
      "  WARNINGS: <dict(1)> extracts\n",
      "  assessments: <dict(1)> Disambiguation\n",
      "  claims: <dict(2)> P31, P1889\n",
      "  description: <str(95)> Disambiguation page providing links to to...\n",
      "  disambiguation: 153\n",
      "  exhtml: <str(404)> <p><b>Ranger</b> most often refers to:</p><ul...\n",
      "  exrest: <str(336)> Ranger most often refers to:Park ranger or fo...\n",
      "  extext: <str(424)> **Ranger** most often refers to:  * Park rang...\n",
      "  extract: <str(479)> <p><b>Ranger</b> most often refers to:</p><u...\n",
      "  iwlinks: <list(2)> https://en.wiktionary.org/wiki/ranger, https:...\n",
      "  label: Ranger\n",
      "  labels: <dict(4)> P31, Q16881864, P1889, Q4167410\n",
      "  length: 11,022\n",
      "  links: <list(153)> 176th Battalion (Niagara Rangers), CEF, 1st S...\n",
      "  modified: <dict(2)> page, wikidata\n",
      "  pageid: 10309184\n",
      "  parsetree: <str(12049)> <root><template><title>wiktionary</title...\n",
      "  random: Allan Gilgrist\n",
      "  redirects: <list(11)> {'pageid': 200720, 'ns': 0, 'title': 'Rang...\n",
      "  requests: <list(5)> query, parse, wikidata, labels, restbase\n",
      "  title: Ranger\n",
      "  url: https://en.wikipedia.org/wiki/Ranger\n",
      "  url_raw: https://en.wikipedia.org/wiki/Ranger?action=raw\n",
      "  watchers: 61\n",
      "  what: Wikimedia disambiguation page\n",
      "  wikibase: Q228016\n",
      "  wikidata: <dict(2)> instance of (P31), different from (P1889)\n",
      "  wikidata_pageid: 222265\n",
      "  wikidata_url: https://www.wikidata.org/wiki/Q228016\n",
      "  wikitext: <str(10795)> {{wiktionary|ranger|rangers}}'''Ranger'''...\n",
      "}\n",
      "en.wikipedia.org (query) Data Migration Dress Rehearsals AMTST\n"
     ]
    },
    {
     "name": "stdout",
     "output_type": "stream",
     "text": [
      "Data Migration Dress Rehearsals AMTST\n",
      "211\n",
      "Digital McKinseyLeaderLeaderLeaderLeaderLeaderLeaderLeader PwC\n",
      "212\n"
     ]
    },
    {
     "name": "stderr",
     "output_type": "stream",
     "text": [
      "en.wikipedia.org (query) Digital McKinseyLeaderLeaderLeaderLeader...\n"
     ]
    },
    {
     "name": "stdout",
     "output_type": "stream",
     "text": [
      "Microsoft Azure offering\n",
      "213\n"
     ]
    },
    {
     "name": "stderr",
     "output_type": "stream",
     "text": [
      "en.wikipedia.org (query) Microsoft Azure offering\n"
     ]
    },
    {
     "name": "stdout",
     "output_type": "stream",
     "text": [
      "WPR defects\n",
      "214\n"
     ]
    },
    {
     "name": "stderr",
     "output_type": "stream",
     "text": [
      "en.wikipedia.org (query) WPR defects\n"
     ]
    },
    {
     "name": "stdout",
     "output_type": "stream",
     "text": [
      "workforce enablement Utilities\n",
      "215\n"
     ]
    },
    {
     "name": "stderr",
     "output_type": "stream",
     "text": [
      "en.wikipedia.org (query) workforce enablement Utilities\n"
     ]
    },
    {
     "name": "stdout",
     "output_type": "stream",
     "text": [
      "digital agencies\n",
      "216\n"
     ]
    },
    {
     "name": "stderr",
     "output_type": "stream",
     "text": [
      "en.wikipedia.org (query) digital agencies\n"
     ]
    },
    {
     "name": "stdout",
     "output_type": "stream",
     "text": [
      "DXC Finance\n",
      "217\n"
     ]
    },
    {
     "name": "stderr",
     "output_type": "stream",
     "text": [
      "en.wikipedia.org (query) DXC Finance\n"
     ]
    },
    {
     "name": "stdout",
     "output_type": "stream",
     "text": [
      "Document Corrective Actions AMPro\n",
      "218\n"
     ]
    },
    {
     "name": "stderr",
     "output_type": "stream",
     "text": [
      "en.wikipedia.org (query) Document Corrective Actions AMPro\n"
     ]
    },
    {
     "name": "stdout",
     "output_type": "stream",
     "text": [
      "technical SME\n",
      "219\n"
     ]
    },
    {
     "name": "stderr",
     "output_type": "stream",
     "text": [
      "en.wikipedia.org (query) technical SME\n"
     ]
    },
    {
     "name": "stdout",
     "output_type": "stream",
     "text": [
      "more complex blockchain technology\n",
      "220\n"
     ]
    },
    {
     "name": "stderr",
     "output_type": "stream",
     "text": [
      "en.wikipedia.org (query) more complex blockchain technology\n"
     ]
    },
    {
     "name": "stdout",
     "output_type": "stream",
     "text": [
      "VMware VCPP\n",
      "221\n"
     ]
    },
    {
     "name": "stderr",
     "output_type": "stream",
     "text": [
      "en.wikipedia.org (query) VMware VCPP\n"
     ]
    },
    {
     "name": "stdout",
     "output_type": "stream",
     "text": [
      "the digital\n",
      "222\n"
     ]
    },
    {
     "name": "stderr",
     "output_type": "stream",
     "text": [
      "en.wikipedia.org (query) the digital\n"
     ]
    },
    {
     "name": "stdout",
     "output_type": "stream",
     "text": [
      "AMS services\n",
      "223\n"
     ]
    },
    {
     "name": "stderr",
     "output_type": "stream",
     "text": [
      "en.wikipedia.org (query) AMS services\n"
     ]
    },
    {
     "name": "stdout",
     "output_type": "stream",
     "text": [
      "a smart data discovery tool\n",
      "224\n"
     ]
    },
    {
     "name": "stderr",
     "output_type": "stream",
     "text": [
      "en.wikipedia.org (query) a smart data discovery tool\n"
     ]
    },
    {
     "name": "stdout",
     "output_type": "stream",
     "text": [
      "Microsoft Productivity Partner\n",
      "225\n"
     ]
    },
    {
     "name": "stderr",
     "output_type": "stream",
     "text": [
      "en.wikipedia.org (query) Microsoft Productivity Partner\n"
     ]
    },
    {
     "name": "stdout",
     "output_type": "stream",
     "text": [
      "CAD or Office applications\n",
      "226\n"
     ]
    },
    {
     "name": "stderr",
     "output_type": "stream",
     "text": [
      "en.wikipedia.org (query) CAD or Office applications\n"
     ]
    },
    {
     "name": "stdout",
     "output_type": "stream",
     "text": [
      "Google Cloud Platform GCP offerings\n",
      "227\n"
     ]
    },
    {
     "name": "stderr",
     "output_type": "stream",
     "text": [
      "en.wikipedia.org (query) Google Cloud Platform GCP offerings\n"
     ]
    },
    {
     "name": "stdout",
     "output_type": "stream",
     "text": [
      "Predix MindSphere\n",
      "228\n"
     ]
    },
    {
     "name": "stderr",
     "output_type": "stream",
     "text": [
      "en.wikipedia.org (query) Predix MindSphere\n"
     ]
    },
    {
     "name": "stdout",
     "output_type": "stream",
     "text": [
      "HP s ability\n",
      "229\n"
     ]
    },
    {
     "name": "stderr",
     "output_type": "stream",
     "text": [
      "en.wikipedia.org (query) HP s ability\n"
     ]
    },
    {
     "name": "stdout",
     "output_type": "stream",
     "text": [
      "Realization Phase Signoff\n",
      "230\n"
     ]
    },
    {
     "name": "stderr",
     "output_type": "stream",
     "text": [
      "en.wikipedia.org (query) Realization Phase Signoff\n"
     ]
    },
    {
     "name": "stdout",
     "output_type": "stream",
     "text": [
      "your craft\n",
      "231\n"
     ]
    },
    {
     "name": "stderr",
     "output_type": "stream",
     "text": [
      "en.wikipedia.org (query) your craft\n"
     ]
    },
    {
     "name": "stdout",
     "output_type": "stream",
     "text": [
      "DXC Responsibilities\n",
      "232\n"
     ]
    },
    {
     "name": "stderr",
     "output_type": "stream",
     "text": [
      "en.wikipedia.org (query) DXC Responsibilities\n"
     ]
    },
    {
     "name": "stdout",
     "output_type": "stream",
     "text": [
      "dash boarding LAMBDA\n",
      "233\n"
     ]
    },
    {
     "name": "stderr",
     "output_type": "stream",
     "text": [
      "en.wikipedia.org (query) dash boarding LAMBDA\n"
     ]
    },
    {
     "name": "stdout",
     "output_type": "stream",
     "text": [
      "their digital assets\n",
      "234\n"
     ]
    },
    {
     "name": "stderr",
     "output_type": "stream",
     "text": [
      "en.wikipedia.org (query) their digital assets\n"
     ]
    },
    {
     "name": "stdout",
     "output_type": "stream",
     "text": [
      "the digital twin planning process\n",
      "235\n"
     ]
    },
    {
     "name": "stderr",
     "output_type": "stream",
     "text": [
      "en.wikipedia.org (query) the digital twin planning process\n"
     ]
    },
    {
     "name": "stdout",
     "output_type": "stream",
     "text": [
      "a healthcare connected ecosystem\n",
      "236\n"
     ]
    },
    {
     "name": "stderr",
     "output_type": "stream",
     "text": [
      "en.wikipedia.org (query) a healthcare connected ecosystem\n"
     ]
    },
    {
     "name": "stdout",
     "output_type": "stream",
     "text": [
      "ACM Transactions\n",
      "237\n"
     ]
    },
    {
     "name": "stderr",
     "output_type": "stream",
     "text": [
      "en.wikipedia.org (query) ACM Transactions\n"
     ]
    },
    {
     "name": "stdout",
     "output_type": "stream",
     "text": [
      " Transportation management ACUD\n",
      "238\n"
     ]
    },
    {
     "name": "stderr",
     "output_type": "stream",
     "text": [
      "en.wikipedia.org (query)  Transportation management ACUD\n"
     ]
    },
    {
     "name": "stdout",
     "output_type": "stream",
     "text": [
      "MyWorkStyle\n",
      "239\n"
     ]
    },
    {
     "name": "stderr",
     "output_type": "stream",
     "text": [
      "en.wikipedia.org (query) MyWorkStyle\n"
     ]
    },
    {
     "name": "stdout",
     "output_type": "stream",
     "text": [
      "Our Commitment DXC\n",
      "240\n"
     ]
    },
    {
     "name": "stderr",
     "output_type": "stream",
     "text": [
      "en.wikipedia.org (query) Our Commitment DXC\n"
     ]
    },
    {
     "name": "stdout",
     "output_type": "stream",
     "text": [
      "the REST API\n",
      "241\n"
     ]
    },
    {
     "name": "stderr",
     "output_type": "stream",
     "text": [
      "en.wikipedia.org (query) the REST API\n"
     ]
    },
    {
     "name": "stdout",
     "output_type": "stream",
     "text": [
      "a Chief Digital Officer\n",
      "242\n"
     ]
    },
    {
     "name": "stderr",
     "output_type": "stream",
     "text": [
      "en.wikipedia.org (query) a Chief Digital Officer\n"
     ]
    },
    {
     "name": "stdout",
     "output_type": "stream",
     "text": [
      "the HCM application\n",
      "243\n"
     ]
    },
    {
     "name": "stderr",
     "output_type": "stream",
     "text": [
      "en.wikipedia.org (query) the HCM application\n"
     ]
    },
    {
     "name": "stdout",
     "output_type": "stream",
     "text": [
      "client demand Luxoft Canada\n",
      "244\n"
     ]
    },
    {
     "name": "stderr",
     "output_type": "stream",
     "text": [
      "en.wikipedia.org (query) client demand Luxoft Canada\n"
     ]
    },
    {
     "name": "stdout",
     "output_type": "stream",
     "text": [
      "pilots DXC\n",
      "245\n"
     ]
    },
    {
     "name": "stderr",
     "output_type": "stream",
     "text": [
      "en.wikipedia.org (query) pilots DXC\n"
     ]
    },
    {
     "name": "stdout",
     "output_type": "stream",
     "text": [
      "Logical Data Model AMPDP\n",
      "246\n"
     ]
    },
    {
     "name": "stderr",
     "output_type": "stream",
     "text": [
      "en.wikipedia.org (query) Logical Data Model AMPDP\n"
     ]
    },
    {
     "name": "stdout",
     "output_type": "stream",
     "text": [
      "Americas India\n",
      "247\n"
     ]
    },
    {
     "name": "stderr",
     "output_type": "stream",
     "text": [
      "en.wikipedia.org (query) Americas India\n"
     ]
    },
    {
     "name": "stdout",
     "output_type": "stream",
     "text": [
      "MANAGEMENT DELIVERABLES\n",
      "248\n"
     ]
    },
    {
     "name": "stderr",
     "output_type": "stream",
     "text": [
      "en.wikipedia.org (query) MANAGEMENT DELIVERABLES\n"
     ]
    },
    {
     "name": "stdout",
     "output_type": "stream",
     "text": [
      "digital RIM systems\n",
      "249\n"
     ]
    },
    {
     "name": "stderr",
     "output_type": "stream",
     "text": [
      "en.wikipedia.org (query) digital RIM systems\n"
     ]
    },
    {
     "name": "stdout",
     "output_type": "stream",
     "text": [
      "Smart RPA outcomes model\n",
      "250\n"
     ]
    },
    {
     "name": "stderr",
     "output_type": "stream",
     "text": [
      "en.wikipedia.org (query) Smart RPA outcomes model\n"
     ]
    },
    {
     "name": "stdout",
     "output_type": "stream",
     "text": [
      "HIPAA Gramm Leach Bliley\n",
      "251\n"
     ]
    },
    {
     "name": "stderr",
     "output_type": "stream",
     "text": [
      "en.wikipedia.org (query) HIPAA Gramm Leach Bliley\n"
     ]
    },
    {
     "name": "stdout",
     "output_type": "stream",
     "text": [
      "the digital dexterity\n",
      "252\n"
     ]
    },
    {
     "name": "stderr",
     "output_type": "stream",
     "text": [
      "en.wikipedia.org (query) the digital dexterity\n"
     ]
    },
    {
     "name": "stdout",
     "output_type": "stream",
     "text": [
      "DXC software developers\n",
      "253\n"
     ]
    },
    {
     "name": "stderr",
     "output_type": "stream",
     "text": [
      "en.wikipedia.org (query) DXC software developers\n"
     ]
    },
    {
     "name": "stdout",
     "output_type": "stream",
     "text": [
      "the FSIII solution\n",
      "254\n"
     ]
    },
    {
     "name": "stderr",
     "output_type": "stream",
     "text": [
      "en.wikipedia.org (query) the FSIII solution\n"
     ]
    },
    {
     "name": "stdout",
     "output_type": "stream",
     "text": [
      "Demand Planning Demand Planning Enablement\n",
      "255\n"
     ]
    },
    {
     "name": "stderr",
     "output_type": "stream",
     "text": [
      "en.wikipedia.org (query) Demand Planning Demand Planning Enablement\n"
     ]
    },
    {
     "name": "stdout",
     "output_type": "stream",
     "text": [
      "Dan Hushon\n",
      "256\n"
     ]
    },
    {
     "name": "stderr",
     "output_type": "stream",
     "text": [
      "en.wikipedia.org (query) Dan Hushon\n"
     ]
    },
    {
     "name": "stdout",
     "output_type": "stream",
     "text": [
      "PHI protected health information\n",
      "257\n"
     ]
    },
    {
     "name": "stderr",
     "output_type": "stream",
     "text": [
      "en.wikipedia.org (query) PHI protected health information\n"
     ]
    },
    {
     "name": "stdout",
     "output_type": "stream",
     "text": [
      "the Pinnacle Enterprise outcomes model\n",
      "258\n"
     ]
    },
    {
     "name": "stderr",
     "output_type": "stream",
     "text": [
      "en.wikipedia.org (query) the Pinnacle Enterprise outcomes model\n"
     ]
    },
    {
     "name": "stdout",
     "output_type": "stream",
     "text": [
      "the digital transformation technologies\n",
      "259\n"
     ]
    },
    {
     "name": "stderr",
     "output_type": "stream",
     "text": [
      "en.wikipedia.org (query) the digital transformation technologies\n"
     ]
    },
    {
     "name": "stdout",
     "output_type": "stream",
     "text": [
      "Analyst recognitions Wipro\n",
      "260\n"
     ]
    },
    {
     "name": "stderr",
     "output_type": "stream",
     "text": [
      "en.wikipedia.org (query) Analyst recognitions Wipro\n"
     ]
    },
    {
     "name": "stdout",
     "output_type": "stream",
     "text": [
      "ABAP Dynpro screens\n",
      "261\n"
     ]
    },
    {
     "name": "stderr",
     "output_type": "stream",
     "text": [
      "en.wikipedia.org (query) ABAP Dynpro screens\n"
     ]
    },
    {
     "name": "stdout",
     "output_type": "stream",
     "text": [
      "DXC Application Services\n",
      "262\n"
     ]
    },
    {
     "name": "stderr",
     "output_type": "stream",
     "text": [
      "en.wikipedia.org (query) DXC Application Services\n"
     ]
    },
    {
     "name": "stdout",
     "output_type": "stream",
     "text": [
      "Wi Fi performance\n",
      "263\n"
     ]
    },
    {
     "name": "stderr",
     "output_type": "stream",
     "text": [
      "en.wikipedia.org (query) Wi Fi performance\n"
     ]
    },
    {
     "name": "stdout",
     "output_type": "stream",
     "text": [
      "future SOA initiatives\n",
      "264\n"
     ]
    },
    {
     "name": "stderr",
     "output_type": "stream",
     "text": [
      "en.wikipedia.org (query) future SOA initiatives\n"
     ]
    },
    {
     "name": "stdout",
     "output_type": "stream",
     "text": [
      "the MSP Server\n",
      "265\n"
     ]
    },
    {
     "name": "stderr",
     "output_type": "stream",
     "text": [
      "en.wikipedia.org (query) the MSP Server\n"
     ]
    },
    {
     "name": "stdout",
     "output_type": "stream",
     "text": [
      "VISA\n",
      "266\n"
     ]
    },
    {
     "name": "stderr",
     "output_type": "stream",
     "text": [
      "en.wikipedia.org (query) VISA\n",
      "en.wikipedia.org (parse) 246920\n",
      "www.wikidata.org (wikidata) Q328840\n",
      "www.wikidata.org (labels) P112|P227|P355|P949|Q43301|P463|P1448|P...\n",
      "www.wikidata.org (labels) P18|P3479|P571|Q3521248|P2139|P2295|P20...\n",
      "en.wikipedia.org (restbase) /page/summary/Visa_Inc.\n",
      "en.wikipedia.org (imageinfo) File:Old Visa Inc headquarters.jpg\n",
      "Visa Inc. (en) data\n",
      "{\n",
      "  WARNINGS: <dict(1)> extracts\n",
      "  aliases: <list(2)> Visa, Visa Inc\n",
      "  assessments: <dict(3)> California, Companies, Finance & Investment\n",
      "  claims: <dict(49)> P373, P31, P414, P571, P452, P159, P646, P18,...\n",
      "  description: <str(69)> Multinational financial company best know...\n",
      "  exhtml: <str(738)> <p><b>Visa Inc.</b> is an American multinatio...\n",
      "  exrest: <str(724)> Visa Inc. is an American multinational financ...\n",
      "  extext: <str(1957)> **Visa Inc.** ( or ) (also known as **Visa**...\n",
      "  extract: <str(2052)> <p><b>Visa Inc.</b> (<span></span> or <span...\n",
      "  image: <list(6)> {'kind': 'query-pageimage', 'file': 'File:Old V...\n",
      "  infobox: <dict(22)> name, logo, logo_size, image, image_caption,...\n",
      "  iwlinks: <list(1)> https://commons.wikimedia.org/wiki/Category:V...\n",
      "  label: Visa Inc.\n",
      "  labels: <dict(73)> P112, P227, P355, P949, Q43301, P463, P1448, ...\n",
      "  length: 72,827\n",
      "  links: <list(303)> 1995 IndyCar season, 1996 IndyCar season, 201...\n",
      "  modified: <dict(2)> page, wikidata\n",
      "  pageid: 246920\n",
      "  parsetree: <str(91184)> <root><template><title>short description...\n",
      "  random: Chimbo Canton\n",
      "  redirected: <list(1)> {'from': 'VISA', 'to': 'Visa Inc.'}\n",
      "  redirects: <list(40)> {'pageid': 254322, 'ns': 0, 'title': 'VISA...\n",
      "  requests: <list(7)> query, parse, wikidata, labels, labels, rest...\n",
      "  title: Visa_Inc.\n",
      "  url: https://en.wikipedia.org/wiki/Visa_Inc.\n",
      "  url_raw: https://en.wikipedia.org/wiki/Visa_Inc.?action=raw\n",
      "  watchers: 295\n",
      "  what: multinational corporation\n",
      "  wikibase: Q328840\n",
      "  wikidata: <dict(49)> Commons category (P373), instance of (P31),...\n",
      "  wikidata_pageid: 315654\n",
      "  wikidata_url: https://www.wikidata.org/wiki/Q328840\n",
      "  wikitext: <str(72346)> {{short description|Multinational financi...\n",
      "}\n",
      "en.wikipedia.org (query) Appirio s TopCoder crowdsourcing platform\n"
     ]
    },
    {
     "name": "stdout",
     "output_type": "stream",
     "text": [
      "Appirio s TopCoder crowdsourcing platform\n",
      "267\n",
      "Supporting Assets Repository SAR Administration\n",
      "268\n"
     ]
    },
    {
     "name": "stderr",
     "output_type": "stream",
     "text": [
      "en.wikipedia.org (query) Supporting Assets Repository SAR Adminis...\n"
     ]
    },
    {
     "name": "stdout",
     "output_type": "stream",
     "text": [
      "SAR assets\n",
      "269\n"
     ]
    },
    {
     "name": "stderr",
     "output_type": "stream",
     "text": [
      "en.wikipedia.org (query) SAR assets\n"
     ]
    },
    {
     "name": "stdout",
     "output_type": "stream",
     "text": [
      "DXC Solution SAA Requirements\n",
      "270\n"
     ]
    },
    {
     "name": "stderr",
     "output_type": "stream",
     "text": [
      "en.wikipedia.org (query) DXC Solution SAA Requirements\n"
     ]
    },
    {
     "name": "stdout",
     "output_type": "stream",
     "text": [
      "the Deliverables templates\n",
      "271\n"
     ]
    },
    {
     "name": "stderr",
     "output_type": "stream",
     "text": [
      "en.wikipedia.org (query) the Deliverables templates\n"
     ]
    },
    {
     "name": "stdout",
     "output_type": "stream",
     "text": [
      "Microsoft s largest partners\n",
      "272\n"
     ]
    },
    {
     "name": "stderr",
     "output_type": "stream",
     "text": [
      "en.wikipedia.org (query) Microsoft s largest partners\n"
     ]
    },
    {
     "name": "stdout",
     "output_type": "stream",
     "text": [
      "YTL communications\n",
      "273\n"
     ]
    },
    {
     "name": "stderr",
     "output_type": "stream",
     "text": [
      "en.wikipedia.org (query) YTL communications\n"
     ]
    },
    {
     "name": "stdout",
     "output_type": "stream",
     "text": [
      "Ford\n",
      "274\n"
     ]
    },
    {
     "name": "stderr",
     "output_type": "stream",
     "text": [
      "en.wikipedia.org (query) Ford\n",
      "en.wikipedia.org (query) Ford Motor Company (&plcontinue=30433662...\n",
      "en.wikipedia.org (query) Ford Motor Company (&plcontinue=30433662...\n",
      "en.wikipedia.org (parse) 30433662\n",
      "www.wikidata.org (wikidata) Q44294\n",
      "www.wikidata.org (labels) Q1361045|P2397|P138|Q1144312|P463|Q1790...\n",
      "www.wikidata.org (labels) Q613883|P488|P6782|Q5467836|Q8768|Q1367...\n",
      "www.wikidata.org (labels) P355|Q1764199|Q891723|P214|P373|Q571943...\n",
      "en.wikipedia.org (restbase) /page/summary/Ford_Motor_Company\n",
      "en.wikipedia.org (imageinfo) File:FordGlassHouse.jpg\n",
      "Ford Motor Company (en) data\n",
      "{\n",
      "  WARNINGS: <dict(1)> extracts\n",
      "  aliases: <list(6)> FoMoCo, Ford Motors, Ford Motor, Ford Motor C...\n",
      "  assessments: <dict(5)> Companies, Brands, Automobiles, Michigan,...\n",
      "  claims: <dict(71)> P946, P31, P414, P452, P373, P159, P488, P169...\n",
      "  description: American multinational automobile manufacturer\n",
      "  exhtml: <str(735)> <p><b>Ford Motor Company</b>, commonly known ...\n",
      "  exrest: <str(714)> Ford Motor Company, commonly known as Ford, i...\n",
      "  extext: <str(2218)> **Ford Motor Company** , commonly known as *...\n",
      "  extract: <str(2319)> <p class=\"mw-empty-elt\"></p><p><span></span...\n",
      "  image: <list(10)> {'kind': 'query-pageimage', 'file': 'File:Ford...\n",
      "  infobox: <dict(27)> name, logo, image, image_size, image_caption...\n",
      "  iwlinks: <list(8)> https://commons.wikimedia.org/wiki/Category:F...\n",
      "  label: Ford Motor Company\n",
      "  labels: <dict(122)> Q1361045, P2397, P138, Q1144312, P463, Q1790...\n",
      "  length: 162,365\n",
      "  links: <list(1233)> 1932 Ford, 1937 Ford, 1941 Ford, 1949 Ford, ...\n",
      "  modified: <dict(2)> page, wikidata\n",
      "  pageid: 30433662\n",
      "  parsetree: <str(196352)> <root><template><title>Redirect</title>...\n",
      "  random: Mercato eruption\n",
      "  redirects: <list(31)> {'pageid': 180520, 'ns': 0, 'title': 'FoMo...\n",
      "  requests: <list(10)> query, query, query, parse, wikidata, label...\n",
      "  title: Ford_Motor_Company\n",
      "  url: https://en.wikipedia.org/wiki/Ford_Motor_Company\n",
      "  url_raw: https://en.wikipedia.org/wiki/Ford_Motor_Company?action=raw\n",
      "  watchers: 642\n",
      "  what: automobile manufacturer\n",
      "  wikibase: Q44294\n",
      "  wikidata: <dict(71)> ISIN (P946), instance of (P31), stock excha...\n",
      "  wikidata_pageid: 46479\n",
      "  wikidata_url: https://www.wikidata.org/wiki/Q44294\n",
      "  wikitext: <str(161303)> {{Redirect|Ford}}{{pp-semi-indef}}{{pp-m...\n",
      "}\n",
      "en.wikipedia.org (query) OPX AT T NOLA\n"
     ]
    },
    {
     "name": "stdout",
     "output_type": "stream",
     "text": [
      "OPX AT T NOLA\n",
      "275\n",
      "The RPA Maturity Model\n",
      "276\n"
     ]
    },
    {
     "name": "stderr",
     "output_type": "stream",
     "text": [
      "en.wikipedia.org (query) The RPA Maturity Model\n"
     ]
    },
    {
     "name": "stdout",
     "output_type": "stream",
     "text": [
      "sure beautifui\n",
      "277\n"
     ]
    },
    {
     "name": "stderr",
     "output_type": "stream",
     "text": [
      "en.wikipedia.org (query) sure beautifui\n"
     ]
    },
    {
     "name": "stdout",
     "output_type": "stream",
     "text": [
      "the tech transformation\n",
      "278\n"
     ]
    },
    {
     "name": "stderr",
     "output_type": "stream",
     "text": [
      "en.wikipedia.org (query) the tech transformation\n"
     ]
    },
    {
     "name": "stdout",
     "output_type": "stream",
     "text": [
      "EOSRWK Establish\n",
      "279\n"
     ]
    },
    {
     "name": "stderr",
     "output_type": "stream",
     "text": [
      "en.wikipedia.org (query) EOSRWK Establish\n"
     ]
    },
    {
     "name": "stdout",
     "output_type": "stream",
     "text": [
      "healthcare facility\n",
      "280\n"
     ]
    },
    {
     "name": "stderr",
     "output_type": "stream",
     "text": [
      "en.wikipedia.org (query) healthcare facility\n"
     ]
    },
    {
     "name": "stdout",
     "output_type": "stream",
     "text": [
      "more digital services\n",
      "281\n"
     ]
    },
    {
     "name": "stderr",
     "output_type": "stream",
     "text": [
      "en.wikipedia.org (query) more digital services\n"
     ]
    },
    {
     "name": "stdout",
     "output_type": "stream",
     "text": [
      "CSC s Board\n",
      "282\n"
     ]
    },
    {
     "name": "stderr",
     "output_type": "stream",
     "text": [
      "en.wikipedia.org (query) CSC s Board\n"
     ]
    },
    {
     "name": "stdout",
     "output_type": "stream",
     "text": [
      "the Forbes Global\n",
      "283\n"
     ]
    },
    {
     "name": "stderr",
     "output_type": "stream",
     "text": [
      "en.wikipedia.org (query) the Forbes Global\n"
     ]
    },
    {
     "name": "stdout",
     "output_type": "stream",
     "text": [
      "the VBO\n",
      "284\n"
     ]
    },
    {
     "name": "stderr",
     "output_type": "stream",
     "text": [
      "en.wikipedia.org (query) the VBO\n"
     ]
    },
    {
     "name": "stdout",
     "output_type": "stream",
     "text": [
      "Digital Business Process Transformation\n",
      "285\n"
     ]
    },
    {
     "name": "stderr",
     "output_type": "stream",
     "text": [
      "en.wikipedia.org (query) Digital Business Process Transformation\n"
     ]
    },
    {
     "name": "stdout",
     "output_type": "stream",
     "text": [
      "Healthcare transformation\n",
      "286\n"
     ]
    },
    {
     "name": "stderr",
     "output_type": "stream",
     "text": [
      "en.wikipedia.org (query) Healthcare transformation\n"
     ]
    },
    {
     "name": "stdout",
     "output_type": "stream",
     "text": [
      "GPS\n",
      "287\n"
     ]
    },
    {
     "name": "stderr",
     "output_type": "stream",
     "text": [
      "en.wikipedia.org (query) GPS\n",
      "en.wikipedia.org (query) Global Positioning System (&plcontinue=1...\n",
      "en.wikipedia.org (parse) 11866\n",
      "www.wikidata.org (wikidata) Q18822\n",
      "www.wikidata.org (labels) P227|Q30|P646|P3417|P508|P1014|P935|P63...\n",
      "en.wikipedia.org (restbase) /page/summary/Global_Positioning_System\n",
      "en.wikipedia.org (imageinfo) File:NAVSTAR GPS logo.png\n",
      "Global Positioning System (en) data\n",
      "{\n",
      "  WARNINGS: <dict(1)> extracts\n",
      "  aliases: <list(2)> GPS, Global Positioning System, GPS\n",
      "  assessments: <dict(10)> Military history, Wikipedia 1.0, Spacefl...\n",
      "  claims: <dict(30)> P31, P373, P508, P227, P279, P910, P935, P646...\n",
      "  description: United States satellite navigation system\n",
      "  exhtml: <str(530)> <p>The <b>Global Positioning System</b> (<b>G...\n",
      "  exrest: <str(502)> The Global Positioning System (GPS), original...\n",
      "  extext: <str(3254)> The **Global Positioning System** ( **GPS** ...\n",
      "  extract: <str(3370)> <p class=\"mw-empty-elt\"></p><p>The <b>Globa...\n",
      "  image: <list(7)> {'kind': 'query-pageimage', 'file': 'File:NAVST...\n",
      "  infobox: <dict(14)> name, image, country, type, status, operator...\n",
      "  iwlinks: <list(1)> https://commons.wikimedia.org/wiki/Global_Pos...\n",
      "  label: Global Positioning System\n",
      "  labels: <dict(38)> P227, Q30, P646, P3417, P508, P1014, P935, P6...\n",
      "  length: 168,232\n",
      "  links: <list(865)> 2nd Space Operations Squadron, 427th Special ...\n",
      "  modified: <dict(2)> page, wikidata\n",
      "  pageid: 11866\n",
      "  parsetree: <str(204918)> <root><template><title>short descriptio...\n",
      "  random: Karthago Airlines\n",
      "  redirects: <list(41)> {'pageid': 12993, 'ns': 0, 'title': 'Globa...\n",
      "  requests: <list(7)> query, query, parse, wikidata, labels, restb...\n",
      "  title: Global_Positioning_System\n",
      "  url: https://en.wikipedia.org/wiki/Global_Positioning_System\n",
      "  url_raw: <str(66)> https://en.wikipedia.org/wiki/Global_Position...\n",
      "  watchers: 1,123\n",
      "  what: Radionavigation-satellite service\n",
      "  wikibase: Q18822\n",
      "  wikidata: <dict(30)> instance of (P31), Commons category (P373),...\n",
      "  wikidata_pageid: 21904\n",
      "  wikidata_url: https://www.wikidata.org/wiki/Q18822\n",
      "  wikitext: <str(167344)> {{short description|United States satell...\n",
      "}\n",
      "en.wikipedia.org (query) TCS percent\n"
     ]
    },
    {
     "name": "stdout",
     "output_type": "stream",
     "text": [
      "TCS percent\n",
      "288\n",
      "that Microsoft relationship\n",
      "289\n"
     ]
    },
    {
     "name": "stderr",
     "output_type": "stream",
     "text": [
      "en.wikipedia.org (query) that Microsoft relationship\n"
     ]
    },
    {
     "name": "stdout",
     "output_type": "stream",
     "text": [
      "the New Base Provisions SAA\n",
      "290\n"
     ]
    },
    {
     "name": "stderr",
     "output_type": "stream",
     "text": [
      "en.wikipedia.org (query) the New Base Provisions SAA\n"
     ]
    },
    {
     "name": "stdout",
     "output_type": "stream",
     "text": [
      "Vaughan Lee\n",
      "291\n"
     ]
    },
    {
     "name": "stderr",
     "output_type": "stream",
     "text": [
      "en.wikipedia.org (query) Vaughan Lee\n",
      "en.wikipedia.org (parse) 17731975\n",
      "www.wikidata.org (wikidata) Q7917277\n",
      "www.wikidata.org (labels) P31|Q1860|P407|Q101352\n",
      "en.wikipedia.org (restbase) /page/summary/Vaughan-Lee\n",
      "Vaughan-Lee (en) data\n",
      "{\n",
      "  WARNINGS: <dict(1)> extracts\n",
      "  assessments: <dict(1)> Disambiguation\n",
      "  claims: <dict(2)> P31, P407\n",
      "  description: Surname list\n",
      "  exhtml: <str(372)> <p><b>Vaughan-Lee</b> may refer to:</p><ul><l...\n",
      "  exrest: <str(295)> Vaughan-Lee may refer to:Charles Vaughan-Lee ...\n",
      "  extext: <str(347)> **Vaughan-Lee** may refer to:  * Charles Vaug...\n",
      "  extract: <str(396)> <p><b>Vaughan-Lee</b> may refer to:</p><ul><...\n",
      "  label: Vaughan-Lee\n",
      "  labels: <dict(4)> P31, Q1860, P407, Q101352\n",
      "  length: 806\n",
      "  links: <list(11)> Charles Vaughan-Lee, Emmanuel Vaughan-Lee, Giv...\n",
      "  modified: <dict(2)> page, wikidata\n",
      "  pageid: 17731975\n",
      "  parsetree: <str(944)> <root>'''Vaughan-Lee''' may refer to:*[[Ch...\n",
      "  random: Pseudoleucania diana\n",
      "  redirected: <list(1)> {'from': 'Vaughan Lee', 'to': 'Vaughan-Lee'}\n",
      "  redirects: <list(1)> {'pageid': 17731979, 'ns': 0, 'title': 'Vau...\n",
      "  requests: <list(5)> query, parse, wikidata, labels, restbase\n",
      "  title: Vaughan-Lee\n",
      "  url: https://en.wikipedia.org/wiki/Vaughan-Lee\n",
      "  url_raw: https://en.wikipedia.org/wiki/Vaughan-Lee?action=raw\n",
      "  what: family name\n",
      "  wikibase: Q7917277\n",
      "  wikidata: <dict(2)> instance of (P31), language of work or name ...\n",
      "  wikidata_pageid: 7855878\n",
      "  wikidata_url: https://www.wikidata.org/wiki/Q7917277\n",
      "  wikitext: <str(782)> '''Vaughan-Lee''' may refer to:*[[Charles V...\n",
      "}\n",
      "en.wikipedia.org (query) any PSS\n"
     ]
    },
    {
     "name": "stdout",
     "output_type": "stream",
     "text": [
      "any PSS\n",
      "292\n",
      "Weiss\n",
      "293\n"
     ]
    },
    {
     "name": "stderr",
     "output_type": "stream",
     "text": [
      "en.wikipedia.org (query) Weiss\n",
      "en.wikipedia.org (parse) 1310638\n",
      "www.wikidata.org (wikidata) Q252713\n",
      "www.wikidata.org (labels) P31|Q77317507|Q4167410|Q12763274|Q14521...\n",
      "en.wikipedia.org (restbase) /page/summary/Weiss\n",
      "Weiss (en) data\n",
      "{\n",
      "  WARNINGS: <dict(1)> extracts\n",
      "  assessments: <dict(1)> Disambiguation\n",
      "  claims: <dict(3)> P31, P460, P1889\n",
      "  description: <str(95)> Disambiguation page providing links to to...\n",
      "  disambiguation: 20\n",
      "  exhtml: <p><b>Weiss</b> or <b>Weiß</b> may refer to:</p>\n",
      "  exrest: Weiss or Weiß may refer to:\n",
      "  extext: **Weiss** or **Weiß** may refer to:\n",
      "  extract: <p><b>Weiss</b> or <b>Weiß</b> may refer to:</p>\n",
      "  iwlinks: <list(1)> https://en.wiktionary.org/wiki/weiss\n",
      "  label: Weiss\n",
      "  labels: <dict(20)> P31, Q77317507, Q4167410, Q12763274, Q145210,...\n",
      "  length: 1,293\n",
      "  links: <list(20)> Case White, Fall Weiss (1939), Mount Weiss, Na...\n",
      "  modified: <dict(2)> page, wikidata\n",
      "  pageid: 1310638\n",
      "  parsetree: <str(1681)> <root><template><title>wiktionarypar</tit...\n",
      "  random: Huron—Perth\n",
      "  redirects: <list(2)> {'pageid': 12241288, 'ns': 0, 'title': 'Wei...\n",
      "  requests: <list(5)> query, parse, wikidata, labels, restbase\n",
      "  title: Weiss\n",
      "  url: https://en.wikipedia.org/wiki/Weiss\n",
      "  url_raw: https://en.wikipedia.org/wiki/Weiss?action=raw\n",
      "  what: Wikimedia disambiguation page\n",
      "  wikibase: Q252713\n",
      "  wikidata: <dict(2)> instance of (P31), different from (P1889)\n",
      "  wikidata_pageid: 245287\n",
      "  wikidata_url: https://www.wikidata.org/wiki/Q252713\n",
      "  wikitext: <str(1251)> {{wiktionarypar|weiss}}'''Weiss''' or '''W...\n",
      "}\n",
      "en.wikipedia.org (query) Digital Business Leadership\n"
     ]
    },
    {
     "name": "stdout",
     "output_type": "stream",
     "text": [
      "Digital Business Leadership\n",
      "294\n",
      "bionic scope\n",
      "295\n"
     ]
    },
    {
     "name": "stderr",
     "output_type": "stream",
     "text": [
      "en.wikipedia.org (query) bionic scope\n"
     ]
    },
    {
     "name": "stdout",
     "output_type": "stream",
     "text": [
      "Scope AMETM\n",
      "296\n"
     ]
    },
    {
     "name": "stderr",
     "output_type": "stream",
     "text": [
      "en.wikipedia.org (query) Scope AMETM\n"
     ]
    },
    {
     "name": "stdout",
     "output_type": "stream",
     "text": [
      "a blockchain environment\n",
      "297\n"
     ]
    },
    {
     "name": "stderr",
     "output_type": "stream",
     "text": [
      "en.wikipedia.org (query) a blockchain environment\n"
     ]
    },
    {
     "name": "stdout",
     "output_type": "stream",
     "text": [
      "the crown jewel\n",
      "298\n"
     ]
    },
    {
     "name": "stderr",
     "output_type": "stream",
     "text": [
      "en.wikipedia.org (query) the crown jewel\n"
     ]
    },
    {
     "name": "stdout",
     "output_type": "stream",
     "text": [
      "innovative healthcare\n",
      "299\n"
     ]
    },
    {
     "name": "stderr",
     "output_type": "stream",
     "text": [
      "en.wikipedia.org (query) innovative healthcare\n"
     ]
    },
    {
     "name": "stdout",
     "output_type": "stream",
     "text": [
      "an SDA Center\n",
      "300\n"
     ]
    },
    {
     "name": "stderr",
     "output_type": "stream",
     "text": [
      "en.wikipedia.org (query) an SDA Center\n"
     ]
    },
    {
     "name": "stdout",
     "output_type": "stream",
     "text": [
      "Expectations and Report Results AMMSE\n",
      "301\n"
     ]
    },
    {
     "name": "stderr",
     "output_type": "stream",
     "text": [
      "en.wikipedia.org (query) Expectations and Report Results AMMSE\n"
     ]
    },
    {
     "name": "stdout",
     "output_type": "stream",
     "text": [
      "Copyright DXC Technology Company\n",
      "302\n"
     ]
    },
    {
     "name": "stderr",
     "output_type": "stream",
     "text": [
      "en.wikipedia.org (query) Copyright DXC Technology Company\n"
     ]
    },
    {
     "name": "stdout",
     "output_type": "stream",
     "text": [
      "Philip Milne practice director\n",
      "303\n"
     ]
    },
    {
     "name": "stderr",
     "output_type": "stream",
     "text": [
      "en.wikipedia.org (query) Philip Milne practice director\n"
     ]
    },
    {
     "name": "stdout",
     "output_type": "stream",
     "text": [
      "The SAP solution\n",
      "304\n"
     ]
    },
    {
     "name": "stderr",
     "output_type": "stream",
     "text": [
      "en.wikipedia.org (query) The SAP solution\n"
     ]
    },
    {
     "name": "stdout",
     "output_type": "stream",
     "text": [
      "Hospitality TTH Airlines\n",
      "305\n"
     ]
    },
    {
     "name": "stderr",
     "output_type": "stream",
     "text": [
      "en.wikipedia.org (query) Hospitality TTH Airlines\n"
     ]
    },
    {
     "name": "stdout",
     "output_type": "stream",
     "text": [
      "Officer Reese\n",
      "306\n"
     ]
    },
    {
     "name": "stderr",
     "output_type": "stream",
     "text": [
      "en.wikipedia.org (query) Officer Reese\n"
     ]
    },
    {
     "name": "stdout",
     "output_type": "stream",
     "text": [
      "Aviva s strategy\n",
      "307\n"
     ]
    },
    {
     "name": "stderr",
     "output_type": "stream",
     "text": [
      "en.wikipedia.org (query) Aviva s strategy\n"
     ]
    },
    {
     "name": "stdout",
     "output_type": "stream",
     "text": [
      "Royce Account\n",
      "308\n"
     ]
    },
    {
     "name": "stderr",
     "output_type": "stream",
     "text": [
      "en.wikipedia.org (query) Royce Account\n"
     ]
    },
    {
     "name": "stdout",
     "output_type": "stream",
     "text": [
      "the peers Source Everest Group\n",
      "309\n"
     ]
    },
    {
     "name": "stderr",
     "output_type": "stream",
     "text": [
      "en.wikipedia.org (query) the peers Source Everest Group\n"
     ]
    },
    {
     "name": "stdout",
     "output_type": "stream",
     "text": [
      "DXC s document\n",
      "310\n"
     ]
    },
    {
     "name": "stderr",
     "output_type": "stream",
     "text": [
      "en.wikipedia.org (query) DXC s document\n"
     ]
    },
    {
     "name": "stdout",
     "output_type": "stream",
     "text": [
      "a block channel\n",
      "311\n"
     ]
    },
    {
     "name": "stderr",
     "output_type": "stream",
     "text": [
      "en.wikipedia.org (query) a block channel\n"
     ]
    },
    {
     "name": "stdout",
     "output_type": "stream",
     "text": [
      "a Service Portal HPE\n",
      "312\n"
     ]
    },
    {
     "name": "stderr",
     "output_type": "stream",
     "text": [
      "en.wikipedia.org (query) a Service Portal HPE\n"
     ]
    },
    {
     "name": "stdout",
     "output_type": "stream",
     "text": [
      "an eBay power seller\n",
      "313\n"
     ]
    },
    {
     "name": "stderr",
     "output_type": "stream",
     "text": [
      "en.wikipedia.org (query) an eBay power seller\n"
     ]
    },
    {
     "name": "stdout",
     "output_type": "stream",
     "text": [
      "third party digital services\n",
      "314\n"
     ]
    },
    {
     "name": "stderr",
     "output_type": "stream",
     "text": [
      "en.wikipedia.org (query) third party digital services\n"
     ]
    },
    {
     "name": "stdout",
     "output_type": "stream",
     "text": [
      "Everest Group Proprietary Confidential\n",
      "315\n"
     ]
    },
    {
     "name": "stderr",
     "output_type": "stream",
     "text": [
      "en.wikipedia.org (query) Everest Group Proprietary Confidential\n"
     ]
    },
    {
     "name": "stdout",
     "output_type": "stream",
     "text": [
      "LAN\n",
      "316\n"
     ]
    },
    {
     "name": "stderr",
     "output_type": "stream",
     "text": [
      "en.wikipedia.org (query) LAN\n",
      "en.wikipedia.org (parse) 17739\n",
      "www.wikidata.org (wikidata) Q11381\n",
      "www.wikidata.org (labels) P227|P5019|P646|P3417|P508|P935|P1014|P...\n",
      "Note: Wikidata item Q11381 missing 'instance of' (P31)\n",
      "en.wikipedia.org (restbase) /page/summary/Local_area_network\n",
      "en.wikipedia.org (imageinfo) File:Ethernet LAN.svg\n",
      "Local area network (en) data\n",
      "{\n",
      "  WARNINGS: <dict(1)> extracts\n",
      "  aliases: <list(2)> LAN, rede local\n",
      "  assessments: <dict(2)> Computing, Telecommunications\n",
      "  claims: <dict(27)> P646, P508, P935, P910, P227, P279, P18, P382...\n",
      "  description: Computer network that connects devices over a limit...\n",
      "  exhtml: <str(347)> <p>A <b>local area network</b> (<b>LAN</b>) i...\n",
      "  exrest: <str(326)> A local area network (LAN) is a computer netw...\n",
      "  extext: <str(492)> A **local area network** ( **LAN** ) is a com...\n",
      "  extract: <str(516)> <p>A <b>local area network</b> (<b>LAN</b>) ...\n",
      "  image: <list(5)> {'kind': 'query-pageimage', 'file': 'File:Ether...\n",
      "  iwlinks: <list(1)> https://commons.wikimedia.org/wiki/Local_area...\n",
      "  label: local area network\n",
      "  labels: <dict(29)> P227, P5019, P646, P3417, P508, P935, P1014, ...\n",
      "  length: 12,116\n",
      "  links: <list(132)> 10BASE-2, 10BASE-5, 10BASE-T, 3+Share, 3Com, ...\n",
      "  modified: <dict(2)> page, wikidata\n",
      "  pageid: 17739\n",
      "  parsetree: <str(14137)> <root><template><title>short description...\n",
      "  random: Digitonin\n",
      "  redirected: <list(1)> {'from': 'LAN', 'to': 'Local area network'}\n",
      "  redirects: <list(19)> {'pageid': 429241, 'ns': 0, 'title': 'Loca...\n",
      "  requests: <list(6)> query, parse, wikidata, labels, restbase, im...\n",
      "  title: Local_area_network\n",
      "  url: https://en.wikipedia.org/wiki/Local_area_network\n",
      "  url_raw: https://en.wikipedia.org/wiki/Local_area_network?action=raw\n",
      "  watchers: 466\n",
      "  wikibase: Q11381\n",
      "  wikidata: <dict(27)> Freebase ID (P646), BNCF Thesaurus ID (P508...\n",
      "  wikidata_pageid: 12890\n",
      "  wikidata_url: https://www.wikidata.org/wiki/Q11381\n",
      "  wikitext: <str(12054)> {{short description|Computer network that...\n",
      "}\n",
      "en.wikipedia.org (query) digital HR assistant capabilities\n"
     ]
    },
    {
     "name": "stdout",
     "output_type": "stream",
     "text": [
      "digital HR assistant capabilities\n",
      "317\n",
      "SAP licenses\n",
      "318\n"
     ]
    },
    {
     "name": "stderr",
     "output_type": "stream",
     "text": [
      "en.wikipedia.org (query) SAP licenses\n"
     ]
    },
    {
     "name": "stdout",
     "output_type": "stream",
     "text": [
      "the best Oracle Cloud capabilities\n",
      "319\n"
     ]
    },
    {
     "name": "stderr",
     "output_type": "stream",
     "text": [
      "en.wikipedia.org (query) the best Oracle Cloud capabilities\n"
     ]
    },
    {
     "name": "stdout",
     "output_type": "stream",
     "text": [
      "Each DXC Global Delivery Centre\n",
      "320\n"
     ]
    },
    {
     "name": "stderr",
     "output_type": "stream",
     "text": [
      "en.wikipedia.org (query) Each DXC Global Delivery Centre\n"
     ]
    },
    {
     "name": "stdout",
     "output_type": "stream",
     "text": [
      "APS\n",
      "321\n"
     ]
    },
    {
     "name": "stderr",
     "output_type": "stream",
     "text": [
      "en.wikipedia.org (query) APS\n",
      "en.wikipedia.org (parse) 44990594\n",
      "www.wikidata.org (wikidata) Q224183\n",
      "www.wikidata.org (labels) P31|Q4167410\n",
      "en.wikipedia.org (restbase) /page/summary/APS\n",
      "APS (en) data\n",
      "{\n",
      "  WARNINGS: <dict(1)> extracts\n",
      "  aliases: <list(1)> Aps\n",
      "  assessments: <dict(1)> Disambiguation\n",
      "  claims: <dict(1)> P31\n",
      "  description: <str(95)> Disambiguation page providing links to to...\n",
      "  disambiguation: 55\n",
      "  exhtml: <str(70)> <p><b>APS</b> or <b>Aps</b> or <b>aps</b> or s...\n",
      "  exrest: APS or Aps or aps or similar may refer to:\n",
      "  extext: **APS** or **Aps** or **aps** or similar may refer to:\n",
      "  extract: <str(70)> <p><b>APS</b> or <b>Aps</b> or <b>aps</b> or ...\n",
      "  iwlinks: <list(1)> https://en.wiktionary.org/wiki/APS\n",
      "  label: APS\n",
      "  labels: <dict(2)> P31, Q4167410\n",
      "  length: 3,324\n",
      "  links: <list(55)> 3'-Phosphoadenosine-5'-phosphosulfate, APS Ste...\n",
      "  modified: <dict(2)> page, wikidata\n",
      "  pageid: 44990594\n",
      "  parsetree: <str(3632)> <root><template><title>Wiktionary</title>...\n",
      "  random: AI winter\n",
      "  redirects: <list(2)> {'pageid': 19670920, 'ns': 0, 'title': 'APS...\n",
      "  requests: <list(5)> query, parse, wikidata, labels, restbase\n",
      "  title: APS\n",
      "  url: https://en.wikipedia.org/wiki/APS\n",
      "  url_raw: https://en.wikipedia.org/wiki/APS?action=raw\n",
      "  what: Wikimedia disambiguation page\n",
      "  wikibase: Q224183\n",
      "  wikidata: <dict(1)> instance of (P31)\n",
      "  wikidata_pageid: 218845\n",
      "  wikidata_url: https://www.wikidata.org/wiki/Q224183\n",
      "  wikitext: <str(3244)> {{Wiktionary|APS}}'''APS''' or '''Aps''' o...\n",
      "}\n",
      "en.wikipedia.org (query) SAP CX Solutions Bluleader\n"
     ]
    },
    {
     "name": "stdout",
     "output_type": "stream",
     "text": [
      "SAP CX Solutions Bluleader\n",
      "322\n",
      "A powerful digital platform\n",
      "323\n"
     ]
    },
    {
     "name": "stderr",
     "output_type": "stream",
     "text": [
      "en.wikipedia.org (query) A powerful digital platform\n"
     ]
    },
    {
     "name": "stdout",
     "output_type": "stream",
     "text": [
      "Confidential Healthcare\n",
      "324\n"
     ]
    },
    {
     "name": "stderr",
     "output_type": "stream",
     "text": [
      "en.wikipedia.org (query) Confidential Healthcare\n"
     ]
    },
    {
     "name": "stdout",
     "output_type": "stream",
     "text": [
      "Nike Converse Jordan Brand\n",
      "325\n"
     ]
    },
    {
     "name": "stderr",
     "output_type": "stream",
     "text": [
      "en.wikipedia.org (query) Nike Converse Jordan Brand\n"
     ]
    },
    {
     "name": "stdout",
     "output_type": "stream",
     "text": [
      "a greater digital focus\n",
      "326\n"
     ]
    },
    {
     "name": "stderr",
     "output_type": "stream",
     "text": [
      "en.wikipedia.org (query) a greater digital focus\n"
     ]
    },
    {
     "name": "stdout",
     "output_type": "stream",
     "text": [
      "this discovery\n",
      "327\n"
     ]
    },
    {
     "name": "stderr",
     "output_type": "stream",
     "text": [
      "en.wikipedia.org (query) this discovery\n"
     ]
    },
    {
     "name": "stdout",
     "output_type": "stream",
     "text": [
      "digital support\n",
      "328\n"
     ]
    },
    {
     "name": "stderr",
     "output_type": "stream",
     "text": [
      "en.wikipedia.org (query) digital support\n"
     ]
    },
    {
     "name": "stdout",
     "output_type": "stream",
     "text": [
      "Abdul Rahim\n",
      "329\n"
     ]
    },
    {
     "name": "stderr",
     "output_type": "stream",
     "text": [
      "en.wikipedia.org (query) Abdul Rahim\n",
      "en.wikipedia.org (parse) 25332601\n",
      "www.wikidata.org (wikidata) Q308056\n",
      "www.wikidata.org (labels) P31|Q21488178|P1889|Q4167410\n",
      "en.wikipedia.org (restbase) /page/summary/Abdul_Rahim\n",
      "Abdul Rahim (en) data\n",
      "{\n",
      "  WARNINGS: <dict(1)> extracts\n",
      "  aliases: <list(17)> Abdur-Rahim, Abd Al-Rahim, Abd al-Rahim, Abd...\n",
      "  assessments: <dict(1)> Disambiguation\n",
      "  claims: <dict(2)> P31, P1889\n",
      "  description: <str(95)> Disambiguation page providing links to to...\n",
      "  disambiguation: 5\n",
      "  exhtml: <str(336)> <p><b>Abdul Rahim</b> may refer to:</p><ul><l...\n",
      "  exrest: <str(277)> Abdul Rahim may refer to:Abdul Rahim, contain...\n",
      "  extext: <str(374)> **Abdul Rahim** may refer to:  * Abdul Rahim ...\n",
      "  extract: <str(413)> <p><b>Abdul Rahim</b> may refer to:</p><ul><...\n",
      "  label: Abdurahim\n",
      "  labels: <dict(4)> P31, Q21488178, P1889, Q4167410\n",
      "  length: 479\n",
      "  links: <list(5)> Abdol Rahim, Abdul Rahim (Afghan politician), A...\n",
      "  modified: <dict(2)> page, wikidata\n",
      "  pageid: 25332601\n",
      "  parsetree: <str(593)> <root>'''Abdul Rahim''' may refer to:*[[Ab...\n",
      "  random: École secondaire Saint-Edmond\n",
      "  redirects: <list(1)> {'pageid': 29472761, 'ns': 0, 'title': 'Abd...\n",
      "  requests: <list(5)> query, parse, wikidata, labels, restbase\n",
      "  title: Abdul_Rahim\n",
      "  url: https://en.wikipedia.org/wiki/Abdul_Rahim\n",
      "  url_raw: https://en.wikipedia.org/wiki/Abdul_Rahim?action=raw\n",
      "  what: Wikimedia disambiguation page\n",
      "  wikibase: Q308056\n",
      "  wikidata: <dict(2)> instance of (P31), different from (P1889)\n",
      "  wikidata_pageid: 296576\n",
      "  wikidata_url: https://www.wikidata.org/wiki/Q308056\n",
      "  wikitext: <str(467)> '''Abdul Rahim''' may refer to:*[[Abdul Rah...\n",
      "}\n",
      "en.wikipedia.org (query) CSC s established approach\n"
     ]
    },
    {
     "name": "stdout",
     "output_type": "stream",
     "text": [
      "CSC s established approach\n",
      "330\n",
      "entify processes\n",
      "331\n"
     ]
    },
    {
     "name": "stderr",
     "output_type": "stream",
     "text": [
      "en.wikipedia.org (query) entify processes\n"
     ]
    },
    {
     "name": "stdout",
     "output_type": "stream",
     "text": [
      "People CIO Reframe role\n",
      "332\n"
     ]
    },
    {
     "name": "stderr",
     "output_type": "stream",
     "text": [
      "en.wikipedia.org (query) People CIO Reframe role\n"
     ]
    },
    {
     "name": "stdout",
     "output_type": "stream",
     "text": [
      "healthcare practitioners\n",
      "333\n"
     ]
    },
    {
     "name": "stderr",
     "output_type": "stream",
     "text": [
      "en.wikipedia.org (query) healthcare practitioners\n"
     ]
    },
    {
     "name": "stdout",
     "output_type": "stream",
     "text": [
      "the RPA program robot licenses\n",
      "334\n"
     ]
    },
    {
     "name": "stderr",
     "output_type": "stream",
     "text": [
      "en.wikipedia.org (query) the RPA program robot licenses\n"
     ]
    },
    {
     "name": "stdout",
     "output_type": "stream",
     "text": [
      "UltiPro Leadership Actions\n",
      "335\n"
     ]
    },
    {
     "name": "stderr",
     "output_type": "stream",
     "text": [
      "en.wikipedia.org (query) UltiPro Leadership Actions\n"
     ]
    },
    {
     "name": "stdout",
     "output_type": "stream",
     "text": [
      "Sarbanes Oxley\n",
      "336\n"
     ]
    },
    {
     "name": "stderr",
     "output_type": "stream",
     "text": [
      "en.wikipedia.org (query) Sarbanes Oxley\n",
      "en.wikipedia.org (parse) 67031\n",
      "www.wikidata.org (wikidata) Q856418\n",
      "www.wikidata.org (labels) P227|P138|Q1006612|P3825|Q30|P646|P953|...\n",
      "en.wikipedia.org (restbase) /page/summary/Sarbanes–Oxley_Act\n",
      "en.wikipedia.org (imageinfo) File:Great Seal of the United States...\n",
      "Sarbanes–Oxley Act (en) data\n",
      "{\n",
      "  WARNINGS: <dict(1)> extracts\n",
      "  aliases: <list(4)> Sarbanes-Oxley Act, Sarbox, SOX, Sarbanes-Oxl...\n",
      "  assessments: <dict(5)> United States, Law, Business, United Stat...\n",
      "  claims: <dict(16)> P646, P227, P244, P214, P1482, P910, P31, P17...\n",
      "  description: United States law covering finance and accountability\n",
      "  exhtml: <str(583)> <p>The <b>Sarbanes–Oxley Act of 2002</b>, als...\n",
      "  exrest: <str(548)> The Sarbanes–Oxley Act of 2002, also known as...\n",
      "  extext: <str(1068)> The **Sarbanes–Oxley Act of 2002** (Pub.L. 1...\n",
      "  extract: <str(1133)> <p class=\"mw-empty-elt\"></p><p>The <b>Sarba...\n",
      "  image: <list(4)> {'kind': 'query-pageimage', 'file': 'File:Great...\n",
      "  infobox: <dict(30)> name, fullname, nickname, enacted by, cite p...\n",
      "  iwlinks: <list(3)> https://de.wikipedia.org/wiki/Deutscher_Corpo...\n",
      "  label: Sarbanes–Oxley Act\n",
      "  labels: <dict(24)> P227, P138, Q1006612, P3825, Q30, P646, P953,...\n",
      "  length: 85,894\n",
      "  links: <list(198)> 107th United States Congress, Accountant, Acc...\n",
      "  modified: <dict(2)> page, wikidata\n",
      "  pageid: 67031\n",
      "  parsetree: <str(99645)> <root><template><title>short description...\n",
      "  random: Neolysurus\n",
      "  redirected: <list(1)> {'from': 'Sarbanes Oxley', 'to': 'Sarbanes...\n",
      "  redirects: <list(25)> {'pageid': 353745, 'ns': 0, 'title': 'Sarb...\n",
      "  requests: <list(6)> query, parse, wikidata, labels, restbase, im...\n",
      "  title: Sarbanes–Oxley_Act\n",
      "  url: https://en.wikipedia.org/wiki/Sarbanes–Oxley_Act\n",
      "  url_raw: https://en.wikipedia.org/wiki/Sarbanes–Oxley_Act?action=raw\n",
      "  watchers: 418\n",
      "  what: federal law\n",
      "  wikibase: Q856418\n",
      "  wikidata: <dict(16)> Freebase ID (P646), GND ID (P227), Library ...\n",
      "  wikidata_pageid: 808152\n",
      "  wikidata_url: https://www.wikidata.org/wiki/Q856418\n",
      "  wikitext: <str(85308)> {{short description|United States law cov...\n",
      "}\n",
      "en.wikipedia.org (query) Project Approval R Arial Regular\n"
     ]
    },
    {
     "name": "stdout",
     "output_type": "stream",
     "text": [
      "Project Approval R Arial Regular\n",
      "337\n",
      "DXC analytics\n",
      "338\n"
     ]
    },
    {
     "name": "stderr",
     "output_type": "stream",
     "text": [
      "en.wikipedia.org (query) DXC analytics\n"
     ]
    },
    {
     "name": "stdout",
     "output_type": "stream",
     "text": [
      "CVE\n",
      "339\n"
     ]
    },
    {
     "name": "stderr",
     "output_type": "stream",
     "text": [
      "en.wikipedia.org (query) CVE\n",
      "en.wikipedia.org (parse) 1344461\n",
      "www.wikidata.org (wikidata) Q407194\n",
      "www.wikidata.org (labels) P31|Q4167410\n",
      "en.wikipedia.org (restbase) /page/summary/CVE\n",
      "CVE (en) data\n",
      "{\n",
      "  WARNINGS: <dict(1)> extracts\n",
      "  assessments: <dict(1)> Disambiguation\n",
      "  claims: <dict(1)> P31\n",
      "  description: <str(95)> Disambiguation page providing links to to...\n",
      "  disambiguation: 9\n",
      "  exhtml: <str(734)> <p><b>CVE</b> may refer to:</p><ul><li>CVE, t...\n",
      "  exrest: <str(630)> CVE may refer to:CVE, the ICAO airline design...\n",
      "  extext: <str(670)> **CVE** may refer to:  * CVE, the ICAO airlin...\n",
      "  extract: <str(734)> <p><b>CVE</b> may refer to:</p><ul><li>CVE, ...\n",
      "  label: CVE\n",
      "  labels: <dict(2)> P31, Q4167410\n",
      "  length: 721\n",
      "  links: <list(9)> Cabo Verde Express, Canadian Venture Exchange, ...\n",
      "  modified: <dict(2)> page, wikidata\n",
      "  pageid: 1344461\n",
      "  parsetree: <str(768)> <root>'''CVE''' may refer to:* CVE, the IC...\n",
      "  random: South American Badminton Championships\n",
      "  redirects: <list(1)> {'pageid': 28436883, 'ns': 0, 'title': 'CVE...\n",
      "  requests: <list(5)> query, parse, wikidata, labels, restbase\n",
      "  title: CVE\n",
      "  url: https://en.wikipedia.org/wiki/CVE\n",
      "  url_raw: https://en.wikipedia.org/wiki/CVE?action=raw\n",
      "  what: Wikimedia disambiguation page\n",
      "  wikibase: Q407194\n",
      "  wikidata: <dict(1)> instance of (P31)\n",
      "  wikidata_pageid: 385976\n",
      "  wikidata_url: https://www.wikidata.org/wiki/Q407194\n",
      "  wikitext: <str(709)> '''CVE''' may refer to:* CVE, the ICAO airl...\n",
      "}\n",
      "en.wikipedia.org (query) a A DPIA\n"
     ]
    },
    {
     "name": "stdout",
     "output_type": "stream",
     "text": [
      "a A DPIA\n",
      "340\n",
      "entify Operational Acceptance Test Cases\n",
      "341\n"
     ]
    },
    {
     "name": "stderr",
     "output_type": "stream",
     "text": [
      "en.wikipedia.org (query) entify Operational Acceptance Test Cases\n"
     ]
    },
    {
     "name": "stdout",
     "output_type": "stream",
     "text": [
      "the SOP\n",
      "342\n"
     ]
    },
    {
     "name": "stderr",
     "output_type": "stream",
     "text": [
      "en.wikipedia.org (query) the SOP\n"
     ]
    },
    {
     "name": "stdout",
     "output_type": "stream",
     "text": [
      "its current RPA platform\n",
      "343\n"
     ]
    },
    {
     "name": "stderr",
     "output_type": "stream",
     "text": [
      "en.wikipedia.org (query) its current RPA platform\n"
     ]
    },
    {
     "name": "stdout",
     "output_type": "stream",
     "text": [
      "digital skills capabilities technologies\n",
      "344\n"
     ]
    },
    {
     "name": "stderr",
     "output_type": "stream",
     "text": [
      "en.wikipedia.org (query) digital skills capabilities technologies\n"
     ]
    },
    {
     "name": "stdout",
     "output_type": "stream",
     "text": [
      "COTS software\n",
      "345\n"
     ]
    },
    {
     "name": "stderr",
     "output_type": "stream",
     "text": [
      "en.wikipedia.org (query) COTS software\n"
     ]
    },
    {
     "name": "stdout",
     "output_type": "stream",
     "text": [
      "Unified search Al engines chatbots\n",
      "346\n"
     ]
    },
    {
     "name": "stderr",
     "output_type": "stream",
     "text": [
      "en.wikipedia.org (query) Unified search Al engines chatbots\n"
     ]
    },
    {
     "name": "stdout",
     "output_type": "stream",
     "text": [
      "digital revenue streams\n",
      "347\n"
     ]
    },
    {
     "name": "stderr",
     "output_type": "stream",
     "text": [
      "en.wikipedia.org (query) digital revenue streams\n"
     ]
    },
    {
     "name": "stdout",
     "output_type": "stream",
     "text": [
      "DevOps orchestration\n",
      "348\n"
     ]
    },
    {
     "name": "stderr",
     "output_type": "stream",
     "text": [
      "en.wikipedia.org (query) DevOps orchestration\n"
     ]
    },
    {
     "name": "stdout",
     "output_type": "stream",
     "text": [
      "house automation team\n",
      "349\n"
     ]
    },
    {
     "name": "stderr",
     "output_type": "stream",
     "text": [
      "en.wikipedia.org (query) house automation team\n"
     ]
    },
    {
     "name": "stdout",
     "output_type": "stream",
     "text": [
      "their RPA initiatives\n",
      "350\n"
     ]
    },
    {
     "name": "stderr",
     "output_type": "stream",
     "text": [
      "en.wikipedia.org (query) their RPA initiatives\n"
     ]
    },
    {
     "name": "stdout",
     "output_type": "stream",
     "text": [
      "SAS Diagnostic Services\n",
      "351\n"
     ]
    },
    {
     "name": "stderr",
     "output_type": "stream",
     "text": [
      "en.wikipedia.org (query) SAS Diagnostic Services\n"
     ]
    },
    {
     "name": "stdout",
     "output_type": "stream",
     "text": [
      "iOS\n",
      "352\n"
     ]
    },
    {
     "name": "stderr",
     "output_type": "stream",
     "text": [
      "en.wikipedia.org (query) iOS\n",
      "en.wikipedia.org (query) IOS (&plcontinue=16161443|0|List_of_free...\n",
      "en.wikipedia.org (parse) 16161443\n",
      "www.wikidata.org (wikidata) Q48493\n",
      "www.wikidata.org (labels) Q3606532|P227|P1448|Q7026|Q20033286|Q71...\n",
      "www.wikidata.org (labels) P279|P2354|Q14094|Q13955|Q1860|Q9192|P1...\n",
      "www.wikidata.org (labels) Q270285|P373|Q24575997|P1038|Q9058|P856...\n",
      "en.wikipedia.org (restbase) /page/summary/IOS\n"
     ]
    },
    {
     "name": "stdout",
     "output_type": "stream",
     "text": [
      "the uberization\n",
      "353\n"
     ]
    },
    {
     "name": "stderr",
     "output_type": "stream",
     "text": [
      "IOS (en) data\n",
      "{\n",
      "  WARNINGS: <dict(1)> extracts\n",
      "  aliases: <list(1)> iPhone OS\n",
      "  assessments: <dict(5)> Computing, Telecommunications, Technology...\n",
      "  claims: <dict(46)> P178, P31, P856, P646, P227, P244, P214, P148...\n",
      "  description: Mobile operating system by Apple\n",
      "  exhtml: <str(622)> <p><b>iOS</b> is a mobile operating system cr...\n",
      "  exrest: <str(608)> iOS is a mobile operating system created and ...\n",
      "  extext: <str(1551)> **iOS** (formerly **iPhone OS** ) is a mobil...\n",
      "  extract: <str(1643)> <p class=\"mw-empty-elt\"></p><p><span></span...\n",
      "  image: <list(2)> {'kind': 'restbase-original', 'width': 214, 'he...\n",
      "  infobox: <dict(26)> name, logo, logo caption, logo alt, logo siz...\n",
      "  iwlinks: <list(6)> https://commons.wikimedia.org/wiki/Category:A...\n",
      "  label: iOS\n",
      "  labels: <dict(113)> Q3606532, P227, P1448, Q7026, Q20033286, Q71...\n",
      "  length: 196,460\n",
      "  links: <list(876)> .ipa, 1984 (advertisement), 300-page iPhone b...\n",
      "  modified: <dict(2)> page, wikidata\n",
      "  pageid: 16161443\n",
      "  parsetree: <str(222953)> <root><template><title>About</title><pa...\n",
      "  random: Faridi Mussa\n",
      "  redirects: <list(24)> {'pageid': 17796638, 'ns': 0, 'title': 'OS...\n",
      "  requests: <list(8)> query, query, parse, wikidata, labels, label...\n",
      "  title: IOS\n",
      "  url: https://en.wikipedia.org/wiki/IOS\n",
      "  url_raw: https://en.wikipedia.org/wiki/IOS?action=raw\n",
      "  watchers: 851\n",
      "  what: mobile operating system\n",
      "  wikibase: Q48493\n",
      "  wikidata: <dict(46)> developer (P178), instance of (P31), offici...\n",
      "  wikidata_pageid: 50477\n",
      "  wikidata_url: https://www.wikidata.org/wiki/Q48493\n",
      "  wikitext: <str(194027)> {{About|the mobile operating system deve...\n",
      "}\n",
      "en.wikipedia.org (query) the uberization\n"
     ]
    },
    {
     "name": "stdout",
     "output_type": "stream",
     "text": [
      "the Unit Testing SBX issue\n",
      "354\n"
     ]
    },
    {
     "name": "stderr",
     "output_type": "stream",
     "text": [
      "en.wikipedia.org (query) the Unit Testing SBX issue\n"
     ]
    },
    {
     "name": "stdout",
     "output_type": "stream",
     "text": [
      "custom ABAP development\n",
      "355\n"
     ]
    },
    {
     "name": "stderr",
     "output_type": "stream",
     "text": [
      "en.wikipedia.org (query) custom ABAP development\n"
     ]
    },
    {
     "name": "stdout",
     "output_type": "stream",
     "text": [
      "OUR SPONSOR DXC Technology\n",
      "356\n"
     ]
    },
    {
     "name": "stderr",
     "output_type": "stream",
     "text": [
      "en.wikipedia.org (query) OUR SPONSOR DXC Technology\n"
     ]
    },
    {
     "name": "stdout",
     "output_type": "stream",
     "text": [
      "User Acceptance Test Scripts AMETM\n",
      "357\n"
     ]
    },
    {
     "name": "stderr",
     "output_type": "stream",
     "text": [
      "en.wikipedia.org (query) User Acceptance Test Scripts AMETM\n"
     ]
    },
    {
     "name": "stdout",
     "output_type": "stream",
     "text": [
      "digital business processes\n",
      "358\n"
     ]
    },
    {
     "name": "stderr",
     "output_type": "stream",
     "text": [
      "en.wikipedia.org (query) digital business processes\n"
     ]
    },
    {
     "name": "stdout",
     "output_type": "stream",
     "text": [
      "Partnership Program DXC Concerto\n",
      "359\n"
     ]
    },
    {
     "name": "stderr",
     "output_type": "stream",
     "text": [
      "en.wikipedia.org (query) Partnership Program DXC Concerto\n"
     ]
    },
    {
     "name": "stdout",
     "output_type": "stream",
     "text": [
      "DevOps Application performance\n",
      "360\n"
     ]
    },
    {
     "name": "stderr",
     "output_type": "stream",
     "text": [
      "en.wikipedia.org (query) DevOps Application performance\n"
     ]
    },
    {
     "name": "stdout",
     "output_type": "stream",
     "text": [
      "the VPC portal\n",
      "361\n"
     ]
    },
    {
     "name": "stderr",
     "output_type": "stream",
     "text": [
      "en.wikipedia.org (query) the VPC portal\n"
     ]
    },
    {
     "name": "stdout",
     "output_type": "stream",
     "text": [
      "healthcare outcomes\n",
      "362\n"
     ]
    },
    {
     "name": "stderr",
     "output_type": "stream",
     "text": [
      "en.wikipedia.org (query) healthcare outcomes\n"
     ]
    },
    {
     "name": "stdout",
     "output_type": "stream",
     "text": [
      "language FTE\n",
      "363\n"
     ]
    },
    {
     "name": "stderr",
     "output_type": "stream",
     "text": [
      "en.wikipedia.org (query) language FTE\n"
     ]
    },
    {
     "name": "stdout",
     "output_type": "stream",
     "text": [
      "PGD\n",
      "364\n"
     ]
    },
    {
     "name": "stderr",
     "output_type": "stream",
     "text": [
      "en.wikipedia.org (query) PGD\n",
      "en.wikipedia.org (parse) 562185\n",
      "www.wikidata.org (wikidata) Q3888024\n",
      "www.wikidata.org (labels) P31|Q4167410\n",
      "en.wikipedia.org (restbase) /page/summary/PGD\n",
      "PGD (en) data\n",
      "{\n",
      "  WARNINGS: <dict(1)> extracts\n",
      "  assessments: <dict(1)> Disambiguation\n",
      "  claims: <dict(1)> P31\n",
      "  description: <str(95)> Disambiguation page providing links to to...\n",
      "  disambiguation: 11\n",
      "  exhtml: <p><b>PGD</b> may refer to:</p>\n",
      "  exrest: PGD may refer to:\n",
      "  extext: **PGD** may refer to:\n",
      "  extract: <p><b>PGD</b> may refer to:</p>\n",
      "  label: PGD\n",
      "  labels: <dict(2)> P31, Q4167410\n",
      "  length: 1,302\n",
      "  links: <list(11)> Partido Galeguista Demócrata, Patient group di...\n",
      "  modified: <dict(2)> page, wikidata\n",
      "  pageid: 562185\n",
      "  parsetree: <str(1434)> <root>'''PGD''' may refer to:<h level=\"2\"...\n",
      "  random: Karelian question\n",
      "  redirects: <list(1)> {'pageid': 28551392, 'ns': 0, 'title': 'PGD...\n",
      "  requests: <list(5)> query, parse, wikidata, labels, restbase\n",
      "  title: PGD\n",
      "  url: https://en.wikipedia.org/wiki/PGD\n",
      "  url_raw: https://en.wikipedia.org/wiki/PGD?action=raw\n",
      "  what: Wikimedia disambiguation page\n",
      "  wikibase: Q3888024\n",
      "  wikidata: <dict(1)> instance of (P31)\n",
      "  wikidata_pageid: 3709607\n",
      "  wikidata_url: https://www.wikidata.org/wiki/Q3888024\n",
      "  wikitext: <str(1281)> '''PGD''' may refer to:==Science and medic...\n",
      "}\n",
      "en.wikipedia.org (query) that platform DXC\n"
     ]
    },
    {
     "name": "stdout",
     "output_type": "stream",
     "text": [
      "that platform DXC\n",
      "365\n",
      "ConfidentID\n",
      "366\n"
     ]
    },
    {
     "name": "stderr",
     "output_type": "stream",
     "text": [
      "en.wikipedia.org (query) ConfidentID\n"
     ]
    },
    {
     "name": "stdout",
     "output_type": "stream",
     "text": [
      "the cybersecurity executive order\n",
      "367\n"
     ]
    },
    {
     "name": "stderr",
     "output_type": "stream",
     "text": [
      "en.wikipedia.org (query) the cybersecurity executive order\n"
     ]
    },
    {
     "name": "stdout",
     "output_type": "stream",
     "text": [
      "GDPR compliance\n",
      "368\n"
     ]
    },
    {
     "name": "stderr",
     "output_type": "stream",
     "text": [
      "en.wikipedia.org (query) GDPR compliance\n"
     ]
    },
    {
     "name": "stdout",
     "output_type": "stream",
     "text": [
      "pioneering digital innovation\n",
      "369\n"
     ]
    },
    {
     "name": "stderr",
     "output_type": "stream",
     "text": [
      "en.wikipedia.org (query) pioneering digital innovation\n"
     ]
    },
    {
     "name": "stdout",
     "output_type": "stream",
     "text": [
      "RPA and Bionix Drive efficiency\n",
      "370\n"
     ]
    },
    {
     "name": "stderr",
     "output_type": "stream",
     "text": [
      "en.wikipedia.org (query) RPA and Bionix Drive efficiency\n"
     ]
    },
    {
     "name": "stdout",
     "output_type": "stream",
     "text": [
      "Pega RPA solution dev\n",
      "371\n"
     ]
    },
    {
     "name": "stderr",
     "output_type": "stream",
     "text": [
      "en.wikipedia.org (query) Pega RPA solution dev\n"
     ]
    },
    {
     "name": "stdout",
     "output_type": "stream",
     "text": [
      "HCM HRMS Systems j\n",
      "372\n"
     ]
    },
    {
     "name": "stderr",
     "output_type": "stream",
     "text": [
      "en.wikipedia.org (query) HCM HRMS Systems j\n"
     ]
    },
    {
     "name": "stdout",
     "output_type": "stream",
     "text": [
      "Oracle Cloud DXC s\n",
      "373\n"
     ]
    },
    {
     "name": "stderr",
     "output_type": "stream",
     "text": [
      "en.wikipedia.org (query) Oracle Cloud DXC s\n"
     ]
    },
    {
     "name": "stdout",
     "output_type": "stream",
     "text": [
      "DXC s Industrialized Delivery System\n",
      "374\n"
     ]
    },
    {
     "name": "stderr",
     "output_type": "stream",
     "text": [
      "en.wikipedia.org (query) DXC s Industrialized Delivery System\n"
     ]
    },
    {
     "name": "stdout",
     "output_type": "stream",
     "text": [
      "A digital business platform\n",
      "375\n"
     ]
    },
    {
     "name": "stderr",
     "output_type": "stream",
     "text": [
      "en.wikipedia.org (query) A digital business platform\n"
     ]
    },
    {
     "name": "stdout",
     "output_type": "stream",
     "text": [
      "IPRRWK\n",
      "376\n"
     ]
    },
    {
     "name": "stderr",
     "output_type": "stream",
     "text": [
      "en.wikipedia.org (query) IPRRWK\n"
     ]
    },
    {
     "name": "stdout",
     "output_type": "stream",
     "text": [
      "AMS Curtis Curt E http\n",
      "377\n"
     ]
    },
    {
     "name": "stderr",
     "output_type": "stream",
     "text": [
      "en.wikipedia.org (query) AMS Curtis Curt E http\n"
     ]
    },
    {
     "name": "stdout",
     "output_type": "stream",
     "text": [
      "a digital partner ecosystem\n",
      "378\n"
     ]
    },
    {
     "name": "stderr",
     "output_type": "stream",
     "text": [
      "en.wikipedia.org (query) a digital partner ecosystem\n"
     ]
    },
    {
     "name": "stdout",
     "output_type": "stream",
     "text": [
      "a RPA Processing expertise\n",
      "379\n"
     ]
    },
    {
     "name": "stderr",
     "output_type": "stream",
     "text": [
      "en.wikipedia.org (query) a RPA Processing expertise\n"
     ]
    },
    {
     "name": "stdout",
     "output_type": "stream",
     "text": [
      "multiple OpenStack Providers\n",
      "380\n"
     ]
    },
    {
     "name": "stderr",
     "output_type": "stream",
     "text": [
      "en.wikipedia.org (query) multiple OpenStack Providers\n"
     ]
    },
    {
     "name": "stdout",
     "output_type": "stream",
     "text": [
      "SharePoint\n",
      "381\n"
     ]
    },
    {
     "name": "stderr",
     "output_type": "stream",
     "text": [
      "en.wikipedia.org (query) SharePoint\n",
      "en.wikipedia.org (parse) 13473328\n",
      "www.wikidata.org (wikidata) Q18833\n",
      "www.wikidata.org (labels) Q2370|P3393|P306|P3984|P400|Q16251378|Q...\n",
      "en.wikipedia.org (restbase) /page/summary/SharePoint\n",
      "en.wikipedia.org (imageinfo) File:Microsoft Office SharePoint (20...\n",
      "SharePoint (en) data\n",
      "{\n",
      "  WARNINGS: <dict(1)> extracts\n",
      "  aliases: <list(1)> SharePoint\n",
      "  assessments: <dict(2)> Computing, Microsoft\n",
      "  claims: <dict(16)> P373, P856, P646, P1482, P910, P154, P178, P3...\n",
      "  description: Web application platform\n",
      "  exhtml: <str(284)> <p><b>SharePoint</b> is a web-based collabora...\n",
      "  exrest: <str(270)> SharePoint is a web-based collaborative platf...\n",
      "  extext: <str(363)> **SharePoint** is a web-based collaborative p...\n",
      "  extract: <str(384)> <p><b>SharePoint</b> is a web-based collabor...\n",
      "  image: <list(4)> {'kind': 'query-pageimage', 'file': 'File:Micro...\n",
      "  infobox: <dict(12)> logo, screenshot, caption, developer, releas...\n",
      "  iwlinks: <list(1)> https://en.wikibooks.org/wiki/Microsoft_Office\n",
      "  label: Microsoft SharePoint\n",
      "  labels: <dict(37)> Q2370, P3393, P306, P3984, P400, Q16251378, Q...\n",
      "  length: 38,125\n",
      "  links: <list(290)> .NET Compiler Platform, .NET Framework, ADO.N...\n",
      "  modified: <dict(2)> page, wikidata\n",
      "  pageid: 13473328\n",
      "  parsetree: <str(45887)> <root><template><title>Infobox software<...\n",
      "  random: The Red Baron in popular culture\n",
      "  redirects: <list(51)> {'pageid': 840405, 'ns': 0, 'title': 'Micr...\n",
      "  requests: <list(6)> query, parse, wikidata, labels, restbase, im...\n",
      "  title: SharePoint\n",
      "  url: https://en.wikipedia.org/wiki/SharePoint\n",
      "  url_raw: https://en.wikipedia.org/wiki/SharePoint?action=raw\n",
      "  watchers: 295\n",
      "  what: content management system\n",
      "  wikibase: Q18833\n",
      "  wikidata: <dict(16)> Commons category (P373), official website (...\n",
      "  wikidata_pageid: 21916\n",
      "  wikidata_url: https://www.wikidata.org/wiki/Q18833\n",
      "  wikitext: <str(37654)> {{Infobox software| name = | logo = Micro...\n",
      "}\n",
      "en.wikipedia.org (query) DXC MyRoom technology\n"
     ]
    },
    {
     "name": "stdout",
     "output_type": "stream",
     "text": [
      "DXC MyRoom technology\n",
      "382\n",
      "the functionality CCTV installation environment\n",
      "383\n"
     ]
    },
    {
     "name": "stderr",
     "output_type": "stream",
     "text": [
      "en.wikipedia.org (query) the functionality CCTV installation envi...\n"
     ]
    },
    {
     "name": "stdout",
     "output_type": "stream",
     "text": [
      "ACUD\n",
      "384\n"
     ]
    },
    {
     "name": "stderr",
     "output_type": "stream",
     "text": [
      "en.wikipedia.org (query) ACUD\n"
     ]
    },
    {
     "name": "stdout",
     "output_type": "stream",
     "text": [
      "the CFO and CPO suite\n",
      "385\n"
     ]
    },
    {
     "name": "stderr",
     "output_type": "stream",
     "text": [
      "en.wikipedia.org (query) the CFO and CPO suite\n"
     ]
    },
    {
     "name": "stdout",
     "output_type": "stream",
     "text": [
      "the dig ital twin\n",
      "386\n"
     ]
    },
    {
     "name": "stderr",
     "output_type": "stream",
     "text": [
      "en.wikipedia.org (query) the dig ital twin\n"
     ]
    },
    {
     "name": "stdout",
     "output_type": "stream",
     "text": [
      "SAN NAS\n",
      "387\n"
     ]
    },
    {
     "name": "stderr",
     "output_type": "stream",
     "text": [
      "en.wikipedia.org (query) SAN NAS\n"
     ]
    },
    {
     "name": "stdout",
     "output_type": "stream",
     "text": [
      "Service Management ESM ODP\n",
      "388\n"
     ]
    },
    {
     "name": "stderr",
     "output_type": "stream",
     "text": [
      "en.wikipedia.org (query) Service Management ESM ODP\n"
     ]
    },
    {
     "name": "stdout",
     "output_type": "stream",
     "text": [
      "More Digital Disruptors\n",
      "389\n"
     ]
    },
    {
     "name": "stderr",
     "output_type": "stream",
     "text": [
      "en.wikipedia.org (query) More Digital Disruptors\n"
     ]
    },
    {
     "name": "stdout",
     "output_type": "stream",
     "text": [
      "Tesco New IT support\n",
      "390\n"
     ]
    },
    {
     "name": "stderr",
     "output_type": "stream",
     "text": [
      "en.wikipedia.org (query) Tesco New IT support\n"
     ]
    },
    {
     "name": "stdout",
     "output_type": "stream",
     "text": [
      "SaaS enterprises\n",
      "391\n"
     ]
    },
    {
     "name": "stderr",
     "output_type": "stream",
     "text": [
      "en.wikipedia.org (query) SaaS enterprises\n"
     ]
    },
    {
     "name": "stdout",
     "output_type": "stream",
     "text": [
      "GDPR support traceability\n",
      "392\n"
     ]
    },
    {
     "name": "stderr",
     "output_type": "stream",
     "text": [
      "en.wikipedia.org (query) GDPR support traceability\n"
     ]
    },
    {
     "name": "stdout",
     "output_type": "stream",
     "text": [
      "CloudWatch\n",
      "393\n"
     ]
    },
    {
     "name": "stderr",
     "output_type": "stream",
     "text": [
      "en.wikipedia.org (query) CloudWatch\n"
     ]
    },
    {
     "name": "stdout",
     "output_type": "stream",
     "text": [
      "THE DIGITAL AGENDA\n",
      "394\n"
     ]
    },
    {
     "name": "stderr",
     "output_type": "stream",
     "text": [
      "en.wikipedia.org (query) THE DIGITAL AGENDA\n"
     ]
    },
    {
     "name": "stdout",
     "output_type": "stream",
     "text": [
      "digital demand\n",
      "395\n"
     ]
    },
    {
     "name": "stderr",
     "output_type": "stream",
     "text": [
      "en.wikipedia.org (query) digital demand\n"
     ]
    },
    {
     "name": "stdout",
     "output_type": "stream",
     "text": [
      "Giles Trish Riccardo Minissi\n",
      "396\n"
     ]
    },
    {
     "name": "stderr",
     "output_type": "stream",
     "text": [
      "en.wikipedia.org (query) Giles Trish Riccardo Minissi\n"
     ]
    },
    {
     "name": "stdout",
     "output_type": "stream",
     "text": [
      "Customer Specific Service Requirements AMSLM\n",
      "397\n"
     ]
    },
    {
     "name": "stderr",
     "output_type": "stream",
     "text": [
      "en.wikipedia.org (query) Customer Specific Service Requirements AMSLM\n"
     ]
    },
    {
     "name": "stdout",
     "output_type": "stream",
     "text": [
      "shell command line interface environments\n",
      "398\n"
     ]
    },
    {
     "name": "stderr",
     "output_type": "stream",
     "text": [
      "en.wikipedia.org (query) shell command line interface environments\n"
     ]
    },
    {
     "name": "stdout",
     "output_type": "stream",
     "text": [
      "ODM s\n",
      "399\n"
     ]
    },
    {
     "name": "stderr",
     "output_type": "stream",
     "text": [
      "en.wikipedia.org (query) ODM s\n"
     ]
    },
    {
     "name": "stdout",
     "output_type": "stream",
     "text": [
      "SSAE Standards\n",
      "400\n"
     ]
    },
    {
     "name": "stderr",
     "output_type": "stream",
     "text": [
      "en.wikipedia.org (query) SSAE Standards\n"
     ]
    },
    {
     "name": "stdout",
     "output_type": "stream",
     "text": [
      "PwC Retail Banking Six priorities\n",
      "401\n"
     ]
    },
    {
     "name": "stderr",
     "output_type": "stream",
     "text": [
      "en.wikipedia.org (query) PwC Retail Banking Six priorities\n"
     ]
    },
    {
     "name": "stdout",
     "output_type": "stream",
     "text": [
      "PPP\n",
      "402\n"
     ]
    },
    {
     "name": "stderr",
     "output_type": "stream",
     "text": [
      "en.wikipedia.org (query) PPP\n",
      "en.wikipedia.org (parse) 71669\n",
      "www.wikidata.org (wikidata) Q218106\n",
      "www.wikidata.org (labels) P31|Q4167410\n",
      "en.wikipedia.org (restbase) /page/summary/PPP\n",
      "PPP (en) data\n",
      "{\n",
      "  WARNINGS: <dict(1)> extracts\n",
      "  assessments: <dict(1)> Disambiguation\n",
      "  claims: <dict(1)> P31\n",
      "  description: <str(95)> Disambiguation page providing links to to...\n",
      "  disambiguation: 52\n",
      "  exhtml: <p><b>PPP</b> or <b>ppp</b> may refer to:</p>\n",
      "  exrest: PPP or ppp may refer to:\n",
      "  extext: **PPP** or **ppp** may refer to:\n",
      "  extract: <p><b>PPP</b> or <b>ppp</b> may refer to:</p>\n",
      "  iwlinks: <list(2)> https://en.wiktionary.org/wiki/PPP, https://e...\n",
      "  label: PPP\n",
      "  labels: <dict(2)> P31, Q4167410\n",
      "  length: 4,185\n",
      "  links: <list(52)> Carnival of Monsters, Congress-Bundestag Youth...\n",
      "  modified: <dict(2)> page, wikidata\n",
      "  pageid: 71669\n",
      "  parsetree: <str(4661)> <root><template><title>wiktionary</title>...\n",
      "  random: The Gambols\n",
      "  redirects: <list(4)> {'pageid': 2855961, 'ns': 0, 'title': 'Ppp'...\n",
      "  requests: <list(5)> query, parse, wikidata, labels, restbase\n",
      "  title: PPP\n",
      "  url: https://en.wikipedia.org/wiki/PPP\n",
      "  url_raw: https://en.wikipedia.org/wiki/PPP?action=raw\n",
      "  watchers: 30\n",
      "  what: Wikimedia disambiguation page\n",
      "  wikibase: Q218106\n",
      "  wikidata: <dict(1)> instance of (P31)\n",
      "  wikidata_pageid: 213140\n",
      "  wikidata_url: https://www.wikidata.org/wiki/Q218106\n",
      "  wikitext: <str(4099)> {{wiktionary|PPP|ppp}}'''PPP''' or '''ppp'...\n",
      "}\n",
      "en.wikipedia.org (query) Archived DD Kickoff deck\n"
     ]
    },
    {
     "name": "stdout",
     "output_type": "stream",
     "text": [
      "Archived DD Kickoff deck\n",
      "403\n",
      "SOA Principles\n",
      "404\n"
     ]
    },
    {
     "name": "stderr",
     "output_type": "stream",
     "text": [
      "en.wikipedia.org (query) SOA Principles\n"
     ]
    },
    {
     "name": "stdout",
     "output_type": "stream",
     "text": [
      "UA\n",
      "405\n"
     ]
    },
    {
     "name": "stderr",
     "output_type": "stream",
     "text": [
      "en.wikipedia.org (query) UA\n",
      "en.wikipedia.org (parse) 176003\n",
      "www.wikidata.org (wikidata) Q219204\n",
      "www.wikidata.org (labels) P31|Q15709656|Q4167410|P460\n",
      "en.wikipedia.org (restbase) /page/summary/UA\n",
      "UA (en) data\n",
      "{\n",
      "  WARNINGS: <dict(1)> extracts\n",
      "  aliases: <list(1)> U-A\n",
      "  assessments: <dict(1)> Disambiguation\n",
      "  claims: <dict(2)> P31, P460\n",
      "  description: <str(95)> Disambiguation page providing links to to...\n",
      "  disambiguation: 50\n",
      "  exhtml: <str(78)> <p><b>UA</b>, <b>U-A</b>, <b>Ua</b>, <b>uA</b>...\n",
      "  exrest: UA, U-A, Ua, uA, or ua may refer to:\n",
      "  extext: **UA** , **U-A** , **Ua** , **uA** , or **ua** may refer to:\n",
      "  extract: <str(78)> <p><b>UA</b>, <b>U-A</b>, <b>Ua</b>, <b>uA</b...\n",
      "  iwlinks: <list(2)> https://en.wiktionary.org/wiki/u.a., https://...\n",
      "  label: UA\n",
      "  labels: <dict(4)> P31, Q15709656, Q4167410, P460\n",
      "  length: 5,444\n",
      "  links: <list(50)> .ua, Ampere, Capital city, Cooperative, Future...\n",
      "  modified: <dict(2)> page, wikidata\n",
      "  pageid: 176003\n",
      "  parsetree: <str(6304)> <root><template><title>wikt</title><part>...\n",
      "  random: First Security Bank\n",
      "  redirects: <list(8)> {'pageid': 376550, 'ns': 0, 'title': 'Ua (d...\n",
      "  requests: <list(5)> query, parse, wikidata, labels, restbase\n",
      "  title: UA\n",
      "  url: https://en.wikipedia.org/wiki/UA\n",
      "  url_raw: https://en.wikipedia.org/wiki/UA?action=raw\n",
      "  what: Wikimedia disambiguation page\n",
      "  wikibase: Q219204\n",
      "  wikidata: <dict(2)> instance of (P31), said to be the same as (P460)\n",
      "  wikidata_pageid: 214153\n",
      "  wikidata_url: https://www.wikidata.org/wiki/Q219204\n",
      "  wikitext: <str(5358)> {{wikt|ua|u.a.}}{{selfref|On Wikipedia, UA...\n",
      "}\n",
      "en.wikipedia.org (query) only DXC\n"
     ]
    },
    {
     "name": "stdout",
     "output_type": "stream",
     "text": [
      "only DXC\n",
      "406\n",
      "HP processes\n",
      "407\n"
     ]
    },
    {
     "name": "stderr",
     "output_type": "stream",
     "text": [
      "en.wikipedia.org (query) HP processes\n"
     ]
    },
    {
     "name": "stdout",
     "output_type": "stream",
     "text": [
      "Microsoft s Machine Learning Server\n",
      "408\n"
     ]
    },
    {
     "name": "stderr",
     "output_type": "stream",
     "text": [
      "en.wikipedia.org (query) Microsoft s Machine Learning Server\n"
     ]
    },
    {
     "name": "stdout",
     "output_type": "stream",
     "text": [
      "the Aruba Meridian mobile app\n",
      "409\n"
     ]
    },
    {
     "name": "stderr",
     "output_type": "stream",
     "text": [
      "en.wikipedia.org (query) the Aruba Meridian mobile app\n"
     ]
    },
    {
     "name": "stdout",
     "output_type": "stream",
     "text": [
      "CI Takeaways\n",
      "410\n"
     ]
    },
    {
     "name": "stderr",
     "output_type": "stream",
     "text": [
      "en.wikipedia.org (query) CI Takeaways\n"
     ]
    },
    {
     "name": "stdout",
     "output_type": "stream",
     "text": [
      "API Gateway layer\n",
      "411\n"
     ]
    },
    {
     "name": "stderr",
     "output_type": "stream",
     "text": [
      "en.wikipedia.org (query) API Gateway layer\n"
     ]
    },
    {
     "name": "stdout",
     "output_type": "stream",
     "text": [
      "acquisitions Wipro integrates partner solutions\n",
      "412\n"
     ]
    },
    {
     "name": "stderr",
     "output_type": "stream",
     "text": [
      "en.wikipedia.org (query) acquisitions Wipro integrates partner so...\n"
     ]
    },
    {
     "name": "stdout",
     "output_type": "stream",
     "text": [
      "Implement SAP database security recommendations\n",
      "413\n"
     ]
    },
    {
     "name": "stderr",
     "output_type": "stream",
     "text": [
      "en.wikipedia.org (query) Implement SAP database security recommen...\n"
     ]
    },
    {
     "name": "stdout",
     "output_type": "stream",
     "text": [
      "digital integration\n",
      "414\n"
     ]
    },
    {
     "name": "stderr",
     "output_type": "stream",
     "text": [
      "en.wikipedia.org (query) digital integration\n",
      "en.wikipedia.org (parse) 3743953\n",
      "www.wikidata.org (wikidata) Q5276096\n",
      "Note: Wikidata item Q5276096 missing 'instance of' (P31)\n",
      "en.wikipedia.org (restbase) /page/summary/Digital_integration\n",
      "Digital integration (en) data\n",
      "{\n",
      "  WARNINGS: <dict(1)> extracts\n",
      "  assessments: <dict(1)> Computing\n",
      "  claims: <dict(0)> \n",
      "  exhtml: <str(668)> <p><b>Digital integration</b> is the idea tha...\n",
      "  exrest: <str(654)> Digital integration is the idea that data or ...\n",
      "  extext: <str(650)> **Digital integration** is the idea that data...\n",
      "  extract: <str(668)> <p><b>Digital integration</b> is the idea th...\n",
      "  label: Digital integration\n",
      "  labels: <dict(0)> \n",
      "  length: 5,051\n",
      "  links: <list(18)> Air Conditioning, BACnet, Blog, Built environm...\n",
      "  modified: <dict(2)> page, wikidata\n",
      "  pageid: 3743953\n",
      "  parsetree: <str(5755)> <root><template><title>About</title><part...\n",
      "  random: Port Saint Charles\n",
      "  redirects: <list(3)> {'pageid': 1737075, 'ns': 0, 'title': 'IP i...\n",
      "  requests: <list(4)> query, parse, wikidata, restbase\n",
      "  title: Digital_integration\n",
      "  url: https://en.wikipedia.org/wiki/Digital_integration\n",
      "  url_raw: https://en.wikipedia.org/wiki/Digital_integration?action=raw\n",
      "  wikibase: Q5276096\n",
      "  wikidata: <dict(0)> \n",
      "  wikidata_pageid: 5045471\n",
      "  wikidata_url: https://www.wikidata.org/wiki/Q5276096\n",
      "  wikitext: <str(5013)> {{About|the concept|the video game company...\n",
      "}\n",
      "en.wikipedia.org (query) OD T OD T expertise\n"
     ]
    },
    {
     "name": "stdout",
     "output_type": "stream",
     "text": [
      "OD T OD T expertise\n",
      "415\n",
      "some newer tech\n",
      "416\n"
     ]
    },
    {
     "name": "stderr",
     "output_type": "stream",
     "text": [
      "en.wikipedia.org (query) some newer tech\n"
     ]
    },
    {
     "name": "stdout",
     "output_type": "stream",
     "text": [
      "the right and effective ERP\n",
      "417\n"
     ]
    },
    {
     "name": "stderr",
     "output_type": "stream",
     "text": [
      "en.wikipedia.org (query) the right and effective ERP\n"
     ]
    },
    {
     "name": "stdout",
     "output_type": "stream",
     "text": [
      "digital transformation journeys\n",
      "418\n"
     ]
    },
    {
     "name": "stderr",
     "output_type": "stream",
     "text": [
      "en.wikipedia.org (query) digital transformation journeys\n"
     ]
    },
    {
     "name": "stdout",
     "output_type": "stream",
     "text": [
      "DXC s deep knowledge\n",
      "419\n"
     ]
    },
    {
     "name": "stderr",
     "output_type": "stream",
     "text": [
      "en.wikipedia.org (query) DXC s deep knowledge\n"
     ]
    },
    {
     "name": "stdout",
     "output_type": "stream",
     "text": [
      "AODB\n",
      "420\n"
     ]
    },
    {
     "name": "stderr",
     "output_type": "stream",
     "text": [
      "en.wikipedia.org (query) AODB\n"
     ]
    },
    {
     "name": "stdout",
     "output_type": "stream",
     "text": [
      "the SOA based solution\n",
      "421\n"
     ]
    },
    {
     "name": "stderr",
     "output_type": "stream",
     "text": [
      "en.wikipedia.org (query) the SOA based solution\n"
     ]
    },
    {
     "name": "stdout",
     "output_type": "stream",
     "text": [
      "DXC s Robotic Drive solution\n",
      "422\n"
     ]
    },
    {
     "name": "stderr",
     "output_type": "stream",
     "text": [
      "en.wikipedia.org (query) DXC s Robotic Drive solution\n"
     ]
    },
    {
     "name": "stdout",
     "output_type": "stream",
     "text": [
      "Key Benefits CSC Fruition\n",
      "423\n"
     ]
    },
    {
     "name": "stderr",
     "output_type": "stream",
     "text": [
      "en.wikipedia.org (query) Key Benefits CSC Fruition\n"
     ]
    },
    {
     "name": "stdout",
     "output_type": "stream",
     "text": [
      "ABB Ellipse\n",
      "424\n"
     ]
    },
    {
     "name": "stderr",
     "output_type": "stream",
     "text": [
      "en.wikipedia.org (query) ABB Ellipse\n"
     ]
    },
    {
     "name": "stdout",
     "output_type": "stream",
     "text": [
      "the pilot digital twin configuration\n",
      "425\n"
     ]
    },
    {
     "name": "stderr",
     "output_type": "stream",
     "text": [
      "en.wikipedia.org (query) the pilot digital twin configuration\n"
     ]
    },
    {
     "name": "stdout",
     "output_type": "stream",
     "text": [
      "company owned systems Chemical Service\n",
      "426\n"
     ]
    },
    {
     "name": "stderr",
     "output_type": "stream",
     "text": [
      "en.wikipedia.org (query) company owned systems Chemical Service\n"
     ]
    },
    {
     "name": "stdout",
     "output_type": "stream",
     "text": [
      "Sequoia Living\n",
      "427\n"
     ]
    },
    {
     "name": "stderr",
     "output_type": "stream",
     "text": [
      "en.wikipedia.org (query) Sequoia Living\n"
     ]
    },
    {
     "name": "stdout",
     "output_type": "stream",
     "text": [
      "the OTP example\n",
      "428\n"
     ]
    },
    {
     "name": "stderr",
     "output_type": "stream",
     "text": [
      "en.wikipedia.org (query) the OTP example\n"
     ]
    },
    {
     "name": "stdout",
     "output_type": "stream",
     "text": [
      "the best wi fi manufacturers\n",
      "429\n"
     ]
    },
    {
     "name": "stderr",
     "output_type": "stream",
     "text": [
      "en.wikipedia.org (query) the best wi fi manufacturers\n"
     ]
    },
    {
     "name": "stdout",
     "output_type": "stream",
     "text": [
      "global Microsoft practice strategy\n",
      "430\n"
     ]
    },
    {
     "name": "stderr",
     "output_type": "stream",
     "text": [
      "en.wikipedia.org (query) global Microsoft practice strategy\n"
     ]
    },
    {
     "name": "stdout",
     "output_type": "stream",
     "text": [
      "the CAMS II platform\n",
      "431\n"
     ]
    },
    {
     "name": "stderr",
     "output_type": "stream",
     "text": [
      "en.wikipedia.org (query) the CAMS II platform\n"
     ]
    },
    {
     "name": "stdout",
     "output_type": "stream",
     "text": [
      "New digital talent requirements\n",
      "432\n"
     ]
    },
    {
     "name": "stderr",
     "output_type": "stream",
     "text": [
      "en.wikipedia.org (query) New digital talent requirements\n"
     ]
    },
    {
     "name": "stdout",
     "output_type": "stream",
     "text": [
      "OneModernize Integrated framework\n",
      "433\n"
     ]
    },
    {
     "name": "stderr",
     "output_type": "stream",
     "text": [
      "en.wikipedia.org (query) OneModernize Integrated framework\n"
     ]
    },
    {
     "name": "stdout",
     "output_type": "stream",
     "text": [
      "WIFI Hospitals\n",
      "434\n"
     ]
    },
    {
     "name": "stderr",
     "output_type": "stream",
     "text": [
      "en.wikipedia.org (query) WIFI Hospitals\n"
     ]
    },
    {
     "name": "stdout",
     "output_type": "stream",
     "text": [
      "UON\n",
      "435\n"
     ]
    },
    {
     "name": "stderr",
     "output_type": "stream",
     "text": [
      "en.wikipedia.org (query) UON\n",
      "en.wikipedia.org (parse) 12343411\n",
      "www.wikidata.org (wikidata) Q2467670\n",
      "www.wikidata.org (labels) P31|Q4167410\n",
      "en.wikipedia.org (restbase) /page/summary/Uon\n",
      "Uon (en) data\n",
      "{\n",
      "  WARNINGS: <dict(1)> extracts\n",
      "  claims: <dict(1)> P31\n",
      "  description: <str(95)> Disambiguation page providing links to to...\n",
      "  disambiguation: 7\n",
      "  exhtml: <str(796)> <p><b>UON</b> or <b>UoN</b> may stand for:</p...\n",
      "  exrest: <str(689)> UON or UoN may stand for:University of Nicosi...\n",
      "  extext: <str(731)> **UON** or **UoN** may stand for:  * Universi...\n",
      "  extract: <str(796)> <p><b>UON</b> or <b>UoN</b> may stand for:</...\n",
      "  label: UON\n",
      "  labels: <dict(2)> P31, Q4167410\n",
      "  length: 784\n",
      "  links: <list(7)> Electrical engineering, Military, University of...\n",
      "  modified: <dict(2)> page, wikidata\n",
      "  pageid: 12343411\n",
      "  parsetree: <str(839)> <root>'''UON''' or '''UoN''' may stand for...\n",
      "  random: Tunnels underneath the River Thames\n",
      "  redirected: <list(1)> {'from': 'UON', 'to': 'Uon'}\n",
      "  redirects: <list(2)> {'pageid': 12343404, 'ns': 0, 'title': 'UoN...\n",
      "  requests: <list(5)> query, parse, wikidata, labels, restbase\n",
      "  title: Uon\n",
      "  url: https://en.wikipedia.org/wiki/Uon\n",
      "  url_raw: https://en.wikipedia.org/wiki/Uon?action=raw\n",
      "  what: Wikimedia disambiguation page\n",
      "  wikibase: Q2467670\n",
      "  wikidata: <dict(1)> instance of (P31)\n",
      "  wikidata_pageid: 2383424\n",
      "  wikidata_url: https://www.wikidata.org/wiki/Q2467670\n",
      "  wikitext: <str(775)> '''UON''' or '''UoN''' may stand for:* [[Un...\n",
      "}\n",
      "en.wikipedia.org (query) the ROI model\n"
     ]
    },
    {
     "name": "stdout",
     "output_type": "stream",
     "text": [
      "the ROI model\n",
      "436\n",
      "air cargo\n",
      "437\n"
     ]
    },
    {
     "name": "stderr",
     "output_type": "stream",
     "text": [
      "en.wikipedia.org (query) air cargo\n",
      "en.wikipedia.org (parse) 1509110\n",
      "www.wikidata.org (wikidata) Q3569648\n",
      "www.wikidata.org (labels) P3911|P227|P373|P279|Q9640723|Q651658|P...\n",
      "Note: Wikidata item Q3569648 missing 'instance of' (P31)\n",
      "en.wikipedia.org (restbase) /page/summary/Air_cargo\n",
      "en.wikipedia.org (imageinfo) File:An-124 ready.jpg\n",
      "Air cargo (en) data\n",
      "{\n",
      "  WARNINGS: <dict(1)> extracts\n",
      "  aliases: <list(3)> air freight, air express, Air Way Bill\n",
      "  assessments: <dict(1)> Aviation\n",
      "  claims: <dict(7)> P373, P279, P3911, P227, P910, P6366, P8408\n",
      "  description: commercial air transport of items other than passengers\n",
      "  exhtml: <str(138)> <p><b>Air cargo</b> is any property carried o...\n",
      "  exrest: <str(124)> Air cargo is any property carried or to be ca...\n",
      "  extext: <str(127)> **Air cargo** is any property carried or to b...\n",
      "  extract: <str(138)> <p><b>Air cargo</b> is any property carried ...\n",
      "  image: <list(4)> {'kind': 'query-pageimage', 'file': 'File:An-12...\n",
      "  iwlinks: <list(1)> https://commons.wikimedia.org/wiki/Category:A...\n",
      "  label: air cargo\n",
      "  labels: <dict(10)> P3911, P227, P373, P279, Q9640723, Q651658, P...\n",
      "  length: 10,096\n",
      "  links: <list(65)> 747-400, Air waybill, Aircraft, Aircraft cabin...\n",
      "  modified: <dict(2)> page, wikidata\n",
      "  pageid: 1509110\n",
      "  parsetree: <str(11139)> <root><template><title>More citations ne...\n",
      "  random: List of places in Colorado: A–D\n",
      "  redirects: <list(4)> {'pageid': 6097060, 'ns': 0, 'title': 'Air ...\n",
      "  requests: <list(6)> query, parse, wikidata, labels, restbase, im...\n",
      "  title: Air_cargo\n",
      "  url: https://en.wikipedia.org/wiki/Air_cargo\n",
      "  url_raw: https://en.wikipedia.org/wiki/Air_cargo?action=raw\n",
      "  wikibase: Q3569648\n",
      "  wikidata: <dict(7)> Commons category (P373), subclass of (P279),...\n",
      "  wikidata_pageid: 3398398\n",
      "  wikidata_url: https://www.wikidata.org/wiki/Q3569648\n",
      "  wikitext: <str(10013)> {{More citations needed|date=November 201...\n",
      "}\n",
      "en.wikipedia.org (query) Amazon Web Services Microsoft Google\n"
     ]
    },
    {
     "name": "stdout",
     "output_type": "stream",
     "text": [
      "Amazon Web Services Microsoft Google\n",
      "438\n",
      "Oracle RAC\n",
      "439\n"
     ]
    },
    {
     "name": "stderr",
     "output_type": "stream",
     "text": [
      "en.wikipedia.org (query) Oracle RAC\n",
      "en.wikipedia.org (parse) 3930505\n",
      "www.wikidata.org (wikidata) Q1418481\n",
      "www.wikidata.org (labels) P31|P361|Q3238057|Q19900|Q185524|P2283|...\n",
      "en.wikipedia.org (restbase) /page/summary/Oracle_RAC\n",
      "Oracle RAC (en) data\n",
      "{\n",
      "  WARNINGS: <dict(1)> extracts\n",
      "  aliases: <list(3)> Oracle Real Application Clusters, RAC, Oracle...\n",
      "  assessments: <dict(1)> Computing\n",
      "  claims: <dict(6)> P31, P178, P361, P275, P2283, P3417\n",
      "  description: <str(73)> Shared-everything clustering solution pro...\n",
      "  exhtml: <str(412)> <p>In database computing, <b>Oracle Real Appl...\n",
      "  exrest: <str(384)> In database computing, Oracle Real Applicatio...\n",
      "  extext: <str(393)> In database computing, **Oracle Real Applicat...\n",
      "  extract: <str(412)> <p>In database computing, <b>Oracle Real App...\n",
      "  label: Oracle RAC\n",
      "  labels: <dict(11)> P31, P361, Q3238057, Q19900, Q185524, P2283, ...\n",
      "  length: 15,812\n",
      "  links: <list(68)> AWS, Adaptive Server Enterprise, Alibaba Cloud...\n",
      "  modified: <dict(2)> page, wikidata\n",
      "  pageid: 3930505\n",
      "  parsetree: <str(17592)> <root>In [[database]] [[computing]], '''...\n",
      "  random: Talmo, Georgia\n",
      "  redirects: <list(1)> {'pageid': 1636922, 'ns': 0, 'title': 'Real...\n",
      "  requests: <list(5)> query, parse, wikidata, labels, restbase\n",
      "  title: Oracle_RAC\n",
      "  url: https://en.wikipedia.org/wiki/Oracle_RAC\n",
      "  url_raw: https://en.wikipedia.org/wiki/Oracle_RAC?action=raw\n",
      "  watchers: 47\n",
      "  what: clustering software\n",
      "  wikibase: Q1418481\n",
      "  wikidata: <dict(6)> instance of (P31), developer (P178), part of...\n",
      "  wikidata_pageid: 1357196\n",
      "  wikidata_url: https://www.wikidata.org/wiki/Q1418481\n",
      "  wikitext: <str(15611)> In [[database]] [[computing]], '''Oracle ...\n",
      "}\n",
      "en.wikipedia.org (query) DXC digital creation\n"
     ]
    },
    {
     "name": "stdout",
     "output_type": "stream",
     "text": [
      "DXC digital creation\n",
      "440\n",
      "Phil Neville\n",
      "441\n"
     ]
    },
    {
     "name": "stderr",
     "output_type": "stream",
     "text": [
      "en.wikipedia.org (query) Phil Neville\n",
      "en.wikipedia.org (parse) 940510\n",
      "www.wikidata.org (wikidata) Q218063\n",
      "www.wikidata.org (labels) P3726|Q204238|Q102920|Q1049171|P19|P236...\n",
      "www.wikidata.org (labels) P1469|Q4201740|Q2986228|Q336286|Q783125...\n",
      "en.wikipedia.org (restbase) /page/summary/Phil_Neville\n",
      "en.wikipedia.org (imageinfo) File:England Women 0 New Zealand Wom...\n",
      "Phil Neville (en) data\n",
      "{\n",
      "  WARNINGS: <dict(1)> extracts\n",
      "  aliases: <list(2)> Philip John \"Phil\" Neville, Philip John Neville\n",
      "  assessments: <dict(4)> Biography, Football, Greater Manchester, ...\n",
      "  claims: <dict(46)> P22, P21, P54, P106, P373, P214, P244, P18, P...\n",
      "  description: English footballer (born 1977)\n",
      "  exhtml: <str(225)> <p><b>Philip John Neville</b> is an English f...\n",
      "  exrest: <str(211)> Philip John Neville is an English former foot...\n",
      "  extext: <str(1220)> **Philip John Neville** (born 21 January 197...\n",
      "  extract: <str(1287)> <p class=\"mw-empty-elt\"></p><p><b>Philip Jo...\n",
      "  image: <list(6)> {'kind': 'query-pageimage', 'file': 'File:Engla...\n",
      "  infobox: <dict(47)> name, image, caption, fullname, birth_date, ...\n",
      "  iwlinks: <list(1)> https://commons.wikimedia.org/wiki/Category:P...\n",
      "  label: Phil Neville\n",
      "  labels: <dict(72)> P3726, Q204238, Q102920, Q1049171, P19, P2369...\n",
      "  length: 59,816\n",
      "  links: <list(291)> 1993–94 Manchester United F.C. season, 1994–9...\n",
      "  modified: <dict(2)> page, wikidata\n",
      "  pageid: 940510\n",
      "  parsetree: <str(76270)> <root><template><title>For</title><part>...\n",
      "  random: Carangoides\n",
      "  redirects: <list(4)> {'pageid': 755588, 'ns': 0, 'title': 'Phil ...\n",
      "  requests: <list(7)> query, parse, wikidata, labels, labels, rest...\n",
      "  title: Phil_Neville\n",
      "  url: https://en.wikipedia.org/wiki/Phil_Neville\n",
      "  url_raw: https://en.wikipedia.org/wiki/Phil_Neville?action=raw\n",
      "  watchers: 68\n",
      "  what: human\n",
      "  wikibase: Q218063\n",
      "  wikidata: <dict(46)> father (P22), sex or gender (P21), member o...\n",
      "  wikidata_pageid: 213100\n",
      "  wikidata_url: https://www.wikidata.org/wiki/Q218063\n",
      "  wikitext: <str(59157)> {{For|the American federal judge|Philip N...\n",
      "}\n",
      "en.wikipedia.org (query) additional healthcare specific functionalities\n"
     ]
    },
    {
     "name": "stdout",
     "output_type": "stream",
     "text": [
      "additional healthcare specific functionalities\n",
      "442\n",
      "SQL Databases\n",
      "443\n"
     ]
    },
    {
     "name": "stderr",
     "output_type": "stream",
     "text": [
      "en.wikipedia.org (query) SQL Databases\n"
     ]
    },
    {
     "name": "stdout",
     "output_type": "stream",
     "text": [
      "the DXC brand\n",
      "444\n"
     ]
    },
    {
     "name": "stderr",
     "output_type": "stream",
     "text": [
      "en.wikipedia.org (query) the DXC brand\n"
     ]
    },
    {
     "name": "stdout",
     "output_type": "stream",
     "text": [
      "a BI project example\n",
      "445\n"
     ]
    },
    {
     "name": "stderr",
     "output_type": "stream",
     "text": [
      "en.wikipedia.org (query) a BI project example\n"
     ]
    },
    {
     "name": "stdout",
     "output_type": "stream",
     "text": [
      "that mature RPA Programs\n",
      "446\n"
     ]
    },
    {
     "name": "stderr",
     "output_type": "stream",
     "text": [
      "en.wikipedia.org (query) that mature RPA Programs\n"
     ]
    },
    {
     "name": "stdout",
     "output_type": "stream",
     "text": [
      "the heritage tools\n",
      "447\n"
     ]
    },
    {
     "name": "stderr",
     "output_type": "stream",
     "text": [
      "en.wikipedia.org (query) the heritage tools\n"
     ]
    },
    {
     "name": "stdout",
     "output_type": "stream",
     "text": [
      "new digital transformation\n",
      "448\n"
     ]
    },
    {
     "name": "stderr",
     "output_type": "stream",
     "text": [
      "en.wikipedia.org (query) new digital transformation\n"
     ]
    },
    {
     "name": "stdout",
     "output_type": "stream",
     "text": [
      "Knowledgebase\n",
      "449\n"
     ]
    },
    {
     "name": "stderr",
     "output_type": "stream",
     "text": [
      "en.wikipedia.org (query) Knowledgebase\n",
      "en.wikipedia.org (parse) 239497\n",
      "www.wikidata.org (wikidata) Q593744\n",
      "www.wikidata.org (labels) Q8513|P646|P508|Q2623243|P6366|P1245|Q1...\n",
      "Note: Wikidata item Q593744 missing 'instance of' (P31)\n",
      "en.wikipedia.org (restbase) /page/summary/Knowledge_base\n",
      "en.wikipedia.org (imageinfo) File:Screenshot InfoRapid KnowledgeB...\n",
      "Knowledge base (en) data\n",
      "{\n",
      "  WARNINGS: <dict(1)> extracts\n",
      "  aliases: <list(2)> KB, knowledge bases\n",
      "  assessments: <dict(2)> Computing, Databases\n",
      "  claims: <dict(18)> P279, P646, P486, P508, P18, P3827, P2581, P1...\n",
      "  description: Information repository with multiple applications\n",
      "  exhtml: <str(259)> <p>A <b>knowledge base</b> (<b>KB</b>) is a t...\n",
      "  exrest: <str(238)> A knowledge base (KB) is a technology used to...\n",
      "  extext: <str(245)> A **knowledge base** ( **KB** ) is a technolo...\n",
      "  extract: <str(287)> <p class=\"mw-empty-elt\"></p><p>A <b>knowledg...\n",
      "  image: <list(1)> {'file': 'File:Screenshot InfoRapid KnowledgeBa...\n",
      "  iwlinks: <list(2)> https://iw.toolforge.org/scholia/topic/Q59374...\n",
      "  label: knowledge base\n",
      "  labels: <dict(26)> Q8513, P646, P508, Q2623243, P6366, P1245, Q1...\n",
      "  length: 9,255\n",
      "  links: <list(156)> A Logic Named Joe, A.I. Artificial Intelligen...\n",
      "  modified: <dict(2)> page, wikidata\n",
      "  pageid: 239497\n",
      "  parsetree: <str(10523)> <root><template><title>short description...\n",
      "  random: Heath Kizzier\n",
      "  redirected: <list(1)> {'from': 'Knowledgebase', 'to': 'Knowledge...\n",
      "  redirects: <list(6)> {'pageid': 818262, 'ns': 0, 'title': 'Knowl...\n",
      "  requests: <list(6)> query, parse, wikidata, labels, restbase, im...\n",
      "  title: Knowledge_base\n",
      "  url: https://en.wikipedia.org/wiki/Knowledge_base\n",
      "  url_raw: https://en.wikipedia.org/wiki/Knowledge_base?action=raw\n",
      "  watchers: 220\n",
      "  wikibase: Q593744\n",
      "  wikidata: <dict(18)> subclass of (P279), Freebase ID (P646), MeS...\n",
      "  wikidata_pageid: 558748\n",
      "  wikidata_url: https://www.wikidata.org/wiki/Q593744\n",
      "  wikitext: <str(9192)> {{short description|Information repository...\n",
      "}\n",
      "en.wikipedia.org (query) The HP EDGE Platform\n"
     ]
    },
    {
     "name": "stdout",
     "output_type": "stream",
     "text": [
      "The HP EDGE Platform\n",
      "450\n",
      "Sap hybris Client\n",
      "451\n"
     ]
    },
    {
     "name": "stderr",
     "output_type": "stream",
     "text": [
      "en.wikipedia.org (query) Sap hybris Client\n"
     ]
    },
    {
     "name": "stdout",
     "output_type": "stream",
     "text": [
      "DXC Retail Availability\n",
      "452\n"
     ]
    },
    {
     "name": "stderr",
     "output_type": "stream",
     "text": [
      "en.wikipedia.org (query) DXC Retail Availability\n"
     ]
    },
    {
     "name": "stdout",
     "output_type": "stream",
     "text": [
      "disparate digital systems\n",
      "453\n"
     ]
    },
    {
     "name": "stderr",
     "output_type": "stream",
     "text": [
      "en.wikipedia.org (query) disparate digital systems\n"
     ]
    },
    {
     "name": "stdout",
     "output_type": "stream",
     "text": [
      "PB scale Train\n",
      "454\n"
     ]
    },
    {
     "name": "stderr",
     "output_type": "stream",
     "text": [
      "en.wikipedia.org (query) PB scale Train\n"
     ]
    },
    {
     "name": "stdout",
     "output_type": "stream",
     "text": [
      "DXC Blogs Cloud Computing\n",
      "455\n"
     ]
    },
    {
     "name": "stderr",
     "output_type": "stream",
     "text": [
      "en.wikipedia.org (query) DXC Blogs Cloud Computing\n"
     ]
    },
    {
     "name": "stdout",
     "output_type": "stream",
     "text": [
      "your own digital transformation\n",
      "456\n"
     ]
    },
    {
     "name": "stderr",
     "output_type": "stream",
     "text": [
      "en.wikipedia.org (query) your own digital transformation\n"
     ]
    },
    {
     "name": "stdout",
     "output_type": "stream",
     "text": [
      "my Klaus\n",
      "457\n"
     ]
    },
    {
     "name": "stderr",
     "output_type": "stream",
     "text": [
      "en.wikipedia.org (query) my Klaus\n"
     ]
    },
    {
     "name": "stdout",
     "output_type": "stream",
     "text": [
      "CMC Chemistry Manufacturing\n",
      "458\n"
     ]
    },
    {
     "name": "stderr",
     "output_type": "stream",
     "text": [
      "en.wikipedia.org (query) CMC Chemistry Manufacturing\n"
     ]
    },
    {
     "name": "stdout",
     "output_type": "stream",
     "text": [
      "the Change R Arial Regular\n",
      "459\n"
     ]
    },
    {
     "name": "stderr",
     "output_type": "stream",
     "text": [
      "en.wikipedia.org (query) the Change R Arial Regular\n"
     ]
    },
    {
     "name": "stdout",
     "output_type": "stream",
     "text": [
      "Visualization DXC OmniLocation\n",
      "460\n"
     ]
    },
    {
     "name": "stderr",
     "output_type": "stream",
     "text": [
      "en.wikipedia.org (query) Visualization DXC OmniLocation\n"
     ]
    },
    {
     "name": "stdout",
     "output_type": "stream",
     "text": [
      "indigent explorers\n",
      "461\n"
     ]
    },
    {
     "name": "stderr",
     "output_type": "stream",
     "text": [
      "en.wikipedia.org (query) indigent explorers\n"
     ]
    },
    {
     "name": "stdout",
     "output_type": "stream",
     "text": [
      "digital platform\n",
      "462\n"
     ]
    },
    {
     "name": "stderr",
     "output_type": "stream",
     "text": [
      "en.wikipedia.org (query) digital platform\n",
      "en.wikipedia.org (parse) 60898425\n",
      "www.wikidata.org (wikidata) Q64358147\n",
      "www.wikidata.org (labels) P31|Q4167410\n",
      "en.wikipedia.org (restbase) /page/summary/Digital_platform\n",
      "Digital platform (en) data\n",
      "{\n",
      "  WARNINGS: <dict(1)> extracts\n",
      "  claims: <dict(1)> P31\n",
      "  description: <str(95)> Disambiguation page providing links to to...\n",
      "  disambiguation: 2\n",
      "  exhtml: <str(99)> <p><b>Digital platform</b> may refer to:</p><u...\n",
      "  exrest: Digital platform may refer to:computing platformweb portal\n",
      "  extext: <str(70)> **Digital platform** may refer to:  * computin...\n",
      "  extract: <str(99)> <p><b>Digital platform</b> may refer to:</p><...\n",
      "  label: Digital platform\n",
      "  labels: <dict(2)> P31, Q4167410\n",
      "  length: 97\n",
      "  links: <list(2)> Computing platform, Web portal\n",
      "  modified: <dict(2)> page, wikidata\n",
      "  pageid: 60898425\n",
      "  parsetree: <str(151)> <root>'''Digital platform''' may refer to:...\n",
      "  random: Massimo Stano\n",
      "  redirects: <list(1)> {'pageid': 60907254, 'ns': 0, 'title': 'Dig...\n",
      "  requests: <list(5)> query, parse, wikidata, labels, restbase\n",
      "  title: Digital_platform\n",
      "  url: https://en.wikipedia.org/wiki/Digital_platform\n",
      "  url_raw: https://en.wikipedia.org/wiki/Digital_platform?action=raw\n",
      "  what: Wikimedia disambiguation page\n",
      "  wikibase: Q64358147\n",
      "  wikidata: <dict(1)> instance of (P31)\n",
      "  wikidata_pageid: 64057611\n",
      "  wikidata_url: https://www.wikidata.org/wiki/Q64358147\n",
      "  wikitext: <str(92)> '''Digital platform''' may refer to:*[[compu...\n",
      "}\n",
      "en.wikipedia.org (query) The DXC Disruption management system\n"
     ]
    },
    {
     "name": "stdout",
     "output_type": "stream",
     "text": [
      "The DXC Disruption management system\n",
      "463\n",
      "CTO\n",
      "464\n"
     ]
    },
    {
     "name": "stderr",
     "output_type": "stream",
     "text": [
      "en.wikipedia.org (query) CTO\n",
      "en.wikipedia.org (parse) 337348\n",
      "www.wikidata.org (wikidata) Q403461\n",
      "www.wikidata.org (labels) P31|Q4167410\n",
      "en.wikipedia.org (restbase) /page/summary/CTO\n",
      "CTO (en) data\n",
      "{\n",
      "  WARNINGS: <dict(1)> extracts\n",
      "  assessments: <dict(1)> Disambiguation\n",
      "  claims: <dict(1)> P31\n",
      "  description: <str(95)> Disambiguation page providing links to to...\n",
      "  disambiguation: 18\n",
      "  exhtml: <p><b>CTO</b> may refer to:</p>\n",
      "  exrest: CTO may refer to:\n",
      "  extext: **CTO** may refer to:\n",
      "  extract: <p><b>CTO</b> may refer to:</p>\n",
      "  iwlinks: <list(1)> https://en.wiktionary.org/wiki/CTO\n",
      "  label: CTO\n",
      "  labels: <dict(2)> P31, Q4167410\n",
      "  length: 1,427\n",
      "  links: <list(18)> Australia, CTO Hospital (Turin), Canada, Cance...\n",
      "  modified: <dict(2)> page, wikidata\n",
      "  pageid: 337348\n",
      "  parsetree: <str(1607)> <root><template><title>Wiktionary</title>...\n",
      "  random: My Kingdom (film)\n",
      "  redirects: <list(2)> {'pageid': 12151658, 'ns': 0, 'title': 'Cto...\n",
      "  requests: <list(5)> query, parse, wikidata, labels, restbase\n",
      "  title: CTO\n",
      "  url: https://en.wikipedia.org/wiki/CTO\n",
      "  url_raw: https://en.wikipedia.org/wiki/CTO?action=raw\n",
      "  what: Wikimedia disambiguation page\n",
      "  wikibase: Q403461\n",
      "  wikidata: <dict(1)> instance of (P31)\n",
      "  wikidata_pageid: 382631\n",
      "  wikidata_url: https://www.wikidata.org/wiki/Q403461\n",
      "  wikitext: <str(1403)> {{Wiktionary|CTO}}'''CTO''' may refer to:=...\n",
      "}\n",
      "en.wikipedia.org (query) SOA services\n"
     ]
    },
    {
     "name": "stdout",
     "output_type": "stream",
     "text": [
      "SOA services\n",
      "465\n",
      "combined wds\n",
      "466\n"
     ]
    },
    {
     "name": "stderr",
     "output_type": "stream",
     "text": [
      "en.wikipedia.org (query) combined wds\n"
     ]
    },
    {
     "name": "stdout",
     "output_type": "stream",
     "text": [
      "digital and mainstream IT\n",
      "467\n"
     ]
    },
    {
     "name": "stderr",
     "output_type": "stream",
     "text": [
      "en.wikipedia.org (query) digital and mainstream IT\n"
     ]
    },
    {
     "name": "stdout",
     "output_type": "stream",
     "text": [
      "October DXC Proprietary\n",
      "468\n"
     ]
    },
    {
     "name": "stderr",
     "output_type": "stream",
     "text": [
      "en.wikipedia.org (query) October DXC Proprietary\n"
     ]
    },
    {
     "name": "stdout",
     "output_type": "stream",
     "text": [
      "a new digital way\n",
      "469\n"
     ]
    },
    {
     "name": "stderr",
     "output_type": "stream",
     "text": [
      "en.wikipedia.org (query) a new digital way\n"
     ]
    },
    {
     "name": "stdout",
     "output_type": "stream",
     "text": [
      "Guardian worksite customers\n",
      "470\n"
     ]
    },
    {
     "name": "stderr",
     "output_type": "stream",
     "text": [
      "en.wikipedia.org (query) Guardian worksite customers\n"
     ]
    },
    {
     "name": "stdout",
     "output_type": "stream",
     "text": [
      "Watson\n",
      "471\n"
     ]
    },
    {
     "name": "stderr",
     "output_type": "stream",
     "text": [
      "en.wikipedia.org (query) Watson\n",
      "en.wikipedia.org (parse) 886996\n",
      "www.wikidata.org (wikidata) Q1464012\n",
      "www.wikidata.org (labels) P31|Q1184721|Q29347684|Q4167410|P1889\n",
      "en.wikipedia.org (restbase) /page/summary/Watson\n",
      "Watson (en) data\n",
      "{\n",
      "  WARNINGS: <dict(1)> extracts\n",
      "  assessments: <dict(1)> Disambiguation\n",
      "  claims: <dict(2)> P31, P1889\n",
      "  description: <str(95)> Disambiguation page providing links to to...\n",
      "  disambiguation: 45\n",
      "  exhtml: <p><b>Watson</b> may refer to:</p>\n",
      "  exrest: Watson may refer to:\n",
      "  extext: **Watson** may refer to:\n",
      "  extract: <p><b>Watson</b> may refer to:</p>\n",
      "  iwlinks: <list(1)> https://en.wiktionary.org/wiki/Watson\n",
      "  label: Watson\n",
      "  labels: <dict(5)> P31, Q1184721, Q29347684, Q4167410, P1889\n",
      "  length: 2,512\n",
      "  links: <list(45)> A Country Practice, A. J. Watson, A.S. Watson ...\n",
      "  modified: <dict(2)> page, wikidata\n",
      "  pageid: 886996\n",
      "  parsetree: <str(2853)> <root><template><title>wiktionary</title>...\n",
      "  random: 2013 Uruguay Open\n",
      "  redirects: <list(2)> {'pageid': 2854679, 'ns': 0, 'title': 'Wats...\n",
      "  requests: <list(5)> query, parse, wikidata, labels, restbase\n",
      "  title: Watson\n",
      "  url: https://en.wikipedia.org/wiki/Watson\n",
      "  url_raw: https://en.wikipedia.org/wiki/Watson?action=raw\n",
      "  what: Wikimedia disambiguation page\n",
      "  wikibase: Q1464012\n",
      "  wikidata: <dict(2)> instance of (P31), different from (P1889)\n",
      "  wikidata_pageid: 1402109\n",
      "  wikidata_url: https://www.wikidata.org/wiki/Q1464012\n",
      "  wikitext: <str(2442)> {{wiktionary|Watson}}'''Watson''' may refe...\n",
      "}\n",
      "en.wikipedia.org (query) Chatbots\n"
     ]
    },
    {
     "name": "stdout",
     "output_type": "stream",
     "text": [
      "Chatbots\n",
      "472\n"
     ]
    },
    {
     "name": "stderr",
     "output_type": "stream",
     "text": [
      "en.wikipedia.org (parse) 148349\n",
      "www.wikidata.org (wikidata) Q870780\n",
      "www.wikidata.org (labels) P6009|P31|P227|P373|P279|P646|P3417|Q44...\n",
      "en.wikipedia.org (restbase) /page/summary/Chatbot\n",
      "en.wikipedia.org (imageinfo) File:Automated online assistant.png\n",
      "Chatbot (en) data\n",
      "{\n",
      "  WARNINGS: <dict(1)> extracts\n",
      "  aliases: <list(7)> IM bot, AI chatbot, chat bot, chatter bot, ch...\n",
      "  assessments: <dict(3)> Linguistics, Computing, Robotics\n",
      "  claims: <dict(12)> P910, P646, P279, P3417, P31, P373, P1417, P2...\n",
      "  description: Program that simulates conversation\n",
      "  exhtml: <str(557)> <p>A <b>chatbot</b> is a software application...\n",
      "  exrest: <str(543)> A chatbot is a software application used to c...\n",
      "  extext: <str(1196)> A **chatbot** is a software application used...\n",
      "  extract: <str(1236)> <p>A <b>chatbot</b> is a software applicati...\n",
      "  image: <list(4)> {'kind': 'query-pageimage', 'file': 'File:Autom...\n",
      "  label: chatbot\n",
      "  labels: <dict(15)> P6009, P31, P227, P373, P279, P646, P3417, Q4...\n",
      "  length: 40,322\n",
      "  links: <list(177)> AAAI Press, ABSA Group Limited, AI-complete, ...\n",
      "  modified: <dict(2)> page, wikidata\n",
      "  pageid: 148349\n",
      "  parsetree: <str(52540)> <root><template><title>Other uses</title...\n",
      "  random: Lima Campos\n",
      "  redirected: <list(1)> {'from': 'Chatbots', 'to': 'Chatbot'}\n",
      "  redirects: <list(22)> {'pageid': 1998290, 'ns': 0, 'title': 'AIM...\n",
      "  requests: <list(6)> query, parse, wikidata, labels, restbase, im...\n",
      "  title: Chatbot\n",
      "  url: https://en.wikipedia.org/wiki/Chatbot\n",
      "  url_raw: https://en.wikipedia.org/wiki/Chatbot?action=raw\n",
      "  watchers: 215\n",
      "  what: software feature\n",
      "  wikibase: Q870780\n",
      "  wikidata: <dict(12)> topic's main category (P910), Freebase ID (...\n",
      "  wikidata_pageid: 822067\n",
      "  wikidata_url: https://www.wikidata.org/wiki/Q870780\n",
      "  wikitext: <str(39997)> {{Other uses|Chatbot (disambiguation)}}{{...\n",
      "}\n",
      "en.wikipedia.org (query) Health PAS Medicaid programs\n"
     ]
    },
    {
     "name": "stdout",
     "output_type": "stream",
     "text": [
      "Health PAS Medicaid programs\n",
      "473\n",
      "The ServiceNow Knowledge Management application\n",
      "474\n"
     ]
    },
    {
     "name": "stderr",
     "output_type": "stream",
     "text": [
      "en.wikipedia.org (query) The ServiceNow Knowledge Management appl...\n"
     ]
    },
    {
     "name": "stdout",
     "output_type": "stream",
     "text": [
      "The AI Infrastructure Utilities\n",
      "475\n"
     ]
    },
    {
     "name": "stderr",
     "output_type": "stream",
     "text": [
      "en.wikipedia.org (query) The AI Infrastructure Utilities\n",
      "en.wikipedia.org (query) Sin entrar\n"
     ]
    },
    {
     "name": "stdout",
     "output_type": "stream",
     "text": [
      "Sin entrar\n",
      "476\n",
      "NII Corporate Manager Define\n",
      "477\n"
     ]
    },
    {
     "name": "stderr",
     "output_type": "stream",
     "text": [
      "en.wikipedia.org (query) NII Corporate Manager Define\n"
     ]
    },
    {
     "name": "stdout",
     "output_type": "stream",
     "text": [
      "the Client Experience CX process\n",
      "478\n"
     ]
    },
    {
     "name": "stderr",
     "output_type": "stream",
     "text": [
      "en.wikipedia.org (query) the Client Experience CX process\n"
     ]
    },
    {
     "name": "stdout",
     "output_type": "stream",
     "text": [
      "a consumer portal\n",
      "479\n"
     ]
    },
    {
     "name": "stderr",
     "output_type": "stream",
     "text": [
      "en.wikipedia.org (query) a consumer portal\n"
     ]
    },
    {
     "name": "stdout",
     "output_type": "stream",
     "text": [
      "Some ADAS features\n",
      "480\n"
     ]
    },
    {
     "name": "stderr",
     "output_type": "stream",
     "text": [
      "en.wikipedia.org (query) Some ADAS features\n"
     ]
    },
    {
     "name": "stdout",
     "output_type": "stream",
     "text": [
      "their web portal\n",
      "481\n"
     ]
    },
    {
     "name": "stderr",
     "output_type": "stream",
     "text": [
      "en.wikipedia.org (query) their web portal\n"
     ]
    },
    {
     "name": "stdout",
     "output_type": "stream",
     "text": [
      "your DXC work account\n",
      "482\n"
     ]
    },
    {
     "name": "stderr",
     "output_type": "stream",
     "text": [
      "en.wikipedia.org (query) your DXC work account\n"
     ]
    },
    {
     "name": "stdout",
     "output_type": "stream",
     "text": [
      "the RPA\n",
      "483\n"
     ]
    },
    {
     "name": "stderr",
     "output_type": "stream",
     "text": [
      "en.wikipedia.org (query) the RPA\n"
     ]
    },
    {
     "name": "stdout",
     "output_type": "stream",
     "text": [
      "the IATA\n",
      "484\n"
     ]
    },
    {
     "name": "stderr",
     "output_type": "stream",
     "text": [
      "en.wikipedia.org (query) the IATA\n"
     ]
    },
    {
     "name": "stdout",
     "output_type": "stream",
     "text": [
      "a PPMC LDSM instance\n",
      "485\n"
     ]
    },
    {
     "name": "stderr",
     "output_type": "stream",
     "text": [
      "en.wikipedia.org (query) a PPMC LDSM instance\n"
     ]
    },
    {
     "name": "stdout",
     "output_type": "stream",
     "text": [
      "AMCmW\n",
      "486\n"
     ]
    },
    {
     "name": "stderr",
     "output_type": "stream",
     "text": [
      "en.wikipedia.org (query) AMCmW\n"
     ]
    },
    {
     "name": "stdout",
     "output_type": "stream",
     "text": [
      "Intune Pre\n",
      "487\n"
     ]
    },
    {
     "name": "stderr",
     "output_type": "stream",
     "text": [
      "en.wikipedia.org (query) Intune Pre\n"
     ]
    },
    {
     "name": "stdout",
     "output_type": "stream",
     "text": [
      "Windows adoption Modern devices\n",
      "488\n"
     ]
    },
    {
     "name": "stderr",
     "output_type": "stream",
     "text": [
      "en.wikipedia.org (query) Windows adoption Modern devices\n"
     ]
    },
    {
     "name": "stdout",
     "output_type": "stream",
     "text": [
      "Destination Digital Destination Digital\n",
      "489\n"
     ]
    },
    {
     "name": "stderr",
     "output_type": "stream",
     "text": [
      "en.wikipedia.org (query) Destination Digital Destination Digital\n"
     ]
    },
    {
     "name": "stdout",
     "output_type": "stream",
     "text": [
      "anti lock brakes air bags\n",
      "490\n"
     ]
    },
    {
     "name": "stderr",
     "output_type": "stream",
     "text": [
      "en.wikipedia.org (query) anti lock brakes air bags\n"
     ]
    },
    {
     "name": "stdout",
     "output_type": "stream",
     "text": [
      "a truly secure digital journey\n",
      "491\n"
     ]
    },
    {
     "name": "stderr",
     "output_type": "stream",
     "text": [
      "en.wikipedia.org (query) a truly secure digital journey\n"
     ]
    },
    {
     "name": "stdout",
     "output_type": "stream",
     "text": [
      "Digital Platforms e g\n",
      "492\n"
     ]
    },
    {
     "name": "stderr",
     "output_type": "stream",
     "text": [
      "en.wikipedia.org (query) Digital Platforms e g\n"
     ]
    },
    {
     "name": "stdout",
     "output_type": "stream",
     "text": [
      "the Hadoop cluster\n",
      "493\n"
     ]
    },
    {
     "name": "stderr",
     "output_type": "stream",
     "text": [
      "en.wikipedia.org (query) the Hadoop cluster\n"
     ]
    },
    {
     "name": "stdout",
     "output_type": "stream",
     "text": [
      "the greatest MSS impact\n",
      "494\n"
     ]
    },
    {
     "name": "stderr",
     "output_type": "stream",
     "text": [
      "en.wikipedia.org (query) the greatest MSS impact\n"
     ]
    },
    {
     "name": "stdout",
     "output_type": "stream",
     "text": [
      "JPMorgan Chase Co All rights\n",
      "495\n"
     ]
    },
    {
     "name": "stderr",
     "output_type": "stream",
     "text": [
      "en.wikipedia.org (query) JPMorgan Chase Co All rights\n"
     ]
    },
    {
     "name": "stdout",
     "output_type": "stream",
     "text": [
      "Vehicle VV\n",
      "496\n"
     ]
    },
    {
     "name": "stderr",
     "output_type": "stream",
     "text": [
      "en.wikipedia.org (query) Vehicle VV\n"
     ]
    },
    {
     "name": "stdout",
     "output_type": "stream",
     "text": [
      "The Oracle Cloud solution\n",
      "497\n"
     ]
    },
    {
     "name": "stderr",
     "output_type": "stream",
     "text": [
      "en.wikipedia.org (query) The Oracle Cloud solution\n"
     ]
    },
    {
     "name": "stdout",
     "output_type": "stream",
     "text": [
      "these awards air\n",
      "498\n"
     ]
    },
    {
     "name": "stderr",
     "output_type": "stream",
     "text": [
      "en.wikipedia.org (query) these awards air\n"
     ]
    },
    {
     "name": "stdout",
     "output_type": "stream",
     "text": [
      "their RPA solutions\n",
      "499\n"
     ]
    },
    {
     "name": "stderr",
     "output_type": "stream",
     "text": [
      "en.wikipedia.org (query) their RPA solutions\n"
     ]
    },
    {
     "name": "stdout",
     "output_type": "stream",
     "text": [
      "Everest Group s pick\n",
      "500\n"
     ]
    },
    {
     "name": "stderr",
     "output_type": "stream",
     "text": [
      "en.wikipedia.org (query) Everest Group s pick\n"
     ]
    },
    {
     "name": "stdout",
     "output_type": "stream",
     "text": [
      "GPIO s\n",
      "501\n"
     ]
    },
    {
     "name": "stderr",
     "output_type": "stream",
     "text": [
      "en.wikipedia.org (query) GPIO s\n"
     ]
    },
    {
     "name": "stdout",
     "output_type": "stream",
     "text": [
      "the bigger CoE picture\n",
      "502\n"
     ]
    },
    {
     "name": "stderr",
     "output_type": "stream",
     "text": [
      "en.wikipedia.org (query) the bigger CoE picture\n"
     ]
    },
    {
     "name": "stdout",
     "output_type": "stream",
     "text": [
      "operator profile management HPE\n",
      "503\n"
     ]
    },
    {
     "name": "stderr",
     "output_type": "stream",
     "text": [
      "en.wikipedia.org (query) operator profile management HPE\n"
     ]
    },
    {
     "name": "stdout",
     "output_type": "stream",
     "text": [
      "ALARP\n",
      "504\n"
     ]
    },
    {
     "name": "stderr",
     "output_type": "stream",
     "text": [
      "en.wikipedia.org (query) ALARP\n",
      "en.wikipedia.org (parse) 2050151\n",
      "www.wikidata.org (wikidata) Q477041\n",
      "www.wikidata.org (labels) P31|P1889|P646|Q102786|P6366|Q6948757\n",
      "en.wikipedia.org (restbase) /page/summary/ALARP\n",
      "ALARP (en) data\n",
      "{\n",
      "  WARNINGS: <dict(1)> extracts\n",
      "  aliases: <list(1)> as low as reasonably practicable\n",
      "  claims: <dict(4)> P646, P31, P1889, P6366\n",
      "  exhtml: <str(374)> <p><b>ALARP</b>, which stands for \"<b>as low ...\n",
      "  exrest: <str(332)> ALARP, which stands for \"as low as reasonably...\n",
      "  extext: <str(906)> **ALARP** , which stands for \" **as low as re...\n",
      "  extract: <str(943)> <p><b>ALARP</b>, which stands for \"<b>as low...\n",
      "  label: ALARP\n",
      "  labels: <dict(6)> P31, P1889, P646, Q102786, P6366, Q6948757\n",
      "  length: 9,928\n",
      "  links: <list(18)> Case law, Cost–benefit analysis, Directive 89/...\n",
      "  modified: <dict(2)> page, wikidata\n",
      "  pageid: 2050151\n",
      "  parsetree: <str(11232)> <root><template><title>Use dmy dates</ti...\n",
      "  random: New Malden\n",
      "  redirects: <list(3)> {'pageid': 1648250, 'ns': 0, 'title': 'ALAR...\n",
      "  requests: <list(5)> query, parse, wikidata, labels, restbase\n",
      "  title: ALARP\n",
      "  url: https://en.wikipedia.org/wiki/ALARP\n",
      "  url_raw: https://en.wikipedia.org/wiki/ALARP?action=raw\n",
      "  what: abbreviation\n",
      "  wikibase: Q477041\n",
      "  wikidata: <dict(4)> Freebase ID (P646), instance of (P31), diffe...\n",
      "  wikidata_pageid: 449667\n",
      "  wikidata_url: https://www.wikidata.org/wiki/Q477041\n",
      "  wikitext: <str(9859)> {{Use dmy dates|date=July 2013}}'''ALARP''...\n",
      "}\n",
      "en.wikipedia.org (query) Customer SS\n"
     ]
    },
    {
     "name": "stdout",
     "output_type": "stream",
     "text": [
      "Customer SS\n",
      "505\n",
      "SLA Performance levels\n",
      "506\n"
     ]
    },
    {
     "name": "stderr",
     "output_type": "stream",
     "text": [
      "en.wikipedia.org (query) SLA Performance levels\n"
     ]
    },
    {
     "name": "stdout",
     "output_type": "stream",
     "text": [
      "digital transformation modernization\n",
      "507\n"
     ]
    },
    {
     "name": "stderr",
     "output_type": "stream",
     "text": [
      "en.wikipedia.org (query) digital transformation modernization\n"
     ]
    },
    {
     "name": "stdout",
     "output_type": "stream",
     "text": [
      "core OTM\n",
      "508\n"
     ]
    },
    {
     "name": "stderr",
     "output_type": "stream",
     "text": [
      "en.wikipedia.org (query) core OTM\n"
     ]
    },
    {
     "name": "stdout",
     "output_type": "stream",
     "text": [
      "Section Patwardhan Knapp\n",
      "509\n"
     ]
    },
    {
     "name": "stderr",
     "output_type": "stream",
     "text": [
      "en.wikipedia.org (query) Section Patwardhan Knapp\n"
     ]
    }
   ],
   "source": [
    "count = 0\n",
    "for each in similarwikilist:\n",
    "    text = each\n",
    "    count += 1\n",
    "    print(each)\n",
    "    print(count)\n",
    "    #details = wptools.page(text).get()\n",
    "    try:\n",
    "        details = wptools.page(text).get()\n",
    "    except Exception as e:\n",
    "        exceptions.append(e)\n",
    "        #print('Exception Occured',e)\n",
    "        \n",
    "        \n",
    "    Dict ={}\n",
    "    Dict = details.data['infobox']\n",
    "    \n",
    "    NoneType = type(None)\n",
    "    if isinstance(Dict, NoneType) is True:\n",
    "        notsearched.append(each)\n",
    "        pass\n",
    "    else:\n",
    "        #listoftitles.extend([keys for keys in Dict.keys()])\n",
    "        #print(Dict)\n",
    "        searched.append(each)\n",
    "        for keys, values in Dict.items():\n",
    "            if keys == 'industry':\n",
    "                indus_string = Dict['industry']\n",
    "                list_ = indus_string.split(',')\n",
    "                industry.extend(list_)\n",
    "                list_ = indus_string.split('|')\n",
    "                industry.extend(list_)\n",
    "                list_ = indus_string.split('\\n')\n",
    "                industry.extend(list_)\n",
    "                \n",
    "                \n",
    "                \n",
    "                \n",
    "                \n",
    "                "
   ]
  },
  {
   "cell_type": "markdown",
   "metadata": {},
   "source": [
    "# Total number of Industry found 1538, we should clean it by removing duplicates and special characters"
   ]
  },
  {
   "cell_type": "code",
   "execution_count": 41,
   "metadata": {},
   "outputs": [
    {
     "data": {
      "text/plain": [
       "1538"
      ]
     },
     "execution_count": 41,
     "metadata": {},
     "output_type": "execute_result"
    }
   ],
   "source": [
    "len(industry)"
   ]
  },
  {
   "cell_type": "code",
   "execution_count": null,
   "metadata": {},
   "outputs": [],
   "source": []
  },
  {
   "cell_type": "code",
   "execution_count": 42,
   "metadata": {},
   "outputs": [
    {
     "data": {
      "text/plain": [
       "[' Robotic Process Automation ',\n",
       " ' Artificial Intelligence ',\n",
       " ' Hyperautomation',\n",
       " ' Robotic Process Automation Artificial Intelligence Hyperautomation',\n",
       " ' Robotic Process Automation Artificial Intelligence Hyperautomation',\n",
       " ' Robotic Process Automation ',\n",
       " ' Robotic Process Automation ',\n",
       " ' Robotic Process Automation ',\n",
       " ' Enterprise software ',\n",
       " ' Enterprise software ',\n",
       " ' Enterprise software ',\n",
       " ' Software industry Computer software ',\n",
       " ' cloud computing ',\n",
       " ' robotic process automation ',\n",
       " ' artificial intelligence ',\n",
       " ' Software industry',\n",
       " 'Computer software cloud computing robotic process automation artificial intelligence ',\n",
       " ' Software industry Computer software cloud computing robotic process automation artificial intelligence ',\n",
       " ' Video game industry Video games ',\n",
       " ' Video game industry',\n",
       " 'Video games ',\n",
       " ' Video game industry Video games ',\n",
       " ' Video game industry Video games ',\n",
       " ' Video game industry',\n",
       " 'Video games ',\n",
       " ' Video game industry Video games ',\n",
       " ' Conservation movement Conservation ',\n",
       " ' Conservation movement',\n",
       " 'Conservation ',\n",
       " ' Conservation movement Conservation ',\n",
       " ' Professional services Technology services ',\n",
       " ' Professional services Technology services ',\n",
       " ' Professional services Technology services ',\n",
       " ' ubl IT Solutions buzzword inline date August 2019 Business to Business Commercial Public Sector IT Solutions buzzword inline date August 2019 Provider buzzword inline date August 2019 buzzword inline date August 2019 Provider',\n",
       " ' ubl',\n",
       " 'IT Solutions',\n",
       " 'buzzword inline',\n",
       " 'date',\n",
       " ' ',\n",
       " 'August 2019',\n",
       " ' ',\n",
       " ' Business to Business ',\n",
       " ' Commercial Public Sector ',\n",
       " ' IT Solutions',\n",
       " 'buzzword inline',\n",
       " 'date',\n",
       " ' ',\n",
       " 'August 2019',\n",
       " ' Provider buzzword inline',\n",
       " 'date',\n",
       " ' ',\n",
       " 'August 2019 buzzword inline',\n",
       " 'date',\n",
       " ' ',\n",
       " 'August 2019 Provider',\n",
       " ' ubl IT Solutions buzzword inline date August 2019 Business to Business Commercial Public Sector IT Solutions buzzword inline date August 2019 Provider buzzword inline date August 2019 buzzword inline date August 2019 Provider',\n",
       " ' Professional services ',\n",
       " ' Professional services ',\n",
       " ' Professional services ',\n",
       " ' Robotic Process Automation ',\n",
       " ' Artificial Intelligence ',\n",
       " ' Hyperautomation',\n",
       " ' Robotic Process Automation Artificial Intelligence Hyperautomation',\n",
       " ' Robotic Process Automation Artificial Intelligence Hyperautomation',\n",
       " ' Software industry Computer software ',\n",
       " ' cloud computing ',\n",
       " ' robotic process automation ',\n",
       " ' artificial intelligence ',\n",
       " ' Software industry',\n",
       " 'Computer software cloud computing robotic process automation artificial intelligence ',\n",
       " ' Software industry Computer software cloud computing robotic process automation artificial intelligence ',\n",
       " ' IT service management IT services ',\n",
       " ' Information technology consulting IT consulting ',\n",
       " ' IT service management',\n",
       " 'IT services Information technology consulting',\n",
       " 'IT consulting ',\n",
       " ' IT service management IT services Information technology consulting IT consulting ',\n",
       " ' Registered Agent ',\n",
       " ' Corporate Governance',\n",
       " ' Corporate Compliance',\n",
       " ' Domain Name and Intellectual Property Management',\n",
       " ' Registered Agent Corporate Governance Corporate Compliance Domain Name and Intellectual Property Management',\n",
       " ' Registered Agent Corporate Governance Corporate Compliance Domain Name and Intellectual Property Management',\n",
       " ' Professional services ',\n",
       " ' Professional services ',\n",
       " ' Professional services ',\n",
       " ' IT service management IT services ',\n",
       " ' Information technology consulting IT consulting ',\n",
       " ' IT service management',\n",
       " 'IT services Information technology consulting',\n",
       " 'IT consulting ',\n",
       " ' IT service management IT services Information technology consulting IT consulting ',\n",
       " ' Banking br Financial services ',\n",
       " ' Banking br Financial services ',\n",
       " ' Banking br Financial services ',\n",
       " ' IT service management IT services ',\n",
       " ' Information technology consulting IT consulting ',\n",
       " ' IT service management',\n",
       " 'IT services Information technology consulting',\n",
       " 'IT consulting ',\n",
       " ' IT service management IT services Information technology consulting IT consulting ',\n",
       " 'SaaS HCM Software',\n",
       " 'SaaS HCM Software',\n",
       " 'SaaS HCM Software',\n",
       " ' Life Insurance ',\n",
       " ' Life Insurance ',\n",
       " ' Life Insurance ',\n",
       " ' Financial services ',\n",
       " ' Financial services ',\n",
       " ' Financial services ',\n",
       " ' unbulleted list Graphic arts Imaging technology final good Consumer products ',\n",
       " ' unbulleted list',\n",
       " ' Graphic arts ',\n",
       " 'Imaging technology',\n",
       " ' final good',\n",
       " 'Consumer products ',\n",
       " ' unbulleted list Graphic arts Imaging technology final good Consumer products ',\n",
       " ' unbulleted list Graphic arts Imaging technology final good Consumer products ',\n",
       " ' unbulleted list',\n",
       " ' Graphic arts ',\n",
       " 'Imaging technology',\n",
       " ' final good',\n",
       " 'Consumer products ',\n",
       " ' unbulleted list Graphic arts Imaging technology final good Consumer products ',\n",
       " 'Big Data Analytics Semiconducutor',\n",
       " 'Big Data Analytics Semiconducutor',\n",
       " 'Big Data Analytics Semiconducutor',\n",
       " ' Semiconductors ',\n",
       " ' Semiconductors ',\n",
       " ' Semiconductors ',\n",
       " 'Air compressor manufacturer',\n",
       " 'Air compressor manufacturer',\n",
       " 'Air compressor manufacturer',\n",
       " 'Industrial equipment',\n",
       " 'Industrial equipment',\n",
       " 'Industrial equipment',\n",
       " ' Web service ',\n",
       " ' cloud computing ',\n",
       " ' Web service cloud computing ',\n",
       " ' Web service cloud computing ',\n",
       " 'research and advisory services',\n",
       " 'research and advisory services',\n",
       " 'research and advisory services',\n",
       " ' Software quality br Test automation br Outsourcing ',\n",
       " ' Software quality br Test automation br Outsourcing ',\n",
       " ' Software quality br Test automation br Outsourcing ',\n",
       " ' IT service management IT services ',\n",
       " ' Information technology consulting IT consulting ',\n",
       " ' IT service management',\n",
       " 'IT services Information technology consulting',\n",
       " 'IT consulting ',\n",
       " ' IT service management IT services Information technology consulting IT consulting ',\n",
       " ' IT service management IT services ',\n",
       " ' Information technology consulting IT consulting ',\n",
       " ' IT service management',\n",
       " 'IT services Information technology consulting',\n",
       " 'IT consulting ',\n",
       " ' IT service management IT services Information technology consulting IT consulting ',\n",
       " ' unbulleted list Graphic arts Imaging technology final good Consumer products ',\n",
       " ' unbulleted list',\n",
       " ' Graphic arts ',\n",
       " 'Imaging technology',\n",
       " ' final good',\n",
       " 'Consumer products ',\n",
       " ' unbulleted list Graphic arts Imaging technology final good Consumer products ',\n",
       " ' Web service ',\n",
       " ' cloud computing ',\n",
       " ' Web service cloud computing ',\n",
       " ' Web service cloud computing ',\n",
       " ' IT service management IT services ',\n",
       " ' Information technology consulting IT consulting ',\n",
       " ' IT service management',\n",
       " 'IT services Information technology consulting',\n",
       " 'IT consulting ',\n",
       " ' IT service management IT services Information technology consulting IT consulting ',\n",
       " ' Banking Financial services ',\n",
       " ' Banking Financial services ',\n",
       " ' Banking Financial services ',\n",
       " ' Rail transport ',\n",
       " ' Rail transport ',\n",
       " ' Rail transport ',\n",
       " 'Military contractor',\n",
       " ' service focused',\n",
       " 'Military contractor service focused',\n",
       " 'Military contractor service focused',\n",
       " ' Financial services ',\n",
       " ' Financial services ',\n",
       " ' Financial services ',\n",
       " ' plainlist Bank ing Financial services ',\n",
       " ' plainlist',\n",
       " ' Bank ing Financial services ',\n",
       " ' plainlist ',\n",
       " ' Bank ing',\n",
       " ' Financial services ',\n",
       " ' Bank ing and financial services ',\n",
       " ' Bank ing and financial services ',\n",
       " ' Bank ing and financial services ',\n",
       " ' Social networking service ',\n",
       " ' Social networking service ',\n",
       " ' Social networking service ',\n",
       " ' Market research ',\n",
       " ' Market research ',\n",
       " ' Market research ',\n",
       " ' Internet ',\n",
       " ' Internet ',\n",
       " ' Internet ',\n",
       " ' IT service management IT services ',\n",
       " ' Information technology consulting IT consulting ',\n",
       " ' IT service management',\n",
       " 'IT services Information technology consulting',\n",
       " 'IT consulting ',\n",
       " ' IT service management IT services Information technology consulting IT consulting ',\n",
       " 'Cloud based intranet and digital workplace software',\n",
       " 'Cloud based intranet and digital workplace software',\n",
       " 'Cloud based intranet and digital workplace software',\n",
       " ' Computer software ',\n",
       " ' Computer software ',\n",
       " ' Computer software ',\n",
       " ' Professional services Technology services ',\n",
       " ' Professional services Technology services ',\n",
       " ' Professional services Technology services ',\n",
       " ' Web service ',\n",
       " ' cloud computing ',\n",
       " ' Web service cloud computing ',\n",
       " ' Web service cloud computing ',\n",
       " ' Professional services ',\n",
       " ' Professional services ',\n",
       " ' Professional services ',\n",
       " ' unbulleted list nowrap Technology nowrap Autonomic computing nowrap Virtual assistant artificial intelligence Artificial Intelligence nowrap Technology nowrap Autonomic computing nowrap Virtual assistant artificial intelligence Artificial Intelligence ',\n",
       " ' unbulleted list',\n",
       " ' ',\n",
       " 'nowrap',\n",
       " ' Technology ',\n",
       " ' ',\n",
       " 'nowrap',\n",
       " ' Autonomic computing ',\n",
       " ' ',\n",
       " 'nowrap',\n",
       " ' Virtual assistant artificial intelligence ',\n",
       " 'Artificial Intelligence nowrap',\n",
       " ' Technology nowrap',\n",
       " ' Autonomic computing nowrap',\n",
       " ' Virtual assistant artificial intelligence ',\n",
       " 'Artificial Intelligence ',\n",
       " ' unbulleted list ',\n",
       " ' nowrap Technology ',\n",
       " ' nowrap Autonomic computing ',\n",
       " ' nowrap Virtual assistant artificial intelligence Artificial Intelligence nowrap Technology nowrap Autonomic computing nowrap Virtual assistant artificial intelligence Artificial Intelligence ',\n",
       " 'Business Process Outsourcing',\n",
       " 'Business Process Outsourcing',\n",
       " 'Business Process Outsourcing',\n",
       " ' Computer software ',\n",
       " ' document management ',\n",
       " ' Computer software document management ',\n",
       " ' Computer software document management ',\n",
       " ' Enterprise software ',\n",
       " ' Enterprise software ',\n",
       " ' Enterprise software ',\n",
       " 'Healthcare IT',\n",
       " ' Business Process Outsourcing Services',\n",
       " ' ITES',\n",
       " ' KPOs',\n",
       " ' LPOs',\n",
       " ' Transcription',\n",
       " 'Healthcare IT Business Process Outsourcing Services ITES KPOs LPOs Transcription',\n",
       " 'Healthcare IT Business Process Outsourcing Services ITES KPOs LPOs Transcription',\n",
       " ' Communications ',\n",
       " ' Communications ',\n",
       " ' Communications ',\n",
       " ' plainlist Telecommunications Consumer electronics Financial technology ',\n",
       " ' plainlist',\n",
       " ' Telecommunications Consumer electronics Financial technology ',\n",
       " ' plainlist ',\n",
       " ' Telecommunications ',\n",
       " ' Consumer electronics ',\n",
       " ' Financial technology ',\n",
       " 'Professional association',\n",
       " 'Professional association',\n",
       " 'Professional association',\n",
       " ' Enterprise software ',\n",
       " ' Enterprise software ',\n",
       " ' Enterprise software ',\n",
       " ' Retail ',\n",
       " ' Retail ',\n",
       " ' Retail ',\n",
       " ' unbulleted list Graphic arts Imaging technology final good Consumer products ',\n",
       " ' unbulleted list',\n",
       " ' Graphic arts ',\n",
       " 'Imaging technology',\n",
       " ' final good',\n",
       " 'Consumer products ',\n",
       " ' unbulleted list Graphic arts Imaging technology final good Consumer products ',\n",
       " 'Clothing',\n",
       " ' hip hop apparel',\n",
       " 'Clothing hip hop apparel',\n",
       " 'Clothing hip hop apparel',\n",
       " ' Software industry Computer software ',\n",
       " ' cloud computing ',\n",
       " ' robotic process automation ',\n",
       " ' artificial intelligence ',\n",
       " ' Software industry',\n",
       " 'Computer software cloud computing robotic process automation artificial intelligence ',\n",
       " ' Software industry Computer software cloud computing robotic process automation artificial intelligence ',\n",
       " ' Robotic Process Automation ',\n",
       " ' Robotic Process Automation ',\n",
       " ' Robotic Process Automation ',\n",
       " ' Enterprise software ',\n",
       " ' Enterprise software ',\n",
       " ' Enterprise software ',\n",
       " ' Computer hardware br Software Computer software br IT service management IT services br Information technology consulting IT consulting ',\n",
       " ' Computer hardware br Software',\n",
       " 'Computer software br IT service management',\n",
       " 'IT services br Information technology consulting',\n",
       " 'IT consulting ',\n",
       " ' Computer hardware br Software Computer software br IT service management IT services br Information technology consulting IT consulting ',\n",
       " ' Management consulting ',\n",
       " ' Management consulting ',\n",
       " ' Management consulting ',\n",
       " ' Business Performance Management and Business Intelligence ',\n",
       " ' Business Performance Management and Business Intelligence ',\n",
       " ' Business Performance Management and Business Intelligence ',\n",
       " ' Computer hardware br Software Computer software br IT service management IT services br Information technology consulting IT consulting ',\n",
       " ' Computer hardware br Software',\n",
       " 'Computer software br IT service management',\n",
       " 'IT services br Information technology consulting',\n",
       " 'IT consulting ',\n",
       " ' Computer hardware br Software Computer software br IT service management IT services br Information technology consulting IT consulting ',\n",
       " ' Information technology services',\n",
       " ' Information technology services',\n",
       " ' Information technology services',\n",
       " ' IT service management IT services ',\n",
       " ' Information technology consulting IT consulting ',\n",
       " ' IT service management',\n",
       " 'IT services Information technology consulting',\n",
       " 'IT consulting ',\n",
       " ' IT service management IT services Information technology consulting IT consulting ',\n",
       " ' IT service management IT services ',\n",
       " ' Information technology consulting IT consulting ',\n",
       " ' IT service management',\n",
       " 'IT services Information technology consulting',\n",
       " 'IT consulting ',\n",
       " ' IT service management IT services Information technology consulting IT consulting ',\n",
       " ' Mobile game Mobile application development ',\n",
       " ' Mobile game Mobile application development ',\n",
       " ' Mobile game Mobile application development ',\n",
       " ' Transportation network company ',\n",
       " ' Transportation network company ',\n",
       " ' Transportation network company ',\n",
       " ' Consumer Electronics ',\n",
       " ' Consumer Electronics ',\n",
       " ' Consumer Electronics ',\n",
       " ' flatlist Semiconductor s Computer Network s Lighting Circuit protection ',\n",
       " ' flatlist',\n",
       " ' Semiconductor s Computer Network s Lighting Circuit protection ',\n",
       " ' flatlist ',\n",
       " ' Semiconductor s',\n",
       " ' Computer Network s',\n",
       " ' Lighting',\n",
       " ' Circuit protection ',\n",
       " ' plainlist Telecommunications E commerce Internet ',\n",
       " ' plainlist',\n",
       " ' Telecommunications E commerce Internet ',\n",
       " ' plainlist ',\n",
       " ' Telecommunications ',\n",
       " ' E commerce ',\n",
       " ' Internet ',\n",
       " ' Unbulleted list Internet Cloud computing Computer software Computer hardware Artificial intelligence Advertising ',\n",
       " ' Unbulleted list ',\n",
       " ' Internet ',\n",
       " ' Cloud computing ',\n",
       " ' Computer software ',\n",
       " ' Computer hardware ',\n",
       " ' Artificial intelligence ',\n",
       " ' Advertising ',\n",
       " ' Unbulleted list',\n",
       " ' Internet ',\n",
       " ' Cloud computing ',\n",
       " ' Computer software ',\n",
       " ' Computer hardware ',\n",
       " ' Artificial intelligence ',\n",
       " ' Advertising ',\n",
       " ' unbulleted list Graphic arts Imaging technology final good Consumer products ',\n",
       " ' unbulleted list',\n",
       " ' Graphic arts ',\n",
       " 'Imaging technology',\n",
       " ' final good',\n",
       " 'Consumer products ',\n",
       " ' unbulleted list Graphic arts Imaging technology final good Consumer products ',\n",
       " ' plainlist Cloud computing ',\n",
       " ' e commerce ',\n",
       " ' artificial intelligence ',\n",
       " ' consumer electronics ',\n",
       " ' digital distribution ',\n",
       " ' self driving cars ',\n",
       " ' plainlist',\n",
       " ' Cloud computing e commerce artificial intelligence consumer electronics digital distribution self driving cars ',\n",
       " ' plainlist ',\n",
       " ' Cloud computing ',\n",
       " ' e commerce ',\n",
       " ' artificial intelligence ',\n",
       " ' consumer electronics ',\n",
       " ' digital distribution ',\n",
       " ' self driving cars ',\n",
       " ' Restaurant s',\n",
       " ' Restaurant s',\n",
       " ' Restaurant s',\n",
       " ' Management consulting ',\n",
       " ' Management consulting ',\n",
       " ' Management consulting ',\n",
       " ' Professional services ',\n",
       " ' Professional services ',\n",
       " ' Professional services ',\n",
       " ' Professional services ',\n",
       " ' Professional services ',\n",
       " ' Professional services ',\n",
       " 'National Technology Solutions Provider',\n",
       " 'National Technology Solutions Provider',\n",
       " 'National Technology Solutions Provider',\n",
       " ' Robotic Process Automation ',\n",
       " ' Robotic Process Automation ',\n",
       " ' Robotic Process Automation ',\n",
       " ' Unbulleted list Semiconductors Artificial intelligence Video games Consumer electronics Computer hardware ',\n",
       " ' Unbulleted list ',\n",
       " ' Semiconductors ',\n",
       " ' Artificial intelligence ',\n",
       " ' Video games ',\n",
       " ' Consumer electronics ',\n",
       " ' Computer hardware ',\n",
       " ' Unbulleted list',\n",
       " ' Semiconductors ',\n",
       " ' Artificial intelligence ',\n",
       " ' Video games ',\n",
       " ' Consumer electronics ',\n",
       " ' Computer hardware ',\n",
       " ' ubl Enterprise software Cloud computing Computer hardware ',\n",
       " ' ubl',\n",
       " ' Enterprise software ',\n",
       " ' Cloud computing ',\n",
       " ' Computer hardware ',\n",
       " ' ubl Enterprise software Cloud computing Computer hardware ',\n",
       " 'Conglomerate',\n",
       " 'Conglomerate',\n",
       " 'Conglomerate',\n",
       " ' Information and communications technology ICT ',\n",
       " ' Healthcare ',\n",
       " ' Retail ',\n",
       " ' Financial Services ',\n",
       " ' Automobiles ',\n",
       " ' Leisure ',\n",
       " ' Information and communications technology',\n",
       " 'ICT Healthcare Retail Financial Services Automobiles Leisure ',\n",
       " ' Information and communications technology ICT Healthcare Retail Financial Services Automobiles Leisure ',\n",
       " ' Banking Financial services ',\n",
       " ' Banking Financial services ',\n",
       " ' Banking Financial services ',\n",
       " ' private equity firm ',\n",
       " ' private equity firm ',\n",
       " ' private equity firm ',\n",
       " 'research and advisory services',\n",
       " 'research and advisory services',\n",
       " 'research and advisory services',\n",
       " ' Management consulting ',\n",
       " ' Management consulting ',\n",
       " ' Management consulting ',\n",
       " ' Computer software ',\n",
       " ' Computer software ',\n",
       " ' Computer software ',\n",
       " ' Professional services ',\n",
       " ' Professional services ',\n",
       " ' Professional services ',\n",
       " ' Management consulting ',\n",
       " ' Management consulting ',\n",
       " ' Management consulting ',\n",
       " ' Electrical power ',\n",
       " ' Electrical power ',\n",
       " ' Electrical power ',\n",
       " 'Design',\n",
       " ' Technology',\n",
       " ' Marketing',\n",
       " 'Design Technology Marketing',\n",
       " 'Design Technology Marketing',\n",
       " ' Software development ',\n",
       " ' Software development ',\n",
       " ' Software development ',\n",
       " ' IT service management IT services ',\n",
       " ' Information technology consulting IT consulting ',\n",
       " ' IT service management',\n",
       " 'IT services Information technology consulting',\n",
       " 'IT consulting ',\n",
       " ' IT service management IT services Information technology consulting IT consulting ',\n",
       " ' Semiconductor s',\n",
       " ' Semiconductor s',\n",
       " ' Semiconductor s',\n",
       " ' Web service ',\n",
       " ' cloud computing ',\n",
       " ' Web service cloud computing ',\n",
       " ' Web service cloud computing ',\n",
       " ' Cloud management ',\n",
       " ' Cloud management ',\n",
       " ' Cloud management ',\n",
       " ' Computer hardware ',\n",
       " ' printer computing printers ',\n",
       " ' Computer hardware printer computing ',\n",
       " 'printers ',\n",
       " ' Computer hardware printer computing printers ',\n",
       " ' Conglomerate company Conglomerate ',\n",
       " ' Conglomerate company ',\n",
       " 'Conglomerate ',\n",
       " ' Conglomerate company Conglomerate ',\n",
       " ' Blockchain database Blockchain ',\n",
       " ' Blockchain database ',\n",
       " 'Blockchain ',\n",
       " ' Blockchain database Blockchain ',\n",
       " ' Software ',\n",
       " ' Software ',\n",
       " ' Software ',\n",
       " ' Medical Image Sharing ',\n",
       " ' Medical Image Sharing ',\n",
       " ' Medical Image Sharing ',\n",
       " ' Professional services ',\n",
       " ' Professional services ',\n",
       " ' Professional services ',\n",
       " ' Accounting Professional services Tax Consultant Consulting Licenses of Certified Public Accountants surrendered in 2002',\n",
       " ' Accounting Professional services Tax Consultant',\n",
       " 'Consulting Licenses of Certified Public Accountants surrendered in 2002',\n",
       " ' Accounting Professional services Tax Consultant Consulting Licenses of Certified Public Accountants surrendered in 2002',\n",
       " 'SaaS HCM Software',\n",
       " 'SaaS HCM Software',\n",
       " 'SaaS HCM Software',\n",
       " ' IT service management IT services ',\n",
       " ' Information technology consulting IT consulting ',\n",
       " ' IT service management',\n",
       " 'IT services Information technology consulting',\n",
       " 'IT consulting ',\n",
       " ' IT service management IT services Information technology consulting IT consulting ',\n",
       " ' Professional services ',\n",
       " ' Professional services ',\n",
       " ' Professional services ',\n",
       " ' unbulleted list Graphic arts Imaging technology final good Consumer products ',\n",
       " ' unbulleted list',\n",
       " ' Graphic arts ',\n",
       " 'Imaging technology',\n",
       " ' final good',\n",
       " 'Consumer products ',\n",
       " ' unbulleted list Graphic arts Imaging technology final good Consumer products ',\n",
       " 'Online information and identity protection',\n",
       " 'Online information and identity protection',\n",
       " 'Online information and identity protection',\n",
       " ' Software development ',\n",
       " ' Software development ',\n",
       " ' Software development ',\n",
       " ' Financial technology br Computer hardware br Computer software br Cloud computing br Internet of Things IoT br Artificial intelligence br Data storage and services br Computer networking br Blockchain ',\n",
       " ' Financial technology br Computer hardware br Computer software br Cloud computing br Internet of Things IoT br Artificial intelligence br Data storage and services br Computer networking br Blockchain ',\n",
       " ' Financial technology br Computer hardware br Computer software br Cloud computing br Internet of Things IoT br Artificial intelligence br Data storage and services br Computer networking br Blockchain ',\n",
       " ' Unbulleted list Telecommunications industry Telecommunications Technology company Technology Data center s Product Engineering Semiconductor Industrials ',\n",
       " ' Unbulleted list',\n",
       " ' Telecommunications industry',\n",
       " 'Telecommunications ',\n",
       " ' Technology company',\n",
       " 'Technology ',\n",
       " ' Data center s',\n",
       " ' Product Engineering ',\n",
       " ' Semiconductor ',\n",
       " ' Industrials ',\n",
       " ' Unbulleted list Telecommunications industry Telecommunications Technology company Technology Data center s Product Engineering Semiconductor Industrials ',\n",
       " ' Digital transformation ',\n",
       " ' product engineering ',\n",
       " ' Infrastructure and Security Services',\n",
       " ' Digital transformation product engineering Infrastructure and Security Services',\n",
       " ' Digital transformation product engineering Infrastructure and Security Services',\n",
       " ' Information security Information Security ',\n",
       " ' Information security',\n",
       " 'Information Security ',\n",
       " ' Information security Information Security ',\n",
       " ' Web service ',\n",
       " ' cloud computing ',\n",
       " ' Web service cloud computing ',\n",
       " ' Web service cloud computing ',\n",
       " ' IT service management IT services ',\n",
       " ' Information technology consulting IT consulting ',\n",
       " ' IT service management',\n",
       " 'IT services Information technology consulting',\n",
       " 'IT consulting ',\n",
       " ' IT service management IT services Information technology consulting IT consulting ',\n",
       " ' Enterprise software ',\n",
       " ' Enterprise software ',\n",
       " ' Enterprise software ',\n",
       " ' Software ',\n",
       " ' Software ',\n",
       " ' Software ',\n",
       " ' Information technology ',\n",
       " ' Information technology ',\n",
       " ' Information technology ',\n",
       " ' Financial services ',\n",
       " ' Financial services ',\n",
       " ' Financial services ',\n",
       " ' Employment agency Information Technology Staffing br Software industry Software br Outsourcing Outsourcing services ',\n",
       " ' Employment agency',\n",
       " 'Information Technology Staffing br Software industry',\n",
       " 'Software br Outsourcing',\n",
       " 'Outsourcing services ',\n",
       " ' Employment agency Information Technology Staffing br Software industry Software br Outsourcing Outsourcing services ',\n",
       " ' IT service management IT services ',\n",
       " ' Information technology consulting IT consulting ',\n",
       " ' IT service management',\n",
       " 'IT services Information technology consulting',\n",
       " 'IT consulting ',\n",
       " ' IT service management IT services Information technology consulting IT consulting ',\n",
       " ' Unbulleted list Software development Computer hardware Consumer electronics Social networking service Cloud computing Video game industry Video games Internet Corporate venture capital ',\n",
       " ' Unbulleted list ',\n",
       " ' Software development ',\n",
       " ' Computer hardware ',\n",
       " ' Consumer electronics ',\n",
       " ' Social networking service ',\n",
       " ' Cloud computing ',\n",
       " ' Video game industry',\n",
       " 'Video games ',\n",
       " ' Internet ',\n",
       " ' Corporate venture capital ',\n",
       " ' Unbulleted list',\n",
       " ' Software development ',\n",
       " ' Computer hardware ',\n",
       " ' Consumer electronics ',\n",
       " ' Social networking service ',\n",
       " ' Cloud computing ',\n",
       " ' Video game industry Video games ',\n",
       " ' Internet ',\n",
       " ' Corporate venture capital ',\n",
       " ' Utilities ',\n",
       " ' Construction ',\n",
       " ' High Speed Rail ',\n",
       " ' Property ',\n",
       " ' Hotels Resorts ',\n",
       " ' Utilities Construction High Speed Rail Property Hotels Resorts ',\n",
       " ' Utilities Construction High Speed Rail Property Hotels Resorts ',\n",
       " 'Internet and telecommunications',\n",
       " 'Internet and telecommunications',\n",
       " 'Internet and telecommunications',\n",
       " ' Automotive industry Automotive ',\n",
       " ' Automotive industry',\n",
       " 'Automotive ',\n",
       " ' Automotive industry Automotive ',\n",
       " 'Unamnned Systems UAV ',\n",
       " ' AUV ',\n",
       " ' Remotely operated underwater vehicle ROV ',\n",
       " ' Unmanned surface vehicle USV ',\n",
       " ' UGV ',\n",
       " 'Unamnned Systems UAV AUV Remotely operated underwater vehicle',\n",
       " 'ROV Unmanned surface vehicle',\n",
       " 'USV UGV ',\n",
       " 'Unamnned Systems UAV AUV Remotely operated underwater vehicle ROV Unmanned surface vehicle USV UGV ',\n",
       " ' IT service management IT services ',\n",
       " ' Information technology consulting IT consulting ',\n",
       " ' IT service management',\n",
       " 'IT services Information technology consulting',\n",
       " 'IT consulting ',\n",
       " ' IT service management IT services Information technology consulting IT consulting ',\n",
       " ' IT service management IT services ',\n",
       " ' Information technology consulting IT consulting ',\n",
       " ' IT service management',\n",
       " 'IT services Information technology consulting',\n",
       " 'IT consulting ',\n",
       " ' IT service management IT services Information technology consulting IT consulting ',\n",
       " ' Registered Agent ',\n",
       " ' Corporate Governance',\n",
       " ' Corporate Compliance',\n",
       " ' Domain Name and Intellectual Property Management',\n",
       " ' Registered Agent Corporate Governance Corporate Compliance Domain Name and Intellectual Property Management',\n",
       " ' Registered Agent Corporate Governance Corporate Compliance Domain Name and Intellectual Property Management',\n",
       " ' IT service management IT services ',\n",
       " ' Information technology consulting IT consulting ',\n",
       " ' IT service management',\n",
       " 'IT services Information technology consulting',\n",
       " 'IT consulting ',\n",
       " ' IT service management IT services Information technology consulting IT consulting ',\n",
       " ' Unbulleted list Software development Computer hardware Consumer electronics Social networking service Cloud computing Video game industry Video games Internet Corporate venture capital ',\n",
       " ' Unbulleted list ',\n",
       " ' Software development ',\n",
       " ' Computer hardware ',\n",
       " ' Consumer electronics ',\n",
       " ' Social networking service ',\n",
       " ' Cloud computing ',\n",
       " ' Video game industry',\n",
       " 'Video games ',\n",
       " ' Internet ',\n",
       " ' Corporate venture capital ',\n",
       " ' Unbulleted list',\n",
       " ' Software development ',\n",
       " ' Computer hardware ',\n",
       " ' Consumer electronics ',\n",
       " ' Social networking service ',\n",
       " ' Cloud computing ',\n",
       " ' Video game industry Video games ',\n",
       " ' Internet ',\n",
       " ' Corporate venture capital ',\n",
       " ' unbulleted list Graphic arts Imaging technology final good Consumer products ',\n",
       " ' unbulleted list',\n",
       " ' Graphic arts ',\n",
       " 'Imaging technology',\n",
       " ' final good',\n",
       " 'Consumer products ',\n",
       " ' unbulleted list Graphic arts Imaging technology final good Consumer products ',\n",
       " 'Blockchain technology',\n",
       " 'Blockchain technology',\n",
       " 'Blockchain technology',\n",
       " 'Diversified Conglomerate',\n",
       " 'Diversified Conglomerate',\n",
       " 'Diversified Conglomerate',\n",
       " ' Enterprise software ',\n",
       " ' Enterprise software ',\n",
       " ' Enterprise software ',\n",
       " ' Financial services br Insurance ',\n",
       " ' Financial services br Insurance ',\n",
       " ' Financial services br Insurance ',\n",
       " ' Insurance ',\n",
       " ' Insurance ',\n",
       " ' Insurance ',\n",
       " ' Information technology ',\n",
       " ' Computer data storage data storage ',\n",
       " ' solid state drives ',\n",
       " ' Information technology Computer data storage',\n",
       " 'data storage solid state drives ',\n",
       " ' Information technology Computer data storage data storage solid state drives ',\n",
       " ' E commerce ',\n",
       " ' E commerce ',\n",
       " ' E commerce ',\n",
       " ' Service Sector Service ',\n",
       " ' Service Sector',\n",
       " 'Service ',\n",
       " ' Service Sector Service ',\n",
       " ' peer to peer P2P TV',\n",
       " ' peer to peer',\n",
       " 'P2P TV',\n",
       " ' peer to peer P2P TV',\n",
       " ' Enterprise software ',\n",
       " ' Enterprise software ',\n",
       " ' Enterprise software ',\n",
       " ' Enterprise software ',\n",
       " ' Enterprise software ',\n",
       " ' Enterprise software ',\n",
       " ' Professional services ',\n",
       " ' Professional services ',\n",
       " ' Professional services ',\n",
       " ' IT service management IT services ',\n",
       " ' Information technology consulting IT consulting ',\n",
       " ' IT service management',\n",
       " 'IT services Information technology consulting',\n",
       " 'IT consulting ',\n",
       " ' IT service management IT services Information technology consulting IT consulting ',\n",
       " ' unbulleted list class nowrap Apparel Fashion accessory Accessories Sports equipment ',\n",
       " ' unbulleted list',\n",
       " 'class',\n",
       " ' ',\n",
       " 'nowrap',\n",
       " ' Apparel ',\n",
       " ' Fashion accessory',\n",
       " 'Accessories ',\n",
       " ' Sports equipment ',\n",
       " ' unbulleted list class nowrap Apparel Fashion accessory Accessories Sports equipment ',\n",
       " ' Fashion accessory Accessories ',\n",
       " ' apparel ',\n",
       " ' sporting goods ',\n",
       " ' Fashion accessory',\n",
       " 'Accessories apparel sporting goods ',\n",
       " ' Fashion accessory Accessories apparel sporting goods ',\n",
       " ' unbulleted list Graphic arts Imaging technology final good Consumer products ',\n",
       " ' unbulleted list',\n",
       " ' Graphic arts ',\n",
       " 'Imaging technology',\n",
       " ' final good',\n",
       " 'Consumer products ',\n",
       " ' unbulleted list Graphic arts Imaging technology final good Consumer products ',\n",
       " ' Mass media ',\n",
       " ' Mass media ',\n",
       " ' Mass media ',\n",
       " 'Media',\n",
       " 'Media',\n",
       " 'Media',\n",
       " ' Financial technology br Computer hardware br Computer software br Cloud computing br Internet of Things IoT br Artificial intelligence br Data storage and services br Computer networking br Blockchain ',\n",
       " ' Financial technology br Computer hardware br Computer software br Cloud computing br Internet of Things IoT br Artificial intelligence br Data storage and services br Computer networking br Blockchain ',\n",
       " ' Financial technology br Computer hardware br Computer software br Cloud computing br Internet of Things IoT br Artificial intelligence br Data storage and services br Computer networking br Blockchain ',\n",
       " ' flatlist Robotic Process Automation Software Information technology ',\n",
       " ' flatlist',\n",
       " ' Robotic Process Automation Software Information technology ',\n",
       " ' flatlist ',\n",
       " ' Robotic Process Automation Software',\n",
       " ' Information technology ',\n",
       " ' flatlist Cloud computing Software ',\n",
       " ' flatlist',\n",
       " ' Cloud computing Software ',\n",
       " ' flatlist ',\n",
       " ' Cloud computing ',\n",
       " ' Software ',\n",
       " ' Robotic Process Automation ',\n",
       " ' Robotic Process Automation ',\n",
       " ' Robotic Process Automation ',\n",
       " ' Modeling Simulation ',\n",
       " ' Modeling Simulation ',\n",
       " ' Modeling Simulation ',\n",
       " 'On demand',\n",
       " 'On demand',\n",
       " 'On demand',\n",
       " ' Transportation ',\n",
       " ' Transportation ',\n",
       " ' Transportation ',\n",
       " ' IT service management IT services ',\n",
       " ' Information technology consulting IT consulting ',\n",
       " ' IT service management',\n",
       " 'IT services Information technology consulting',\n",
       " 'IT consulting ',\n",
       " ' IT service management IT services Information technology consulting IT consulting ',\n",
       " ' IT service management IT services ',\n",
       " ' Information technology consulting IT consulting ',\n",
       " ' IT service management',\n",
       " 'IT services Information technology consulting',\n",
       " 'IT consulting ',\n",
       " ' IT service management IT services Information technology consulting IT consulting ',\n",
       " ' Information technology services',\n",
       " ' Information technology services',\n",
       " ' Information technology services',\n",
       " ' Web service ',\n",
       " ' cloud computing ',\n",
       " ' Web service cloud computing ',\n",
       " ' Web service cloud computing ',\n",
       " ' Software development ',\n",
       " ' Software development ',\n",
       " ' Software development ',\n",
       " ' Technology ',\n",
       " ' Technology ',\n",
       " ' Technology ',\n",
       " ' Financial technology br Computer hardware br Computer software br Cloud computing br Internet of Things IoT br Artificial intelligence br Data storage and services br Computer networking br Blockchain ',\n",
       " ' Financial technology br Computer hardware br Computer software br Cloud computing br Internet of Things IoT br Artificial intelligence br Data storage and services br Computer networking br Blockchain ',\n",
       " ' Financial technology br Computer hardware br Computer software br Cloud computing br Internet of Things IoT br Artificial intelligence br Data storage and services br Computer networking br Blockchain ',\n",
       " ' unbulleted list Graphic arts Imaging technology final good Consumer products ',\n",
       " ' unbulleted list',\n",
       " ' Graphic arts ',\n",
       " 'Imaging technology',\n",
       " ' final good',\n",
       " 'Consumer products ',\n",
       " ' unbulleted list Graphic arts Imaging technology final good Consumer products ',\n",
       " ' Computer hardware br Software Computer software br IT service management IT services br Information technology consulting IT consulting ',\n",
       " ' Computer hardware br Software',\n",
       " 'Computer software br IT service management',\n",
       " 'IT services br Information technology consulting',\n",
       " 'IT consulting ',\n",
       " ' Computer hardware br Software Computer software br IT service management IT services br Information technology consulting IT consulting ',\n",
       " ' Financial technology br Computer hardware br Computer software br Cloud computing br Internet of Things IoT br Artificial intelligence br Data storage and services br Computer networking br Blockchain ',\n",
       " ' Financial technology br Computer hardware br Computer software br Cloud computing br Internet of Things IoT br Artificial intelligence br Data storage and services br Computer networking br Blockchain ',\n",
       " ' Financial technology br Computer hardware br Computer software br Cloud computing br Internet of Things IoT br Artificial intelligence br Data storage and services br Computer networking br Blockchain ',\n",
       " ' plainlist Telecommunications E commerce Internet ',\n",
       " ' plainlist',\n",
       " ' Telecommunications E commerce Internet ',\n",
       " ' plainlist ',\n",
       " ' Telecommunications ',\n",
       " ' E commerce ',\n",
       " ' Internet ',\n",
       " ' Data security ',\n",
       " ' Data security ',\n",
       " ' Data security ',\n",
       " ' ublist Business process outsourcing Offshoring ',\n",
       " ' ublist',\n",
       " ' Business process outsourcing ',\n",
       " ' Offshoring ',\n",
       " ' ublist Business process outsourcing Offshoring ',\n",
       " ' Event monitoring System Monitoring ',\n",
       " ' Event monitoring',\n",
       " 'System Monitoring ',\n",
       " ' Event monitoring System Monitoring ',\n",
       " ' Software as a service ',\n",
       " ' Software as a service ',\n",
       " ' Software as a service ',\n",
       " ' Healthcare ',\n",
       " ' Healthcare ',\n",
       " ' Healthcare ',\n",
       " ' Management consulting ',\n",
       " ' Management consulting ',\n",
       " ' Management consulting ',\n",
       " ' Video surveillance ',\n",
       " ' Video surveillance ',\n",
       " ' Video surveillance ',\n",
       " ' Enterprise software ',\n",
       " ' Enterprise software ',\n",
       " ' Enterprise software ',\n",
       " ' Retail ing',\n",
       " ' Retail ing',\n",
       " ' Retail ing',\n",
       " ' Telecommunication s',\n",
       " ' Telecommunication s',\n",
       " ' Telecommunication s',\n",
       " ' Venture capital ',\n",
       " ' Venture capital ',\n",
       " ' Venture capital ',\n",
       " ' Enterprise software ',\n",
       " ' Enterprise software ',\n",
       " ' Enterprise software ',\n",
       " ' Entertainment ',\n",
       " ' Entertainment ',\n",
       " ' Entertainment ',\n",
       " ' Professional services ',\n",
       " ' Professional services ',\n",
       " ' Professional services ',\n",
       " ' Film ',\n",
       " ' Film ',\n",
       " ' Film ',\n",
       " ' Computer hardware br Software Computer software br IT service management IT services br Information technology consulting IT consulting ',\n",
       " ' Computer hardware br Software',\n",
       " 'Computer software br IT service management',\n",
       " 'IT services br Information technology consulting',\n",
       " 'IT consulting ',\n",
       " ' Computer hardware br Software Computer software br IT service management IT services br Information technology consulting IT consulting ',\n",
       " ' Conglomerate company Conglomerate ',\n",
       " ' Conglomerate company ',\n",
       " 'Conglomerate ',\n",
       " ' Conglomerate company Conglomerate ',\n",
       " ' Enterprise software ',\n",
       " ' Enterprise software ',\n",
       " ' Enterprise software ',\n",
       " ' IT service management IT services ',\n",
       " ' Information technology consulting IT consulting ',\n",
       " ' IT service management',\n",
       " 'IT services Information technology consulting',\n",
       " 'IT consulting ',\n",
       " ' IT service management IT services Information technology consulting IT consulting ',\n",
       " ' Enterprise software ',\n",
       " ' Enterprise software ',\n",
       " ' Enterprise software ',\n",
       " 'Retail',\n",
       " 'Retail',\n",
       " 'Retail',\n",
       " ' Management consulting ',\n",
       " ' Management consulting ',\n",
       " ' Management consulting ',\n",
       " ' Airports ',\n",
       " ' aviation ',\n",
       " ' Defense military defense ',\n",
       " ' government ',\n",
       " ' Health care healthcare ',\n",
       " ' Telecommunications network networks ',\n",
       " ' security ',\n",
       " ' and transportation ',\n",
       " ' Airports aviation Defense military ',\n",
       " 'defense government Health care',\n",
       " 'healthcare Telecommunications network',\n",
       " 'networks security and transportation ',\n",
       " ' Airports aviation Defense military defense government Health care healthcare Telecommunications network networks security and transportation ',\n",
       " ' Aviation br Software ',\n",
       " ' Aviation br Software ',\n",
       " ' Aviation br Software ',\n",
       " ' Computer software ',\n",
       " ' Computer software ',\n",
       " ' Computer software ',\n",
       " 'Information Technology',\n",
       " 'Information Technology',\n",
       " 'Information Technology',\n",
       " ' Conglomerate company Conglomerate ',\n",
       " ' Conglomerate company ',\n",
       " 'Conglomerate ',\n",
       " ' Conglomerate company Conglomerate ',\n",
       " ' Chemical industry ',\n",
       " ' Chemical industry ',\n",
       " ' Chemical industry ',\n",
       " ' Professional services Technology services ',\n",
       " ' Professional services Technology services ',\n",
       " ' Professional services Technology services ',\n",
       " ' Web service ',\n",
       " ' cloud computing ',\n",
       " ' Web service cloud computing ',\n",
       " ' Web service cloud computing ',\n",
       " ' Dot com company Internet ',\n",
       " ' Dot com company',\n",
       " 'Internet ',\n",
       " ' Dot com company Internet ',\n",
       " ' IT service management IT services ',\n",
       " ' Information technology consulting IT consulting ',\n",
       " ' IT service management',\n",
       " 'IT services Information technology consulting',\n",
       " 'IT consulting ',\n",
       " ' IT service management IT services Information technology consulting IT consulting ',\n",
       " ' Professional services ',\n",
       " ' Professional services ',\n",
       " ' Professional services ',\n",
       " ' Professional services ',\n",
       " ' Professional services ',\n",
       " ' Professional services ',\n",
       " ' Financial technology br Computer hardware br Computer software br Cloud computing br Internet of Things IoT br Artificial intelligence br Data storage and services br Computer networking br Blockchain ',\n",
       " ' Financial technology br Computer hardware br Computer software br Cloud computing br Internet of Things IoT br Artificial intelligence br Data storage and services br Computer networking br Blockchain ',\n",
       " ' Financial technology br Computer hardware br Computer software br Cloud computing br Internet of Things IoT br Artificial intelligence br Data storage and services br Computer networking br Blockchain ',\n",
       " ' Enterprise software ',\n",
       " ' Enterprise software ',\n",
       " ' Enterprise software ',\n",
       " ' Unbulleted list Identity management Customer identity management ',\n",
       " ' Unbulleted list',\n",
       " ' Identity management',\n",
       " 'Customer identity management ',\n",
       " ' Unbulleted list Identity management Customer identity management ',\n",
       " ' Electronic Commerce ',\n",
       " ' Electronic Commerce ',\n",
       " ' Electronic Commerce ',\n",
       " ' Web service ',\n",
       " ' cloud computing ',\n",
       " ...]"
      ]
     },
     "execution_count": 42,
     "metadata": {},
     "output_type": "execute_result"
    }
   ],
   "source": [
    "filtered = [re.sub(\"<br>\", '', x) for x in industry]\n",
    "filtered = [re.sub(r'[^A-Za-z0-9]+', ' ', x) for x in filtered]\n",
    "filtered"
   ]
  },
  {
   "cell_type": "code",
   "execution_count": 43,
   "metadata": {},
   "outputs": [
    {
     "data": {
      "text/plain": [
       "1538"
      ]
     },
     "execution_count": 43,
     "metadata": {},
     "output_type": "execute_result"
    }
   ],
   "source": [
    "len(filtered)"
   ]
  },
  {
   "cell_type": "code",
   "execution_count": 34,
   "metadata": {},
   "outputs": [
    {
     "data": {
      "text/plain": [
       "[' Offshoring ',\n",
       " ' Employment agency',\n",
       " ' Business to Business ',\n",
       " ' Telecommunications ',\n",
       " ' Hotels Resorts ',\n",
       " ' Data center s',\n",
       " 'Banking',\n",
       " 'buzzword inline',\n",
       " ' plainlist Cloud computing ',\n",
       " ' ',\n",
       " ' Service Sector Service ',\n",
       " 'Professional association',\n",
       " ' Autonomic computing ',\n",
       " ' Software development ',\n",
       " ' Defense military defense ',\n",
       " ' unbulleted list ',\n",
       " 'On demand',\n",
       " 'Design',\n",
       " ' Service Sector',\n",
       " 'Media',\n",
       " 'Customer identity management ',\n",
       " ' Telecommunications industry',\n",
       " 'August 2019 buzzword inline',\n",
       " ' IT service management',\n",
       " ' Conservation movement',\n",
       " 'Healthcare IT',\n",
       " ' International trade ',\n",
       " ' Automobiles ',\n",
       " 'Retail',\n",
       " ' Cloud computing Software ',\n",
       " ' ubl',\n",
       " 'Clothing',\n",
       " ' Corporate venture capital ',\n",
       " ' Registered Agent ',\n",
       " ' Corporate Governance',\n",
       " 'SaaS HCM Software',\n",
       " 'Semiconductors ',\n",
       " 'Blockchain ',\n",
       " ' Commercial Public Sector ',\n",
       " ' Computer software ',\n",
       " ' Artificial intelligence ',\n",
       " ' Bank ing Financial services ',\n",
       " ' private equity firm ',\n",
       " 'Software Products ',\n",
       " 'USV UGV ',\n",
       " ' Semiconductor s',\n",
       " ' solid state drives ',\n",
       " ' consumer electronics ',\n",
       " ' Restaurant s',\n",
       " 'Technology ',\n",
       " ' Airports ',\n",
       " ' Advertising ',\n",
       " ' Lighting',\n",
       " ' Financial technology ',\n",
       " ' ublist',\n",
       " 'Conglomerate ',\n",
       " ' aviation ',\n",
       " ' Enterprise software ',\n",
       " 'nowrap',\n",
       " ' Product Engineering ',\n",
       " ' cloud computing ',\n",
       " 'Industrial equipment',\n",
       " ' High Speed Rail ',\n",
       " ' IT Solutions',\n",
       " ' Bank ing',\n",
       " ' Computer hardware ',\n",
       " 'Accessories ',\n",
       " ' Financial services ',\n",
       " ' Unbulleted list ',\n",
       " ' digital distribution ',\n",
       " ' Information technology',\n",
       " ' Industrials ',\n",
       " ' Consumer electronics ',\n",
       " ' Video game industry',\n",
       " ' Healthcare ',\n",
       " 'Military contractor',\n",
       " ' Automotive industry',\n",
       " ' E commerce ',\n",
       " ' flatlist ',\n",
       " ' Artificial Intelligence ',\n",
       " ' nowrap Technology ',\n",
       " ' Management consulting ',\n",
       " 'August 2019',\n",
       " ' Semiconductor ',\n",
       " ' Entertainment ',\n",
       " 'Outsourcing services ',\n",
       " ' Robotic Process Automation ',\n",
       " ' hip hop apparel',\n",
       " ' Blockchain database ',\n",
       " ' Banking Financial services ',\n",
       " ' and transportation ',\n",
       " ' Software industry',\n",
       " ' KPOs',\n",
       " ' Electronic Commerce ',\n",
       " ' Information security',\n",
       " ' Circuit protection ',\n",
       " ' Modeling Simulation ',\n",
       " ' nowrap Autonomic computing ',\n",
       " ' Insurance ',\n",
       " ' security ',\n",
       " ' Sports equipment ',\n",
       " ' Rail transport ',\n",
       " ' Mass media ',\n",
       " ' plainlist',\n",
       " ' AUV ',\n",
       " ' Utilities ',\n",
       " ' Autonomic computing nowrap',\n",
       " ' plainlist ',\n",
       " ' service focused',\n",
       " ' sporting goods ',\n",
       " ' Conglomerate company ',\n",
       " ' Construction ',\n",
       " ' Apparel ',\n",
       " ' Fashion accessory',\n",
       " ' Technology nowrap',\n",
       " ' Venture capital ',\n",
       " 'Blockchain technology',\n",
       " ' Event monitoring',\n",
       " 'IT Solutions',\n",
       " 'date',\n",
       " 'Design Technology Marketing',\n",
       " ' e commerce ',\n",
       " 'Video games ',\n",
       " 'Information Security ',\n",
       " ' peer to peer P2P TV',\n",
       " ' Dot com company',\n",
       " ' Transportation ',\n",
       " 'Software br Outsourcing',\n",
       " ' Dot com company Internet ',\n",
       " 'Consumer products ',\n",
       " ' Market research ',\n",
       " ' Digital transformation ',\n",
       " 'Air compressor manufacturer',\n",
       " 'Automobile',\n",
       " ' Marketing',\n",
       " 'Internet ',\n",
       " 'printers ',\n",
       " ' Electrical power ',\n",
       " ' Technology company',\n",
       " ' UGV ',\n",
       " ' Software as a service ',\n",
       " 'Service ',\n",
       " ' Hyperautomation',\n",
       " ' Information technology ',\n",
       " ' Communications ',\n",
       " ' product engineering ',\n",
       " ' final good',\n",
       " 'Diversified Conglomerate',\n",
       " 'Business Process Outsourcing',\n",
       " ' Aviation br Software ',\n",
       " ' Transcription',\n",
       " 'Automotive ',\n",
       " ' Internet ',\n",
       " ' Technology ',\n",
       " ' flatlist',\n",
       " ' Video games ',\n",
       " ' Software ',\n",
       " ' printer computing printers ',\n",
       " 'Imaging technology',\n",
       " ' Data security ',\n",
       " ' document management ',\n",
       " ' Health care healthcare ',\n",
       " ' Life Insurance ',\n",
       " ' Web service ',\n",
       " ' artificial intelligence ',\n",
       " ' peer to peer',\n",
       " ' Cloud computing ',\n",
       " ' Cloud management ',\n",
       " ' Semiconductors ',\n",
       " ' Provider buzzword inline',\n",
       " ' Retail ing',\n",
       " ' robotic process automation ',\n",
       " 'Conglomerate',\n",
       " 'P2P TV',\n",
       " 'Unamnned Systems UAV ',\n",
       " ' Web service cloud computing ',\n",
       " ' unbulleted list',\n",
       " 'Information Technology',\n",
       " 'Clothing hip hop apparel',\n",
       " ' government ',\n",
       " ' Property ',\n",
       " ' Retail ',\n",
       " ' Medical Image Sharing ',\n",
       " 'Artificial Intelligence ',\n",
       " ' Social networking service ',\n",
       " ' ITES',\n",
       " ' Technology',\n",
       " ' Unbulleted list',\n",
       " ' Semiconductor industry',\n",
       " 'August 2019 Provider',\n",
       " ' Video surveillance ',\n",
       " ' Financial Services ',\n",
       " ' Leisure ',\n",
       " 'System Monitoring ',\n",
       " ' Identity management',\n",
       " ' apparel ',\n",
       " ' Corporate Compliance',\n",
       " ' Consumer Electronics ',\n",
       " 'Conservation ',\n",
       " 'IT consulting ',\n",
       " ' Chemical industry ',\n",
       " ' Film ',\n",
       " ' LPOs',\n",
       " 'ROV Unmanned surface vehicle',\n",
       " ' self driving cars ',\n",
       " ' Professional services ',\n",
       " ' Graphic arts ',\n",
       " ' Telecommunication s',\n",
       " ' Computer Network s',\n",
       " 'class',\n",
       " 'Telecommunications ']"
      ]
     },
     "execution_count": 34,
     "metadata": {},
     "output_type": "execute_result"
    }
   ],
   "source": [
    "final_industry = list(set([token for token in filtered if len(token)<30]))\n",
    "final_industry"
   ]
  },
  {
   "cell_type": "code",
   "execution_count": 35,
   "metadata": {},
   "outputs": [],
   "source": [
    "#create a dataframe \n",
    "import pandas as pd\n",
    "from nltk.stem import WordNetLemmatizer\n",
    "import nltk\n",
    "lemmatizer = WordNetLemmatizer() "
   ]
  },
  {
   "cell_type": "code",
   "execution_count": 44,
   "metadata": {},
   "outputs": [],
   "source": [
    "final_industry = filtered"
   ]
  },
  {
   "cell_type": "code",
   "execution_count": 45,
   "metadata": {},
   "outputs": [],
   "source": [
    "dataframe = pd.DataFrame(final_industry, columns = ['Phrases'])\n",
    "dataframe['StipSpace'] = dataframe['Phrases'].apply(lambda x: x.strip())\n",
    "dataframe['PhraseLen'] = dataframe['Phrases'].apply(lambda x: len(x))\n",
    "dataframe['StripSpaceLen'] = dataframe['StipSpace'].apply(lambda x: len(x))\n",
    "dataframe['lowercase'] = dataframe['StipSpace'].apply(lambda x: x.lower())"
   ]
  },
  {
   "cell_type": "code",
   "execution_count": 46,
   "metadata": {},
   "outputs": [],
   "source": [
    "def lemmaWords(x):\n",
    "    \n",
    "    wordtoken = [each for each in nltk.word_tokenize(x)]\n",
    "    lemmalist1 = [lemmatizer.lemmatize(each) for each in wordtoken]    \n",
    "    word = ' '.join(lemmalist1)\n",
    "    \n",
    "    return word\n",
    "  \n",
    "dataframe['Lemmitize'] = dataframe['lowercase'].apply(lambda x: lemmaWords(x))"
   ]
  },
  {
   "cell_type": "code",
   "execution_count": 51,
   "metadata": {},
   "outputs": [],
   "source": [
    "dataframe['Title'] = dataframe['Lemmitize'].apply(lambda x: x.title())"
   ]
  },
  {
   "cell_type": "code",
   "execution_count": 52,
   "metadata": {},
   "outputs": [
    {
     "data": {
      "text/html": [
       "<div>\n",
       "<style scoped>\n",
       "    .dataframe tbody tr th:only-of-type {\n",
       "        vertical-align: middle;\n",
       "    }\n",
       "\n",
       "    .dataframe tbody tr th {\n",
       "        vertical-align: top;\n",
       "    }\n",
       "\n",
       "    .dataframe thead th {\n",
       "        text-align: right;\n",
       "    }\n",
       "</style>\n",
       "<table border=\"1\" class=\"dataframe\">\n",
       "  <thead>\n",
       "    <tr style=\"text-align: right;\">\n",
       "      <th></th>\n",
       "      <th>Phrases</th>\n",
       "      <th>StipSpace</th>\n",
       "      <th>PhraseLen</th>\n",
       "      <th>StripSpaceLen</th>\n",
       "      <th>lowercase</th>\n",
       "      <th>Lemmitize</th>\n",
       "      <th>Title</th>\n",
       "    </tr>\n",
       "  </thead>\n",
       "  <tbody>\n",
       "    <tr>\n",
       "      <th>0</th>\n",
       "      <td>Robotic Process Automation</td>\n",
       "      <td>Robotic Process Automation</td>\n",
       "      <td>28</td>\n",
       "      <td>26</td>\n",
       "      <td>robotic process automation</td>\n",
       "      <td>robotic process automation</td>\n",
       "      <td>Robotic Process Automation</td>\n",
       "    </tr>\n",
       "    <tr>\n",
       "      <th>1</th>\n",
       "      <td>Artificial Intelligence</td>\n",
       "      <td>Artificial Intelligence</td>\n",
       "      <td>25</td>\n",
       "      <td>23</td>\n",
       "      <td>artificial intelligence</td>\n",
       "      <td>artificial intelligence</td>\n",
       "      <td>Artificial Intelligence</td>\n",
       "    </tr>\n",
       "    <tr>\n",
       "      <th>2</th>\n",
       "      <td>Hyperautomation</td>\n",
       "      <td>Hyperautomation</td>\n",
       "      <td>16</td>\n",
       "      <td>15</td>\n",
       "      <td>hyperautomation</td>\n",
       "      <td>hyperautomation</td>\n",
       "      <td>Hyperautomation</td>\n",
       "    </tr>\n",
       "    <tr>\n",
       "      <th>3</th>\n",
       "      <td>Robotic Process Automation Artificial Intelli...</td>\n",
       "      <td>Robotic Process Automation Artificial Intellig...</td>\n",
       "      <td>67</td>\n",
       "      <td>66</td>\n",
       "      <td>robotic process automation artificial intellig...</td>\n",
       "      <td>robotic process automation artificial intellig...</td>\n",
       "      <td>Robotic Process Automation Artificial Intellig...</td>\n",
       "    </tr>\n",
       "    <tr>\n",
       "      <th>4</th>\n",
       "      <td>Robotic Process Automation Artificial Intelli...</td>\n",
       "      <td>Robotic Process Automation Artificial Intellig...</td>\n",
       "      <td>67</td>\n",
       "      <td>66</td>\n",
       "      <td>robotic process automation artificial intellig...</td>\n",
       "      <td>robotic process automation artificial intellig...</td>\n",
       "      <td>Robotic Process Automation Artificial Intellig...</td>\n",
       "    </tr>\n",
       "  </tbody>\n",
       "</table>\n",
       "</div>"
      ],
      "text/plain": [
       "                                             Phrases  \\\n",
       "0                        Robotic Process Automation    \n",
       "1                           Artificial Intelligence    \n",
       "2                                    Hyperautomation   \n",
       "3   Robotic Process Automation Artificial Intelli...   \n",
       "4   Robotic Process Automation Artificial Intelli...   \n",
       "\n",
       "                                           StipSpace  PhraseLen  \\\n",
       "0                         Robotic Process Automation         28   \n",
       "1                            Artificial Intelligence         25   \n",
       "2                                    Hyperautomation         16   \n",
       "3  Robotic Process Automation Artificial Intellig...         67   \n",
       "4  Robotic Process Automation Artificial Intellig...         67   \n",
       "\n",
       "   StripSpaceLen                                          lowercase  \\\n",
       "0             26                         robotic process automation   \n",
       "1             23                            artificial intelligence   \n",
       "2             15                                    hyperautomation   \n",
       "3             66  robotic process automation artificial intellig...   \n",
       "4             66  robotic process automation artificial intellig...   \n",
       "\n",
       "                                           Lemmitize  \\\n",
       "0                         robotic process automation   \n",
       "1                            artificial intelligence   \n",
       "2                                    hyperautomation   \n",
       "3  robotic process automation artificial intellig...   \n",
       "4  robotic process automation artificial intellig...   \n",
       "\n",
       "                                               Title  \n",
       "0                         Robotic Process Automation  \n",
       "1                            Artificial Intelligence  \n",
       "2                                    Hyperautomation  \n",
       "3  Robotic Process Automation Artificial Intellig...  \n",
       "4  Robotic Process Automation Artificial Intellig...  "
      ]
     },
     "execution_count": 52,
     "metadata": {},
     "output_type": "execute_result"
    }
   ],
   "source": [
    "dataframe.head()"
   ]
  },
  {
   "cell_type": "code",
   "execution_count": 53,
   "metadata": {},
   "outputs": [],
   "source": [
    "list_ = dataframe['Title']"
   ]
  },
  {
   "cell_type": "code",
   "execution_count": 54,
   "metadata": {},
   "outputs": [
    {
     "name": "stdout",
     "output_type": "stream",
     "text": [
      "Robotic Process Automation\n",
      "Artificial Intelligence\n",
      "Hyperautomation\n",
      "Robotic Process Automation Artificial Intelligence Hyperautomation\n",
      "Robotic Process Automation Artificial Intelligence Hyperautomation\n",
      "Robotic Process Automation\n",
      "Robotic Process Automation\n",
      "Robotic Process Automation\n",
      "Enterprise Software\n",
      "Enterprise Software\n",
      "Enterprise Software\n",
      "Software Industry Computer Software\n",
      "Cloud Computing\n",
      "Robotic Process Automation\n",
      "Artificial Intelligence\n",
      "Software Industry\n",
      "Computer Software Cloud Computing Robotic Process Automation Artificial Intelligence\n",
      "Software Industry Computer Software Cloud Computing Robotic Process Automation Artificial Intelligence\n",
      "Video Game Industry Video Game\n",
      "Video Game Industry\n",
      "Video Game\n",
      "Video Game Industry Video Game\n",
      "Video Game Industry Video Game\n",
      "Video Game Industry\n",
      "Video Game\n",
      "Video Game Industry Video Game\n",
      "Conservation Movement Conservation\n",
      "Conservation Movement\n",
      "Conservation\n",
      "Conservation Movement Conservation\n",
      "Professional Service Technology Service\n",
      "Professional Service Technology Service\n",
      "Professional Service Technology Service\n",
      "Ubl It Solution Buzzword Inline Date August 2019 Business To Business Commercial Public Sector It Solution Buzzword Inline Date August 2019 Provider Buzzword Inline Date August 2019 Buzzword Inline Date August 2019 Provider\n",
      "Ubl\n",
      "It Solution\n",
      "Buzzword Inline\n",
      "Date\n",
      "\n",
      "August 2019\n",
      "\n",
      "Business To Business\n",
      "Commercial Public Sector\n",
      "It Solution\n",
      "Buzzword Inline\n",
      "Date\n",
      "\n",
      "August 2019\n",
      "Provider Buzzword Inline\n",
      "Date\n",
      "\n",
      "August 2019 Buzzword Inline\n",
      "Date\n",
      "\n",
      "August 2019 Provider\n",
      "Ubl It Solution Buzzword Inline Date August 2019 Business To Business Commercial Public Sector It Solution Buzzword Inline Date August 2019 Provider Buzzword Inline Date August 2019 Buzzword Inline Date August 2019 Provider\n",
      "Professional Service\n",
      "Professional Service\n",
      "Professional Service\n",
      "Robotic Process Automation\n",
      "Artificial Intelligence\n",
      "Hyperautomation\n",
      "Robotic Process Automation Artificial Intelligence Hyperautomation\n",
      "Robotic Process Automation Artificial Intelligence Hyperautomation\n",
      "Software Industry Computer Software\n",
      "Cloud Computing\n",
      "Robotic Process Automation\n",
      "Artificial Intelligence\n",
      "Software Industry\n",
      "Computer Software Cloud Computing Robotic Process Automation Artificial Intelligence\n",
      "Software Industry Computer Software Cloud Computing Robotic Process Automation Artificial Intelligence\n",
      "It Service Management It Service\n",
      "Information Technology Consulting It Consulting\n",
      "It Service Management\n",
      "It Service Information Technology Consulting\n",
      "It Consulting\n",
      "It Service Management It Service Information Technology Consulting It Consulting\n",
      "Registered Agent\n",
      "Corporate Governance\n",
      "Corporate Compliance\n",
      "Domain Name And Intellectual Property Management\n",
      "Registered Agent Corporate Governance Corporate Compliance Domain Name And Intellectual Property Management\n",
      "Registered Agent Corporate Governance Corporate Compliance Domain Name And Intellectual Property Management\n",
      "Professional Service\n",
      "Professional Service\n",
      "Professional Service\n",
      "It Service Management It Service\n",
      "Information Technology Consulting It Consulting\n",
      "It Service Management\n",
      "It Service Information Technology Consulting\n",
      "It Consulting\n",
      "It Service Management It Service Information Technology Consulting It Consulting\n",
      "Banking Br Financial Service\n",
      "Banking Br Financial Service\n",
      "Banking Br Financial Service\n",
      "It Service Management It Service\n",
      "Information Technology Consulting It Consulting\n",
      "It Service Management\n",
      "It Service Information Technology Consulting\n",
      "It Consulting\n",
      "It Service Management It Service Information Technology Consulting It Consulting\n",
      "Saas Hcm Software\n",
      "Saas Hcm Software\n",
      "Saas Hcm Software\n",
      "Life Insurance\n",
      "Life Insurance\n",
      "Life Insurance\n",
      "Financial Service\n",
      "Financial Service\n",
      "Financial Service\n",
      "Unbulleted List Graphic Art Imaging Technology Final Good Consumer Product\n",
      "Unbulleted List\n",
      "Graphic Art\n",
      "Imaging Technology\n",
      "Final Good\n",
      "Consumer Product\n",
      "Unbulleted List Graphic Art Imaging Technology Final Good Consumer Product\n",
      "Unbulleted List Graphic Art Imaging Technology Final Good Consumer Product\n",
      "Unbulleted List\n",
      "Graphic Art\n",
      "Imaging Technology\n",
      "Final Good\n",
      "Consumer Product\n",
      "Unbulleted List Graphic Art Imaging Technology Final Good Consumer Product\n",
      "Big Data Analytics Semiconducutor\n",
      "Big Data Analytics Semiconducutor\n",
      "Big Data Analytics Semiconducutor\n",
      "Semiconductor\n",
      "Semiconductor\n",
      "Semiconductor\n",
      "Air Compressor Manufacturer\n",
      "Air Compressor Manufacturer\n",
      "Air Compressor Manufacturer\n",
      "Industrial Equipment\n",
      "Industrial Equipment\n",
      "Industrial Equipment\n",
      "Web Service\n",
      "Cloud Computing\n",
      "Web Service Cloud Computing\n",
      "Web Service Cloud Computing\n",
      "Research And Advisory Service\n",
      "Research And Advisory Service\n",
      "Research And Advisory Service\n",
      "Software Quality Br Test Automation Br Outsourcing\n",
      "Software Quality Br Test Automation Br Outsourcing\n",
      "Software Quality Br Test Automation Br Outsourcing\n",
      "It Service Management It Service\n",
      "Information Technology Consulting It Consulting\n",
      "It Service Management\n",
      "It Service Information Technology Consulting\n",
      "It Consulting\n",
      "It Service Management It Service Information Technology Consulting It Consulting\n",
      "It Service Management It Service\n",
      "Information Technology Consulting It Consulting\n",
      "It Service Management\n",
      "It Service Information Technology Consulting\n",
      "It Consulting\n",
      "It Service Management It Service Information Technology Consulting It Consulting\n",
      "Unbulleted List Graphic Art Imaging Technology Final Good Consumer Product\n",
      "Unbulleted List\n",
      "Graphic Art\n",
      "Imaging Technology\n",
      "Final Good\n",
      "Consumer Product\n",
      "Unbulleted List Graphic Art Imaging Technology Final Good Consumer Product\n",
      "Web Service\n",
      "Cloud Computing\n",
      "Web Service Cloud Computing\n",
      "Web Service Cloud Computing\n",
      "It Service Management It Service\n",
      "Information Technology Consulting It Consulting\n",
      "It Service Management\n",
      "It Service Information Technology Consulting\n",
      "It Consulting\n",
      "It Service Management It Service Information Technology Consulting It Consulting\n",
      "Banking Financial Service\n",
      "Banking Financial Service\n",
      "Banking Financial Service\n",
      "Rail Transport\n",
      "Rail Transport\n",
      "Rail Transport\n",
      "Military Contractor\n",
      "Service Focused\n",
      "Military Contractor Service Focused\n",
      "Military Contractor Service Focused\n",
      "Financial Service\n",
      "Financial Service\n",
      "Financial Service\n",
      "Plainlist Bank Ing Financial Service\n",
      "Plainlist\n",
      "Bank Ing Financial Service\n",
      "Plainlist\n",
      "Bank Ing\n",
      "Financial Service\n",
      "Bank Ing And Financial Service\n",
      "Bank Ing And Financial Service\n",
      "Bank Ing And Financial Service\n",
      "Social Networking Service\n",
      "Social Networking Service\n",
      "Social Networking Service\n",
      "Market Research\n",
      "Market Research\n",
      "Market Research\n",
      "Internet\n",
      "Internet\n",
      "Internet\n",
      "It Service Management It Service\n",
      "Information Technology Consulting It Consulting\n",
      "It Service Management\n",
      "It Service Information Technology Consulting\n",
      "It Consulting\n",
      "It Service Management It Service Information Technology Consulting It Consulting\n",
      "Cloud Based Intranet And Digital Workplace Software\n",
      "Cloud Based Intranet And Digital Workplace Software\n",
      "Cloud Based Intranet And Digital Workplace Software\n",
      "Computer Software\n",
      "Computer Software\n",
      "Computer Software\n",
      "Professional Service Technology Service\n",
      "Professional Service Technology Service\n",
      "Professional Service Technology Service\n",
      "Web Service\n",
      "Cloud Computing\n",
      "Web Service Cloud Computing\n",
      "Web Service Cloud Computing\n",
      "Professional Service\n",
      "Professional Service\n",
      "Professional Service\n",
      "Unbulleted List Nowrap Technology Nowrap Autonomic Computing Nowrap Virtual Assistant Artificial Intelligence Artificial Intelligence Nowrap Technology Nowrap Autonomic Computing Nowrap Virtual Assistant Artificial Intelligence Artificial Intelligence\n",
      "Unbulleted List\n",
      "\n",
      "Nowrap\n",
      "Technology\n",
      "\n",
      "Nowrap\n",
      "Autonomic Computing\n",
      "\n",
      "Nowrap\n",
      "Virtual Assistant Artificial Intelligence\n",
      "Artificial Intelligence Nowrap\n",
      "Technology Nowrap\n",
      "Autonomic Computing Nowrap\n",
      "Virtual Assistant Artificial Intelligence\n",
      "Artificial Intelligence\n",
      "Unbulleted List\n",
      "Nowrap Technology\n",
      "Nowrap Autonomic Computing\n",
      "Nowrap Virtual Assistant Artificial Intelligence Artificial Intelligence Nowrap Technology Nowrap Autonomic Computing Nowrap Virtual Assistant Artificial Intelligence Artificial Intelligence\n",
      "Business Process Outsourcing\n",
      "Business Process Outsourcing\n",
      "Business Process Outsourcing\n",
      "Computer Software\n",
      "Document Management\n",
      "Computer Software Document Management\n",
      "Computer Software Document Management\n",
      "Enterprise Software\n",
      "Enterprise Software\n",
      "Enterprise Software\n",
      "Healthcare It\n",
      "Business Process Outsourcing Service\n",
      "Ites\n",
      "Kpos\n",
      "Lpos\n",
      "Transcription\n",
      "Healthcare It Business Process Outsourcing Service Ites Kpos Lpos Transcription\n",
      "Healthcare It Business Process Outsourcing Service Ites Kpos Lpos Transcription\n",
      "Communication\n",
      "Communication\n",
      "Communication\n",
      "Plainlist Telecommunication Consumer Electronics Financial Technology\n",
      "Plainlist\n",
      "Telecommunication Consumer Electronics Financial Technology\n",
      "Plainlist\n",
      "Telecommunication\n",
      "Consumer Electronics\n",
      "Financial Technology\n",
      "Professional Association\n",
      "Professional Association\n",
      "Professional Association\n",
      "Enterprise Software\n",
      "Enterprise Software\n",
      "Enterprise Software\n",
      "Retail\n",
      "Retail\n",
      "Retail\n",
      "Unbulleted List Graphic Art Imaging Technology Final Good Consumer Product\n",
      "Unbulleted List\n",
      "Graphic Art\n",
      "Imaging Technology\n",
      "Final Good\n",
      "Consumer Product\n",
      "Unbulleted List Graphic Art Imaging Technology Final Good Consumer Product\n",
      "Clothing\n",
      "Hip Hop Apparel\n",
      "Clothing Hip Hop Apparel\n",
      "Clothing Hip Hop Apparel\n",
      "Software Industry Computer Software\n",
      "Cloud Computing\n",
      "Robotic Process Automation\n",
      "Artificial Intelligence\n",
      "Software Industry\n",
      "Computer Software Cloud Computing Robotic Process Automation Artificial Intelligence\n",
      "Software Industry Computer Software Cloud Computing Robotic Process Automation Artificial Intelligence\n",
      "Robotic Process Automation\n",
      "Robotic Process Automation\n",
      "Robotic Process Automation\n",
      "Enterprise Software\n",
      "Enterprise Software\n",
      "Enterprise Software\n",
      "Computer Hardware Br Software Computer Software Br It Service Management It Service Br Information Technology Consulting It Consulting\n",
      "Computer Hardware Br Software\n",
      "Computer Software Br It Service Management\n",
      "It Service Br Information Technology Consulting\n",
      "It Consulting\n",
      "Computer Hardware Br Software Computer Software Br It Service Management It Service Br Information Technology Consulting It Consulting\n",
      "Management Consulting\n",
      "Management Consulting\n",
      "Management Consulting\n",
      "Business Performance Management And Business Intelligence\n",
      "Business Performance Management And Business Intelligence\n",
      "Business Performance Management And Business Intelligence\n",
      "Computer Hardware Br Software Computer Software Br It Service Management It Service Br Information Technology Consulting It Consulting\n",
      "Computer Hardware Br Software\n",
      "Computer Software Br It Service Management\n",
      "It Service Br Information Technology Consulting\n",
      "It Consulting\n",
      "Computer Hardware Br Software Computer Software Br It Service Management It Service Br Information Technology Consulting It Consulting\n",
      "Information Technology Service\n",
      "Information Technology Service\n",
      "Information Technology Service\n",
      "It Service Management It Service\n",
      "Information Technology Consulting It Consulting\n",
      "It Service Management\n",
      "It Service Information Technology Consulting\n",
      "It Consulting\n",
      "It Service Management It Service Information Technology Consulting It Consulting\n",
      "It Service Management It Service\n",
      "Information Technology Consulting It Consulting\n",
      "It Service Management\n",
      "It Service Information Technology Consulting\n",
      "It Consulting\n",
      "It Service Management It Service Information Technology Consulting It Consulting\n",
      "Mobile Game Mobile Application Development\n",
      "Mobile Game Mobile Application Development\n",
      "Mobile Game Mobile Application Development\n",
      "Transportation Network Company\n",
      "Transportation Network Company\n",
      "Transportation Network Company\n",
      "Consumer Electronics\n",
      "Consumer Electronics\n",
      "Consumer Electronics\n",
      "Flatlist Semiconductor S Computer Network S Lighting Circuit Protection\n",
      "Flatlist\n",
      "Semiconductor S Computer Network S Lighting Circuit Protection\n",
      "Flatlist\n",
      "Semiconductor S\n",
      "Computer Network S\n",
      "Lighting\n",
      "Circuit Protection\n",
      "Plainlist Telecommunication E Commerce Internet\n",
      "Plainlist\n",
      "Telecommunication E Commerce Internet\n",
      "Plainlist\n",
      "Telecommunication\n",
      "E Commerce\n",
      "Internet\n",
      "Unbulleted List Internet Cloud Computing Computer Software Computer Hardware Artificial Intelligence Advertising\n",
      "Unbulleted List\n",
      "Internet\n",
      "Cloud Computing\n",
      "Computer Software\n",
      "Computer Hardware\n",
      "Artificial Intelligence\n",
      "Advertising\n",
      "Unbulleted List\n",
      "Internet\n",
      "Cloud Computing\n",
      "Computer Software\n",
      "Computer Hardware\n",
      "Artificial Intelligence\n",
      "Advertising\n",
      "Unbulleted List Graphic Art Imaging Technology Final Good Consumer Product\n",
      "Unbulleted List\n",
      "Graphic Art\n",
      "Imaging Technology\n",
      "Final Good\n",
      "Consumer Product\n",
      "Unbulleted List Graphic Art Imaging Technology Final Good Consumer Product\n",
      "Plainlist Cloud Computing\n",
      "E Commerce\n",
      "Artificial Intelligence\n",
      "Consumer Electronics\n",
      "Digital Distribution\n",
      "Self Driving Car\n",
      "Plainlist\n",
      "Cloud Computing E Commerce Artificial Intelligence Consumer Electronics Digital Distribution Self Driving Car\n",
      "Plainlist\n",
      "Cloud Computing\n",
      "E Commerce\n",
      "Artificial Intelligence\n",
      "Consumer Electronics\n",
      "Digital Distribution\n",
      "Self Driving Car\n",
      "Restaurant S\n",
      "Restaurant S\n",
      "Restaurant S\n",
      "Management Consulting\n",
      "Management Consulting\n",
      "Management Consulting\n",
      "Professional Service\n",
      "Professional Service\n",
      "Professional Service\n",
      "Professional Service\n",
      "Professional Service\n",
      "Professional Service\n",
      "National Technology Solution Provider\n",
      "National Technology Solution Provider\n",
      "National Technology Solution Provider\n",
      "Robotic Process Automation\n",
      "Robotic Process Automation\n",
      "Robotic Process Automation\n",
      "Unbulleted List Semiconductor Artificial Intelligence Video Game Consumer Electronics Computer Hardware\n",
      "Unbulleted List\n",
      "Semiconductor\n",
      "Artificial Intelligence\n",
      "Video Game\n",
      "Consumer Electronics\n",
      "Computer Hardware\n",
      "Unbulleted List\n",
      "Semiconductor\n",
      "Artificial Intelligence\n",
      "Video Game\n",
      "Consumer Electronics\n",
      "Computer Hardware\n",
      "Ubl Enterprise Software Cloud Computing Computer Hardware\n",
      "Ubl\n",
      "Enterprise Software\n",
      "Cloud Computing\n",
      "Computer Hardware\n",
      "Ubl Enterprise Software Cloud Computing Computer Hardware\n",
      "Conglomerate\n",
      "Conglomerate\n",
      "Conglomerate\n",
      "Information And Communication Technology Ict\n",
      "Healthcare\n",
      "Retail\n",
      "Financial Service\n",
      "Automobile\n",
      "Leisure\n",
      "Information And Communication Technology\n",
      "Ict Healthcare Retail Financial Service Automobile Leisure\n",
      "Information And Communication Technology Ict Healthcare Retail Financial Service Automobile Leisure\n",
      "Banking Financial Service\n",
      "Banking Financial Service\n",
      "Banking Financial Service\n",
      "Private Equity Firm\n",
      "Private Equity Firm\n",
      "Private Equity Firm\n",
      "Research And Advisory Service\n",
      "Research And Advisory Service\n",
      "Research And Advisory Service\n",
      "Management Consulting\n",
      "Management Consulting\n",
      "Management Consulting\n",
      "Computer Software\n",
      "Computer Software\n",
      "Computer Software\n",
      "Professional Service\n",
      "Professional Service\n",
      "Professional Service\n",
      "Management Consulting\n",
      "Management Consulting\n",
      "Management Consulting\n",
      "Electrical Power\n",
      "Electrical Power\n",
      "Electrical Power\n",
      "Design\n",
      "Technology\n",
      "Marketing\n",
      "Design Technology Marketing\n",
      "Design Technology Marketing\n",
      "Software Development\n",
      "Software Development\n",
      "Software Development\n",
      "It Service Management It Service\n",
      "Information Technology Consulting It Consulting\n",
      "It Service Management\n",
      "It Service Information Technology Consulting\n",
      "It Consulting\n",
      "It Service Management It Service Information Technology Consulting It Consulting\n",
      "Semiconductor S\n",
      "Semiconductor S\n",
      "Semiconductor S\n",
      "Web Service\n",
      "Cloud Computing\n",
      "Web Service Cloud Computing\n",
      "Web Service Cloud Computing\n",
      "Cloud Management\n",
      "Cloud Management\n",
      "Cloud Management\n",
      "Computer Hardware\n",
      "Printer Computing Printer\n",
      "Computer Hardware Printer Computing\n",
      "Printer\n",
      "Computer Hardware Printer Computing Printer\n",
      "Conglomerate Company Conglomerate\n",
      "Conglomerate Company\n",
      "Conglomerate\n",
      "Conglomerate Company Conglomerate\n",
      "Blockchain Database Blockchain\n",
      "Blockchain Database\n",
      "Blockchain\n",
      "Blockchain Database Blockchain\n",
      "Software\n",
      "Software\n",
      "Software\n",
      "Medical Image Sharing\n",
      "Medical Image Sharing\n",
      "Medical Image Sharing\n",
      "Professional Service\n",
      "Professional Service\n",
      "Professional Service\n",
      "Accounting Professional Service Tax Consultant Consulting License Of Certified Public Accountant Surrendered In 2002\n",
      "Accounting Professional Service Tax Consultant\n",
      "Consulting License Of Certified Public Accountant Surrendered In 2002\n",
      "Accounting Professional Service Tax Consultant Consulting License Of Certified Public Accountant Surrendered In 2002\n",
      "Saas Hcm Software\n",
      "Saas Hcm Software\n",
      "Saas Hcm Software\n",
      "It Service Management It Service\n",
      "Information Technology Consulting It Consulting\n",
      "It Service Management\n",
      "It Service Information Technology Consulting\n",
      "It Consulting\n",
      "It Service Management It Service Information Technology Consulting It Consulting\n",
      "Professional Service\n",
      "Professional Service\n",
      "Professional Service\n",
      "Unbulleted List Graphic Art Imaging Technology Final Good Consumer Product\n",
      "Unbulleted List\n",
      "Graphic Art\n",
      "Imaging Technology\n",
      "Final Good\n",
      "Consumer Product\n",
      "Unbulleted List Graphic Art Imaging Technology Final Good Consumer Product\n",
      "Online Information And Identity Protection\n",
      "Online Information And Identity Protection\n",
      "Online Information And Identity Protection\n",
      "Software Development\n",
      "Software Development\n",
      "Software Development\n",
      "Financial Technology Br Computer Hardware Br Computer Software Br Cloud Computing Br Internet Of Thing Iot Br Artificial Intelligence Br Data Storage And Service Br Computer Networking Br Blockchain\n",
      "Financial Technology Br Computer Hardware Br Computer Software Br Cloud Computing Br Internet Of Thing Iot Br Artificial Intelligence Br Data Storage And Service Br Computer Networking Br Blockchain\n",
      "Financial Technology Br Computer Hardware Br Computer Software Br Cloud Computing Br Internet Of Thing Iot Br Artificial Intelligence Br Data Storage And Service Br Computer Networking Br Blockchain\n",
      "Unbulleted List Telecommunication Industry Telecommunication Technology Company Technology Data Center S Product Engineering Semiconductor Industrials\n",
      "Unbulleted List\n",
      "Telecommunication Industry\n",
      "Telecommunication\n",
      "Technology Company\n",
      "Technology\n",
      "Data Center S\n",
      "Product Engineering\n",
      "Semiconductor\n",
      "Industrials\n",
      "Unbulleted List Telecommunication Industry Telecommunication Technology Company Technology Data Center S Product Engineering Semiconductor Industrials\n",
      "Digital Transformation\n",
      "Product Engineering\n",
      "Infrastructure And Security Service\n",
      "Digital Transformation Product Engineering Infrastructure And Security Service\n",
      "Digital Transformation Product Engineering Infrastructure And Security Service\n",
      "Information Security Information Security\n",
      "Information Security\n",
      "Information Security\n",
      "Information Security Information Security\n",
      "Web Service\n",
      "Cloud Computing\n",
      "Web Service Cloud Computing\n",
      "Web Service Cloud Computing\n",
      "It Service Management It Service\n",
      "Information Technology Consulting It Consulting\n",
      "It Service Management\n",
      "It Service Information Technology Consulting\n",
      "It Consulting\n",
      "It Service Management It Service Information Technology Consulting It Consulting\n",
      "Enterprise Software\n",
      "Enterprise Software\n",
      "Enterprise Software\n",
      "Software\n",
      "Software\n",
      "Software\n",
      "Information Technology\n",
      "Information Technology\n",
      "Information Technology\n",
      "Financial Service\n",
      "Financial Service\n",
      "Financial Service\n",
      "Employment Agency Information Technology Staffing Br Software Industry Software Br Outsourcing Outsourcing Service\n",
      "Employment Agency\n",
      "Information Technology Staffing Br Software Industry\n",
      "Software Br Outsourcing\n",
      "Outsourcing Service\n",
      "Employment Agency Information Technology Staffing Br Software Industry Software Br Outsourcing Outsourcing Service\n",
      "It Service Management It Service\n",
      "Information Technology Consulting It Consulting\n",
      "It Service Management\n",
      "It Service Information Technology Consulting\n",
      "It Consulting\n",
      "It Service Management It Service Information Technology Consulting It Consulting\n",
      "Unbulleted List Software Development Computer Hardware Consumer Electronics Social Networking Service Cloud Computing Video Game Industry Video Game Internet Corporate Venture Capital\n",
      "Unbulleted List\n",
      "Software Development\n",
      "Computer Hardware\n",
      "Consumer Electronics\n",
      "Social Networking Service\n",
      "Cloud Computing\n",
      "Video Game Industry\n",
      "Video Game\n",
      "Internet\n",
      "Corporate Venture Capital\n",
      "Unbulleted List\n",
      "Software Development\n",
      "Computer Hardware\n",
      "Consumer Electronics\n",
      "Social Networking Service\n",
      "Cloud Computing\n",
      "Video Game Industry Video Game\n",
      "Internet\n",
      "Corporate Venture Capital\n",
      "Utility\n",
      "Construction\n",
      "High Speed Rail\n",
      "Property\n",
      "Hotel Resort\n",
      "Utility Construction High Speed Rail Property Hotel Resort\n",
      "Utility Construction High Speed Rail Property Hotel Resort\n",
      "Internet And Telecommunication\n",
      "Internet And Telecommunication\n",
      "Internet And Telecommunication\n",
      "Automotive Industry Automotive\n",
      "Automotive Industry\n",
      "Automotive\n",
      "Automotive Industry Automotive\n",
      "Unamnned System Uav\n",
      "Auv\n",
      "Remotely Operated Underwater Vehicle Rov\n",
      "Unmanned Surface Vehicle Usv\n",
      "Ugv\n",
      "Unamnned System Uav Auv Remotely Operated Underwater Vehicle\n",
      "Rov Unmanned Surface Vehicle\n",
      "Usv Ugv\n",
      "Unamnned System Uav Auv Remotely Operated Underwater Vehicle Rov Unmanned Surface Vehicle Usv Ugv\n",
      "It Service Management It Service\n",
      "Information Technology Consulting It Consulting\n",
      "It Service Management\n",
      "It Service Information Technology Consulting\n",
      "It Consulting\n",
      "It Service Management It Service Information Technology Consulting It Consulting\n",
      "It Service Management It Service\n",
      "Information Technology Consulting It Consulting\n",
      "It Service Management\n",
      "It Service Information Technology Consulting\n",
      "It Consulting\n",
      "It Service Management It Service Information Technology Consulting It Consulting\n",
      "Registered Agent\n",
      "Corporate Governance\n",
      "Corporate Compliance\n",
      "Domain Name And Intellectual Property Management\n",
      "Registered Agent Corporate Governance Corporate Compliance Domain Name And Intellectual Property Management\n",
      "Registered Agent Corporate Governance Corporate Compliance Domain Name And Intellectual Property Management\n",
      "It Service Management It Service\n",
      "Information Technology Consulting It Consulting\n",
      "It Service Management\n",
      "It Service Information Technology Consulting\n",
      "It Consulting\n",
      "It Service Management It Service Information Technology Consulting It Consulting\n",
      "Unbulleted List Software Development Computer Hardware Consumer Electronics Social Networking Service Cloud Computing Video Game Industry Video Game Internet Corporate Venture Capital\n",
      "Unbulleted List\n",
      "Software Development\n",
      "Computer Hardware\n",
      "Consumer Electronics\n",
      "Social Networking Service\n",
      "Cloud Computing\n",
      "Video Game Industry\n",
      "Video Game\n",
      "Internet\n",
      "Corporate Venture Capital\n",
      "Unbulleted List\n",
      "Software Development\n",
      "Computer Hardware\n",
      "Consumer Electronics\n",
      "Social Networking Service\n",
      "Cloud Computing\n",
      "Video Game Industry Video Game\n",
      "Internet\n",
      "Corporate Venture Capital\n",
      "Unbulleted List Graphic Art Imaging Technology Final Good Consumer Product\n",
      "Unbulleted List\n",
      "Graphic Art\n",
      "Imaging Technology\n",
      "Final Good\n",
      "Consumer Product\n",
      "Unbulleted List Graphic Art Imaging Technology Final Good Consumer Product\n",
      "Blockchain Technology\n",
      "Blockchain Technology\n",
      "Blockchain Technology\n",
      "Diversified Conglomerate\n",
      "Diversified Conglomerate\n",
      "Diversified Conglomerate\n",
      "Enterprise Software\n",
      "Enterprise Software\n",
      "Enterprise Software\n",
      "Financial Service Br Insurance\n",
      "Financial Service Br Insurance\n",
      "Financial Service Br Insurance\n",
      "Insurance\n",
      "Insurance\n",
      "Insurance\n",
      "Information Technology\n",
      "Computer Data Storage Data Storage\n",
      "Solid State Drive\n",
      "Information Technology Computer Data Storage\n",
      "Data Storage Solid State Drive\n",
      "Information Technology Computer Data Storage Data Storage Solid State Drive\n",
      "E Commerce\n",
      "E Commerce\n",
      "E Commerce\n",
      "Service Sector Service\n",
      "Service Sector\n",
      "Service\n",
      "Service Sector Service\n",
      "Peer To Peer P2P Tv\n",
      "Peer To Peer\n",
      "P2P Tv\n",
      "Peer To Peer P2P Tv\n",
      "Enterprise Software\n",
      "Enterprise Software\n",
      "Enterprise Software\n",
      "Enterprise Software\n",
      "Enterprise Software\n",
      "Enterprise Software\n",
      "Professional Service\n",
      "Professional Service\n",
      "Professional Service\n",
      "It Service Management It Service\n",
      "Information Technology Consulting It Consulting\n",
      "It Service Management\n",
      "It Service Information Technology Consulting\n",
      "It Consulting\n",
      "It Service Management It Service Information Technology Consulting It Consulting\n",
      "Unbulleted List Class Nowrap Apparel Fashion Accessory Accessory Sport Equipment\n",
      "Unbulleted List\n",
      "Class\n",
      "\n",
      "Nowrap\n",
      "Apparel\n",
      "Fashion Accessory\n",
      "Accessory\n",
      "Sport Equipment\n",
      "Unbulleted List Class Nowrap Apparel Fashion Accessory Accessory Sport Equipment\n",
      "Fashion Accessory Accessory\n",
      "Apparel\n",
      "Sporting Good\n",
      "Fashion Accessory\n",
      "Accessory Apparel Sporting Good\n",
      "Fashion Accessory Accessory Apparel Sporting Good\n",
      "Unbulleted List Graphic Art Imaging Technology Final Good Consumer Product\n",
      "Unbulleted List\n",
      "Graphic Art\n",
      "Imaging Technology\n",
      "Final Good\n",
      "Consumer Product\n",
      "Unbulleted List Graphic Art Imaging Technology Final Good Consumer Product\n",
      "Mass Medium\n",
      "Mass Medium\n",
      "Mass Medium\n",
      "Medium\n",
      "Medium\n",
      "Medium\n",
      "Financial Technology Br Computer Hardware Br Computer Software Br Cloud Computing Br Internet Of Thing Iot Br Artificial Intelligence Br Data Storage And Service Br Computer Networking Br Blockchain\n",
      "Financial Technology Br Computer Hardware Br Computer Software Br Cloud Computing Br Internet Of Thing Iot Br Artificial Intelligence Br Data Storage And Service Br Computer Networking Br Blockchain\n",
      "Financial Technology Br Computer Hardware Br Computer Software Br Cloud Computing Br Internet Of Thing Iot Br Artificial Intelligence Br Data Storage And Service Br Computer Networking Br Blockchain\n",
      "Flatlist Robotic Process Automation Software Information Technology\n",
      "Flatlist\n",
      "Robotic Process Automation Software Information Technology\n",
      "Flatlist\n",
      "Robotic Process Automation Software\n",
      "Information Technology\n",
      "Flatlist Cloud Computing Software\n",
      "Flatlist\n",
      "Cloud Computing Software\n",
      "Flatlist\n",
      "Cloud Computing\n",
      "Software\n",
      "Robotic Process Automation\n",
      "Robotic Process Automation\n",
      "Robotic Process Automation\n",
      "Modeling Simulation\n",
      "Modeling Simulation\n",
      "Modeling Simulation\n",
      "On Demand\n",
      "On Demand\n",
      "On Demand\n",
      "Transportation\n",
      "Transportation\n",
      "Transportation\n",
      "It Service Management It Service\n",
      "Information Technology Consulting It Consulting\n",
      "It Service Management\n",
      "It Service Information Technology Consulting\n",
      "It Consulting\n",
      "It Service Management It Service Information Technology Consulting It Consulting\n",
      "It Service Management It Service\n",
      "Information Technology Consulting It Consulting\n",
      "It Service Management\n",
      "It Service Information Technology Consulting\n",
      "It Consulting\n",
      "It Service Management It Service Information Technology Consulting It Consulting\n",
      "Information Technology Service\n",
      "Information Technology Service\n",
      "Information Technology Service\n",
      "Web Service\n",
      "Cloud Computing\n",
      "Web Service Cloud Computing\n",
      "Web Service Cloud Computing\n",
      "Software Development\n",
      "Software Development\n",
      "Software Development\n",
      "Technology\n",
      "Technology\n",
      "Technology\n",
      "Financial Technology Br Computer Hardware Br Computer Software Br Cloud Computing Br Internet Of Thing Iot Br Artificial Intelligence Br Data Storage And Service Br Computer Networking Br Blockchain\n",
      "Financial Technology Br Computer Hardware Br Computer Software Br Cloud Computing Br Internet Of Thing Iot Br Artificial Intelligence Br Data Storage And Service Br Computer Networking Br Blockchain\n",
      "Financial Technology Br Computer Hardware Br Computer Software Br Cloud Computing Br Internet Of Thing Iot Br Artificial Intelligence Br Data Storage And Service Br Computer Networking Br Blockchain\n",
      "Unbulleted List Graphic Art Imaging Technology Final Good Consumer Product\n",
      "Unbulleted List\n",
      "Graphic Art\n",
      "Imaging Technology\n",
      "Final Good\n",
      "Consumer Product\n",
      "Unbulleted List Graphic Art Imaging Technology Final Good Consumer Product\n",
      "Computer Hardware Br Software Computer Software Br It Service Management It Service Br Information Technology Consulting It Consulting\n",
      "Computer Hardware Br Software\n",
      "Computer Software Br It Service Management\n",
      "It Service Br Information Technology Consulting\n",
      "It Consulting\n",
      "Computer Hardware Br Software Computer Software Br It Service Management It Service Br Information Technology Consulting It Consulting\n",
      "Financial Technology Br Computer Hardware Br Computer Software Br Cloud Computing Br Internet Of Thing Iot Br Artificial Intelligence Br Data Storage And Service Br Computer Networking Br Blockchain\n",
      "Financial Technology Br Computer Hardware Br Computer Software Br Cloud Computing Br Internet Of Thing Iot Br Artificial Intelligence Br Data Storage And Service Br Computer Networking Br Blockchain\n",
      "Financial Technology Br Computer Hardware Br Computer Software Br Cloud Computing Br Internet Of Thing Iot Br Artificial Intelligence Br Data Storage And Service Br Computer Networking Br Blockchain\n",
      "Plainlist Telecommunication E Commerce Internet\n",
      "Plainlist\n",
      "Telecommunication E Commerce Internet\n",
      "Plainlist\n",
      "Telecommunication\n",
      "E Commerce\n",
      "Internet\n",
      "Data Security\n",
      "Data Security\n",
      "Data Security\n",
      "Ublist Business Process Outsourcing Offshoring\n",
      "Ublist\n",
      "Business Process Outsourcing\n",
      "Offshoring\n",
      "Ublist Business Process Outsourcing Offshoring\n",
      "Event Monitoring System Monitoring\n",
      "Event Monitoring\n",
      "System Monitoring\n",
      "Event Monitoring System Monitoring\n",
      "Software A A Service\n",
      "Software A A Service\n",
      "Software A A Service\n",
      "Healthcare\n",
      "Healthcare\n",
      "Healthcare\n",
      "Management Consulting\n",
      "Management Consulting\n",
      "Management Consulting\n",
      "Video Surveillance\n",
      "Video Surveillance\n",
      "Video Surveillance\n",
      "Enterprise Software\n",
      "Enterprise Software\n",
      "Enterprise Software\n",
      "Retail Ing\n",
      "Retail Ing\n",
      "Retail Ing\n",
      "Telecommunication S\n",
      "Telecommunication S\n",
      "Telecommunication S\n",
      "Venture Capital\n",
      "Venture Capital\n",
      "Venture Capital\n",
      "Enterprise Software\n",
      "Enterprise Software\n",
      "Enterprise Software\n",
      "Entertainment\n",
      "Entertainment\n",
      "Entertainment\n",
      "Professional Service\n",
      "Professional Service\n",
      "Professional Service\n",
      "Film\n",
      "Film\n",
      "Film\n",
      "Computer Hardware Br Software Computer Software Br It Service Management It Service Br Information Technology Consulting It Consulting\n",
      "Computer Hardware Br Software\n",
      "Computer Software Br It Service Management\n",
      "It Service Br Information Technology Consulting\n",
      "It Consulting\n",
      "Computer Hardware Br Software Computer Software Br It Service Management It Service Br Information Technology Consulting It Consulting\n",
      "Conglomerate Company Conglomerate\n",
      "Conglomerate Company\n",
      "Conglomerate\n",
      "Conglomerate Company Conglomerate\n",
      "Enterprise Software\n",
      "Enterprise Software\n",
      "Enterprise Software\n",
      "It Service Management It Service\n",
      "Information Technology Consulting It Consulting\n",
      "It Service Management\n",
      "It Service Information Technology Consulting\n",
      "It Consulting\n",
      "It Service Management It Service Information Technology Consulting It Consulting\n",
      "Enterprise Software\n",
      "Enterprise Software\n",
      "Enterprise Software\n",
      "Retail\n",
      "Retail\n",
      "Retail\n",
      "Management Consulting\n",
      "Management Consulting\n",
      "Management Consulting\n",
      "Airport\n",
      "Aviation\n",
      "Defense Military Defense\n",
      "Government\n",
      "Health Care Healthcare\n",
      "Telecommunication Network Network\n",
      "Security\n",
      "And Transportation\n",
      "Airport Aviation Defense Military\n",
      "Defense Government Health Care\n",
      "Healthcare Telecommunication Network\n",
      "Network Security And Transportation\n",
      "Airport Aviation Defense Military Defense Government Health Care Healthcare Telecommunication Network Network Security And Transportation\n",
      "Aviation Br Software\n",
      "Aviation Br Software\n",
      "Aviation Br Software\n",
      "Computer Software\n",
      "Computer Software\n",
      "Computer Software\n",
      "Information Technology\n",
      "Information Technology\n",
      "Information Technology\n",
      "Conglomerate Company Conglomerate\n",
      "Conglomerate Company\n",
      "Conglomerate\n",
      "Conglomerate Company Conglomerate\n",
      "Chemical Industry\n",
      "Chemical Industry\n",
      "Chemical Industry\n",
      "Professional Service Technology Service\n",
      "Professional Service Technology Service\n",
      "Professional Service Technology Service\n",
      "Web Service\n",
      "Cloud Computing\n",
      "Web Service Cloud Computing\n",
      "Web Service Cloud Computing\n",
      "Dot Com Company Internet\n",
      "Dot Com Company\n",
      "Internet\n",
      "Dot Com Company Internet\n",
      "It Service Management It Service\n",
      "Information Technology Consulting It Consulting\n",
      "It Service Management\n",
      "It Service Information Technology Consulting\n",
      "It Consulting\n",
      "It Service Management It Service Information Technology Consulting It Consulting\n",
      "Professional Service\n",
      "Professional Service\n",
      "Professional Service\n",
      "Professional Service\n",
      "Professional Service\n",
      "Professional Service\n",
      "Financial Technology Br Computer Hardware Br Computer Software Br Cloud Computing Br Internet Of Thing Iot Br Artificial Intelligence Br Data Storage And Service Br Computer Networking Br Blockchain\n",
      "Financial Technology Br Computer Hardware Br Computer Software Br Cloud Computing Br Internet Of Thing Iot Br Artificial Intelligence Br Data Storage And Service Br Computer Networking Br Blockchain\n",
      "Financial Technology Br Computer Hardware Br Computer Software Br Cloud Computing Br Internet Of Thing Iot Br Artificial Intelligence Br Data Storage And Service Br Computer Networking Br Blockchain\n",
      "Enterprise Software\n",
      "Enterprise Software\n",
      "Enterprise Software\n",
      "Unbulleted List Identity Management Customer Identity Management\n",
      "Unbulleted List\n",
      "Identity Management\n",
      "Customer Identity Management\n",
      "Unbulleted List Identity Management Customer Identity Management\n",
      "Electronic Commerce\n",
      "Electronic Commerce\n",
      "Electronic Commerce\n",
      "Web Service\n",
      "Cloud Computing\n",
      "Web Service Cloud Computing\n",
      "Web Service Cloud Computing\n",
      "Software\n",
      "Software\n",
      "Software\n",
      "Web Service\n",
      "Cloud Computing\n",
      "Web Service Cloud Computing\n",
      "Web Service Cloud Computing\n",
      "Information Technology It Service And It Consulting\n",
      "Information Technology\n",
      "It Service And It Consulting\n",
      "Information Technology It Service And It Consulting\n",
      "Professional Service\n",
      "Professional Service\n",
      "Professional Service\n",
      "Web Service\n",
      "Cloud Computing\n",
      "Web Service Cloud Computing\n",
      "Web Service Cloud Computing\n",
      "Healthcare\n",
      "Healthcare\n",
      "Healthcare\n",
      "Information Security Information Security\n",
      "Information Security\n",
      "Information Security\n",
      "Information Security Information Security\n",
      "Semiconductor Industry Semiconductor\n",
      "Semiconductor Industry\n",
      "Semiconductor\n",
      "Semiconductor Industry Semiconductor\n",
      "Management Consulting\n",
      "Management Consulting\n",
      "Management Consulting\n",
      "Management Consulting\n",
      "Management Consulting\n",
      "Management Consulting\n",
      "Management Consulting\n",
      "Management Consulting\n",
      "Management Consulting\n",
      "Management Consulting\n",
      "Management Consulting\n",
      "Management Consulting\n",
      "Unbulleted List Software Development Computer Hardware Consumer Electronics Social Networking Service Cloud Computing Video Game Industry Video Game Internet Corporate Venture Capital\n",
      "Unbulleted List\n",
      "Software Development\n",
      "Computer Hardware\n",
      "Consumer Electronics\n",
      "Social Networking Service\n",
      "Cloud Computing\n",
      "Video Game Industry\n",
      "Video Game\n",
      "Internet\n",
      "Corporate Venture Capital\n",
      "Unbulleted List\n",
      "Software Development\n",
      "Computer Hardware\n",
      "Consumer Electronics\n",
      "Social Networking Service\n",
      "Cloud Computing\n",
      "Video Game Industry Video Game\n",
      "Internet\n",
      "Corporate Venture Capital\n",
      "Automobile\n",
      "Automobile\n",
      "Automobile\n",
      "Mass Medium\n",
      "Mass Medium\n",
      "Mass Medium\n",
      "International Trade\n",
      "Drug Trafficking Mainly Opium\n",
      "International Trade Drug Trafficking Mainly Opium\n",
      "International Trade Drug Trafficking Mainly Opium\n",
      "Bank Ing Financial Service\n",
      "Bank Ing Financial Service\n",
      "Bank Ing Financial Service\n",
      "Banking\n",
      "Banking\n",
      "Banking\n",
      "Robotic Process Automation\n",
      "Robotic Process Automation\n",
      "Robotic Process Automation\n",
      "Software Industry Computer Software\n",
      "Cloud Computing\n",
      "Robotic Process Automation\n",
      "Artificial Intelligence\n",
      "Software Industry\n",
      "Computer Software Cloud Computing Robotic Process Automation Artificial Intelligence\n",
      "Software Industry Computer Software Cloud Computing Robotic Process Automation Artificial Intelligence\n",
      "Unbulleted List Nowrap Technology Nowrap Autonomic Computing Nowrap Virtual Assistant Artificial Intelligence Artificial Intelligence Nowrap Technology Nowrap Autonomic Computing Nowrap Virtual Assistant Artificial Intelligence Artificial Intelligence\n",
      "Unbulleted List\n",
      "\n",
      "Nowrap\n",
      "Technology\n",
      "\n",
      "Nowrap\n",
      "Autonomic Computing\n",
      "\n",
      "Nowrap\n",
      "Virtual Assistant Artificial Intelligence\n",
      "Artificial Intelligence Nowrap\n",
      "Technology Nowrap\n",
      "Autonomic Computing Nowrap\n",
      "Virtual Assistant Artificial Intelligence\n",
      "Artificial Intelligence\n",
      "Unbulleted List\n",
      "Nowrap Technology\n",
      "Nowrap Autonomic Computing\n",
      "Nowrap Virtual Assistant Artificial Intelligence Artificial Intelligence Nowrap Technology Nowrap Autonomic Computing Nowrap Virtual Assistant Artificial Intelligence Artificial Intelligence\n",
      "Financial Technology Software Software Product\n",
      "Financial Technology Software\n",
      "Software Product\n",
      "Financial Technology Software Software Product\n",
      "Robotic Process Automation\n",
      "Artificial Intelligence\n",
      "Hyperautomation\n",
      "Robotic Process Automation Artificial Intelligence Hyperautomation\n",
      "Robotic Process Automation Artificial Intelligence Hyperautomation\n",
      "Robotic Process Automation\n",
      "Artificial Intelligence\n",
      "Hyperautomation\n",
      "Robotic Process Automation Artificial Intelligence Hyperautomation\n",
      "Robotic Process Automation Artificial Intelligence Hyperautomation\n",
      "Robotic Process Automation\n",
      "Artificial Intelligence\n",
      "Hyperautomation\n",
      "Robotic Process Automation Artificial Intelligence Hyperautomation\n",
      "Robotic Process Automation Artificial Intelligence Hyperautomation\n",
      "Robotic Process Automation\n",
      "Artificial Intelligence\n",
      "Hyperautomation\n",
      "Robotic Process Automation Artificial Intelligence Hyperautomation\n",
      "Robotic Process Automation Artificial Intelligence Hyperautomation\n",
      "Robotic Process Automation\n",
      "Artificial Intelligence\n",
      "Hyperautomation\n",
      "Robotic Process Automation Artificial Intelligence Hyperautomation\n",
      "Robotic Process Automation Artificial Intelligence Hyperautomation\n",
      "Robotic Process Automation\n",
      "Artificial Intelligence\n",
      "Hyperautomation\n",
      "Robotic Process Automation Artificial Intelligence Hyperautomation\n",
      "Robotic Process Automation Artificial Intelligence Hyperautomation\n",
      "Robotic Process Automation\n",
      "Artificial Intelligence\n",
      "Hyperautomation\n",
      "Robotic Process Automation Artificial Intelligence Hyperautomation\n",
      "Robotic Process Automation Artificial Intelligence Hyperautomation\n",
      "Robotic Process Automation\n",
      "Artificial Intelligence\n",
      "Hyperautomation\n",
      "Robotic Process Automation Artificial Intelligence Hyperautomation\n",
      "Robotic Process Automation Artificial Intelligence Hyperautomation\n",
      "Robotic Process Automation\n",
      "Artificial Intelligence\n",
      "Hyperautomation\n",
      "Robotic Process Automation Artificial Intelligence Hyperautomation\n",
      "Robotic Process Automation Artificial Intelligence Hyperautomation\n",
      "Robotic Process Automation\n",
      "Artificial Intelligence\n",
      "Hyperautomation\n",
      "Robotic Process Automation Artificial Intelligence Hyperautomation\n",
      "Robotic Process Automation Artificial Intelligence Hyperautomation\n",
      "Robotic Process Automation\n",
      "Artificial Intelligence\n",
      "Hyperautomation\n",
      "Robotic Process Automation Artificial Intelligence Hyperautomation\n",
      "Robotic Process Automation Artificial Intelligence Hyperautomation\n",
      "Robotic Process Automation\n",
      "Artificial Intelligence\n",
      "Hyperautomation\n",
      "Robotic Process Automation Artificial Intelligence Hyperautomation\n",
      "Robotic Process Automation Artificial Intelligence Hyperautomation\n",
      "Robotic Process Automation\n",
      "Artificial Intelligence\n",
      "Hyperautomation\n",
      "Robotic Process Automation Artificial Intelligence Hyperautomation\n",
      "Robotic Process Automation Artificial Intelligence Hyperautomation\n",
      "Robotic Process Automation\n",
      "Artificial Intelligence\n",
      "Hyperautomation\n",
      "Robotic Process Automation Artificial Intelligence Hyperautomation\n",
      "Robotic Process Automation Artificial Intelligence Hyperautomation\n",
      "Robotic Process Automation\n",
      "Artificial Intelligence\n",
      "Hyperautomation\n",
      "Robotic Process Automation Artificial Intelligence Hyperautomation\n",
      "Robotic Process Automation Artificial Intelligence Hyperautomation\n",
      "Robotic Process Automation\n",
      "Artificial Intelligence\n",
      "Hyperautomation\n",
      "Robotic Process Automation Artificial Intelligence Hyperautomation\n",
      "Robotic Process Automation Artificial Intelligence Hyperautomation\n",
      "Robotic Process Automation\n",
      "Artificial Intelligence\n",
      "Hyperautomation\n",
      "Robotic Process Automation Artificial Intelligence Hyperautomation\n",
      "Robotic Process Automation Artificial Intelligence Hyperautomation\n",
      "Robotic Process Automation\n",
      "Artificial Intelligence\n",
      "Hyperautomation\n",
      "Robotic Process Automation Artificial Intelligence Hyperautomation\n",
      "Robotic Process Automation Artificial Intelligence Hyperautomation\n",
      "Robotic Process Automation\n",
      "Artificial Intelligence\n",
      "Hyperautomation\n",
      "Robotic Process Automation Artificial Intelligence Hyperautomation\n",
      "Robotic Process Automation Artificial Intelligence Hyperautomation\n",
      "Robotic Process Automation\n",
      "Artificial Intelligence\n",
      "Hyperautomation\n",
      "Robotic Process Automation Artificial Intelligence Hyperautomation\n",
      "Robotic Process Automation Artificial Intelligence Hyperautomation\n",
      "Robotic Process Automation\n",
      "Artificial Intelligence\n",
      "Hyperautomation\n",
      "Robotic Process Automation Artificial Intelligence Hyperautomation\n",
      "Robotic Process Automation Artificial Intelligence Hyperautomation\n",
      "Robotic Process Automation\n",
      "Artificial Intelligence\n",
      "Hyperautomation\n",
      "Robotic Process Automation Artificial Intelligence Hyperautomation\n",
      "Robotic Process Automation Artificial Intelligence Hyperautomation\n",
      "Robotic Process Automation\n",
      "Artificial Intelligence\n",
      "Hyperautomation\n",
      "Robotic Process Automation Artificial Intelligence Hyperautomation\n",
      "Robotic Process Automation Artificial Intelligence Hyperautomation\n",
      "Robotic Process Automation\n",
      "Artificial Intelligence\n",
      "Hyperautomation\n",
      "Robotic Process Automation Artificial Intelligence Hyperautomation\n",
      "Robotic Process Automation Artificial Intelligence Hyperautomation\n",
      "Robotic Process Automation\n",
      "Artificial Intelligence\n",
      "Hyperautomation\n",
      "Robotic Process Automation Artificial Intelligence Hyperautomation\n",
      "Robotic Process Automation Artificial Intelligence Hyperautomation\n",
      "Robotic Process Automation\n",
      "Artificial Intelligence\n",
      "Hyperautomation\n",
      "Robotic Process Automation Artificial Intelligence Hyperautomation\n",
      "Robotic Process Automation Artificial Intelligence Hyperautomation\n",
      "Robotic Process Automation\n",
      "Artificial Intelligence\n",
      "Hyperautomation\n",
      "Robotic Process Automation Artificial Intelligence Hyperautomation\n",
      "Robotic Process Automation Artificial Intelligence Hyperautomation\n",
      "Robotic Process Automation\n",
      "Artificial Intelligence\n",
      "Hyperautomation\n",
      "Robotic Process Automation Artificial Intelligence Hyperautomation\n",
      "Robotic Process Automation Artificial Intelligence Hyperautomation\n",
      "Robotic Process Automation\n",
      "Artificial Intelligence\n",
      "Hyperautomation\n",
      "Robotic Process Automation Artificial Intelligence Hyperautomation\n",
      "Robotic Process Automation Artificial Intelligence Hyperautomation\n",
      "Robotic Process Automation\n",
      "Artificial Intelligence\n",
      "Hyperautomation\n",
      "Robotic Process Automation Artificial Intelligence Hyperautomation\n",
      "Robotic Process Automation Artificial Intelligence Hyperautomation\n",
      "Robotic Process Automation\n",
      "Artificial Intelligence\n",
      "Hyperautomation\n",
      "Robotic Process Automation Artificial Intelligence Hyperautomation\n",
      "Robotic Process Automation Artificial Intelligence Hyperautomation\n",
      "Robotic Process Automation\n",
      "Artificial Intelligence\n",
      "Hyperautomation\n",
      "Robotic Process Automation Artificial Intelligence Hyperautomation\n",
      "Robotic Process Automation Artificial Intelligence Hyperautomation\n",
      "Robotic Process Automation\n",
      "Artificial Intelligence\n",
      "Hyperautomation\n",
      "Robotic Process Automation Artificial Intelligence Hyperautomation\n",
      "Robotic Process Automation Artificial Intelligence Hyperautomation\n",
      "Robotic Process Automation\n",
      "Artificial Intelligence\n",
      "Hyperautomation\n",
      "Robotic Process Automation Artificial Intelligence Hyperautomation\n",
      "Robotic Process Automation Artificial Intelligence Hyperautomation\n",
      "Robotic Process Automation\n",
      "Artificial Intelligence\n",
      "Hyperautomation\n",
      "Robotic Process Automation Artificial Intelligence Hyperautomation\n",
      "Robotic Process Automation Artificial Intelligence Hyperautomation\n",
      "Robotic Process Automation\n",
      "Artificial Intelligence\n",
      "Hyperautomation\n",
      "Robotic Process Automation Artificial Intelligence Hyperautomation\n",
      "Robotic Process Automation Artificial Intelligence Hyperautomation\n",
      "Robotic Process Automation\n",
      "Artificial Intelligence\n",
      "Hyperautomation\n",
      "Robotic Process Automation Artificial Intelligence Hyperautomation\n",
      "Robotic Process Automation Artificial Intelligence Hyperautomation\n",
      "Robotic Process Automation\n",
      "Artificial Intelligence\n",
      "Hyperautomation\n",
      "Robotic Process Automation Artificial Intelligence Hyperautomation\n",
      "Robotic Process Automation Artificial Intelligence Hyperautomation\n",
      "Robotic Process Automation\n",
      "Artificial Intelligence\n",
      "Hyperautomation\n",
      "Robotic Process Automation Artificial Intelligence Hyperautomation\n",
      "Robotic Process Automation Artificial Intelligence Hyperautomation\n",
      "Robotic Process Automation\n",
      "Artificial Intelligence\n",
      "Hyperautomation\n",
      "Robotic Process Automation Artificial Intelligence Hyperautomation\n",
      "Robotic Process Automation Artificial Intelligence Hyperautomation\n",
      "Robotic Process Automation\n",
      "Artificial Intelligence\n",
      "Hyperautomation\n",
      "Robotic Process Automation Artificial Intelligence Hyperautomation\n",
      "Robotic Process Automation Artificial Intelligence Hyperautomation\n",
      "Robotic Process Automation\n",
      "Artificial Intelligence\n",
      "Hyperautomation\n",
      "Robotic Process Automation Artificial Intelligence Hyperautomation\n",
      "Robotic Process Automation Artificial Intelligence Hyperautomation\n",
      "Robotic Process Automation\n",
      "Artificial Intelligence\n",
      "Hyperautomation\n",
      "Robotic Process Automation Artificial Intelligence Hyperautomation\n",
      "Robotic Process Automation Artificial Intelligence Hyperautomation\n",
      "Robotic Process Automation\n",
      "Artificial Intelligence\n",
      "Hyperautomation\n",
      "Robotic Process Automation Artificial Intelligence Hyperautomation\n",
      "Robotic Process Automation Artificial Intelligence Hyperautomation\n",
      "Robotic Process Automation\n",
      "Artificial Intelligence\n",
      "Hyperautomation\n",
      "Robotic Process Automation Artificial Intelligence Hyperautomation\n",
      "Robotic Process Automation Artificial Intelligence Hyperautomation\n",
      "Robotic Process Automation\n",
      "Artificial Intelligence\n",
      "Hyperautomation\n",
      "Robotic Process Automation Artificial Intelligence Hyperautomation\n",
      "Robotic Process Automation Artificial Intelligence Hyperautomation\n",
      "Robotic Process Automation\n",
      "Artificial Intelligence\n",
      "Hyperautomation\n",
      "Robotic Process Automation Artificial Intelligence Hyperautomation\n",
      "Robotic Process Automation Artificial Intelligence Hyperautomation\n",
      "Robotic Process Automation\n",
      "Artificial Intelligence\n",
      "Hyperautomation\n",
      "Robotic Process Automation Artificial Intelligence Hyperautomation\n",
      "Robotic Process Automation Artificial Intelligence Hyperautomation\n",
      "Robotic Process Automation\n",
      "Artificial Intelligence\n",
      "Hyperautomation\n",
      "Robotic Process Automation Artificial Intelligence Hyperautomation\n",
      "Robotic Process Automation Artificial Intelligence Hyperautomation\n",
      "Unbulleted List Semiconductor Artificial Intelligence Video Game Consumer Electronics Computer Hardware\n",
      "Unbulleted List\n",
      "Semiconductor\n",
      "Artificial Intelligence\n",
      "Video Game\n",
      "Consumer Electronics\n",
      "Computer Hardware\n",
      "Unbulleted List\n",
      "Semiconductor\n",
      "Artificial Intelligence\n",
      "Video Game\n",
      "Consumer Electronics\n",
      "Computer Hardware\n",
      "Unbulleted List Semiconductor Artificial Intelligence Video Game Consumer Electronics Computer Hardware\n",
      "Unbulleted List\n",
      "Semiconductor\n",
      "Artificial Intelligence\n",
      "Video Game\n",
      "Consumer Electronics\n",
      "Computer Hardware\n",
      "Unbulleted List\n",
      "Semiconductor\n",
      "Artificial Intelligence\n",
      "Video Game\n",
      "Consumer Electronics\n",
      "Computer Hardware\n",
      "Unbulleted List Semiconductor Artificial Intelligence Video Game Consumer Electronics Computer Hardware\n",
      "Unbulleted List\n",
      "Semiconductor\n",
      "Artificial Intelligence\n",
      "Video Game\n",
      "Consumer Electronics\n",
      "Computer Hardware\n",
      "Unbulleted List\n",
      "Semiconductor\n",
      "Artificial Intelligence\n",
      "Video Game\n",
      "Consumer Electronics\n",
      "Computer Hardware\n",
      "Unbulleted List Semiconductor Artificial Intelligence Video Game Consumer Electronics Computer Hardware\n",
      "Unbulleted List\n",
      "Semiconductor\n",
      "Artificial Intelligence\n",
      "Video Game\n",
      "Consumer Electronics\n",
      "Computer Hardware\n",
      "Unbulleted List\n",
      "Semiconductor\n",
      "Artificial Intelligence\n",
      "Video Game\n",
      "Consumer Electronics\n",
      "Computer Hardware\n",
      "Unbulleted List Semiconductor Artificial Intelligence Video Game Consumer Electronics Computer Hardware\n",
      "Unbulleted List\n",
      "Semiconductor\n",
      "Artificial Intelligence\n",
      "Video Game\n",
      "Consumer Electronics\n",
      "Computer Hardware\n",
      "Unbulleted List\n",
      "Semiconductor\n",
      "Artificial Intelligence\n",
      "Video Game\n",
      "Consumer Electronics\n",
      "Computer Hardware\n",
      "Unbulleted List Semiconductor Artificial Intelligence Video Game Consumer Electronics Computer Hardware\n",
      "Unbulleted List\n",
      "Semiconductor\n",
      "Artificial Intelligence\n",
      "Video Game\n",
      "Consumer Electronics\n",
      "Computer Hardware\n",
      "Unbulleted List\n",
      "Semiconductor\n",
      "Artificial Intelligence\n",
      "Video Game\n",
      "Consumer Electronics\n",
      "Computer Hardware\n",
      "Unbulleted List Semiconductor Artificial Intelligence Video Game Consumer Electronics Computer Hardware\n",
      "Unbulleted List\n",
      "Semiconductor\n",
      "Artificial Intelligence\n",
      "Video Game\n",
      "Consumer Electronics\n",
      "Computer Hardware\n",
      "Unbulleted List\n",
      "Semiconductor\n",
      "Artificial Intelligence\n",
      "Video Game\n",
      "Consumer Electronics\n",
      "Computer Hardware\n",
      "Unbulleted List Semiconductor Artificial Intelligence Video Game Consumer Electronics Computer Hardware\n",
      "Unbulleted List\n",
      "Semiconductor\n",
      "Artificial Intelligence\n",
      "Video Game\n",
      "Consumer Electronics\n",
      "Computer Hardware\n",
      "Unbulleted List\n",
      "Semiconductor\n",
      "Artificial Intelligence\n",
      "Video Game\n",
      "Consumer Electronics\n",
      "Computer Hardware\n",
      "Financial Service\n",
      "Financial Service\n",
      "Financial Service\n",
      "Financial Service\n",
      "Financial Service\n",
      "Financial Service\n",
      "Financial Service\n",
      "Financial Service\n",
      "Financial Service\n",
      "Financial Service\n",
      "Financial Service\n",
      "Financial Service\n",
      "Financial Service\n",
      "Financial Service\n",
      "Financial Service\n",
      "Financial Service\n",
      "Financial Service\n",
      "Financial Service\n",
      "Financial Service\n",
      "Financial Service\n",
      "Financial Service\n",
      "Financial Service\n",
      "Financial Service\n",
      "Financial Service\n",
      "Automotive Industry Automotive\n",
      "Automotive Industry\n",
      "Automotive\n",
      "Automotive Industry Automotive\n",
      "Automotive Industry Automotive\n",
      "Automotive Industry\n",
      "Automotive\n",
      "Automotive Industry Automotive\n",
      "Automotive Industry Automotive\n",
      "Automotive Industry\n",
      "Automotive\n",
      "Automotive Industry Automotive\n",
      "Automotive Industry Automotive\n",
      "Automotive Industry\n",
      "Automotive\n",
      "Automotive Industry Automotive\n",
      "Automotive Industry Automotive\n",
      "Automotive Industry\n",
      "Automotive\n",
      "Automotive Industry Automotive\n",
      "Automotive Industry Automotive\n",
      "Automotive Industry\n",
      "Automotive\n",
      "Automotive Industry Automotive\n",
      "Automotive Industry Automotive\n",
      "Automotive Industry\n",
      "Automotive\n",
      "Automotive Industry Automotive\n",
      "Automotive Industry Automotive\n",
      "Automotive Industry\n",
      "Automotive\n",
      "Automotive Industry Automotive\n",
      "Automotive Industry Automotive\n",
      "Automotive Industry\n",
      "Automotive\n",
      "Automotive Industry Automotive\n",
      "Automotive Industry Automotive\n",
      "Automotive Industry\n",
      "Automotive\n",
      "Automotive Industry Automotive\n",
      "Automotive Industry Automotive\n",
      "Automotive Industry\n",
      "Automotive\n",
      "Automotive Industry Automotive\n",
      "Automotive Industry Automotive\n",
      "Automotive Industry\n",
      "Automotive\n",
      "Automotive Industry Automotive\n",
      "Automotive Industry Automotive\n",
      "Automotive Industry\n",
      "Automotive\n",
      "Automotive Industry Automotive\n"
     ]
    }
   ],
   "source": [
    "for e in list_:\n",
    "    print(e)"
   ]
  },
  {
   "cell_type": "code",
   "execution_count": 55,
   "metadata": {},
   "outputs": [
    {
     "data": {
      "text/plain": [
       "['',\n",
       " 'Self Driving Car',\n",
       " 'Unamnned System Uav',\n",
       " 'Research And Advisory Service',\n",
       " 'Flatlist',\n",
       " 'Nowrap',\n",
       " 'Venture Capital',\n",
       " 'Imaging Technology',\n",
       " 'Hotel Resort',\n",
       " 'Banking',\n",
       " 'Unbulleted List',\n",
       " 'Unmanned Surface Vehicle Usv',\n",
       " 'Solid State Drive',\n",
       " 'Telecommunication',\n",
       " 'Digital Transformation',\n",
       " 'Government',\n",
       " 'Consumer Electronics',\n",
       " 'Film',\n",
       " 'Computer Hardware',\n",
       " 'Circuit Protection',\n",
       " 'Design',\n",
       " 'Sport Equipment',\n",
       " 'Artificial Intelligence',\n",
       " 'Entertainment',\n",
       " 'Retail',\n",
       " 'Software Industry',\n",
       " 'Clothing',\n",
       " 'Software Br Outsourcing',\n",
       " 'Automotive',\n",
       " 'Conglomerate Company',\n",
       " 'Property',\n",
       " 'Service',\n",
       " 'Event Monitoring',\n",
       " 'It Service Management',\n",
       " 'E Commerce',\n",
       " 'Electronic Commerce',\n",
       " 'Fashion Accessory Accessory',\n",
       " 'Social Networking Service',\n",
       " 'Drug Trafficking Mainly Opium',\n",
       " 'It Consulting',\n",
       " 'Nowrap Technology',\n",
       " 'It Solution',\n",
       " 'Marketing',\n",
       " 'Printer Computing Printer',\n",
       " 'Video Game Industry',\n",
       " 'Final Good',\n",
       " 'Apparel',\n",
       " 'System Monitoring',\n",
       " 'Cloud Computing',\n",
       " 'Nowrap Autonomic Computing',\n",
       " 'Autonomic Computing Nowrap',\n",
       " 'Semiconductor S',\n",
       " 'Professional Association',\n",
       " 'Telecommunication S',\n",
       " 'Corporate Venture Capital',\n",
       " 'International Trade',\n",
       " 'Medical Image Sharing',\n",
       " 'Service Sector Service',\n",
       " 'Web Service Cloud Computing',\n",
       " 'Software',\n",
       " 'Data Security',\n",
       " 'Transcription',\n",
       " 'Buzzword Inline',\n",
       " 'Management Consulting',\n",
       " 'Software A A Service',\n",
       " 'Digital Distribution',\n",
       " 'Financial Service',\n",
       " 'Rov Unmanned Surface Vehicle',\n",
       " 'Military Contractor',\n",
       " 'Life Insurance',\n",
       " 'Dot Com Company',\n",
       " 'Information Security',\n",
       " 'Enterprise Software',\n",
       " 'Communication',\n",
       " 'August 2019',\n",
       " 'Blockchain Technology',\n",
       " 'Private Equity Firm',\n",
       " 'Software Development',\n",
       " 'Banking Br Financial Service',\n",
       " 'Identity Management',\n",
       " 'Computer Network S',\n",
       " 'Usv Ugv',\n",
       " 'Corporate Governance',\n",
       " 'Leisure',\n",
       " 'Medium',\n",
       " 'Cloud Management',\n",
       " 'Blockchain Database',\n",
       " 'Technology Company',\n",
       " 'Advertising',\n",
       " 'Aviation',\n",
       " 'Clothing Hip Hop Apparel',\n",
       " 'Video Game',\n",
       " 'On Demand',\n",
       " 'Bank Ing Financial Service',\n",
       " 'Professional Service',\n",
       " 'Graphic Art',\n",
       " 'Insurance',\n",
       " 'Blockchain',\n",
       " 'Technology',\n",
       " 'Aviation Br Software',\n",
       " 'Design Technology Marketing',\n",
       " 'Security',\n",
       " 'Date',\n",
       " 'Outsourcing Service',\n",
       " 'Utility',\n",
       " 'Peer To Peer P2P Tv',\n",
       " 'It Service And It Consulting',\n",
       " 'Technology Nowrap',\n",
       " 'Customer Identity Management',\n",
       " 'Commercial Public Sector',\n",
       " 'High Speed Rail',\n",
       " 'August 2019 Buzzword Inline',\n",
       " 'Peer To Peer',\n",
       " 'Semiconductor',\n",
       " 'Video Surveillance',\n",
       " 'Hip Hop Apparel',\n",
       " 'Semiconductor Industry',\n",
       " 'Dot Com Company Internet',\n",
       " 'Robotic Process Automation',\n",
       " 'Automobile',\n",
       " 'Ugv',\n",
       " 'Auv',\n",
       " 'Web Service',\n",
       " 'Chemical Industry',\n",
       " 'Restaurant S',\n",
       " 'Financial Technology Software',\n",
       " 'Employment Agency',\n",
       " 'Accessory',\n",
       " 'Computer Hardware Br Software',\n",
       " 'Class',\n",
       " 'Conservation',\n",
       " 'Diversified Conglomerate',\n",
       " 'Business Process Outsourcing',\n",
       " 'Consumer Product',\n",
       " 'Modeling Simulation',\n",
       " 'Healthcare It',\n",
       " 'Fashion Accessory',\n",
       " 'Plainlist',\n",
       " 'Ites',\n",
       " 'Defense Military Defense',\n",
       " 'Telecommunication Industry',\n",
       " 'Industrial Equipment',\n",
       " 'Healthcare',\n",
       " 'Lpos',\n",
       " 'Saas Hcm Software',\n",
       " 'Document Management',\n",
       " 'Kpos',\n",
       " 'And Transportation',\n",
       " 'Retail Ing',\n",
       " 'Air Compressor Manufacturer',\n",
       " 'Lighting',\n",
       " 'Conglomerate',\n",
       " 'Bank Ing',\n",
       " 'Financial Technology',\n",
       " 'Automotive Industry',\n",
       " 'Registered Agent',\n",
       " 'Transportation',\n",
       " 'Software Product',\n",
       " 'Offshoring',\n",
       " 'Hyperautomation',\n",
       " 'Information Technology',\n",
       " 'Corporate Compliance',\n",
       " 'Industrials',\n",
       " 'Internet',\n",
       " 'Product Engineering',\n",
       " 'Market Research',\n",
       " 'Business To Business',\n",
       " 'Electrical Power',\n",
       " 'Health Care Healthcare',\n",
       " 'Ubl',\n",
       " 'Airport',\n",
       " 'August 2019 Provider',\n",
       " 'Autonomic Computing',\n",
       " 'Sporting Good',\n",
       " 'Printer',\n",
       " 'Rail Transport',\n",
       " 'Construction',\n",
       " 'Plainlist Cloud Computing',\n",
       " 'Service Focused',\n",
       " 'Cloud Computing Software',\n",
       " 'Ublist',\n",
       " 'Conservation Movement',\n",
       " 'Provider Buzzword Inline',\n",
       " 'P2P Tv',\n",
       " 'Mass Medium',\n",
       " 'Banking Financial Service',\n",
       " 'Computer Software',\n",
       " 'Data Center S',\n",
       " 'Service Sector']"
      ]
     },
     "execution_count": 55,
     "metadata": {},
     "output_type": "execute_result"
    }
   ],
   "source": [
    "final_industry = list(set([token for token in list_ if len(token)<30]))\n",
    "final_industry"
   ]
  },
  {
   "cell_type": "markdown",
   "metadata": {},
   "source": [
    "# Most frequent Industry in the corpus"
   ]
  },
  {
   "cell_type": "code",
   "execution_count": 56,
   "metadata": {},
   "outputs": [],
   "source": [
    "from collections import Counter"
   ]
  },
  {
   "cell_type": "code",
   "execution_count": 57,
   "metadata": {},
   "outputs": [
    {
     "name": "stdout",
     "output_type": "stream",
     "text": [
      "[('Robotic Process Automation Artificial Intelligence Hyperautomation', 102), ('Artificial Intelligence', 79), ('Robotic Process Automation', 70), ('Hyperautomation', 51), ('Unbulleted List', 42), ('Enterprise Software', 40), ('Professional Service', 39), ('Financial Service', 35), ('Consumer Electronics', 30), ('Management Consulting', 30), ('Computer Hardware', 28), ('Automotive Industry Automotive', 28), ('Cloud Computing', 25), ('It Consulting', 25), ('Video Game', 23), ('Semiconductor', 23), ('It Service Management It Service', 21), ('Information Technology Consulting It Consulting', 21), ('It Service Management', 21), ('It Service Information Technology Consulting', 21), ('It Service Management It Service Information Technology Consulting It Consulting', 21), ('Web Service Cloud Computing', 20), ('Unbulleted List Graphic Art Imaging Technology Final Good Consumer Product', 18), ('Software Development', 15), ('Financial Technology Br Computer Hardware Br Computer Software Br Cloud Computing Br Internet Of Thing Iot Br Artificial Intelligence Br Data Storage And Service Br Computer Networking Br Blockchain', 15), ('Internet', 14), ('Automotive Industry', 14), ('Automotive', 14), ('', 12), ('Computer Software', 12), ('Web Service', 10), ('Plainlist', 10), ('Software', 10), ('Professional Service Technology Service', 9), ('Graphic Art', 9), ('Imaging Technology', 9), ('Final Good', 9), ('Consumer Product', 9), ('Social Networking Service', 9), ('Unbulleted List Semiconductor Artificial Intelligence Video Game Consumer Electronics Computer Hardware', 9), ('Information Technology', 9), ('Computer Hardware Br Software Computer Software Br It Service Management It Service Br Information Technology Consulting It Consulting', 8), ('Video Game Industry Video Game', 7), ('Nowrap', 7), ('Technology', 7), ('Retail', 7), ('E Commerce', 7), ('Healthcare', 7), ('Saas Hcm Software', 6), ('Research And Advisory Service', 6), ('Banking Financial Service', 6), ('Information Technology Service', 6), ('Flatlist', 6), ('Conglomerate', 6), ('Conglomerate Company Conglomerate', 6), ('Corporate Venture Capital', 6), ('Mass Medium', 6), ('Video Game Industry', 5), ('Software Industry Computer Software', 4), ('Software Industry', 4), ('Computer Software Cloud Computing Robotic Process Automation Artificial Intelligence', 4), ('Software Industry Computer Software Cloud Computing Robotic Process Automation Artificial Intelligence', 4), ('Date', 4), ('Registered Agent Corporate Governance Corporate Compliance Domain Name And Intellectual Property Management', 4), ('Bank Ing Financial Service', 4), ('Virtual Assistant Artificial Intelligence', 4), ('Business Process Outsourcing', 4), ('Telecommunication', 4), ('Computer Hardware Br Software', 4), ('Computer Software Br It Service Management', 4), ('It Service Br Information Technology Consulting', 4), ('Semiconductor S', 4), ('Automobile', 4), ('Information Security Information Security', 4), ('Information Security', 4), ('Banking Br Financial Service', 3), ('Life Insurance', 3), ('Big Data Analytics Semiconducutor', 3), ('Air Compressor Manufacturer', 3), ('Industrial Equipment', 3), ('Software Quality Br Test Automation Br Outsourcing', 3), ('Rail Transport', 3), ('Bank Ing And Financial Service', 3), ('Market Research', 3), ('Cloud Based Intranet And Digital Workplace Software', 3), ('Communication', 3), ('Professional Association', 3), ('Business Performance Management And Business Intelligence', 3), ('Mobile Game Mobile Application Development', 3), ('Transportation Network Company', 3), ('Restaurant S', 3), ('National Technology Solution Provider', 3), ('Private Equity Firm', 3), ('Electrical Power', 3), ('Cloud Management', 3), ('Conglomerate Company', 3), ('Medical Image Sharing', 3), ('Online Information And Identity Protection', 3), ('Unbulleted List Software Development Computer Hardware Consumer Electronics Social Networking Service Cloud Computing Video Game Industry Video Game Internet Corporate Venture Capital', 3), ('Internet And Telecommunication', 3), ('Blockchain Technology', 3), ('Diversified Conglomerate', 3), ('Financial Service Br Insurance', 3), ('Insurance', 3), ('Medium', 3), ('Modeling Simulation', 3), ('On Demand', 3), ('Transportation', 3), ('Data Security', 3), ('Software A A Service', 3), ('Video Surveillance', 3), ('Retail Ing', 3), ('Telecommunication S', 3), ('Venture Capital', 3), ('Entertainment', 3), ('Film', 3), ('Aviation Br Software', 3), ('Chemical Industry', 3), ('Electronic Commerce', 3), ('Banking', 3), ('Conservation Movement Conservation', 2), ('Ubl It Solution Buzzword Inline Date August 2019 Business To Business Commercial Public Sector It Solution Buzzword Inline Date August 2019 Provider Buzzword Inline Date August 2019 Buzzword Inline Date August 2019 Provider', 2), ('Ubl', 2), ('It Solution', 2), ('Buzzword Inline', 2), ('August 2019', 2), ('Registered Agent', 2), ('Corporate Governance', 2), ('Corporate Compliance', 2), ('Domain Name And Intellectual Property Management', 2), ('Military Contractor Service Focused', 2), ('Unbulleted List Nowrap Technology Nowrap Autonomic Computing Nowrap Virtual Assistant Artificial Intelligence Artificial Intelligence Nowrap Technology Nowrap Autonomic Computing Nowrap Virtual Assistant Artificial Intelligence Artificial Intelligence', 2), ('Autonomic Computing', 2), ('Artificial Intelligence Nowrap', 2), ('Technology Nowrap', 2), ('Autonomic Computing Nowrap', 2), ('Nowrap Technology', 2), ('Nowrap Autonomic Computing', 2), ('Nowrap Virtual Assistant Artificial Intelligence Artificial Intelligence Nowrap Technology Nowrap Autonomic Computing Nowrap Virtual Assistant Artificial Intelligence Artificial Intelligence', 2), ('Computer Software Document Management', 2), ('Healthcare It Business Process Outsourcing Service Ites Kpos Lpos Transcription', 2), ('Clothing Hip Hop Apparel', 2), ('Plainlist Telecommunication E Commerce Internet', 2), ('Telecommunication E Commerce Internet', 2), ('Advertising', 2), ('Digital Distribution', 2), ('Self Driving Car', 2), ('Ubl Enterprise Software Cloud Computing Computer Hardware', 2), ('Design Technology Marketing', 2), ('Blockchain Database Blockchain', 2), ('Accounting Professional Service Tax Consultant Consulting License Of Certified Public Accountant Surrendered In 2002', 2), ('Unbulleted List Telecommunication Industry Telecommunication Technology Company Technology Data Center S Product Engineering Semiconductor Industrials', 2), ('Product Engineering', 2), ('Digital Transformation Product Engineering Infrastructure And Security Service', 2), ('Employment Agency Information Technology Staffing Br Software Industry Software Br Outsourcing Outsourcing Service', 2), ('Utility Construction High Speed Rail Property Hotel Resort', 2), ('Service Sector Service', 2), ('Peer To Peer P2P Tv', 2), ('Unbulleted List Class Nowrap Apparel Fashion Accessory Accessory Sport Equipment', 2), ('Apparel', 2), ('Fashion Accessory', 2), ('Ublist Business Process Outsourcing Offshoring', 2), ('Event Monitoring System Monitoring', 2), ('Dot Com Company Internet', 2), ('Unbulleted List Identity Management Customer Identity Management', 2), ('Information Technology It Service And It Consulting', 2), ('Semiconductor Industry Semiconductor', 2), ('International Trade Drug Trafficking Mainly Opium', 2), ('Financial Technology Software Software Product', 2), ('Conservation Movement', 1), ('Conservation', 1), ('Business To Business', 1), ('Commercial Public Sector', 1), ('Provider Buzzword Inline', 1), ('August 2019 Buzzword Inline', 1), ('August 2019 Provider', 1), ('Military Contractor', 1), ('Service Focused', 1), ('Plainlist Bank Ing Financial Service', 1), ('Bank Ing', 1), ('Document Management', 1), ('Healthcare It', 1), ('Business Process Outsourcing Service', 1), ('Ites', 1), ('Kpos', 1), ('Lpos', 1), ('Transcription', 1), ('Plainlist Telecommunication Consumer Electronics Financial Technology', 1), ('Telecommunication Consumer Electronics Financial Technology', 1), ('Financial Technology', 1), ('Clothing', 1), ('Hip Hop Apparel', 1), ('Flatlist Semiconductor S Computer Network S Lighting Circuit Protection', 1), ('Semiconductor S Computer Network S Lighting Circuit Protection', 1), ('Computer Network S', 1), ('Lighting', 1), ('Circuit Protection', 1), ('Unbulleted List Internet Cloud Computing Computer Software Computer Hardware Artificial Intelligence Advertising', 1), ('Plainlist Cloud Computing', 1), ('Cloud Computing E Commerce Artificial Intelligence Consumer Electronics Digital Distribution Self Driving Car', 1), ('Information And Communication Technology Ict', 1), ('Leisure', 1), ('Information And Communication Technology', 1), ('Ict Healthcare Retail Financial Service Automobile Leisure', 1), ('Information And Communication Technology Ict Healthcare Retail Financial Service Automobile Leisure', 1), ('Design', 1), ('Marketing', 1), ('Printer Computing Printer', 1), ('Computer Hardware Printer Computing', 1), ('Printer', 1), ('Computer Hardware Printer Computing Printer', 1), ('Blockchain Database', 1), ('Blockchain', 1), ('Accounting Professional Service Tax Consultant', 1), ('Consulting License Of Certified Public Accountant Surrendered In 2002', 1), ('Telecommunication Industry', 1), ('Technology Company', 1), ('Data Center S', 1), ('Industrials', 1), ('Digital Transformation', 1), ('Infrastructure And Security Service', 1), ('Employment Agency', 1), ('Information Technology Staffing Br Software Industry', 1), ('Software Br Outsourcing', 1), ('Outsourcing Service', 1), ('Utility', 1), ('Construction', 1), ('High Speed Rail', 1), ('Property', 1), ('Hotel Resort', 1), ('Unamnned System Uav', 1), ('Auv', 1), ('Remotely Operated Underwater Vehicle Rov', 1), ('Unmanned Surface Vehicle Usv', 1), ('Ugv', 1), ('Unamnned System Uav Auv Remotely Operated Underwater Vehicle', 1), ('Rov Unmanned Surface Vehicle', 1), ('Usv Ugv', 1), ('Unamnned System Uav Auv Remotely Operated Underwater Vehicle Rov Unmanned Surface Vehicle Usv Ugv', 1), ('Computer Data Storage Data Storage', 1), ('Solid State Drive', 1), ('Information Technology Computer Data Storage', 1), ('Data Storage Solid State Drive', 1), ('Information Technology Computer Data Storage Data Storage Solid State Drive', 1), ('Service Sector', 1), ('Service', 1), ('Peer To Peer', 1), ('P2P Tv', 1), ('Class', 1), ('Accessory', 1), ('Sport Equipment', 1), ('Fashion Accessory Accessory', 1), ('Sporting Good', 1), ('Accessory Apparel Sporting Good', 1), ('Fashion Accessory Accessory Apparel Sporting Good', 1), ('Flatlist Robotic Process Automation Software Information Technology', 1), ('Robotic Process Automation Software Information Technology', 1), ('Robotic Process Automation Software', 1), ('Flatlist Cloud Computing Software', 1), ('Cloud Computing Software', 1), ('Ublist', 1), ('Offshoring', 1), ('Event Monitoring', 1), ('System Monitoring', 1), ('Airport', 1), ('Aviation', 1), ('Defense Military Defense', 1), ('Government', 1), ('Health Care Healthcare', 1), ('Telecommunication Network Network', 1), ('Security', 1), ('And Transportation', 1), ('Airport Aviation Defense Military', 1), ('Defense Government Health Care', 1), ('Healthcare Telecommunication Network', 1), ('Network Security And Transportation', 1), ('Airport Aviation Defense Military Defense Government Health Care Healthcare Telecommunication Network Network Security And Transportation', 1), ('Dot Com Company', 1), ('Identity Management', 1), ('Customer Identity Management', 1), ('It Service And It Consulting', 1), ('Semiconductor Industry', 1), ('International Trade', 1), ('Drug Trafficking Mainly Opium', 1), ('Financial Technology Software', 1), ('Software Product', 1)]\n"
     ]
    }
   ],
   "source": [
    "word_freq = Counter(list_)\n",
    "common_words = word_freq.most_common()\n",
    "print (common_words)\n"
   ]
  },
  {
   "cell_type": "code",
   "execution_count": 58,
   "metadata": {},
   "outputs": [
    {
     "name": "stdout",
     "output_type": "stream",
     "text": [
      "Robotic Process Automation Artificial Intelligence Hyperautomation\n",
      "Artificial Intelligence\n",
      "Robotic Process Automation\n",
      "Hyperautomation\n",
      "Unbulleted List\n",
      "Enterprise Software\n",
      "Professional Service\n",
      "Financial Service\n",
      "Consumer Electronics\n",
      "Management Consulting\n",
      "Computer Hardware\n",
      "Automotive Industry Automotive\n",
      "Cloud Computing\n",
      "It Consulting\n",
      "Video Game\n",
      "Semiconductor\n",
      "It Service Management It Service\n",
      "Information Technology Consulting It Consulting\n",
      "It Service Management\n",
      "It Service Information Technology Consulting\n",
      "It Service Management It Service Information Technology Consulting It Consulting\n",
      "Web Service Cloud Computing\n",
      "Unbulleted List Graphic Art Imaging Technology Final Good Consumer Product\n",
      "Software Development\n",
      "Financial Technology Br Computer Hardware Br Computer Software Br Cloud Computing Br Internet Of Thing Iot Br Artificial Intelligence Br Data Storage And Service Br Computer Networking Br Blockchain\n",
      "Internet\n",
      "Automotive Industry\n",
      "Automotive\n",
      "\n",
      "Computer Software\n",
      "Web Service\n",
      "Plainlist\n",
      "Software\n",
      "Professional Service Technology Service\n",
      "Graphic Art\n",
      "Imaging Technology\n",
      "Final Good\n",
      "Consumer Product\n",
      "Social Networking Service\n",
      "Unbulleted List Semiconductor Artificial Intelligence Video Game Consumer Electronics Computer Hardware\n",
      "Information Technology\n",
      "Computer Hardware Br Software Computer Software Br It Service Management It Service Br Information Technology Consulting It Consulting\n",
      "Video Game Industry Video Game\n",
      "Nowrap\n",
      "Technology\n",
      "Retail\n",
      "E Commerce\n",
      "Healthcare\n",
      "Saas Hcm Software\n",
      "Research And Advisory Service\n",
      "Banking Financial Service\n",
      "Information Technology Service\n",
      "Flatlist\n",
      "Conglomerate\n",
      "Conglomerate Company Conglomerate\n",
      "Corporate Venture Capital\n",
      "Mass Medium\n",
      "Video Game Industry\n",
      "Software Industry Computer Software\n",
      "Software Industry\n",
      "Computer Software Cloud Computing Robotic Process Automation Artificial Intelligence\n",
      "Software Industry Computer Software Cloud Computing Robotic Process Automation Artificial Intelligence\n",
      "Date\n",
      "Registered Agent Corporate Governance Corporate Compliance Domain Name And Intellectual Property Management\n",
      "Bank Ing Financial Service\n",
      "Virtual Assistant Artificial Intelligence\n",
      "Business Process Outsourcing\n",
      "Telecommunication\n",
      "Computer Hardware Br Software\n",
      "Computer Software Br It Service Management\n",
      "It Service Br Information Technology Consulting\n",
      "Semiconductor S\n",
      "Automobile\n",
      "Information Security Information Security\n",
      "Information Security\n",
      "Banking Br Financial Service\n",
      "Life Insurance\n",
      "Big Data Analytics Semiconducutor\n",
      "Air Compressor Manufacturer\n",
      "Industrial Equipment\n",
      "Software Quality Br Test Automation Br Outsourcing\n",
      "Rail Transport\n",
      "Bank Ing And Financial Service\n",
      "Market Research\n",
      "Cloud Based Intranet And Digital Workplace Software\n",
      "Communication\n",
      "Professional Association\n",
      "Business Performance Management And Business Intelligence\n",
      "Mobile Game Mobile Application Development\n",
      "Transportation Network Company\n",
      "Restaurant S\n",
      "National Technology Solution Provider\n",
      "Private Equity Firm\n",
      "Electrical Power\n",
      "Cloud Management\n",
      "Conglomerate Company\n",
      "Medical Image Sharing\n",
      "Online Information And Identity Protection\n",
      "Unbulleted List Software Development Computer Hardware Consumer Electronics Social Networking Service Cloud Computing Video Game Industry Video Game Internet Corporate Venture Capital\n",
      "Internet And Telecommunication\n",
      "Blockchain Technology\n",
      "Diversified Conglomerate\n",
      "Financial Service Br Insurance\n",
      "Insurance\n",
      "Medium\n",
      "Modeling Simulation\n",
      "On Demand\n",
      "Transportation\n",
      "Data Security\n",
      "Software A A Service\n",
      "Video Surveillance\n",
      "Retail Ing\n",
      "Telecommunication S\n",
      "Venture Capital\n",
      "Entertainment\n",
      "Film\n",
      "Aviation Br Software\n",
      "Chemical Industry\n",
      "Electronic Commerce\n",
      "Banking\n",
      "Conservation Movement Conservation\n",
      "Ubl It Solution Buzzword Inline Date August 2019 Business To Business Commercial Public Sector It Solution Buzzword Inline Date August 2019 Provider Buzzword Inline Date August 2019 Buzzword Inline Date August 2019 Provider\n",
      "Ubl\n",
      "It Solution\n",
      "Buzzword Inline\n",
      "August 2019\n",
      "Registered Agent\n",
      "Corporate Governance\n",
      "Corporate Compliance\n",
      "Domain Name And Intellectual Property Management\n",
      "Military Contractor Service Focused\n",
      "Unbulleted List Nowrap Technology Nowrap Autonomic Computing Nowrap Virtual Assistant Artificial Intelligence Artificial Intelligence Nowrap Technology Nowrap Autonomic Computing Nowrap Virtual Assistant Artificial Intelligence Artificial Intelligence\n",
      "Autonomic Computing\n",
      "Artificial Intelligence Nowrap\n",
      "Technology Nowrap\n",
      "Autonomic Computing Nowrap\n",
      "Nowrap Technology\n",
      "Nowrap Autonomic Computing\n",
      "Nowrap Virtual Assistant Artificial Intelligence Artificial Intelligence Nowrap Technology Nowrap Autonomic Computing Nowrap Virtual Assistant Artificial Intelligence Artificial Intelligence\n",
      "Computer Software Document Management\n",
      "Healthcare It Business Process Outsourcing Service Ites Kpos Lpos Transcription\n",
      "Clothing Hip Hop Apparel\n",
      "Plainlist Telecommunication E Commerce Internet\n",
      "Telecommunication E Commerce Internet\n",
      "Advertising\n",
      "Digital Distribution\n",
      "Self Driving Car\n",
      "Ubl Enterprise Software Cloud Computing Computer Hardware\n",
      "Design Technology Marketing\n",
      "Blockchain Database Blockchain\n",
      "Accounting Professional Service Tax Consultant Consulting License Of Certified Public Accountant Surrendered In 2002\n",
      "Unbulleted List Telecommunication Industry Telecommunication Technology Company Technology Data Center S Product Engineering Semiconductor Industrials\n",
      "Product Engineering\n",
      "Digital Transformation Product Engineering Infrastructure And Security Service\n",
      "Employment Agency Information Technology Staffing Br Software Industry Software Br Outsourcing Outsourcing Service\n",
      "Utility Construction High Speed Rail Property Hotel Resort\n",
      "Service Sector Service\n",
      "Peer To Peer P2P Tv\n",
      "Unbulleted List Class Nowrap Apparel Fashion Accessory Accessory Sport Equipment\n",
      "Apparel\n",
      "Fashion Accessory\n",
      "Ublist Business Process Outsourcing Offshoring\n",
      "Event Monitoring System Monitoring\n",
      "Dot Com Company Internet\n",
      "Unbulleted List Identity Management Customer Identity Management\n",
      "Information Technology It Service And It Consulting\n",
      "Semiconductor Industry Semiconductor\n",
      "International Trade Drug Trafficking Mainly Opium\n",
      "Financial Technology Software Software Product\n",
      "Conservation Movement\n",
      "Conservation\n",
      "Business To Business\n",
      "Commercial Public Sector\n",
      "Provider Buzzword Inline\n",
      "August 2019 Buzzword Inline\n",
      "August 2019 Provider\n",
      "Military Contractor\n",
      "Service Focused\n",
      "Plainlist Bank Ing Financial Service\n",
      "Bank Ing\n",
      "Document Management\n",
      "Healthcare It\n",
      "Business Process Outsourcing Service\n",
      "Ites\n",
      "Kpos\n",
      "Lpos\n",
      "Transcription\n",
      "Plainlist Telecommunication Consumer Electronics Financial Technology\n",
      "Telecommunication Consumer Electronics Financial Technology\n",
      "Financial Technology\n",
      "Clothing\n",
      "Hip Hop Apparel\n",
      "Flatlist Semiconductor S Computer Network S Lighting Circuit Protection\n",
      "Semiconductor S Computer Network S Lighting Circuit Protection\n",
      "Computer Network S\n",
      "Lighting\n",
      "Circuit Protection\n",
      "Unbulleted List Internet Cloud Computing Computer Software Computer Hardware Artificial Intelligence Advertising\n",
      "Plainlist Cloud Computing\n",
      "Cloud Computing E Commerce Artificial Intelligence Consumer Electronics Digital Distribution Self Driving Car\n",
      "Information And Communication Technology Ict\n",
      "Leisure\n",
      "Information And Communication Technology\n",
      "Ict Healthcare Retail Financial Service Automobile Leisure\n",
      "Information And Communication Technology Ict Healthcare Retail Financial Service Automobile Leisure\n",
      "Design\n",
      "Marketing\n",
      "Printer Computing Printer\n",
      "Computer Hardware Printer Computing\n",
      "Printer\n",
      "Computer Hardware Printer Computing Printer\n",
      "Blockchain Database\n",
      "Blockchain\n",
      "Accounting Professional Service Tax Consultant\n",
      "Consulting License Of Certified Public Accountant Surrendered In 2002\n",
      "Telecommunication Industry\n",
      "Technology Company\n",
      "Data Center S\n",
      "Industrials\n",
      "Digital Transformation\n",
      "Infrastructure And Security Service\n",
      "Employment Agency\n",
      "Information Technology Staffing Br Software Industry\n",
      "Software Br Outsourcing\n",
      "Outsourcing Service\n",
      "Utility\n",
      "Construction\n",
      "High Speed Rail\n",
      "Property\n",
      "Hotel Resort\n",
      "Unamnned System Uav\n",
      "Auv\n",
      "Remotely Operated Underwater Vehicle Rov\n",
      "Unmanned Surface Vehicle Usv\n",
      "Ugv\n",
      "Unamnned System Uav Auv Remotely Operated Underwater Vehicle\n",
      "Rov Unmanned Surface Vehicle\n",
      "Usv Ugv\n",
      "Unamnned System Uav Auv Remotely Operated Underwater Vehicle Rov Unmanned Surface Vehicle Usv Ugv\n",
      "Computer Data Storage Data Storage\n",
      "Solid State Drive\n",
      "Information Technology Computer Data Storage\n",
      "Data Storage Solid State Drive\n",
      "Information Technology Computer Data Storage Data Storage Solid State Drive\n",
      "Service Sector\n",
      "Service\n",
      "Peer To Peer\n",
      "P2P Tv\n",
      "Class\n",
      "Accessory\n",
      "Sport Equipment\n",
      "Fashion Accessory Accessory\n",
      "Sporting Good\n",
      "Accessory Apparel Sporting Good\n",
      "Fashion Accessory Accessory Apparel Sporting Good\n",
      "Flatlist Robotic Process Automation Software Information Technology\n",
      "Robotic Process Automation Software Information Technology\n",
      "Robotic Process Automation Software\n",
      "Flatlist Cloud Computing Software\n",
      "Cloud Computing Software\n",
      "Ublist\n",
      "Offshoring\n",
      "Event Monitoring\n",
      "System Monitoring\n",
      "Airport\n",
      "Aviation\n",
      "Defense Military Defense\n",
      "Government\n",
      "Health Care Healthcare\n",
      "Telecommunication Network Network\n",
      "Security\n",
      "And Transportation\n",
      "Airport Aviation Defense Military\n",
      "Defense Government Health Care\n",
      "Healthcare Telecommunication Network\n",
      "Network Security And Transportation\n",
      "Airport Aviation Defense Military Defense Government Health Care Healthcare Telecommunication Network Network Security And Transportation\n",
      "Dot Com Company\n",
      "Identity Management\n",
      "Customer Identity Management\n",
      "It Service And It Consulting\n",
      "Semiconductor Industry\n",
      "International Trade\n",
      "Drug Trafficking Mainly Opium\n",
      "Financial Technology Software\n",
      "Software Product\n"
     ]
    }
   ],
   "source": [
    "dictionary_industry = {}\n",
    "for each in common_words:\n",
    "    dictionary_industry\n",
    "    print(each[0])"
   ]
  },
  {
   "cell_type": "code",
   "execution_count": 64,
   "metadata": {},
   "outputs": [],
   "source": [
    "dictionary_industry = {each[0]:each[1] for each in common_words if (len(each[0]) <30) & (each[1]>9) & (len(each[0]) >1)}"
   ]
  },
  {
   "cell_type": "code",
   "execution_count": 65,
   "metadata": {},
   "outputs": [
    {
     "data": {
      "text/plain": [
       "{'Artificial Intelligence': 79,\n",
       " 'Robotic Process Automation': 70,\n",
       " 'Hyperautomation': 51,\n",
       " 'Unbulleted List': 42,\n",
       " 'Enterprise Software': 40,\n",
       " 'Professional Service': 39,\n",
       " 'Financial Service': 35,\n",
       " 'Consumer Electronics': 30,\n",
       " 'Management Consulting': 30,\n",
       " 'Computer Hardware': 28,\n",
       " 'Cloud Computing': 25,\n",
       " 'It Consulting': 25,\n",
       " 'Video Game': 23,\n",
       " 'Semiconductor': 23,\n",
       " 'It Service Management': 21,\n",
       " 'Web Service Cloud Computing': 20,\n",
       " 'Software Development': 15,\n",
       " 'Internet': 14,\n",
       " 'Automotive Industry': 14,\n",
       " 'Automotive': 14,\n",
       " 'Computer Software': 12,\n",
       " 'Web Service': 10,\n",
       " 'Plainlist': 10,\n",
       " 'Software': 10}"
      ]
     },
     "execution_count": 65,
     "metadata": {},
     "output_type": "execute_result"
    }
   ],
   "source": [
    "dictionary_industry"
   ]
  },
  {
   "cell_type": "code",
   "execution_count": 67,
   "metadata": {},
   "outputs": [
    {
     "data": {
      "text/plain": [
       "['Artificial Intelligence',\n",
       " 'Robotic Process Automation',\n",
       " 'Hyperautomation',\n",
       " 'Unbulleted List',\n",
       " 'Enterprise Software',\n",
       " 'Professional Service',\n",
       " 'Financial Service',\n",
       " 'Consumer Electronics',\n",
       " 'Management Consulting',\n",
       " 'Computer Hardware',\n",
       " 'Cloud Computing',\n",
       " 'It Consulting',\n",
       " 'Video Game',\n",
       " 'Semiconductor',\n",
       " 'It Service Management',\n",
       " 'Web Service Cloud Computing',\n",
       " 'Software Development',\n",
       " 'Internet',\n",
       " 'Automotive Industry',\n",
       " 'Automotive',\n",
       " 'Computer Software',\n",
       " 'Web Service',\n",
       " 'Plainlist',\n",
       " 'Software']"
      ]
     },
     "execution_count": 67,
     "metadata": {},
     "output_type": "execute_result"
    }
   ],
   "source": [
    "display = [each[0] for each in common_words if (len(each[0]) <30) & (each[1]>9) & (len(each[0]) >1)]\n",
    "display"
   ]
  },
  {
   "cell_type": "code",
   "execution_count": null,
   "metadata": {},
   "outputs": [],
   "source": []
  }
 ],
 "metadata": {
  "kernelspec": {
   "display_name": "Python 3",
   "language": "python",
   "name": "python3"
  },
  "language_info": {
   "codemirror_mode": {
    "name": "ipython",
    "version": 3
   },
   "file_extension": ".py",
   "mimetype": "text/x-python",
   "name": "python",
   "nbconvert_exporter": "python",
   "pygments_lexer": "ipython3",
   "version": "3.6.10"
  }
 },
 "nbformat": 4,
 "nbformat_minor": 4
}
